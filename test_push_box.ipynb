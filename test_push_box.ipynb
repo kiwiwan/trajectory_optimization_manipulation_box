{
 "cells": [
  {
   "cell_type": "code",
   "execution_count": 1,
   "metadata": {},
   "outputs": [
    {
     "data": {
      "text/plain": [
       "'info'"
      ]
     },
     "execution_count": 1,
     "metadata": {},
     "output_type": "execute_result"
    }
   ],
   "source": [
    "server_args = []\n",
    "# Start a single meshcat server instance to use for the remainder of this notebook.\n",
    "from meshcat.servers.zmqserver import start_zmq_server_as_subprocess\n",
    "proc, zmq_url, web_url = start_zmq_server_as_subprocess(server_args=server_args)\n",
    "\n",
    "from manipulation import running_as_notebook\n",
    "\n",
    "# Imports\n",
    "import numpy as np\n",
    "import pydot\n",
    "from ipywidgets import Dropdown, Layout\n",
    "from IPython.display import display, HTML, SVG\n",
    "\n",
    "from pydrake.all import (\n",
    "    AddMultibodyPlantSceneGraph, ConnectMeshcatVisualizer, DiagramBuilder, \n",
    "    FindResourceOrThrow, GenerateHtml, InverseDynamicsController, \n",
    "    MultibodyPlant, Parser, Simulator)\n",
    "from pydrake.multibody.jupyter_widgets import MakeJointSlidersThatPublishOnCallback\n",
    "import pydrake\n",
    "from pydrake import geometry\n",
    "from pydrake.math import RigidTransform, RollPitchYaw, RotationMatrix \n",
    "from pydrake.solvers.mathematicalprogram import MathematicalProgram, Solve\n",
    "from pydrake.systems.jupyter_widgets import PoseSliders, WidgetSystem\n",
    "from ipywidgets import ToggleButton, ToggleButtons\n",
    "pydrake.common.set_log_level(\"warn\")"
   ]
  },
  {
   "cell_type": "code",
   "execution_count": 2,
   "metadata": {},
   "outputs": [],
   "source": [
    "builder = DiagramBuilder()\n",
    "plant, scene_graph = AddMultibodyPlantSceneGraph(builder, time_step=1e-4)\n",
    "#add iiwa\n",
    "iiwa = pydrake.multibody.parsing.Parser(plant, scene_graph).AddModelFromFile(\n",
    "    pydrake.common.FindResourceOrThrow(\n",
    "        \"drake/examples/push_box/iiwa7/iiwa7_with_box_collision.sdf\"), \"iiwa\"\n",
    ")\n",
    "\n",
    "plant.WeldFrames(plant.world_frame(), plant.GetFrameByName(\"iiwa_link_0\"))\n",
    "\n",
    "\n",
    "# Set default positions:\n",
    "q0 = [0.0, 0.1, 0, -1.2, 0, 1.6, 0]\n",
    "index = 0\n",
    "for joint_index in plant.GetJointIndices(iiwa):\n",
    "    joint = plant.get_mutable_joint(joint_index)\n",
    "    if isinstance(joint, pydrake.multibody.tree.RevoluteJoint):\n",
    "        joint.set_default_angle(q0[index])\n",
    "        index += 1\n"
   ]
  },
  {
   "cell_type": "code",
   "execution_count": 3,
   "metadata": {},
   "outputs": [
    {
     "data": {
      "text/plain": [
       "<WeldJoint_[float] name='iiwa_link_7_welds_to_base_link' index=8 model_instance=3>"
      ]
     },
     "execution_count": 3,
     "metadata": {},
     "output_type": "execute_result"
    }
   ],
   "source": [
    "#add gripper\n",
    "cylinder_gripper = pydrake.multibody.parsing.Parser(plant, scene_graph).AddModelFromFile(\n",
    "            pydrake.common.FindResourceOrThrow(\n",
    "                \"drake/examples/push_box/cylinder_gripper.sdf\"), \"cylinder_gripper\")\n",
    "\n",
    "X_7G = RigidTransform(RotationMatrix(), [0, 0, 0.033])\n",
    "# X_7G = RigidTransform(RollPitchYaw(np.pi / 2.0, 0, np.pi / 2.0), [0, 0, 0.114])\n",
    "plant.WeldFrames(plant.GetFrameByName(\"iiwa_link_7\", iiwa),\n",
    "                 plant.GetFrameByName(\"base_link\", cylinder_gripper), X_7G)"
   ]
  },
  {
   "cell_type": "code",
   "execution_count": 4,
   "metadata": {},
   "outputs": [],
   "source": [
    "#add table\n",
    "table = pydrake.multibody.parsing.Parser(plant, scene_graph).AddModelFromFile(\n",
    "            pydrake.common.FindResourceOrThrow(\n",
    "                \"drake/examples/push_box/extra_heavy_duty_table_surface_only_collision_lower_height.sdf\"), \"table\")\n",
    "\n",
    "X_WT = RigidTransform(RotationMatrix(), [0.7, 0., 0.])\n",
    "plant.WeldFrames(plant.world_frame(),\n",
    "                 plant.GetFrameByName(\"link\", table), X_WT)\n",
    "\n",
    "\n",
    "#add box\n",
    "cracker_box = pydrake.multibody.parsing.Parser(plant, scene_graph).AddModelFromFile(\n",
    "            pydrake.common.FindResourceOrThrow(\n",
    "                \"drake/examples/push_box/003_cracker_box.sdf\"), \"cracker_box\")\n",
    "#add box_goal\n",
    "cracker_box_goal = pydrake.multibody.parsing.Parser(plant, scene_graph).AddModelFromFile(\n",
    "            pydrake.common.FindResourceOrThrow(\n",
    "                \"drake/examples/push_box/003_cracker_box_goal.sdf\"), \"cracker_box_goal\")"
   ]
  },
  {
   "cell_type": "code",
   "execution_count": 5,
   "metadata": {},
   "outputs": [],
   "source": [
    "plant.Finalize()\n",
    "plant.set_name(\"plant\")"
   ]
  },
  {
   "cell_type": "code",
   "execution_count": 6,
   "metadata": {},
   "outputs": [
    {
     "data": {
      "text/plain": [
       "OutputPortIndex(6)"
      ]
     },
     "execution_count": 6,
     "metadata": {},
     "output_type": "execute_result"
    }
   ],
   "source": [
    "#add InverseDynamicsController\n",
    "num_iiwa_positions = plant.num_positions(iiwa)\n",
    "\n",
    "# I need a PassThrough system so that I can export the input port.\n",
    "iiwa_position = builder.AddSystem(pydrake.systems.primitives.PassThrough(num_iiwa_positions))\n",
    "# builder.ExportInput(iiwa_position.get_input_port(), \"iiwa_position\")\n",
    "builder.ExportOutput(iiwa_position.get_output_port(), \"iiwa_position_command\")\n",
    "\n",
    "# Export the iiwa \"state\" outputs.\n",
    "demux = builder.AddSystem(pydrake.systems.primitives.Demultiplexer(\n",
    "    2 * num_iiwa_positions, num_iiwa_positions))\n",
    "builder.Connect(plant.get_state_output_port(iiwa), demux.get_input_port())\n",
    "builder.ExportOutput(demux.get_output_port(0), \"iiwa_position_measured\")\n",
    "builder.ExportOutput(demux.get_output_port(1), \"iiwa_velocity_estimated\")\n",
    "builder.ExportOutput(plant.get_state_output_port(iiwa), \"iiwa_state_estimated\")\n",
    "\n",
    "# Make the plant for the iiwa controller to use.\n",
    "controller_plant = pydrake.multibody.plant.MultibodyPlant(time_step=1e-4)\n",
    "controller_iiwa =  pydrake.multibody.parsing.Parser(controller_plant).AddModelFromFile(\n",
    "    pydrake.common.FindResourceOrThrow(\n",
    "        \"drake/examples/push_box/iiwa7/iiwa7_with_box_collision.sdf\"), \"controller_iiwa\"\n",
    ")\n",
    "controller_plant.WeldFrames(controller_plant.world_frame(), controller_plant.GetFrameByName(\"iiwa_link_0\"))\n",
    "controller_plant.Finalize()\n",
    "\n",
    "\n",
    "# Add the iiwa controller\n",
    "iiwa_controller = builder.AddSystem(\n",
    "    pydrake.systems.controllers.InverseDynamicsController(\n",
    "        controller_plant,\n",
    "        kp=[100]*num_iiwa_positions,\n",
    "        ki=[1]*num_iiwa_positions,\n",
    "        kd=[20]*num_iiwa_positions,\n",
    "        has_reference_acceleration=False))\n",
    "iiwa_controller.set_name(\"iiwa_controller\")\n",
    "builder.Connect(\n",
    "    plant.get_state_output_port(iiwa), iiwa_controller.get_input_port_estimated_state())\n",
    "\n",
    "# Add in the feed-forward torque\n",
    "adder = builder.AddSystem(pydrake.systems.primitives.Adder(2, num_iiwa_positions))\n",
    "builder.Connect(iiwa_controller.get_output_port_control(),\n",
    "                adder.get_input_port(0))\n",
    "# Use a PassThrough to make the port optional (it will provide zero values if not connected).\n",
    "torque_passthrough = builder.AddSystem(\n",
    "    pydrake.systems.primitives.PassThrough([0]*num_iiwa_positions))\n",
    "builder.Connect(torque_passthrough.get_output_port(), adder.get_input_port(1))\n",
    "# builder.ExportInput(torque_passthrough.get_input_port(), \"iiwa_feedforward_torque\")\n",
    "builder.Connect(adder.get_output_port(), plant.get_actuation_input_port(iiwa))\n",
    "\n",
    "# Add discrete derivative to command velocities.\n",
    "desired_state_from_position = builder.AddSystem(\n",
    "    pydrake.systems.primitives.StateInterpolatorWithDiscreteDerivative(\n",
    "        num_iiwa_positions, time_step=1e-4, suppress_initial_transient=True))\n",
    "desired_state_from_position.set_name(\"desired_state_from_position\")\n",
    "builder.Connect(desired_state_from_position.get_output_port(),      \n",
    "                iiwa_controller.get_input_port_desired_state())\n",
    "builder.Connect(iiwa_position.get_output_port(), desired_state_from_position.get_input_port())\n",
    "\n",
    "# Export commanded torques.\n",
    "#builder.ExportOutput(adder.get_output_port(), \"iiwa_torque_commanded\")\n",
    "#builder.ExportOutput(adder.get_output_port(), \"iiwa_torque_measured\")\n",
    "\n",
    "# Export \"cheat\" ports.\n",
    "builder.ExportOutput(scene_graph.get_query_output_port(), \"geometry_query\")\n",
    "builder.ExportOutput(plant.get_contact_results_output_port(), \"contact_results\")\n",
    "builder.ExportOutput(plant.get_state_output_port(), \"plant_continuous_state\")"
   ]
  },
  {
   "cell_type": "code",
   "execution_count": 7,
   "metadata": {},
   "outputs": [
    {
     "data": {
      "application/vnd.jupyter.widget-view+json": {
       "model_id": "8bfa155b3d3d4693a9eb57d96a4937f4",
       "version_major": 2,
       "version_minor": 0
      },
      "text/plain": [
       "FloatSlider(value=0.0, description='roll', layout=Layout(width='90%'), max=6.283185307179586, step=0.01)"
      ]
     },
     "metadata": {},
     "output_type": "display_data"
    },
    {
     "data": {
      "application/vnd.jupyter.widget-view+json": {
       "model_id": "76b092d3b9ea4e4984994cb2a147bfbf",
       "version_major": 2,
       "version_minor": 0
      },
      "text/plain": [
       "FloatSlider(value=0.0, description='pitch', layout=Layout(width='90%'), max=3.141592653589793, min=-0.5, step=…"
      ]
     },
     "metadata": {},
     "output_type": "display_data"
    },
    {
     "data": {
      "application/vnd.jupyter.widget-view+json": {
       "model_id": "6b317b1f437a4ee6840ebc7c7a2fd75a",
       "version_major": 2,
       "version_minor": 0
      },
      "text/plain": [
       "FloatSlider(value=0.0, description='yaw', layout=Layout(width='90%'), max=3.141592653589793, min=-3.1415926535…"
      ]
     },
     "metadata": {},
     "output_type": "display_data"
    },
    {
     "data": {
      "application/vnd.jupyter.widget-view+json": {
       "model_id": "b584fb2c6e834c9cac3c66d02177486e",
       "version_major": 2,
       "version_minor": 0
      },
      "text/plain": [
       "FloatSlider(value=0.0, description='x', layout=Layout(width='90%'), max=0.8, min=-0.6, step=0.01)"
      ]
     },
     "metadata": {},
     "output_type": "display_data"
    },
    {
     "data": {
      "application/vnd.jupyter.widget-view+json": {
       "model_id": "02b5860ae28f47509319ac36780bccc9",
       "version_major": 2,
       "version_minor": 0
      },
      "text/plain": [
       "FloatSlider(value=0.0, description='y', layout=Layout(width='90%'), max=0.3, min=-0.8, step=0.01)"
      ]
     },
     "metadata": {},
     "output_type": "display_data"
    },
    {
     "data": {
      "application/vnd.jupyter.widget-view+json": {
       "model_id": "b76b97a8ed2f45b78d714feda69fdc02",
       "version_major": 2,
       "version_minor": 0
      },
      "text/plain": [
       "FloatSlider(value=0.0, description='z', layout=Layout(width='90%'), max=1.1, step=0.01)"
      ]
     },
     "metadata": {},
     "output_type": "display_data"
    }
   ],
   "source": [
    "robot = controller_plant\n",
    "params = pydrake.manipulation.planner.DifferentialInverseKinematicsParameters(\n",
    "    robot.num_positions(), robot.num_velocities())\n",
    "\n",
    "\n",
    "params.set_timestep(1e-4)\n",
    "# True velocity limits for the IIWA14 (in rad, rounded down to the first\n",
    "# decimal)\n",
    "iiwa14_velocity_limits = np.array([1.4, 1.4, 1.7, 1.3, 2.2, 2.3, 2.3])\n",
    "params.set_joint_velocity_limits((-iiwa14_velocity_limits,\n",
    "                                  iiwa14_velocity_limits))\n",
    "differential_ik = builder.AddSystem(\n",
    "    pydrake.manipulation.planner.DifferentialInverseKinematicsIntegrator(\n",
    "        robot, robot.GetFrameByName(\"iiwa_link_7\"), 1e-4, params))\n",
    "builder.Connect(differential_ik.get_output_port(),\n",
    "                iiwa_position.get_input_port())\n",
    "\n",
    "teleop = builder.AddSystem(PoseSliders(\n",
    "    min_range = PoseSliders.MinRange(roll=0, pitch=-0.5, yaw=-np.pi, \n",
    "                                     x=-0.6, y=-0.8, z=0.0),\n",
    "    max_range = PoseSliders.MaxRange(roll=2*np.pi, pitch=np.pi, yaw=np.pi,\n",
    "                                     x=0.8, y=0.3, z=1.1)\n",
    "))\n",
    "builder.Connect(teleop.get_output_port(0), \n",
    "                differential_ik.get_input_port())"
   ]
  },
  {
   "cell_type": "code",
   "execution_count": 8,
   "metadata": {},
   "outputs": [
    {
     "name": "stdout",
     "output_type": "stream",
     "text": [
      "Connecting to meshcat-server at zmq_url=tcp://127.0.0.1:6002...\n",
      "You can open the visualizer by visiting the following URL:\n",
      "http://127.0.0.1:7002/static/\n",
      "Connected to meshcat-server.\n"
     ]
    }
   ],
   "source": [
    "iiwa_link_7_body = plant.GetBodyByName(\"iiwa_link_7\", iiwa)\n",
    "iiwa_link_7_id = plant.GetBodyFrameIdIfExists(iiwa_link_7_body.index())\n",
    "cylinder_gripper_body = plant.GetBodyByName(\"base_link\", cylinder_gripper)\n",
    "cylinder_gripper_id = plant.GetBodyFrameIdIfExists(cylinder_gripper_body.index())\n",
    "cracker_box_body = plant.GetBodyByName(\"base_link_cracker\", cracker_box)\n",
    "cracker_box_id = plant.GetBodyFrameIdIfExists(cracker_box_body.index())\n",
    "table_link_body = plant.GetBodyByName(\"link\", table)\n",
    "table_link_id = plant.GetBodyFrameIdIfExists(table_link_body.index())\n",
    "\n",
    "draw_frames = True\n",
    "frames_to_draw = [iiwa_link_7_id, cylinder_gripper_id, cracker_box_id, table_link_id] if draw_frames else []\n",
    "meshcat = ConnectMeshcatVisualizer(builder, scene_graph, zmq_url=zmq_url, frames_to_draw=frames_to_draw, axis_length=0.15,\n",
    "                 axis_radius=0.001,)\n",
    "\n",
    "diagram = builder.Build()\n",
    "context = diagram.CreateDefaultContext()\n",
    "plant_context = plant.GetMyContextFromRoot(context)\n",
    "X_WB = RigidTransform(RotationMatrix(), [0.5, 0., 0.3285 + 0.03295])\n",
    "plant.SetFreeBodyPose(plant_context, \n",
    "                              plant.GetBodyByName(\"base_link_cracker\", cracker_box),\n",
    "                              X_WB)\n",
    "\n",
    "X_WBG = RigidTransform(RotationMatrix(), [0.8, 0., 0.3285 + 0.03295])\n",
    "plant.SetFreeBodyPose(plant_context, \n",
    "                              plant.GetBodyByName(\"base_link_cracker\", cracker_box_goal),\n",
    "                              X_WBG)\n",
    "\n",
    "meshcat.load()\n",
    "diagram.Publish(context)"
   ]
  },
  {
   "cell_type": "code",
   "execution_count": 9,
   "metadata": {},
   "outputs": [
    {
     "name": "stdout",
     "output_type": "stream",
     "text": [
      "[ 0.   0.1  0.  -1.2  0.   1.6  0. ]\n"
     ]
    }
   ],
   "source": [
    "simulator = pydrake.systems.analysis.Simulator(diagram)\n",
    "# context = simulator.get_mutable_context()\n",
    "\n",
    "q0 = plant.GetPositions(plant_context, iiwa)\n",
    "print(q0)\n",
    "differential_ik.get_mutable_parameters().set_nominal_joint_position(q0)\n",
    "diff_ik_context = differential_ik.GetMyMutableContextFromRoot(context)\n",
    "differential_ik.SetPositions(diff_ik_context, q0)\n",
    "teleop.SetPose(differential_ik.ForwardKinematics(diff_ik_context))"
   ]
  },
  {
   "cell_type": "code",
   "execution_count": null,
   "metadata": {},
   "outputs": [
    {
     "data": {
      "application/vnd.jupyter.widget-view+json": {
       "model_id": "6d2d3a0b0fbd4fd194da0ba632c498c0",
       "version_major": 2,
       "version_minor": 0
      },
      "text/plain": [
       "ToggleButton(value=False, description='Stop Simulation')"
      ]
     },
     "metadata": {},
     "output_type": "display_data"
    },
    {
     "name": "stderr",
     "output_type": "stream",
     "text": [
      "[2021-11-22 22:19:25.878] [console] [warning] Differential IK started returning status:\"stuck\" at time 0.0.\n"
     ]
    }
   ],
   "source": [
    "if running_as_notebook:  # Then we're not just running as a test on CI.\n",
    "    simulator.set_target_realtime_rate(1.0)\n",
    "\n",
    "    stop_button = ToggleButton(value=False, description='Stop Simulation')\n",
    "    display(stop_button)\n",
    "    while not stop_button.value:\n",
    "        simulator.AdvanceTo(simulator.get_context().get_time() + 2.0)\n",
    "    stop_button.value = False\n",
    "  \n",
    "else:\n",
    "    simulator.AdvanceTo(0.1)"
   ]
  },
  {
   "cell_type": "code",
   "execution_count": 11,
   "metadata": {},
   "outputs": [
    {
     "name": "stdout",
     "output_type": "stream",
     "text": [
      "[ 0.   0.1  0.  -1.2  0.   1.6  0. ]\n"
     ]
    }
   ],
   "source": [
    "print(q0)"
   ]
  },
  {
   "cell_type": "code",
   "execution_count": null,
   "metadata": {},
   "outputs": [],
   "source": []
  }
 ],
 "metadata": {
  "kernelspec": {
   "display_name": "Python 3",
   "language": "python",
   "name": "python3"
  },
  "language_info": {
   "codemirror_mode": {
    "name": "ipython",
    "version": 3
   },
   "file_extension": ".py",
   "mimetype": "text/x-python",
   "name": "python",
   "nbconvert_exporter": "python",
   "pygments_lexer": "ipython3",
   "version": "3.6.9"
  },
  "metadata": {
   "interpreter": {
    "hash": "31f2aee4e71d21fbe5cf8b01ff0e069b9275f58929596ceb00d14d90e3e16cd6"
   }
  }
 },
 "nbformat": 4,
 "nbformat_minor": 2
}
