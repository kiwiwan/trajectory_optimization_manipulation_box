{
 "cells": [
  {
   "cell_type": "markdown",
   "metadata": {
    "colab_type": "text",
    "id": "EgiF12Hf1Dhs"
   },
   "source": [
    "# Notebook setup\n"
   ]
  },
  {
   "cell_type": "code",
   "execution_count": 1,
   "metadata": {
    "colab": {},
    "colab_type": "code",
    "id": "eeMrMI0-1Dhu"
   },
   "outputs": [],
   "source": [
    "# %config Completer.use_jedi = False\n",
    "%config IPCompleter.greedy=True\n",
    "\n",
    "import importlib\n",
    "import sys\n",
    "from urllib.request import urlretrieve\n",
    "\n",
    "# TODO(russt): install only drake (not manipulation) after colab gets to python3.8\n",
    "if 'google.colab' in sys.modules and importlib.util.find_spec('manipulation') is None:\n",
    "    urlretrieve(f\"http://manipulation.csail.mit.edu/scripts/setup/setup_manipulation_colab.py\",\n",
    "                \"setup_manipulation_colab.py\")\n",
    "    from setup_manipulation_colab import setup_manipulation\n",
    "    setup_manipulation(manipulation_sha='c1bdae733682f8a390f848bc6cb0dbbf9ea98602', drake_version='0.27.0', drake_build='release')\n",
    "\n",
    "# Install pyngrok.\n",
    "server_args = []\n",
    "if 'google.colab' in sys.modules:\n",
    "  server_args = ['--ngrok_http_tunnel']\n",
    "\n",
    "# Start a single meshcat server instance to use for the remainder of this notebook.\n",
    "from meshcat.servers.zmqserver import start_zmq_server_as_subprocess\n",
    "proc, zmq_url, web_url = start_zmq_server_as_subprocess(server_args=server_args)\n",
    "\n",
    "from manipulation import running_as_notebook\n",
    "\n",
    "# Imports\n",
    "import numpy as np\n",
    "import pydot\n",
    "from ipywidgets import Dropdown, Layout\n",
    "from IPython.display import display, HTML, SVG\n",
    "\n",
    "from pydrake.all import (\n",
    "    AddMultibodyPlantSceneGraph, ConnectMeshcatVisualizer, DiagramBuilder, \n",
    "    FindResourceOrThrow, GenerateHtml, InverseDynamicsController, \n",
    "    MultibodyPlant, Parser, Simulator)\n",
    "from pydrake.multibody.jupyter_widgets import MakeJointSlidersThatPublishOnCallback\n",
    "import pydrake\n",
    "from pydrake import geometry"
   ]
  },
  {
   "cell_type": "code",
   "execution_count": 2,
   "metadata": {},
   "outputs": [
    {
     "ename": "SyntaxError",
     "evalue": "invalid syntax (<ipython-input-2-8df39eb58f32>, line 2)",
     "output_type": "error",
     "traceback": [
      "\u001b[0;36m  File \u001b[0;32m\"<ipython-input-2-8df39eb58f32>\"\u001b[0;36m, line \u001b[0;32m2\u001b[0m\n\u001b[0;31m    geometry.\u001b[0m\n\u001b[0m             ^\u001b[0m\n\u001b[0;31mSyntaxError\u001b[0m\u001b[0;31m:\u001b[0m invalid syntax\n"
     ]
    }
   ],
   "source": [
    "geometry.SignedDistancePair_[AutoDiffXd]()\n",
    "geometry."
   ]
  },
  {
   "cell_type": "markdown",
   "metadata": {
    "colab_type": "text",
    "id": "wJWL-ldv5REK"
   },
   "source": [
    "# Robot arms\n"
   ]
  },
  {
   "cell_type": "code",
   "execution_count": 2,
   "metadata": {
    "colab": {},
    "colab_type": "code",
    "id": "wlN0Twwr5rYS"
   },
   "outputs": [],
   "source": [
    "def AddIiwa(plant, collision_model=\"no_collision\"):\n",
    "    sdf_path = pydrake.common.FindResourceOrThrow(\n",
    "        \"drake/manipulation/models/iiwa_description/iiwa7/\"\n",
    "        f\"iiwa7_{collision_model}.sdf\")\n",
    "    \n",
    "    parser = pydrake.multibody.parsing.Parser(plant)\n",
    "    iiwa = parser.AddModelFromFile(sdf_path)\n",
    "    plant.WeldFrames(plant.world_frame(), plant.GetFrameByName(\"iiwa_link_0\"))\n",
    "\n",
    "    # Set default positions:\n",
    "    q0 = [0.0, 0.1, 0, -1.2, 0, 1.6, 0]\n",
    "    index = 0\n",
    "    for joint_index in plant.GetJointIndices(iiwa):\n",
    "        joint = plant.get_mutable_joint(joint_index)\n",
    "        if isinstance(joint, pydrake.multibody.tree.RevoluteJoint):\n",
    "            joint.set_default_angle(q0[index])\n",
    "            index += 1\n",
    "\n",
    "    return iiwa\n",
    "\n",
    "\n",
    "\n",
    "# TODO: take argument for whether we want the welded fingers version or not\n",
    "def AddWsg(plant, iiwa_model_instance, roll=np.pi / 2.0, welded=False):\n",
    "    parser = pydrake.multibody.parsing.Parser(plant)\n",
    "    if welded:\n",
    "        parser.package_map().Add(\n",
    "            \"wsg_50_description\",\n",
    "            os.path.dirname(\n",
    "                pydrake.common.FindResourceOrThrow(\n",
    "                    \"drake/manipulation/models/wsg_50_description/package.xml\"))\n",
    "        )\n",
    "        gripper = parser.AddModelFromFile(\n",
    "            FindResource(\"models/schunk_wsg_50_welded_fingers.sdf\"), \"gripper\")\n",
    "    else:\n",
    "        gripper = parser.AddModelFromFile(\n",
    "            pydrake.common.FindResourceOrThrow(\n",
    "                \"drake/manipulation/models/\"\n",
    "                \"wsg_50_description/sdf/schunk_wsg_50_no_tip.sdf\"))\n",
    "\n",
    "    X_7G = RigidTransform(RollPitchYaw(np.pi / 2.0, 0, roll), [0, 0, 0.114])\n",
    "    plant.WeldFrames(plant.GetFrameByName(\"iiwa_link_7\", iiwa_model_instance),\n",
    "                     plant.GetFrameByName(\"body\", gripper), X_7G)\n",
    "    return gripper"
   ]
  },
  {
   "cell_type": "code",
   "execution_count": 3,
   "metadata": {},
   "outputs": [],
   "source": [
    "from pydrake.all import SceneGraph\n",
    "time_step = 0.0\n",
    "builder = DiagramBuilder()\n",
    "plant, scene_graph = AddMultibodyPlantSceneGraph(builder, time_step=1e-4)\n",
    "# plant = MultibodyPlant(time_step=time_step)\n",
    "# scene_graph = SceneGraph()\n",
    "# plant.RegisterAsSourceForSceneGraph(scene_graph)\n",
    "# plant.RegisterCollisionGeometry(iiwa)"
   ]
  },
  {
   "cell_type": "code",
   "execution_count": null,
   "metadata": {},
   "outputs": [],
   "source": []
  },
  {
   "cell_type": "code",
   "execution_count": 4,
   "metadata": {},
   "outputs": [],
   "source": [
    "sdf_path = pydrake.common.FindResourceOrThrow(\n",
    "        \"drake/manipulation/models/iiwa_description/iiwa7/iiwa7_with_box_collision.sdf\")\n",
    "    \n",
    "\n",
    "iiwa = pydrake.multibody.parsing.Parser(plant, scene_graph).AddModelFromFile(sdf_path)\n",
    "# parser = pydrake.multibody.parsing.Parser(plant)\n",
    "# iiwa = parser.AddModelFromFile(sdf_path)\n",
    "plant.WeldFrames(plant.world_frame(), plant.GetFrameByName(\"iiwa_link_0\"))\n",
    "\n",
    "# Set default positions:\n",
    "q0 = [0.0, 0.1, 0, -1.2, 0, 1.6, 0]\n",
    "index = 0\n",
    "for joint_index in plant.GetJointIndices(iiwa):\n",
    "    joint = plant.get_mutable_joint(joint_index)\n",
    "    if isinstance(joint, pydrake.multibody.tree.RevoluteJoint):\n",
    "        joint.set_default_angle(q0[index])\n",
    "        index += 1\n",
    "\n",
    "plant.Finalize()"
   ]
  },
  {
   "cell_type": "code",
   "execution_count": 5,
   "metadata": {
    "scrolled": true
   },
   "outputs": [],
   "source": [
    "diagram = builder.Build()\n",
    "context = diagram.CreateDefaultContext()\n",
    "plant_context = plant.GetMyContextFromRoot(context)"
   ]
  },
  {
   "cell_type": "code",
   "execution_count": 6,
   "metadata": {},
   "outputs": [],
   "source": [
    "# context = plant.CreateDefaultContext()\n",
    "q0 = plant.GetPositions(plant_context)\n",
    "L7 = plant.GetFrameByName(\"iiwa_link_7\", iiwa)\n",
    "W = plant.world_frame()"
   ]
  },
  {
   "cell_type": "code",
   "execution_count": 7,
   "metadata": {},
   "outputs": [
    {
     "name": "stdout",
     "output_type": "stream",
     "text": [
      "IK success\n",
      "[]\n"
     ]
    }
   ],
   "source": [
    "import numpy as np\n",
    "from pydrake.math import RigidTransform, RollPitchYaw, RotationMatrix \n",
    "# def is_inversible(X_WL7):\n",
    "\n",
    "X_WL7 = RigidTransform(RollPitchYaw(np.pi / 3.0, np.pi / 3.0, np.pi / 3.0), [0.04, 0.4, 0.8])\n",
    "ik = pydrake.multibody.inverse_kinematics.InverseKinematics(plant, plant_context)\n",
    "ik.AddMinimumDistanceConstraint(0.001, 0.1)\n",
    "ik.AddPositionConstraint(L7, [0, 0, 0], W, X_WL7.translation(), X_WL7.translation())\n",
    "ik.AddOrientationConstraint(L7, RotationMatrix(), W, X_WL7.rotation(), 0)\n",
    "prog = ik.get_mutable_prog()\n",
    "q = ik.q()\n",
    "prog.AddQuadraticErrorCost(np.identity(len(q)), q0, q)\n",
    "prog.SetInitialGuess(q, q0)\n",
    "result = pydrake.solvers.mathematicalprogram.Solve(ik.prog())\n",
    "if not result.is_success():\n",
    "    print(\"IK failed!\")\n",
    "else:\n",
    "    print(\"IK success\")\n",
    "print(result.GetInfeasibleConstraintNames(prog))\n",
    "ik.AddPositionConstraint()"
   ]
  },
  {
   "cell_type": "code",
   "execution_count": 39,
   "metadata": {},
   "outputs": [
    {
     "name": "stdout",
     "output_type": "stream",
     "text": [
      "[-0.81642283 -1.23267684  0.68086374 -1.44819362  0.31725141  0.78681921\n",
      "  0.99361345]\n",
      "[0.04 0.4  0.8 ]\n",
      "RotationMatrix([\n",
      "  [0.24999893396777806, -0.058012611292416014, 0.9665066321272765],\n",
      "  [0.4330121888982484, 0.8995193358900933, -0.05801214205142542],\n",
      "  [-0.866025968017428, 0.4330121260321492, 0.24999904285535893],\n",
      "])\n",
      "RotationMatrix([\n",
      "  [0.2500000000000001, -0.058012701892219354, 0.9665063509461096],\n",
      "  [0.4330127018922194, 0.899519052838329, -0.05801270189221941],\n",
      "  [-0.8660254037844386, 0.4330127018922194, 0.2500000000000001],\n",
      "])\n"
     ]
    }
   ],
   "source": [
    "q_sol = result.GetSolution(q)\n",
    "print(q_sol)\n",
    "\n",
    "X_WL7 = plant.CalcRelativeTransform(\n",
    "        plant_context, W, L7)\n",
    "print(X_WL7.translation())\n",
    "print(X_WL7.rotation())\n",
    "R = RollPitchYaw(np.pi / 3.0, np.pi / 3.0, np.pi / 3.0)\n",
    "print( R.ToRotationMatrix())"
   ]
  },
  {
   "cell_type": "code",
   "execution_count": 41,
   "metadata": {},
   "outputs": [
    {
     "name": "stdout",
     "output_type": "stream",
     "text": [
      "0.0 75.64502904717618\n"
     ]
    }
   ],
   "source": [
    "K = plant.CalcKineticEnergy(plant_context)\n",
    "P = plant.CalcPotentialEnergy(plant_context)\n",
    "print(K,P)"
   ]
  },
  {
   "cell_type": "code",
   "execution_count": 54,
   "metadata": {},
   "outputs": [
    {
     "name": "stdout",
     "output_type": "stream",
     "text": [
      "5\n",
      "5.719944207753741e-18\n"
     ]
    }
   ],
   "source": [
    "from pydrake.all import JacobianWrtVariable\n",
    "plant.SetPositions(plant_context, plant.GetModelInstanceByName(plant.GetModelInstanceName(iiwa)), [0, 0,  0.68086374, -1.44819362,  0,  0,  0.99361345])\n",
    "J = plant.CalcJacobianSpatialVelocity(plant_context, JacobianWrtVariable.kV, L7, [0, 0, 0], W, W)\n",
    "print(np.linalg.matrix_rank(J))\n",
    "m = np.linalg.det(np.matmul(J, J.transpose()))\n",
    "print(m)\n",
    "# print(np.sqrt(m))"
   ]
  },
  {
   "cell_type": "code",
   "execution_count": 5,
   "metadata": {
    "colab": {},
    "colab_type": "code",
    "id": "9GSF52A8ExQa"
   },
   "outputs": [],
   "source": [
    "import math\n",
    "import numpy as np\n",
    "import matplotlib.pyplot as plt\n",
    "\n",
    "from pydrake.all import (DirectCollocation, DiagramBuilder, PiecewisePolynomial,\n",
    "                         PlanarSceneGraphVisualizer, SceneGraph, Simulator,\n",
    "                         Solve, TrajectorySource)\n",
    "from pydrake.examples.acrobot import AcrobotGeometry, AcrobotPlant\n",
    "from underactuated import FindResource\n",
    "\n",
    "\n",
    "context = plant.CreateDefaultContext()\n",
    "# print(context)\n",
    "dircol = DirectCollocation(plant,\n",
    "                           context,\n",
    "                           num_time_samples=21,\n",
    "                           minimum_timestep=0.05,\n",
    "                           maximum_timestep=0.2,\n",
    "                           input_port_index=plant.get_actuation_input_port().get_index())\n",
    "\n",
    "dircol.AddEqualTimeIntervalsConstraints()\n",
    "\n",
    "# # Add input limits.\n",
    "# torque_limit = 8.0  # N*m.\n",
    "u = dircol.input()\n",
    "# dircol.AddConstraintToAllKnotPoints(-torque_limit <= u[0])\n",
    "# dircol.AddConstraintToAllKnotPoints(u[0] <= torque_limit)\n",
    "\n",
    "initial_state = (0., 0., 0., 0., 0., 0., 0., 0., 0., 0., 0., 0., 0., 0.)\n",
    "dircol.AddBoundingBoxConstraint(initial_state, initial_state,\n",
    "                                dircol.initial_state())\n",
    "# More elegant version is blocked on drake #8315:\n",
    "# dircol.AddLinearConstraint(dircol.initial_state() == initial_state)\n",
    "\n",
    "final_state = (math.pi, 0., 0., 0., 0., 0., 0., 0., 0., 0., 0., 0., 0., 0.)\n",
    "dircol.AddBoundingBoxConstraint(final_state, final_state, dircol.final_state())\n",
    "# dircol.AddLinearConstraint(dircol.final_state() == final_state)\n",
    "\n",
    "# R = 10 * np.identity(7)  # Cost on input \"effort\".\n",
    "# u.T\n",
    "\n",
    "dircol.AddRunningCost(u[0]**2+u[1]**2+u[2]**2+u[3]**2+u[4]**2+u[5]**2+u[6]**2)\n",
    "\n"
   ]
  },
  {
   "cell_type": "code",
   "execution_count": 6,
   "metadata": {},
   "outputs": [],
   "source": [
    "# Add a final cost equal to the total duration.\n",
    "dircol.AddFinalCost(dircol.time())\n",
    "\n",
    "initial_x_trajectory = PiecewisePolynomial.FirstOrderHold(\n",
    "    [0., 4.], np.column_stack((initial_state, final_state)))  # yapf: disable\n",
    "dircol.SetInitialTrajectory(PiecewisePolynomial(), initial_x_trajectory)\n",
    "\n",
    "result = Solve(dircol)\n",
    "assert (result.is_success())\n",
    "\n",
    "u_trajectory = dircol.ReconstructInputTrajectory(result)\n",
    "times = np.linspace(u_trajectory.start_time(), u_trajectory.end_time(), 100)\n",
    "u_lookup = np.vectorize(u_trajectory.value)\n",
    "# u_values = u_lookup(times)"
   ]
  },
  {
   "cell_type": "code",
   "execution_count": 7,
   "metadata": {},
   "outputs": [],
   "source": [
    "x_trajectory = dircol.ReconstructStateTrajectory(result)\n",
    "x_lookup = np.vectorize(x_trajectory.value)\n"
   ]
  },
  {
   "cell_type": "code",
   "execution_count": 8,
   "metadata": {},
   "outputs": [],
   "source": [
    "# x_list = []\n",
    "# for i in times:\n",
    "#     x_list.extend(x_lookup(i)[0].tolist())\n",
    "\n",
    "x_list = []\n",
    "for i in times:\n",
    "    x_list.append(x_lookup(i)[0][0]*180/math.pi)\n",
    "\n",
    "# x_list\n",
    "# print(x_trajectory.value)\n",
    "# u_lookup(np.array([0, 1]))\n",
    "# x_trajectory.value(0).\n",
    "# u_lookup(0).shape"
   ]
  },
  {
   "cell_type": "code",
   "execution_count": 9,
   "metadata": {},
   "outputs": [
    {
     "data": {
      "image/png": "[encoded data removed]",
      "text/plain": [
       "<Figure size 432x288 with 1 Axes>"
      ]
     },
     "metadata": {
      "needs_background": "light"
     },
     "output_type": "display_data"
    }
   ],
   "source": [
    "plt.figure()\n",
    "plt.plot(times, x_list)\n",
    "plt.xlabel(\"time (seconds)\")\n",
    "plt.ylabel(\"x0 (degree)\");"
   ]
  },
  {
   "cell_type": "markdown",
   "metadata": {
    "colab_type": "text",
    "id": "nPy2VgSH1Dh5"
   },
   "source": [
    "# Simulation with block diagrams\n",
    "\n",
    "In this chapter, and throughout the notes, we will be building up our simulations and controllers using drake's block diagram modeling language (we call it the \"systems framework\").  [This tutorial](https://mybinder.org/v2/gh/RobotLocomotion/drake/nightly-release?filepath=tutorials/dynamical_systems.ipynb)  provides a brief introduction.  \n"
   ]
  },
  {
   "cell_type": "code",
   "execution_count": null,
   "metadata": {},
   "outputs": [],
   "source": []
  },
  {
   "cell_type": "markdown",
   "metadata": {
    "colab_type": "text",
    "id": "Dl9NDxDR1Dh6"
   },
   "source": [
    "# Simulating the (passive) iiwa\n",
    "\n",
    "Let's load our robot of choice (the Kuka iiwa) into the physics engine, which we call [MultibodyPlant](https://drake.mit.edu/doxygen_cxx/classdrake_1_1multibody_1_1_multibody_plant.html).\n"
   ]
  },
  {
   "cell_type": "code",
   "execution_count": 4,
   "metadata": {
    "colab": {},
    "colab_type": "code",
    "id": "DyfpxsGR1Dh6"
   },
   "outputs": [],
   "source": [
    "plant = MultibodyPlant(time_step=1e-4)\n",
    "Parser(plant).AddModelFromFile(\n",
    "        FindResourceOrThrow(\"drake/manipulation/models/iiwa_description/sdf/iiwa14_no_collision.sdf\"))\n",
    "plant.WeldFrames(plant.world_frame(), plant.GetFrameByName(\"iiwa_link_0\"))\n",
    "plant.Finalize()"
   ]
  },
  {
   "cell_type": "markdown",
   "metadata": {
    "colab_type": "text",
    "id": "H3G-pTB5bit8"
   },
   "source": [
    "In Drake, we are very careful to separate the *state* of a system from the system itself.  For example, let's think of a dynamical system as given by the difference equation: $$x[n+1] = f(n, x[n], u[n]),$$ where $n$ is the \"time\", $x$ is the state, and $u$ is any inputs to the system.  The `System` describes $f()$, but we use a structure called the [`Context`](https://drake.mit.edu/doxygen_cxx/classdrake_1_1systems_1_1_context.html) to hold the runtime values: $n, x, u$.  We use a structure, because some systems have even more runtime values, that describe system parameters, random noise inputs, etc, and it is cleaner to pass a structure around than have each system accept a different list of possible inputs.  As a rule `System` is constant over the duration of a simulation, and you should be able to obtain repeatable, deterministic simulations given any value `Context`.\n",
    "\n",
    "Let's see what the `Context` looks like for the physics engine now that we've loaded the iiwa into it."
   ]
  },
  {
   "cell_type": "code",
   "execution_count": 5,
   "metadata": {
    "colab": {},
    "colab_type": "code",
    "id": "P8HoF2KPdXNL"
   },
   "outputs": [
    {
     "name": "stdout",
     "output_type": "stream",
     "text": [
      "::_ Context\n",
      "------------\n",
      "Time: 0\n",
      "States:\n",
      "  1 discrete state groups with\n",
      "     14 states\n",
      "       0 0 0 0 0 0 0 0 0 0 0 0 0 0\n",
      "\n",
      "Parameters:\n",
      "  38 numeric parameter groups with\n",
      "     1 parameters\n",
      "       0\n",
      "     1 parameters\n",
      "       1\n",
      "     1 parameters\n",
      "       0\n",
      "     1 parameters\n",
      "       1\n",
      "     1 parameters\n",
      "       0\n",
      "     1 parameters\n",
      "       1\n",
      "     1 parameters\n",
      "       0\n",
      "     1 parameters\n",
      "       1\n",
      "     1 parameters\n",
      "       0\n",
      "     1 parameters\n",
      "       1\n",
      "     1 parameters\n",
      "       0\n",
      "     1 parameters\n",
      "       1\n",
      "     1 parameters\n",
      "       0\n",
      "     1 parameters\n",
      "       1\n",
      "     10 parameters\n",
      "       nan nan nan nan nan nan nan nan nan nan\n",
      "     10 parameters\n",
      "            5   -0.1      0   0.07 0.0149 0.0269  0.016      0  0.007      0\n",
      "     10 parameters\n",
      "             5.76          0      -0.03       0.12  0.0210292  0.0201812 0.00303542          0          0     0.0036\n",
      "     10 parameters\n",
      "             6.35     0.0003      0.059      0.042  0.0100481 0.00655149 0.00521337  -1.77e-05  -1.26e-05  -0.002478\n",
      "     10 parameters\n",
      "              3.5          0       0.03       0.13  0.0249429     0.0237 0.00307143          0          0    -0.0039\n",
      "     10 parameters\n",
      "              3.5          0      0.067      0.034  0.0105021 0.00584171 0.00620329          0          0  -0.002278\n",
      "     10 parameters\n",
      "              3.5     0.0001      0.021      0.076 0.00907414 0.00826172 0.00172387   -2.1e-06   -7.6e-06  -0.001596\n",
      "     10 parameters\n",
      "              1.8          0     0.0006     0.0004 0.00272274 0.00261127 0.00200036          0          0   -2.4e-07\n",
      "     10 parameters\n",
      "               1.2           0           0        0.02  0.00123333  0.00123333 0.000833333           0           0           0\n",
      "     12 parameters\n",
      "        1  0  0  0  1  0  0  0  1 -0 -0 -0\n",
      "     12 parameters\n",
      "            1      0      0      0      1      0      0      0      1      0      0 0.1575\n",
      "     12 parameters\n",
      "       1 0 0 0 1 0 0 0 1 0 0 0\n",
      "     12 parameters\n",
      "                 -1  1.22465e-16            0  6.16298e-32  4.44089e-16            1  1.22465e-16            1 -4.44089e-16            0            0       0.2025\n",
      "     12 parameters\n",
      "       1 0 0 0 1 0 0 0 1 0 0 0\n",
      "     12 parameters\n",
      "                 -1  1.22465e-16   1.2326e-32  7.39557e-32  4.44089e-16            1  1.22465e-16            1 -4.44089e-16 -6.16298e-33       0.2045 -5.55112e-17\n",
      "     12 parameters\n",
      "                 1           0           0           0           1           0           0           0           1 -1.2326e-32           0           0\n",
      "     12 parameters\n",
      "                  1 -1.74315e-32 -4.10537e-48 -4.10537e-48 -4.44089e-16            1 -1.74315e-32           -1 -4.44089e-16  -1.2326e-32  2.77556e-17       0.2155\n",
      "     12 parameters\n",
      "                  1 -7.65836e-33  7.65836e-33  7.65836e-33            1  2.93253e-65 -7.65836e-33  2.93253e-65            1   1.2326e-32            0 -5.55112e-17\n",
      "     12 parameters\n",
      "                 -1   1.2326e-32 -1.22465e-16 -1.22465e-16 -4.44089e-16            1 -4.93038e-32            1  4.44089e-16            0       0.1845 -5.55112e-17\n",
      "     12 parameters\n",
      "                 1           0           0           0           1           0           0           0           1 -1.2326e-32           0           0\n",
      "     12 parameters\n",
      "                  1 -5.22946e-32 -1.74315e-32  1.74315e-32 -4.44089e-16            1 -5.22946e-32           -1 -4.44089e-16            0 -8.03801e-17       0.2155\n",
      "     12 parameters\n",
      "                  1            0            0            0            1            0            0            0            1  3.69779e-32 -2.22045e-16            0\n",
      "     12 parameters\n",
      "                 -1 -2.46519e-32 -1.22465e-16 -1.22465e-16 -4.44089e-16            1 -9.86076e-32            1  4.44089e-16  4.93038e-32        0.081            0\n",
      "     12 parameters\n",
      "       1 0 0 0 1 0 0 0 1 0 0 0\n",
      "\n"
     ]
    }
   ],
   "source": [
    "context = plant.CreateDefaultContext()\n",
    "print(context)"
   ]
  },
  {
   "cell_type": "markdown",
   "metadata": {
    "colab_type": "text",
    "id": "vr80vD3Be7uZ"
   },
   "source": [
    "The system has 14 state variables -- these are the 7 joint positions and 7 joint velocities for the iiwa.  Those states are discrete, because we passed a non-zero `time_step` to the constructor of the `MultibodyPlant`, which means the physics engine will be use a time-stepping simulation scheme (this will be the most performant when we start simulating contact).  Go ahead and try changing `time_step` to zero, and see what happens.\n",
    "\n",
    "You'll notice the context has lots of parameters (currently these include the mass, the center of mass, and the inertia of each body).  You won't need those any time soon, but it does enable some super cool advanced features.\n",
    "\n",
    "Because the `Context` for a `MultibodyPlant` can get quite complicated, `MultibodyPlant` offers some methods that help you get/set the values.  Let's set some non-zero initial positions."
   ]
  },
  {
   "cell_type": "code",
   "execution_count": 6,
   "metadata": {
    "colab": {},
    "colab_type": "code",
    "id": "73whw6YZf9PP"
   },
   "outputs": [
    {
     "name": "stdout",
     "output_type": "stream",
     "text": [
      "::_ Context\n",
      "------------\n",
      "Time: 0\n",
      "States:\n",
      "  1 discrete state groups with\n",
      "     14 states\n",
      "       -1.57   0.1     0  -1.2     0   1.6     0     0     0     0     0     0     0     0\n",
      "\n",
      "Parameters:\n",
      "  38 numeric parameter groups with\n",
      "     1 parameters\n",
      "       0\n",
      "     1 parameters\n",
      "       1\n",
      "     1 parameters\n",
      "       0\n",
      "     1 parameters\n",
      "       1\n",
      "     1 parameters\n",
      "       0\n",
      "     1 parameters\n",
      "       1\n",
      "     1 parameters\n",
      "       0\n",
      "     1 parameters\n",
      "       1\n",
      "     1 parameters\n",
      "       0\n",
      "     1 parameters\n",
      "       1\n",
      "     1 parameters\n",
      "       0\n",
      "     1 parameters\n",
      "       1\n",
      "     1 parameters\n",
      "       0\n",
      "     1 parameters\n",
      "       1\n",
      "     10 parameters\n",
      "       nan nan nan nan nan nan nan nan nan nan\n",
      "     10 parameters\n",
      "            5   -0.1      0   0.07 0.0149 0.0269  0.016      0  0.007      0\n",
      "     10 parameters\n",
      "             5.76          0      -0.03       0.12  0.0210292  0.0201812 0.00303542          0          0     0.0036\n",
      "     10 parameters\n",
      "             6.35     0.0003      0.059      0.042  0.0100481 0.00655149 0.00521337  -1.77e-05  -1.26e-05  -0.002478\n",
      "     10 parameters\n",
      "              3.5          0       0.03       0.13  0.0249429     0.0237 0.00307143          0          0    -0.0039\n",
      "     10 parameters\n",
      "              3.5          0      0.067      0.034  0.0105021 0.00584171 0.00620329          0          0  -0.002278\n",
      "     10 parameters\n",
      "              3.5     0.0001      0.021      0.076 0.00907414 0.00826172 0.00172387   -2.1e-06   -7.6e-06  -0.001596\n",
      "     10 parameters\n",
      "              1.8          0     0.0006     0.0004 0.00272274 0.00261127 0.00200036          0          0   -2.4e-07\n",
      "     10 parameters\n",
      "               1.2           0           0        0.02  0.00123333  0.00123333 0.000833333           0           0           0\n",
      "     12 parameters\n",
      "        1  0  0  0  1  0  0  0  1 -0 -0 -0\n",
      "     12 parameters\n",
      "            1      0      0      0      1      0      0      0      1      0      0 0.1575\n",
      "     12 parameters\n",
      "       1 0 0 0 1 0 0 0 1 0 0 0\n",
      "     12 parameters\n",
      "                 -1  1.22465e-16            0  6.16298e-32  4.44089e-16            1  1.22465e-16            1 -4.44089e-16            0            0       0.2025\n",
      "     12 parameters\n",
      "       1 0 0 0 1 0 0 0 1 0 0 0\n",
      "     12 parameters\n",
      "                 -1  1.22465e-16   1.2326e-32  7.39557e-32  4.44089e-16            1  1.22465e-16            1 -4.44089e-16 -6.16298e-33       0.2045 -5.55112e-17\n",
      "     12 parameters\n",
      "                 1           0           0           0           1           0           0           0           1 -1.2326e-32           0           0\n",
      "     12 parameters\n",
      "                  1 -1.74315e-32 -4.10537e-48 -4.10537e-48 -4.44089e-16            1 -1.74315e-32           -1 -4.44089e-16  -1.2326e-32  2.77556e-17       0.2155\n",
      "     12 parameters\n",
      "                  1 -7.65836e-33  7.65836e-33  7.65836e-33            1  2.93253e-65 -7.65836e-33  2.93253e-65            1   1.2326e-32            0 -5.55112e-17\n",
      "     12 parameters\n",
      "                 -1   1.2326e-32 -1.22465e-16 -1.22465e-16 -4.44089e-16            1 -4.93038e-32            1  4.44089e-16            0       0.1845 -5.55112e-17\n",
      "     12 parameters\n",
      "                 1           0           0           0           1           0           0           0           1 -1.2326e-32           0           0\n",
      "     12 parameters\n",
      "                  1 -5.22946e-32 -1.74315e-32  1.74315e-32 -4.44089e-16            1 -5.22946e-32           -1 -4.44089e-16            0 -8.03801e-17       0.2155\n",
      "     12 parameters\n",
      "                  1            0            0            0            1            0            0            0            1  3.69779e-32 -2.22045e-16            0\n",
      "     12 parameters\n",
      "                 -1 -2.46519e-32 -1.22465e-16 -1.22465e-16 -4.44089e-16            1 -9.86076e-32            1  4.44089e-16  4.93038e-32        0.081            0\n",
      "     12 parameters\n",
      "       1 0 0 0 1 0 0 0 1 0 0 0\n",
      "\n"
     ]
    }
   ],
   "source": [
    "# Set all of the joint positions at once in a single vector.\n",
    "plant.SetPositions(context, [-1.57, 0.1, 0, 0, 0, 1.6, 0])\n",
    "# You can also set them by referencing particular joints.\n",
    "plant.GetJointByName(\"iiwa_joint_4\").set_angle(context, -1.2)\n",
    "print(context)"
   ]
  },
  {
   "cell_type": "markdown",
   "metadata": {
    "colab_type": "text",
    "id": "LpQlGh1Ai27g"
   },
   "source": [
    "The iiwa model also defined 7 actuators.  Before we can run a simulation, we need to provide some values for those inputs to the `MultibodyPlant` `actuation_input_port`.  For this warm-up, we'll just set them to zero."
   ]
  },
  {
   "cell_type": "code",
   "execution_count": 7,
   "metadata": {
    "colab": {},
    "colab_type": "code",
    "id": "dJx-KrGUjR8x"
   },
   "outputs": [],
   "source": [
    "plant.get_actuation_input_port().FixValue(context, np.zeros(7));"
   ]
  },
  {
   "cell_type": "markdown",
   "metadata": {
    "colab_type": "text",
    "id": "zqb66IBcierZ"
   },
   "source": [
    "Now we can set up and run a simulation."
   ]
  },
  {
   "cell_type": "code",
   "execution_count": 8,
   "metadata": {
    "colab": {},
    "colab_type": "code",
    "id": "6DYEtGbtimit"
   },
   "outputs": [
    {
     "name": "stdout",
     "output_type": "stream",
     "text": [
      "::_ Context\n",
      "------------\n",
      "Time: 5\n",
      "States:\n",
      "  1 discrete state groups with\n",
      "     14 states\n",
      "          -1.53094     2.09596  -0.0164143   -0.689525     2.92045    0.808656    -0.26988   -0.105265 -0.00676876    0.221284     4.05477   -0.934276     3.10094     7.11235\n",
      "\n",
      "Parameters:\n",
      "  38 numeric parameter groups with\n",
      "     1 parameters\n",
      "       0\n",
      "     1 parameters\n",
      "       1\n",
      "     1 parameters\n",
      "       0\n",
      "     1 parameters\n",
      "       1\n",
      "     1 parameters\n",
      "       0\n",
      "     1 parameters\n",
      "       1\n",
      "     1 parameters\n",
      "       0\n",
      "     1 parameters\n",
      "       1\n",
      "     1 parameters\n",
      "       0\n",
      "     1 parameters\n",
      "       1\n",
      "     1 parameters\n",
      "       0\n",
      "     1 parameters\n",
      "       1\n",
      "     1 parameters\n",
      "       0\n",
      "     1 parameters\n",
      "       1\n",
      "     10 parameters\n",
      "       nan nan nan nan nan nan nan nan nan nan\n",
      "     10 parameters\n",
      "            5   -0.1      0   0.07 0.0149 0.0269  0.016      0  0.007      0\n",
      "     10 parameters\n",
      "             5.76          0      -0.03       0.12  0.0210292  0.0201812 0.00303542          0          0     0.0036\n",
      "     10 parameters\n",
      "             6.35     0.0003      0.059      0.042  0.0100481 0.00655149 0.00521337  -1.77e-05  -1.26e-05  -0.002478\n",
      "     10 parameters\n",
      "              3.5          0       0.03       0.13  0.0249429     0.0237 0.00307143          0          0    -0.0039\n",
      "     10 parameters\n",
      "              3.5          0      0.067      0.034  0.0105021 0.00584171 0.00620329          0          0  -0.002278\n",
      "     10 parameters\n",
      "              3.5     0.0001      0.021      0.076 0.00907414 0.00826172 0.00172387   -2.1e-06   -7.6e-06  -0.001596\n",
      "     10 parameters\n",
      "              1.8          0     0.0006     0.0004 0.00272274 0.00261127 0.00200036          0          0   -2.4e-07\n",
      "     10 parameters\n",
      "               1.2           0           0        0.02  0.00123333  0.00123333 0.000833333           0           0           0\n",
      "     12 parameters\n",
      "        1  0  0  0  1  0  0  0  1 -0 -0 -0\n",
      "     12 parameters\n",
      "            1      0      0      0      1      0      0      0      1      0      0 0.1575\n",
      "     12 parameters\n",
      "       1 0 0 0 1 0 0 0 1 0 0 0\n",
      "     12 parameters\n",
      "                 -1  1.22465e-16            0  6.16298e-32  4.44089e-16            1  1.22465e-16            1 -4.44089e-16            0            0       0.2025\n",
      "     12 parameters\n",
      "       1 0 0 0 1 0 0 0 1 0 0 0\n",
      "     12 parameters\n",
      "                 -1  1.22465e-16   1.2326e-32  7.39557e-32  4.44089e-16            1  1.22465e-16            1 -4.44089e-16 -6.16298e-33       0.2045 -5.55112e-17\n",
      "     12 parameters\n",
      "                 1           0           0           0           1           0           0           0           1 -1.2326e-32           0           0\n",
      "     12 parameters\n",
      "                  1 -1.74315e-32 -4.10537e-48 -4.10537e-48 -4.44089e-16            1 -1.74315e-32           -1 -4.44089e-16  -1.2326e-32  2.77556e-17       0.2155\n",
      "     12 parameters\n",
      "                  1 -7.65836e-33  7.65836e-33  7.65836e-33            1  2.93253e-65 -7.65836e-33  2.93253e-65            1   1.2326e-32            0 -5.55112e-17\n",
      "     12 parameters\n",
      "                 -1   1.2326e-32 -1.22465e-16 -1.22465e-16 -4.44089e-16            1 -4.93038e-32            1  4.44089e-16            0       0.1845 -5.55112e-17\n",
      "     12 parameters\n",
      "                 1           0           0           0           1           0           0           0           1 -1.2326e-32           0           0\n",
      "     12 parameters\n",
      "                  1 -5.22946e-32 -1.74315e-32  1.74315e-32 -4.44089e-16            1 -5.22946e-32           -1 -4.44089e-16            0 -8.03801e-17       0.2155\n",
      "     12 parameters\n",
      "                  1            0            0            0            1            0            0            0            1  3.69779e-32 -2.22045e-16            0\n",
      "     12 parameters\n",
      "                 -1 -2.46519e-32 -1.22465e-16 -1.22465e-16 -4.44089e-16            1 -9.86076e-32            1  4.44089e-16  4.93038e-32        0.081            0\n",
      "     12 parameters\n",
      "       1 0 0 0 1 0 0 0 1 0 0 0\n",
      "\n"
     ]
    }
   ],
   "source": [
    "simulator = Simulator(plant, context)\n",
    "simulator.AdvanceTo(5.0)\n",
    "print(context)"
   ]
  },
  {
   "cell_type": "markdown",
   "metadata": {
    "colab_type": "text",
    "id": "8ZKEl1QU1Dh9"
   },
   "source": [
    "# Visualizing the scene\n",
    "\n",
    "The best way to visualize the results of a physics engine is with a 2D or 3D visualizer. For that, we need to add the system which curates the geometry of a scene (the geometry engine); in Drake with call it the [`SceneGraph`](https://drake.mit.edu/doxygen_cxx/classdrake_1_1geometry_1_1_scene_graph.html). Once we have a `SceneGraph`, then there are a number of different visualizers and sensors that we can add to the system to actually render the scene.\n",
    "\n",
    "We support a number of visualizers in drake (we ship a simple VTK-based \"drake-visualizer\" with our binary releases, or you can use RViz).  But because we're working in a jupyter notebook, and want you to be able to run 3D graphics on any machine without any installation required, we'll use the [MeshCat](https://github.com/rdeits/meshcat) visualizer throughout these notes.  \n",
    "\n",
    "To use all three systems (`MultibodyPlant`, `SceneGraph`, and `MeshcatVisualizer`), we need to assemble them into a [`Diagram`](https://drake.mit.edu/doxygen_cxx/classdrake_1_1systems_1_1_diagram.html) using a [`DiagramBuilder`](https://drake.mit.edu/doxygen_cxx/classdrake_1_1systems_1_1_diagram_builder.html).  Often you would add each system and then connect the ports together, but for common cases like we have here, we provide helper methods to reduce the boilerplate."
   ]
  },
  {
   "cell_type": "code",
   "execution_count": 9,
   "metadata": {
    "colab": {},
    "colab_type": "code",
    "id": "WkfjAgrL1Dh-"
   },
   "outputs": [
    {
     "name": "stdout",
     "output_type": "stream",
     "text": [
      "Connecting to meshcat-server at zmq_url=tcp://127.0.0.1:6006...\n",
      "You can open the visualizer by visiting the following URL:\n",
      "http://127.0.0.1:7006/static/\n",
      "Connected to meshcat-server.\n"
     ]
    }
   ],
   "source": [
    "builder = DiagramBuilder()\n",
    "\n",
    "# Adds both MultibodyPlant and the SceneGraph, and wires them together.\n",
    "plant, scene_graph = AddMultibodyPlantSceneGraph(builder, time_step=1e-4)\n",
    "# Note that we parse into both the plant and the scene_graph here.\n",
    "Parser(plant, scene_graph).AddModelFromFile(\n",
    "        FindResourceOrThrow(\"drake/manipulation/models/iiwa_description/sdf/iiwa14_no_collision.sdf\"))\n",
    "plant.WeldFrames(plant.world_frame(), plant.GetFrameByName(\"iiwa_link_0\"))\n",
    "plant.Finalize()\n",
    "\n",
    "# Adds the MeshcatVisualizer and wires it to the SceneGraph.\n",
    "meshcat = ConnectMeshcatVisualizer(builder, scene_graph, zmq_url=zmq_url)\n",
    "\n",
    "diagram = builder.Build()"
   ]
  },
  {
   "cell_type": "markdown",
   "metadata": {
    "colab_type": "text",
    "id": "Rm4kVRMS1DiF"
   },
   "source": [
    "If you click on the link above, you can open a browser window to see the visualization.\n",
    "\n",
    "But the scene will be empty so far.  We need to actually construct the diagram and ask it to publish.  (You normally don't have to call these; MeshcatVisualizer will automatically load at initialization and publish on a fixed period during simulation)."
   ]
  },
  {
   "cell_type": "code",
   "execution_count": 10,
   "metadata": {
    "colab": {},
    "colab_type": "code",
    "id": "2YMNZBi11DiN"
   },
   "outputs": [],
   "source": [
    "context = diagram.CreateDefaultContext()\n",
    "meshcat.load()\n",
    "diagram.Publish(context)"
   ]
  },
  {
   "cell_type": "markdown",
   "metadata": {
    "colab_type": "text",
    "id": "kPcyp3zv1Dir"
   },
   "source": [
    "We've put together quite a complex system now.  A `Diagram` is just another `System`, so it has an associated context."
   ]
  },
  {
   "cell_type": "code",
   "execution_count": 11,
   "metadata": {
    "colab": {},
    "colab_type": "code",
    "id": "Kr9BgEkcCQaZ"
   },
   "outputs": [
    {
     "name": "stdout",
     "output_type": "stream",
     "text": [
      "::_ Context (of a Diagram)\n",
      "---------------------------\n",
      "14 total discrete states in 1 groups\n",
      "284 total numeric parameters in 38 groups\n",
      "1 total abstract parameters\n",
      "\n",
      "::_::plant Context\n",
      "-------------------\n",
      "Time: 0\n",
      "States:\n",
      "  1 discrete state groups with\n",
      "     14 states\n",
      "       0 0 0 0 0 0 0 0 0 0 0 0 0 0\n",
      "\n",
      "Parameters:\n",
      "  38 numeric parameter groups with\n",
      "     1 parameters\n",
      "       0\n",
      "     1 parameters\n",
      "       1\n",
      "     1 parameters\n",
      "       0\n",
      "     1 parameters\n",
      "       1\n",
      "     1 parameters\n",
      "       0\n",
      "     1 parameters\n",
      "       1\n",
      "     1 parameters\n",
      "       0\n",
      "     1 parameters\n",
      "       1\n",
      "     1 parameters\n",
      "       0\n",
      "     1 parameters\n",
      "       1\n",
      "     1 parameters\n",
      "       0\n",
      "     1 parameters\n",
      "       1\n",
      "     1 parameters\n",
      "       0\n",
      "     1 parameters\n",
      "       1\n",
      "     10 parameters\n",
      "       nan nan nan nan nan nan nan nan nan nan\n",
      "     10 parameters\n",
      "            5   -0.1      0   0.07 0.0149 0.0269  0.016      0  0.007      0\n",
      "     10 parameters\n",
      "             5.76          0      -0.03       0.12  0.0210292  0.0201812 0.00303542          0          0     0.0036\n",
      "     10 parameters\n",
      "             6.35     0.0003      0.059      0.042  0.0100481 0.00655149 0.00521337  -1.77e-05  -1.26e-05  -0.002478\n",
      "     10 parameters\n",
      "              3.5          0       0.03       0.13  0.0249429     0.0237 0.00307143          0          0    -0.0039\n",
      "     10 parameters\n",
      "              3.5          0      0.067      0.034  0.0105021 0.00584171 0.00620329          0          0  -0.002278\n",
      "     10 parameters\n",
      "              3.5     0.0001      0.021      0.076 0.00907414 0.00826172 0.00172387   -2.1e-06   -7.6e-06  -0.001596\n",
      "     10 parameters\n",
      "              1.8          0     0.0006     0.0004 0.00272274 0.00261127 0.00200036          0          0   -2.4e-07\n",
      "     10 parameters\n",
      "               1.2           0           0        0.02  0.00123333  0.00123333 0.000833333           0           0           0\n",
      "     12 parameters\n",
      "        1  0  0  0  1  0  0  0  1 -0 -0 -0\n",
      "     12 parameters\n",
      "            1      0      0      0      1      0      0      0      1      0      0 0.1575\n",
      "     12 parameters\n",
      "       1 0 0 0 1 0 0 0 1 0 0 0\n",
      "     12 parameters\n",
      "                 -1  1.22465e-16            0  6.16298e-32  4.44089e-16            1  1.22465e-16            1 -4.44089e-16            0            0       0.2025\n",
      "     12 parameters\n",
      "       1 0 0 0 1 0 0 0 1 0 0 0\n",
      "     12 parameters\n",
      "                 -1  1.22465e-16   1.2326e-32  7.39557e-32  4.44089e-16            1  1.22465e-16            1 -4.44089e-16 -6.16298e-33       0.2045 -5.55112e-17\n",
      "     12 parameters\n",
      "                 1           0           0           0           1           0           0           0           1 -1.2326e-32           0           0\n",
      "     12 parameters\n",
      "                  1 -1.74315e-32 -4.10537e-48 -4.10537e-48 -4.44089e-16            1 -1.74315e-32           -1 -4.44089e-16  -1.2326e-32  2.77556e-17       0.2155\n",
      "     12 parameters\n",
      "                  1 -7.65836e-33  7.65836e-33  7.65836e-33            1  2.93253e-65 -7.65836e-33  2.93253e-65            1   1.2326e-32            0 -5.55112e-17\n",
      "     12 parameters\n",
      "                 -1   1.2326e-32 -1.22465e-16 -1.22465e-16 -4.44089e-16            1 -4.93038e-32            1  4.44089e-16            0       0.1845 -5.55112e-17\n",
      "     12 parameters\n",
      "                 1           0           0           0           1           0           0           0           1 -1.2326e-32           0           0\n",
      "     12 parameters\n",
      "                  1 -5.22946e-32 -1.74315e-32  1.74315e-32 -4.44089e-16            1 -5.22946e-32           -1 -4.44089e-16            0 -8.03801e-17       0.2155\n",
      "     12 parameters\n",
      "                  1            0            0            0            1            0            0            0            1  3.69779e-32 -2.22045e-16            0\n",
      "     12 parameters\n",
      "                 -1 -2.46519e-32 -1.22465e-16 -1.22465e-16 -4.44089e-16            1 -9.86076e-32            1  4.44089e-16  4.93038e-32        0.081            0\n",
      "     12 parameters\n",
      "       1 0 0 0 1 0 0 0 1 0 0 0\n",
      "\n",
      "::_::scene_graph Context\n",
      "-------------------------\n",
      "Time: 0\n",
      "Parameters:\n",
      "  1 abstract parameters\n",
      "\n"
     ]
    }
   ],
   "source": [
    "print(context)"
   ]
  },
  {
   "cell_type": "markdown",
   "metadata": {
    "colab_type": "text",
    "id": "gu6_NRm_Cl-O"
   },
   "source": [
    "You can see that there is one additional \"abstract state\" from the `SceneGraph`.  `MeshcatVisualizer` is stateless.  Actually `SceneGraph` should really be stateless for these simple examples, too [#9501](https://github.com/RobotLocomotion/drake/issues/9501).\n",
    "\n",
    "It's also very useful to draw the actual block diagram."
   ]
  },
  {
   "cell_type": "code",
   "execution_count": 12,
   "metadata": {
    "colab": {},
    "colab_type": "code",
    "id": "XTeyZc7n1Dit"
   },
   "outputs": [
    {
     "data": {
      "image/svg+xml": [
       "<svg height=\"495pt\" viewBox=\"0.00 0.00 929.00 495.00\" width=\"929pt\" xmlns=\"http://www.w3.org/2000/svg\" xmlns:xlink=\"http://www.w3.org/1999/xlink\">\n",
       "<g class=\"graph\" id=\"graph0\" transform=\"scale(1 1) rotate(0) translate(4 491)\">\n",
       "<title>_55886928</title>\n",
       "<polygon fill=\"#ffffff\" points=\"-4,4 -4,-491 925,-491 925,4 -4,4\" stroke=\"transparent\"/>\n",
       "<g class=\"cluster\" id=\"clust1\">\n",
       "<title>cluster55886928diagram</title>\n",
       "<polygon fill=\"none\" points=\"8,-8 8,-479 913,-479 913,-8 8,-8\" stroke=\"#000000\"/>\n",
       "<text fill=\"#000000\" font-family=\"Times,serif\" font-size=\"14.00\" text-anchor=\"middle\" x=\"460.5\" y=\"-463.8\">55886928</text>\n",
       "</g>\n",
       "<g class=\"cluster\" id=\"clust4\">\n",
       "<title>cluster55886928subsystems</title>\n",
       "<polygon fill=\"none\" points=\"16,-16 16,-448 905,-448 905,-16 16,-16\" stroke=\"#ffffff\"/>\n",
       "</g>\n",
       "<!-- 56689952 -->\n",
       "<g class=\"node\" id=\"node1\">\n",
       "<title>56689952</title>\n",
       "<polygon fill=\"none\" points=\"24,-25 24,-439 511,-439 511,-25 24,-25\" stroke=\"#000000\"/>\n",
       "<text fill=\"#000000\" font-family=\"Times,serif\" font-size=\"14.00\" text-anchor=\"middle\" x=\"267.5\" y=\"-423.8\">plant</text>\n",
       "<polyline fill=\"none\" points=\"24,-416 511,-416 \" stroke=\"#000000\"/>\n",
       "<text fill=\"#000000\" font-family=\"Times,serif\" font-size=\"14.00\" text-anchor=\"middle\" x=\"121\" y=\"-379.8\">geometry_query</text>\n",
       "<polyline fill=\"none\" points=\"24,-351 218,-351 \" stroke=\"#000000\"/>\n",
       "<text fill=\"#000000\" font-family=\"Times,serif\" font-size=\"14.00\" text-anchor=\"middle\" x=\"121\" y=\"-314.8\">WorldModelInstance_actuation</text>\n",
       "<polyline fill=\"none\" points=\"24,-286 218,-286 \" stroke=\"#000000\"/>\n",
       "<text fill=\"#000000\" font-family=\"Times,serif\" font-size=\"14.00\" text-anchor=\"middle\" x=\"121\" y=\"-249.8\">DefaultModelInstance_actuation</text>\n",
       "<polyline fill=\"none\" points=\"24,-221 218,-221 \" stroke=\"#000000\"/>\n",
       "<text fill=\"#000000\" font-family=\"Times,serif\" font-size=\"14.00\" text-anchor=\"middle\" x=\"121\" y=\"-184.8\">iiwa14_actuation</text>\n",
       "<polyline fill=\"none\" points=\"24,-156 218,-156 \" stroke=\"#000000\"/>\n",
       "<text fill=\"#000000\" font-family=\"Times,serif\" font-size=\"14.00\" text-anchor=\"middle\" x=\"121\" y=\"-119.8\">applied_generalized_force</text>\n",
       "<polyline fill=\"none\" points=\"24,-91 218,-91 \" stroke=\"#000000\"/>\n",
       "<text fill=\"#000000\" font-family=\"Times,serif\" font-size=\"14.00\" text-anchor=\"middle\" x=\"121\" y=\"-54.3\">applied_spatial_force</text>\n",
       "<polyline fill=\"none\" points=\"218,-25 218,-416 \" stroke=\"#000000\"/>\n",
       "<text fill=\"#000000\" font-family=\"Times,serif\" font-size=\"14.00\" text-anchor=\"middle\" x=\"364.5\" y=\"-400.8\">geometry_pose</text>\n",
       "<polyline fill=\"none\" points=\"218,-393 511,-393 \" stroke=\"#000000\"/>\n",
       "<text fill=\"#000000\" font-family=\"Times,serif\" font-size=\"14.00\" text-anchor=\"middle\" x=\"364.5\" y=\"-377.8\">continuous_state</text>\n",
       "<polyline fill=\"none\" points=\"218,-370 511,-370 \" stroke=\"#000000\"/>\n",
       "<text fill=\"#000000\" font-family=\"Times,serif\" font-size=\"14.00\" text-anchor=\"middle\" x=\"364.5\" y=\"-354.8\">body_poses</text>\n",
       "<polyline fill=\"none\" points=\"218,-347 511,-347 \" stroke=\"#000000\"/>\n",
       "<text fill=\"#000000\" font-family=\"Times,serif\" font-size=\"14.00\" text-anchor=\"middle\" x=\"364.5\" y=\"-331.8\">spatial_velocities</text>\n",
       "<polyline fill=\"none\" points=\"218,-324 511,-324 \" stroke=\"#000000\"/>\n",
       "<text fill=\"#000000\" font-family=\"Times,serif\" font-size=\"14.00\" text-anchor=\"middle\" x=\"364.5\" y=\"-308.8\">spatial_accelerations</text>\n",
       "<polyline fill=\"none\" points=\"218,-301 511,-301 \" stroke=\"#000000\"/>\n",
       "<text fill=\"#000000\" font-family=\"Times,serif\" font-size=\"14.00\" text-anchor=\"middle\" x=\"364.5\" y=\"-285.8\">generalized_acceleration</text>\n",
       "<polyline fill=\"none\" points=\"218,-278 511,-278 \" stroke=\"#000000\"/>\n",
       "<text fill=\"#000000\" font-family=\"Times,serif\" font-size=\"14.00\" text-anchor=\"middle\" x=\"364.5\" y=\"-262.8\">WorldModelInstance_continuous_state</text>\n",
       "<polyline fill=\"none\" points=\"218,-255 511,-255 \" stroke=\"#000000\"/>\n",
       "<text fill=\"#000000\" font-family=\"Times,serif\" font-size=\"14.00\" text-anchor=\"middle\" x=\"364.5\" y=\"-239.8\">WorldModelInstance_generalized_acceleration</text>\n",
       "<polyline fill=\"none\" points=\"218,-232 511,-232 \" stroke=\"#000000\"/>\n",
       "<text fill=\"#000000\" font-family=\"Times,serif\" font-size=\"14.00\" text-anchor=\"middle\" x=\"364.5\" y=\"-216.8\">DefaultModelInstance_continuous_state</text>\n",
       "<polyline fill=\"none\" points=\"218,-209 511,-209 \" stroke=\"#000000\"/>\n",
       "<text fill=\"#000000\" font-family=\"Times,serif\" font-size=\"14.00\" text-anchor=\"middle\" x=\"364.5\" y=\"-193.8\">DefaultModelInstance_generalized_acceleration</text>\n",
       "<polyline fill=\"none\" points=\"218,-186 511,-186 \" stroke=\"#000000\"/>\n",
       "<text fill=\"#000000\" font-family=\"Times,serif\" font-size=\"14.00\" text-anchor=\"middle\" x=\"364.5\" y=\"-170.8\">iiwa14_continuous_state</text>\n",
       "<polyline fill=\"none\" points=\"218,-163 511,-163 \" stroke=\"#000000\"/>\n",
       "<text fill=\"#000000\" font-family=\"Times,serif\" font-size=\"14.00\" text-anchor=\"middle\" x=\"364.5\" y=\"-147.8\">iiwa14_generalized_acceleration</text>\n",
       "<polyline fill=\"none\" points=\"218,-140 511,-140 \" stroke=\"#000000\"/>\n",
       "<text fill=\"#000000\" font-family=\"Times,serif\" font-size=\"14.00\" text-anchor=\"middle\" x=\"364.5\" y=\"-124.8\">WorldModelInstance_generalized_contact_forces</text>\n",
       "<polyline fill=\"none\" points=\"218,-117 511,-117 \" stroke=\"#000000\"/>\n",
       "<text fill=\"#000000\" font-family=\"Times,serif\" font-size=\"14.00\" text-anchor=\"middle\" x=\"364.5\" y=\"-101.8\">DefaultModelInstance_generalized_contact_forces</text>\n",
       "<polyline fill=\"none\" points=\"218,-94 511,-94 \" stroke=\"#000000\"/>\n",
       "<text fill=\"#000000\" font-family=\"Times,serif\" font-size=\"14.00\" text-anchor=\"middle\" x=\"364.5\" y=\"-78.8\">iiwa14_generalized_contact_forces</text>\n",
       "<polyline fill=\"none\" points=\"218,-71 511,-71 \" stroke=\"#000000\"/>\n",
       "<text fill=\"#000000\" font-family=\"Times,serif\" font-size=\"14.00\" text-anchor=\"middle\" x=\"364.5\" y=\"-55.8\">reaction_forces</text>\n",
       "<polyline fill=\"none\" points=\"218,-48 511,-48 \" stroke=\"#000000\"/>\n",
       "<text fill=\"#000000\" font-family=\"Times,serif\" font-size=\"14.00\" text-anchor=\"middle\" x=\"364.5\" y=\"-32.8\">contact_results</text>\n",
       "</g>\n",
       "<!-- 56419776 -->\n",
       "<g class=\"node\" id=\"node2\">\n",
       "<title>56419776</title>\n",
       "<polygon fill=\"none\" points=\"547,-370.5 547,-439.5 735,-439.5 735,-370.5 547,-370.5\" stroke=\"#000000\"/>\n",
       "<text fill=\"#000000\" font-family=\"Times,serif\" font-size=\"14.00\" text-anchor=\"middle\" x=\"641\" y=\"-424.3\">scene_graph</text>\n",
       "<polyline fill=\"none\" points=\"547,-416.5 735,-416.5 \" stroke=\"#000000\"/>\n",
       "<text fill=\"#000000\" font-family=\"Times,serif\" font-size=\"14.00\" text-anchor=\"middle\" x=\"584.5\" y=\"-389.8\">plant_pose</text>\n",
       "<polyline fill=\"none\" points=\"622,-370.5 622,-416.5 \" stroke=\"#000000\"/>\n",
       "<text fill=\"#000000\" font-family=\"Times,serif\" font-size=\"14.00\" text-anchor=\"middle\" x=\"678.5\" y=\"-401.3\">lcm_visualization</text>\n",
       "<polyline fill=\"none\" points=\"622,-393.5 735,-393.5 \" stroke=\"#000000\"/>\n",
       "<text fill=\"#000000\" font-family=\"Times,serif\" font-size=\"14.00\" text-anchor=\"middle\" x=\"678.5\" y=\"-378.3\">query</text>\n",
       "</g>\n",
       "<!-- 56689952&#45;&gt;56419776 -->\n",
       "<g class=\"edge\" id=\"edge2\">\n",
       "<title>56689952:y0-&gt;56419776:u0</title>\n",
       "<path d=\"M511,-405C523.7809,-405 528.1793,-398.1086 536.8999,-394.7706\" fill=\"none\" stroke=\"#000000\"/>\n",
       "<polygon fill=\"#000000\" points=\"537.7546,-398.1743 547,-393 536.5458,-391.2794 537.7546,-398.1743\" stroke=\"#000000\"/>\n",
       "</g>\n",
       "<!-- 56419776&#45;&gt;56689952 -->\n",
       "<g class=\"edge\" id=\"edge3\">\n",
       "<title>56419776:y1-&gt;56689952:u0</title>\n",
       "<path d=\"M679,-370C679,-311.3333 597.1239,-339.5143 547,-370 517.2787,-388.0767 540.7213,-421.4233 511,-439.5 511,-439.5 103.6888,-393.1292 33.6821,-385.1592\" fill=\"none\" stroke=\"#000000\"/>\n",
       "<polygon fill=\"#000000\" points=\"33.8318,-381.6537 23.5,-384 33.0399,-388.6088 33.8318,-381.6537\" stroke=\"#000000\"/>\n",
       "</g>\n",
       "<!-- 55822208 -->\n",
       "<g class=\"node\" id=\"node3\">\n",
       "<title>55822208</title>\n",
       "<polygon fill=\"none\" points=\"771,-371 771,-417 897,-417 897,-371 771,-371\" stroke=\"#000000\"/>\n",
       "<text fill=\"#000000\" font-family=\"Times,serif\" font-size=\"14.00\" text-anchor=\"middle\" x=\"834\" y=\"-401.8\">meshcat_visualizer</text>\n",
       "<polyline fill=\"none\" points=\"771,-394 897,-394 \" stroke=\"#000000\"/>\n",
       "<text fill=\"#000000\" font-family=\"Times,serif\" font-size=\"14.00\" text-anchor=\"middle\" x=\"824\" y=\"-378.8\">geometry_query</text>\n",
       "<polyline fill=\"none\" points=\"877,-371 877,-394 \" stroke=\"#000000\"/>\n",
       "<text fill=\"#000000\" font-family=\"Times,serif\" font-size=\"14.00\" text-anchor=\"middle\" x=\"887\" y=\"-378.8\"> </text>\n",
       "</g>\n",
       "<!-- 56419776&#45;&gt;55822208 -->\n",
       "<g class=\"edge\" id=\"edge1\">\n",
       "<title>56419776:y1-&gt;55822208:u0</title>\n",
       "<path d=\"M735,-382C747,-382 752.25,-382 760.875,-382\" fill=\"none\" stroke=\"#000000\"/>\n",
       "<polygon fill=\"#000000\" points=\"761,-385.5001 771,-382 761,-378.5001 761,-385.5001\" stroke=\"#000000\"/>\n",
       "</g>\n",
       "</g>\n",
       "</svg>"
      ],
      "text/plain": [
       "<IPython.core.display.SVG object>"
      ]
     },
     "execution_count": 12,
     "metadata": {},
     "output_type": "execute_result"
    }
   ],
   "source": [
    "SVG(pydot.graph_from_dot_data(diagram.GetGraphvizString())[0].create_svg())"
   ]
  },
  {
   "cell_type": "markdown",
   "metadata": {
    "colab_type": "text",
    "id": "5OwrpdeGE5aa"
   },
   "source": [
    "There is one more important detail: **The `Context` for the `Diagram` is not the `Context` of the `MultibodyPlant`.  But you can extract the plant `Context`; and we need to in order to set the initial conditions of the robot."
   ]
  },
  {
   "cell_type": "code",
   "execution_count": 13,
   "metadata": {
    "colab": {},
    "colab_type": "code",
    "id": "aA5dasXyFWXo"
   },
   "outputs": [
    {
     "name": "stdout",
     "output_type": "stream",
     "text": [
      "::_ Context (of a Diagram)\n",
      "---------------------------\n",
      "14 total discrete states in 1 groups\n",
      "284 total numeric parameters in 38 groups\n",
      "1 total abstract parameters\n",
      "\n",
      "::_::plant Context\n",
      "-------------------\n",
      "Time: 0\n",
      "States:\n",
      "  1 discrete state groups with\n",
      "     14 states\n",
      "       -1.57   0.1     0  -1.2     0   1.6     0     0     0     0     0     0     0     0\n",
      "\n",
      "Parameters:\n",
      "  38 numeric parameter groups with\n",
      "     1 parameters\n",
      "       0\n",
      "     1 parameters\n",
      "       1\n",
      "     1 parameters\n",
      "       0\n",
      "     1 parameters\n",
      "       1\n",
      "     1 parameters\n",
      "       0\n",
      "     1 parameters\n",
      "       1\n",
      "     1 parameters\n",
      "       0\n",
      "     1 parameters\n",
      "       1\n",
      "     1 parameters\n",
      "       0\n",
      "     1 parameters\n",
      "       1\n",
      "     1 parameters\n",
      "       0\n",
      "     1 parameters\n",
      "       1\n",
      "     1 parameters\n",
      "       0\n",
      "     1 parameters\n",
      "       1\n",
      "     10 parameters\n",
      "       nan nan nan nan nan nan nan nan nan nan\n",
      "     10 parameters\n",
      "            5   -0.1      0   0.07 0.0149 0.0269  0.016      0  0.007      0\n",
      "     10 parameters\n",
      "             5.76          0      -0.03       0.12  0.0210292  0.0201812 0.00303542          0          0     0.0036\n",
      "     10 parameters\n",
      "             6.35     0.0003      0.059      0.042  0.0100481 0.00655149 0.00521337  -1.77e-05  -1.26e-05  -0.002478\n",
      "     10 parameters\n",
      "              3.5          0       0.03       0.13  0.0249429     0.0237 0.00307143          0          0    -0.0039\n",
      "     10 parameters\n",
      "              3.5          0      0.067      0.034  0.0105021 0.00584171 0.00620329          0          0  -0.002278\n",
      "     10 parameters\n",
      "              3.5     0.0001      0.021      0.076 0.00907414 0.00826172 0.00172387   -2.1e-06   -7.6e-06  -0.001596\n",
      "     10 parameters\n",
      "              1.8          0     0.0006     0.0004 0.00272274 0.00261127 0.00200036          0          0   -2.4e-07\n",
      "     10 parameters\n",
      "               1.2           0           0        0.02  0.00123333  0.00123333 0.000833333           0           0           0\n",
      "     12 parameters\n",
      "        1  0  0  0  1  0  0  0  1 -0 -0 -0\n",
      "     12 parameters\n",
      "            1      0      0      0      1      0      0      0      1      0      0 0.1575\n",
      "     12 parameters\n",
      "       1 0 0 0 1 0 0 0 1 0 0 0\n",
      "     12 parameters\n",
      "                 -1  1.22465e-16            0  6.16298e-32  4.44089e-16            1  1.22465e-16            1 -4.44089e-16            0            0       0.2025\n",
      "     12 parameters\n",
      "       1 0 0 0 1 0 0 0 1 0 0 0\n",
      "     12 parameters\n",
      "                 -1  1.22465e-16   1.2326e-32  7.39557e-32  4.44089e-16            1  1.22465e-16            1 -4.44089e-16 -6.16298e-33       0.2045 -5.55112e-17\n",
      "     12 parameters\n",
      "                 1           0           0           0           1           0           0           0           1 -1.2326e-32           0           0\n",
      "     12 parameters\n",
      "                  1 -1.74315e-32 -4.10537e-48 -4.10537e-48 -4.44089e-16            1 -1.74315e-32           -1 -4.44089e-16  -1.2326e-32  2.77556e-17       0.2155\n",
      "     12 parameters\n",
      "                  1 -7.65836e-33  7.65836e-33  7.65836e-33            1  2.93253e-65 -7.65836e-33  2.93253e-65            1   1.2326e-32            0 -5.55112e-17\n",
      "     12 parameters\n",
      "                 -1   1.2326e-32 -1.22465e-16 -1.22465e-16 -4.44089e-16            1 -4.93038e-32            1  4.44089e-16            0       0.1845 -5.55112e-17\n",
      "     12 parameters\n",
      "                 1           0           0           0           1           0           0           0           1 -1.2326e-32           0           0\n",
      "     12 parameters\n",
      "                  1 -5.22946e-32 -1.74315e-32  1.74315e-32 -4.44089e-16            1 -5.22946e-32           -1 -4.44089e-16            0 -8.03801e-17       0.2155\n",
      "     12 parameters\n",
      "                  1            0            0            0            1            0            0            0            1  3.69779e-32 -2.22045e-16            0\n",
      "     12 parameters\n",
      "                 -1 -2.46519e-32 -1.22465e-16 -1.22465e-16 -4.44089e-16            1 -9.86076e-32            1  4.44089e-16  4.93038e-32        0.081            0\n",
      "     12 parameters\n",
      "       1 0 0 0 1 0 0 0 1 0 0 0\n",
      "\n",
      "::_::scene_graph Context\n",
      "-------------------------\n",
      "Time: 0\n",
      "Parameters:\n",
      "  1 abstract parameters\n",
      "\n"
     ]
    }
   ],
   "source": [
    "plant_context = plant.GetMyMutableContextFromRoot(context)\n",
    "plant.SetPositions(plant_context, [-1.57, 0.1, 0, -1.2, 0, 1.6, 0])\n",
    "plant.get_actuation_input_port().FixValue(plant_context, np.zeros(7))\n",
    "print(context)"
   ]
  },
  {
   "cell_type": "markdown",
   "metadata": {
    "colab_type": "text",
    "id": "Js2ulEaFF0yD"
   },
   "source": [
    "Accidentally using `context` instead of `plant_context` is a very common mistake!\n",
    "\n",
    "Ok, now we're ready to simulate.  Make sure your visualizer window is visible, then run the following cell."
   ]
  },
  {
   "cell_type": "code",
   "execution_count": 14,
   "metadata": {
    "colab": {},
    "colab_type": "code",
    "id": "ZySlXAKSGLaS"
   },
   "outputs": [
    {
     "data": {
      "text/plain": [
       "<pydrake.systems.analysis.SimulatorStatus at 0x7f1963f23cb0>"
      ]
     },
     "execution_count": 14,
     "metadata": {},
     "output_type": "execute_result"
    }
   ],
   "source": [
    "simulator = Simulator(diagram, context)\n",
    "simulator.set_target_realtime_rate(1.0)\n",
    "simulator.AdvanceTo(5.0 if running_as_notebook else 0.1)"
   ]
  },
  {
   "cell_type": "markdown",
   "metadata": {
    "colab_type": "text",
    "id": "Fdkx17YxGPSz"
   },
   "source": [
    "Glorious!\n",
    "\n",
    "Here's one more trick.  You can ask MeshCat to record the animation, and then review it in the visualizer.  I'll repeat the preamble here to make this cell stand-alone.  (Plus we cannot reuse a system in multiple diagrams; the ownership is restricted)."
   ]
  },
  {
   "cell_type": "code",
   "execution_count": null,
   "metadata": {
    "colab": {},
    "colab_type": "code",
    "id": "HUeu3reLWw_H"
   },
   "outputs": [
    {
     "name": "stdout",
     "output_type": "stream",
     "text": [
      "Connecting to meshcat-server at zmq_url=tcp://127.0.0.1:6006...\n",
      "You can open the visualizer by visiting the following URL:\n",
      "http://127.0.0.1:7006/static/\n",
      "Connected to meshcat-server.\n"
     ]
    }
   ],
   "source": [
    "builder = DiagramBuilder()\n",
    "\n",
    "# Adds both MultibodyPlant and the SceneGraph, and wires them together.\n",
    "plant, scene_graph = AddMultibodyPlantSceneGraph(builder, time_step=1e-4)\n",
    "# Note that we parse into both the plant and the scene_graph here.\n",
    "Parser(plant, scene_graph).AddModelFromFile(\n",
    "        FindResourceOrThrow(\"drake/manipulation/models/iiwa_description/sdf/iiwa14_no_collision.sdf\"))\n",
    "plant.WeldFrames(plant.world_frame(), plant.GetFrameByName(\"iiwa_link_0\"))\n",
    "plant.Finalize()\n",
    "\n",
    "# Adds the MeshcatVisualizer and wires it to the SceneGraph.\n",
    "meshcat = ConnectMeshcatVisualizer(builder, scene_graph, zmq_url=zmq_url, delete_prefix_on_load=False)\n",
    "\n",
    "diagram = builder.Build()\n",
    "context = diagram.CreateDefaultContext()\n",
    "plant_context = plant.GetMyMutableContextFromRoot(context)\n",
    "plant.SetPositions(plant_context, [-1.57, 0.1, 0, -1.2, 0, 1.6, 0])\n",
    "plant.get_actuation_input_port().FixValue(plant_context, np.zeros(7))\n",
    "\n",
    "simulator = Simulator(diagram, context)\n",
    "simulator.set_target_realtime_rate(1.0)\n",
    "\n",
    "meshcat.start_recording()\n",
    "simulator.AdvanceTo(5.0 if running_as_notebook else 0.1)\n",
    "meshcat.stop_recording()\n",
    "meshcat.publish_recording()"
   ]
  },
  {
   "cell_type": "markdown",
   "metadata": {
    "colab_type": "text",
    "id": "8SPr8dXoY3IT"
   },
   "source": [
    "# Adding the iiwa controller\n",
    "\n",
    "The iiwa hardware interface runs through a control system provided by the manufacturer.  We can't turn it off.  The best we can do is add our approximation of it to our simulation.  I'll repeat everything we've set up before (to keep this example self-contained), but we'll add one more system for the controller."
   ]
  },
  {
   "cell_type": "code",
   "execution_count": null,
   "metadata": {
    "colab": {},
    "colab_type": "code",
    "id": "Qd245P5kY666"
   },
   "outputs": [],
   "source": [
    "builder = DiagramBuilder()\n",
    "\n",
    "# Adds both MultibodyPlant and the SceneGraph, and wires them together.\n",
    "plant, scene_graph = AddMultibodyPlantSceneGraph(builder, time_step=1e-4)\n",
    "# Note that we parse into both the plant and the scene_graph here.\n",
    "iiwa_model = Parser(plant, scene_graph).AddModelFromFile(\n",
    "        FindResourceOrThrow(\"drake/manipulation/models/iiwa_description/sdf/iiwa14_no_collision.sdf\"))\n",
    "plant.WeldFrames(plant.world_frame(), plant.GetFrameByName(\"iiwa_link_0\"))\n",
    "plant.Finalize()\n",
    "\n",
    "# Adds the MeshcatVisualizer and wires it to the SceneGraph.\n",
    "meshcat = ConnectMeshcatVisualizer(builder, scene_graph, zmq_url=zmq_url, delete_prefix_on_load=False)\n",
    "\n",
    "# Adds an approximation of the iiwa controller.\n",
    "# TODO(russt): replace this with the joint impedance controller.\n",
    "Kp = np.full(7, 100)\n",
    "Ki = 2 * np.sqrt(Kp)\n",
    "Kd = np.full(7, 1)\n",
    "iiwa_controller = builder.AddSystem(InverseDynamicsController(plant, Kp, Ki, Kd, False))\n",
    "iiwa_controller.set_name(\"iiwa_controller\");\n",
    "builder.Connect(plant.get_state_output_port(iiwa_model),\n",
    "                iiwa_controller.get_input_port_estimated_state())\n",
    "builder.Connect(iiwa_controller.get_output_port_control(),\n",
    "                plant.get_actuation_input_port())\n",
    "diagram = builder.Build()"
   ]
  },
  {
   "cell_type": "markdown",
   "metadata": {
    "colab_type": "text",
    "id": "SwmwcTcOX-pm"
   },
   "source": [
    "Let's see what our diagram looks like..."
   ]
  },
  {
   "cell_type": "code",
   "execution_count": null,
   "metadata": {
    "colab": {},
    "colab_type": "code",
    "id": "1SMxPMvdxk99"
   },
   "outputs": [],
   "source": [
    "SVG(pydot.graph_from_dot_data(diagram.GetGraphvizString())[0].create_svg())"
   ]
  },
  {
   "cell_type": "markdown",
   "metadata": {
    "colab_type": "text",
    "id": "ZWoEJzsixwGj"
   },
   "source": [
    "As our diagrams get more complex, we're going to need a better approach to rendering the diagrams.  I've got a rough first pass (that it still suffering from some licensing issues) in javascript that I aim to improve.\n",
    "\n",
    "TODO(russt): Update the javascript rendering [#13874](https://github.com/RobotLocomotion/drake/issues/13874).  "
   ]
  },
  {
   "cell_type": "code",
   "execution_count": null,
   "metadata": {
    "colab": {},
    "colab_type": "code",
    "id": "EjJzh5veYA6e"
   },
   "outputs": [],
   "source": [
    "diagram.set_name(\"diagram\")\n",
    "HTML('<script src=\"https://unpkg.com/gojs/release/go.js\"></script>' + GenerateHtml(diagram))"
   ]
  },
  {
   "cell_type": "markdown",
   "metadata": {
    "colab_type": "text",
    "id": "wuo1q8PgXzrp"
   },
   "source": [
    "To set up the `Context` now, instead of setting the `actuation_input` to zero, we set the `desired_state` of the iiwa controller to be the current position of the arm.  But the desired *state* must also include desired velocities, so we set those to zero."
   ]
  },
  {
   "cell_type": "code",
   "execution_count": null,
   "metadata": {
    "colab": {},
    "colab_type": "code",
    "id": "GHrnvvpXXixB"
   },
   "outputs": [],
   "source": [
    "context = diagram.CreateDefaultContext()\n",
    "plant_context = plant.GetMyMutableContextFromRoot(context)\n",
    "q0 = np.array([-1.57, 0.1, 0, -1.2, 0, 1.6, 0])\n",
    "x0 = np.hstack((q0, 0*q0))\n",
    "plant.SetPositions(plant_context, q0)\n",
    "iiwa_controller.GetInputPort('desired_state').FixValue(\n",
    "    iiwa_controller.GetMyMutableContextFromRoot(context), x0)\n",
    "print(context)"
   ]
  },
  {
   "cell_type": "markdown",
   "metadata": {
    "colab_type": "text",
    "id": "kAWFX5H7atro"
   },
   "source": [
    "Now, if we simulate, the robot just stays put.  Just like the real robot would."
   ]
  },
  {
   "cell_type": "code",
   "execution_count": null,
   "metadata": {
    "colab": {},
    "colab_type": "code",
    "id": "qvJ2PptyYuz2"
   },
   "outputs": [],
   "source": [
    "simulator = Simulator(diagram, context)\n",
    "simulator.set_target_realtime_rate(1.0);\n",
    "simulator.AdvanceTo(5.0 if running_as_notebook else 0.1);"
   ]
  },
  {
   "cell_type": "markdown",
   "metadata": {
    "colab_type": "text",
    "id": "7q0A14bAilIX"
   },
   "source": [
    "# Robot hands\n",
    "\n",
    "I don't have the same smörgåsbord of robot models to offer for robot hands (yet).  We do have the allegro hand model available, and I'm happy to add more here (though many will require some care to handle their kinematic constraints).  For now, you can at least try out the [Allegro Hand](http://www.wonikrobotics.com/Allegro-Hand.htm).\n",
    "\n",
    "TODO(russt): Consider porting Robotiq, Sandia, or IHY-hand from our [openhumanoids](https://github.com/openhumanoids/oh-distro/tree/master/software/models/common_components) project."
   ]
  },
  {
   "cell_type": "code",
   "execution_count": null,
   "metadata": {
    "colab": {},
    "colab_type": "code",
    "id": "ILYLouFTjv6e"
   },
   "outputs": [],
   "source": [
    "def hand_sliders():\n",
    "    builder = DiagramBuilder()\n",
    "\n",
    "    plant, scene_graph = AddMultibodyPlantSceneGraph(builder, time_step=0.0)\n",
    "    allegro_file = FindResourceOrThrow(\"drake/manipulation/models/allegro_hand_description/sdf/allegro_hand_description_right.sdf\")\n",
    "    Parser(plant, scene_graph).AddModelFromFile(allegro_file)\n",
    "    plant.Finalize()\n",
    "\n",
    "    meshcat = ConnectMeshcatVisualizer(builder, scene_graph, zmq_url=zmq_url)\n",
    "    diagram = builder.Build()\n",
    "    context = diagram.CreateDefaultContext()\n",
    "\n",
    "    meshcat.load()\n",
    "    MakeJointSlidersThatPublishOnCallback(plant, meshcat, context)\n",
    "\n",
    "hand_sliders()"
   ]
  },
  {
   "cell_type": "code",
   "execution_count": null,
   "metadata": {
    "colab": {},
    "colab_type": "code",
    "id": "5SjOClhTltPk"
   },
   "outputs": [],
   "source": []
  }
 ],
 "metadata": {
  "colab": {
   "collapsed_sections": [],
   "name": "Robotic Manipulation - Let's get you a robot.ipynb",
   "provenance": [],
   "toc_visible": true
  },
  "kernelspec": {
   "display_name": "Python 3",
   "language": "python",
   "name": "python3"
  },
  "language_info": {
   "codemirror_mode": {
    "name": "ipython",
    "version": 3
   },
   "file_extension": ".py",
   "mimetype": "text/x-python",
   "name": "python",
   "nbconvert_exporter": "python",
   "pygments_lexer": "ipython3",
   "version": "3.6.9"
  }
 },
 "nbformat": 4,
 "nbformat_minor": 1
}
