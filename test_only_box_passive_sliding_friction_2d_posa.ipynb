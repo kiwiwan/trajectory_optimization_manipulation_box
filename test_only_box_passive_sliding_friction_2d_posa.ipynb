{
 "cells": [
  {
   "cell_type": "code",
   "execution_count": 1,
   "metadata": {},
   "outputs": [],
   "source": [
    "server_args = []\n",
    "# Start a single meshcat server instance to use for the remainder of this notebook.\n",
    "from meshcat.servers.zmqserver import start_zmq_server_as_subprocess\n",
    "proc, zmq_url, web_url = start_zmq_server_as_subprocess(server_args=server_args)\n",
    "\n",
    "from manipulation import running_as_notebook\n",
    "\n",
    "# Imports\n",
    "import numpy as np\n",
    "import pydot\n",
    "from ipywidgets import Dropdown, Layout\n",
    "from IPython.display import display, HTML, SVG\n",
    "\n",
    "from pydrake.all import (\n",
    "    AddMultibodyPlantSceneGraph, ConnectMeshcatVisualizer, DiagramBuilder, \n",
    "    FindResourceOrThrow, GenerateHtml, InverseDynamicsController, \n",
    "    MultibodyPlant, Parser, Simulator)\n",
    "from pydrake.multibody.jupyter_widgets import MakeJointSlidersThatPublishOnCallback\n",
    "import pydrake\n",
    "from pydrake import geometry\n",
    "from pydrake.math import RigidTransform, RollPitchYaw, RotationMatrix \n",
    "from pydrake.solvers.mathematicalprogram import MathematicalProgram, Solve\n",
    "from pydrake.systems.jupyter_widgets import PoseSliders, WidgetSystem\n",
    "from ipywidgets import ToggleButton, ToggleButtons\n",
    "from functools import partial\n",
    "from pydrake.all import (\n",
    "    JointIndex, PiecewisePolynomial, JacobianWrtVariable,\n",
    "    eq, ge,  AutoDiffXd, autoDiffToGradientMatrix, SnoptSolver, IpoptSolver,\n",
    "    initializeAutoDiffGivenGradientMatrix, autoDiffToValueMatrix, autoDiffToGradientMatrix,\n",
    "    AddUnitQuaternionConstraintOnPlant, PositionConstraint, OrientationConstraint,\n",
    "    MeshcatContactVisualizer, Expression\n",
    ")\n",
    "\n",
    "import pickle\n",
    "from pydrake.symbolic import Variable"
   ]
  },
  {
   "cell_type": "code",
   "execution_count": 2,
   "metadata": {},
   "outputs": [],
   "source": [
    "builder = DiagramBuilder()\n",
    "plant, scene_graph = AddMultibodyPlantSceneGraph(builder, time_step=1e-4)"
   ]
  },
  {
   "cell_type": "code",
   "execution_count": 3,
   "metadata": {},
   "outputs": [],
   "source": [
    "#add table\n",
    "ground = pydrake.multibody.parsing.Parser(plant, scene_graph).AddModelFromFile(\n",
    "            pydrake.common.FindResourceOrThrow(\n",
    "                \"drake/examples/push_box/ground.urdf\"), \"ground\")\n",
    "\n",
    "#add box\n",
    "cracker_box = pydrake.multibody.parsing.Parser(plant, scene_graph).AddModelFromFile(\n",
    "            pydrake.common.FindResourceOrThrow(\n",
    "                \"drake/examples/push_box/003_cracker_box_plannar_test.urdf\"), \"cracker_box\")\n",
    "\n",
    "X_WB = RigidTransform(RotationMatrix.MakeXRotation(np.pi/2), [0., 0., 0.104200 + 1e-07])#\n",
    "planar_joint_frame = plant.AddFrame(pydrake.multibody.tree.FixedOffsetFrame(\"planar_joint_frame\", plant.world_frame(), X_WB))\n",
    "box_joint = plant.AddJoint(pydrake.multibody.tree.PlanarJoint(\"box_joint\", planar_joint_frame, plant.GetFrameByName(\"base_link_cracker\", cracker_box)))\n",
    "box_joint.set_default_translation([0, 0])"
   ]
  },
  {
   "cell_type": "code",
   "execution_count": 4,
   "metadata": {},
   "outputs": [],
   "source": [
    "plant.Finalize()\n",
    "plant.set_name(\"plant\")"
   ]
  },
  {
   "cell_type": "code",
   "execution_count": 5,
   "metadata": {},
   "outputs": [],
   "source": [
    "cracker_box_body = plant.GetBodyByName(\"base_link_cracker\", cracker_box)\n",
    "cracker_box_id = plant.GetBodyFrameIdIfExists(cracker_box_body.index())\n",
    "\n",
    "\n",
    "draw_frames = True\n",
    "frames_to_draw = [cracker_box_id] if draw_frames else []\n",
    "# meshcat = ConnectMeshcatVisualizer(builder, scene_graph, zmq_url=zmq_url, frames_to_draw=frames_to_draw, axis_length=0.15,\n",
    "#                  axis_radius=0.001,)\n",
    "# # meshcat.set_planar_viewpoint(xmin=-.5, xmax=.5, ymin=-0.1, ymax=0.6)\n",
    "\n",
    "# #visualizer the contact\n",
    "# contact_visualizer = builder.AddSystem(MeshcatContactVisualizer(meshcat, \n",
    "#                                        force_threshold=0.0,\n",
    "#                                        contact_force_scale=0.05, \n",
    "#                                        contact_force_radius=0.001,   \n",
    "#                                        plant=plant))\n",
    "# builder.Connect(plant.get_contact_results_output_port(),\n",
    "#                 contact_visualizer.GetInputPort(\"contact_results\"))\n",
    "\n",
    "\n",
    "diagram = builder.Build()\n",
    "context = diagram.CreateDefaultContext()\n",
    "plant_context = plant.GetMyContextFromRoot(context)\n",
    "# X_WB = RigidTransform(RotationMatrix(), [0., 0., 0.0334 + 1e-07])\n",
    "# plant.SetFreeBodyPose(plant_context, \n",
    "#                               plant.GetBodyByName(\"base_link_cracker\", cracker_box),\n",
    "#                               X_WB)\n",
    "\n",
    "# meshcat.load()\n",
    "diagram.Publish(context)"
   ]
  },
  {
   "cell_type": "code",
   "execution_count": 6,
   "metadata": {},
   "outputs": [],
   "source": [
    "# query_object = plant.get_geometry_query_input_port().Eval(plant_context)\n",
    "# scene_graph_inspector = query_object.inspector()\n",
    "# collision_candidate_pairs = scene_graph_inspector.GetCollisionCandidates()\n",
    "# signed_distance_pairs = query_object.ComputeSignedDistancePairwiseClosestPoints()\n",
    "# for signed_distance_pair in signed_distance_pairs:\n",
    "#     print(\"id_A: \", signed_distance_pair.id_A, \"   id_B: \", signed_distance_pair.id_B)\n",
    "#     print(\"p_ACa: \", signed_distance_pair.p_ACa, \"   p_BCb: \", signed_distance_pair.p_BCb)\n",
    "#     print(\"nhat_BA_W: \", signed_distance_pair.nhat_BA_W, \"   distance: \", signed_distance_pair.distance)\n",
    "#     print(\"########################\")"
   ]
  },
  {
   "cell_type": "code",
   "execution_count": 7,
   "metadata": {},
   "outputs": [
    {
     "name": "stdout",
     "output_type": "stream",
     "text": [
      "(2, 2)\n"
     ]
    }
   ],
   "source": [
    "a = np.array([[0, 0],[0, 0]])\n",
    "print(a.shape)"
   ]
  },
  {
   "cell_type": "code",
   "execution_count": 8,
   "metadata": {},
   "outputs": [],
   "source": [
    "init_from_file = False\n",
    "# init_from_file = True\n",
    "# tmpfolder = 'tmp/'\n",
    "# with open(tmpfolder +  'test_only_box_passive_scenegraph_sliding_friction/sol.pkl', 'rb' ) as file:\n",
    "#     q_o_ini, v_o_ini, vdot_o_ini, f_list_ini, alpha_beta_list_ini, f_static_list_ini, f_sliding_list_ini, sliding_c_list_ini = pickle.load( file )"
   ]
  },
  {
   "cell_type": "code",
   "execution_count": 9,
   "metadata": {},
   "outputs": [],
   "source": [
    "# Need this because a==b returns True even if a = AutoDiffXd(1, [1, 2]), b= AutoDiffXd(2, [3, 4])\n",
    "# That's the behavior of AutoDiffXd in C++, also.\n",
    "def autoDiffArrayEqual(a,b):\n",
    "    return np.array_equal(a, b) and np.array_equal(autoDiffToGradientMatrix(a), autoDiffToGradientMatrix(b))\n",
    "\n",
    "\n",
    "N = 10\n",
    "\n",
    "\n",
    "# Create one context per timestep (to maximize cache hits)\n",
    "#to use scenegraph, so the plant context need derive from diagram\n",
    "context_list = [diagram.CreateDefaultContext() for i in range(N)]\n",
    "plant_context_list = [plant.GetMyContextFromRoot(context_list[i]) for i in range(N)]\n",
    "# We could get rid of this by implementing a few more Jacobians in MultibodyPlant:\n",
    "ad_diagram = diagram.ToAutoDiffXd()\n",
    "ad_plant = ad_diagram.GetSubsystemByName(\"plant\")\n",
    "\n",
    "# Make a new autodiff context (to maximize cache hits)\n",
    "#to use scenegraph, so the plant context need derive from diagram\n",
    "ad_context_list = [ad_diagram.CreateDefaultContext() for i in range(N)]\n",
    "ad_plant_context_list = [ad_plant.GetMyContextFromRoot(ad_context_list[i]) for i in range(N)]\n",
    "\n",
    "mu = 1\n",
    "total_mass = sum(plant.get_body(index).get_mass(context) for index in plant.GetBodyIndices(cracker_box))\n",
    "gravity = plant.gravity_field().gravity_vector()\n",
    "g = -gravity[2]\n",
    "m = total_mass\n",
    "\n",
    "\n",
    "\n",
    "#time step constrain\n",
    "T = 1\n",
    "prog = MathematicalProgram()\n",
    "# Time steps    \n",
    "h = prog.NewContinuousVariables(N-1, \"h\")\n",
    "prog.AddBoundingBoxConstraint([0.5*T/(N-1)]*(N-1), [2.0*T/(N-1)]*(N-1), h) \n",
    "prog.AddLinearConstraint(sum(h) >= .9*T)\n",
    "prog.AddLinearConstraint(sum(h) <= 1.1*T)\n",
    "prog.SetInitialGuess(h, [T/(N-1)]*(N-1))\n",
    "\n",
    "#q, v, vdot constrain\n",
    "nq_o = plant.num_positions(cracker_box)\n",
    "nv_o = plant.num_velocities(cracker_box)\n",
    "q_o = prog.NewContinuousVariables(nq_o, N, \"q_o\")\n",
    "v_o = prog.NewContinuousVariables(nv_o, N, \"v_o\")\n",
    "vdot_o = prog.NewContinuousVariables(nv_o, N-1, \"vdot_o\")\n",
    "\n",
    "#initial constrain\n",
    "q0_o = plant.GetPositions(plant_context, cracker_box)\n",
    "v0_o = plant.GetVelocities(plant_context, cracker_box)\n",
    "vdot0_o = v0_o\n",
    "v0_o[0] = 0.5\n",
    "# vdot0_o[3] = -9.81\n",
    "prog.AddBoundingBoxConstraint(q0_o, q0_o, q_o[:,0])\n",
    "prog.AddBoundingBoxConstraint(v0_o, v0_o, v_o[:,0])\n",
    "for n in range(N):\n",
    "#     prog.AddQuadraticErrorCost(np.diag([1]*nq_o), q0_o, q_o[:,n])\n",
    "    prog.AddQuadraticErrorCost(np.diag([100]*nv_o), [0]*nv_o, v_o[:,n])\n",
    "    if not init_from_file:\n",
    "        prog.SetInitialGuess(q_o[:,n], q0_o)\n",
    "#         if n < 10:\n",
    "#             prog.SetInitialGuess(vdot_o[:,n], vdot0_o)\n",
    "#         if n < 50:\n",
    "#             q0_o[0] =  n*0.001\n",
    "#             prog.SetInitialGuess(q_o[:,n], q0_o)\n",
    "#             v0_o[0] = 0.5 - n*0.01\n",
    "#             prog.SetInitialGuess(v_o[:,n], v0_o)\n",
    "#         else:\n",
    "#             q0_o[0] =  50*0.001\n",
    "#             prog.SetInitialGuess(q_o[:,n], q0_o)\n",
    "#             v0_o[0] = 0\n",
    "#             prog.SetInitialGuess(v_o[:,n], v0_o)\n",
    "    # Unit quaternions\n",
    "#     AddUnitQuaternionConstraintOnPlant(plant, q_o[:,n], prog)\n",
    "\n",
    "    \n",
    "if init_from_file:\n",
    "    prog.SetInitialGuess(q_o, q_o_ini)\n",
    "    prog.SetInitialGuess(v_o, v_o_ini)\n",
    "    prog.SetInitialGuess(vdot_o, vdot_o_ini)"
   ]
  },
  {
   "cell_type": "code",
   "execution_count": 10,
   "metadata": {},
   "outputs": [],
   "source": [
    "# def velocity_position_constraint(vars, context_index):\n",
    "#     h, q, v, qn = np.split(vars, [1, 1+nq_o, 1+nq_o+nv_o])\n",
    "#     if isinstance(vars[0], AutoDiffXd):\n",
    "#         if not autoDiffArrayEqual(q, ad_plant.GetPositions(ad_plant_context_list[context_index], cracker_box)):\n",
    "#             ad_plant.SetPositions(ad_plant_context_list[context_index], q)\n",
    "#         v_from_qdot = ad_plant.MapQDotToVelocity(ad_plant_context_list[context_index], (qn - q)/h)\n",
    "#     else:\n",
    "#         if not np.array_equal(q, plant.GetPositions(plant_context_list[context_index])):\n",
    "#             plant.SetPositions(plant_context_list[context_index], q)\n",
    "#         v_from_qdot = plant.MapQDotToVelocity(plant_context_list[context_index], (qn - q)/h)\n",
    "#     return v - v_from_qdot\n",
    "# for n in range(N-1):\n",
    "#     prog.AddConstraint(\n",
    "#         partial(velocity_position_constraint, context_index=n), \n",
    "#         lb=[0]*nv_o, ub=[0]*nv_o, \n",
    "#         vars=np.concatenate(([h[n]], q_o[:,n], v_o[:,n+1], q_o[:,n+1])))  #(implicit Euler)\n",
    "    \n",
    "#accelaration and velocity relation constrain(implicit Euler)\n",
    "for n in range(N-1):\n",
    "    q_v_constrain = prog.AddConstraint(eq(q_o[:, n+1], q_o[:,n] + h[n]*v_o[:,n+1]))#(implicit Euler)\n",
    "    v_vdot_constrain = prog.AddConstraint(eq(v_o[:, n+1], v_o[:,n] + h[n]*vdot_o[:,n]))#(implicit Euler)\n",
    "    q_v_constrain.evaluator().set_description(f\"q_v_constrain_{n}\")\n",
    "    v_vdot_constrain.evaluator().set_description(f\"v_vdot_constrain_{n}\")"
   ]
  },
  {
   "cell_type": "code",
   "execution_count": 11,
   "metadata": {},
   "outputs": [],
   "source": [
    "query_object = plant.get_geometry_query_input_port().Eval(plant_context)\n",
    "scene_graph_inspector = query_object.inspector()\n",
    "collision_candidate_pairs = scene_graph_inspector.GetCollisionCandidates()\n",
    "\n",
    "#set the ignored_collision_pairs\n",
    "cracker_box_body = plant.GetBodyByName(\"base_link_cracker\", cracker_box)\n",
    "cracker_box_id = plant.GetBodyFrameIdIfExists(cracker_box_body.index())\n",
    "ground_body = plant.GetBodyByName(\"ground\", ground)\n",
    "ground_id = plant.GetBodyFrameIdIfExists(ground_body.index())\n",
    "ground_geometry_id = scene_graph_inspector.GetGeometryIdByName(ground_id, pydrake.geometry.Role.kProximity, \"ground::ground_collision\")\n",
    "box_collision_geometry_id = scene_graph_inspector.GetGeometryIdByName(cracker_box_id, pydrake.geometry.Role.kProximity, \"cracker_box::box_collision\")\n",
    "point_collision1_geometry_id = scene_graph_inspector.GetGeometryIdByName(cracker_box_id, pydrake.geometry.Role.kProximity, \"cracker_box::point_collision1\")\n",
    "point_collision3_geometry_id = scene_graph_inspector.GetGeometryIdByName(cracker_box_id, pydrake.geometry.Role.kProximity, \"cracker_box::point_collision3\")\n",
    "\n",
    "ignored_collision_pairs = set([(ground_geometry_id, box_collision_geometry_id)\n",
    "#                                ,(ground_geometry_id, point_collision1_geometry_id)\n",
    "#                                ,(ground_geometry_id, point_collision3_geometry_id)\n",
    "\n",
    "                              ])\n",
    "#it's the top four collision point\n",
    "collision_pairs1 = set([\n",
    "                               (ground_geometry_id, point_collision1_geometry_id)\n",
    "                               ,(ground_geometry_id, point_collision3_geometry_id)\n",
    "                              ])\n",
    "\n",
    "#set collision_candidate_pair_list\n",
    "collision_candidate_pair_list = []\n",
    "for collision_candidate_pair in collision_candidate_pairs:\n",
    "    if collision_candidate_pair not in ignored_collision_pairs:\n",
    "        collision_candidate_pair_list.append(collision_candidate_pair)\n",
    "\n",
    "        \n",
    "N_f = len(collision_candidate_pair_list)        \n",
    "\n",
    "#express in contact coordinate\n",
    "lambd_z = prog.NewContinuousVariables(N_f, N-1, \"lambd_z\")\n",
    "lambd_x_pos = prog.NewContinuousVariables(N_f, N-1, \"lambd_x_pos\")\n",
    "lambd_x_neg = prog.NewContinuousVariables(N_f, N-1, \"lambd_x_neg\")\n",
    "gama = prog.NewContinuousVariables(N_f, N-1, \"gama\")\n",
    "#eq9\n",
    "for n in range(N-1):\n",
    "    prog.AddBoundingBoxConstraint([0]*N_f, [np.inf]*N_f, lambd_z[:, n])\n",
    "    prog.AddBoundingBoxConstraint([0]*N_f, [np.inf]*N_f, lambd_x_pos[:, n])\n",
    "    prog.AddBoundingBoxConstraint([0]*N_f, [np.inf]*N_f, lambd_x_neg[:, n])\n",
    "    prog.AddBoundingBoxConstraint([0]*N_f, [np.inf]*N_f, gama[:, n])\n",
    "    \n",
    "    #eq10\n",
    "    eq10_constraint = prog.AddConstraint(ge(mu*lambd_z[:, n] - lambd_x_pos[:, n] - lambd_x_neg[:, n], 0))\n",
    "    eq10_constraint.evaluator().set_description(f\"eq10_constraint_{n}\")\n",
    "#     for k in range(N_f):\n",
    "#         if collision_candidate_pair_list[k] not in collision_pairs1:\n",
    "#             prog.SetInitialGuess(lambd_z[k, n], m*g/2)"
   ]
  },
  {
   "cell_type": "code",
   "execution_count": 12,
   "metadata": {},
   "outputs": [],
   "source": [
    "iter_count = 0\n",
    "#reference drake sliding_friction_complementarity_constraint.cc file\n",
    "def friction_complementarity_constraint(vars, context_index):\n",
    "    q, v, lambd_z, lambd_x_pos, lambd_x_neg, gama = np.split(vars, \n",
    "                                        [nq_o, nq_o+nv_o, nq_o+nv_o+N_f, nq_o+nv_o+N_f*2, \n",
    "                                          nq_o+nv_o+N_f*3])\n",
    "\n",
    "    #to deal the error,\"PyFunctionConstraint: Output must be of scalar type float. Got AutoDiffXd instead.\"\n",
    "    #need eval_plant and eval_context for both AutoDiffXd and scalar type input\n",
    "    if isinstance(vars[0], AutoDiffXd):\n",
    "        #set plant pos and vel\n",
    "        if not autoDiffArrayEqual(q, ad_plant.GetPositions(ad_plant_context_list[context_index], cracker_box)):\n",
    "            ad_plant.SetPositions(ad_plant_context_list[context_index], cracker_box, q)\n",
    "        if not autoDiffArrayEqual(v, ad_plant.GetVelocities(ad_plant_context_list[context_index], cracker_box)):\n",
    "            ad_plant.SetVelocities(ad_plant_context_list[context_index], cracker_box, v)\n",
    "        \n",
    "        eval_plant = ad_plant\n",
    "        eval_plant_context = ad_plant_context_list[context_index]\n",
    "    else:\n",
    "        if not np.array_equal(q, plant.GetPositions(plant_context_list[context_index], cracker_box)):\n",
    "            plant.SetPositions(plant_context_list[context_index], cracker_box, q)\n",
    "        if not np.array_equal(v, plant.GetVelocities(plant_context_list[context_index], cracker_box)):\n",
    "            plant.SetVelocities(plant_context_list[context_index], cracker_box, v)\n",
    "        \n",
    "        eval_plant = plant\n",
    "        eval_plant_context = plant_context_list[context_index]\n",
    "    \n",
    "    #get query object and scenegraph inspector\n",
    "    eval_query_object = eval_plant.get_geometry_query_input_port().Eval(eval_plant_context)\n",
    "    eval_scene_graph_inspector = eval_query_object.inspector()\n",
    "    \n",
    "    global iter_count\n",
    "    if iter_count % (100*N) == 0:\n",
    "        print(\"iter_count:\",iter_count/N)\n",
    "    iter_count = iter_count + 1\n",
    "    res_list = []\n",
    "    #f is A exert to B express in W\n",
    "    for n in range(N_f):\n",
    "        signed_distance_pair = eval_query_object.ComputeSignedDistancePairClosestPoints(\n",
    "                                    collision_candidate_pair_list[n][0], collision_candidate_pair_list[n][1])\n",
    "        #derive friction coefficience\n",
    "        geometryA_props = eval_scene_graph_inspector.GetProximityProperties(signed_distance_pair.id_A)\n",
    "        geometryB_props = eval_scene_graph_inspector.GetProximityProperties(signed_distance_pair.id_B)\n",
    "        geometryA_friction = geometryA_props.GetProperty(\"material\", \"coulomb_friction\")\n",
    "        geometryB_friction = geometryB_props.GetProperty(\"material\", \"coulomb_friction\")\n",
    "        combined_friction = pydrake.multibody.plant.CalcContactFrictionFromSurfaceProperties(\n",
    "                                                        geometryA_friction, geometryB_friction)\n",
    "        \n",
    "        #calc the velocity of contact point Cb of geometry B  related to frame A express in world frame\n",
    "        frame_A_id = eval_scene_graph_inspector.GetFrameId(signed_distance_pair.id_A)\n",
    "        frame_B_id = eval_scene_graph_inspector.GetFrameId(signed_distance_pair.id_B)\n",
    "        frameA = eval_plant.GetBodyFromFrameId(frame_A_id).body_frame()\n",
    "        frameB = eval_plant.GetBodyFromFrameId(frame_B_id).body_frame()\n",
    "        \n",
    "        V_AB_W = frameB.CalcSpatialVelocity(eval_plant_context, frameA, eval_plant.world_frame())\n",
    "        \n",
    "        X_BGb = eval_scene_graph_inspector.GetPoseInFrame(signed_distance_pair.id_B)\n",
    "        p_GbCb = signed_distance_pair.p_BCb\n",
    "        if isinstance(vars[0], AutoDiffXd):\n",
    "            p_BCb = (X_BGb.cast[AutoDiffXd]()).multiply(p_GbCb.reshape(3, 1))\n",
    "        else:\n",
    "            p_BCb = X_BGb.multiply(p_GbCb.reshape(3, 1))\n",
    "        p_BCb_W = (eval_plant.CalcRelativeTransform(eval_plant_context, \n",
    "                                                 eval_plant.world_frame(), frameB).rotation()).multiply(p_BCb.reshape(3, 1))\n",
    "        v_ACb_W = V_AB_W.Shift(p_BCb_W).translational()\n",
    "        \n",
    "        \n",
    "        nhat_BA_W = np.array([signed_distance_pair.nhat_BA_W]).T\n",
    "        \n",
    "        v_sliding_ACb_W = (np.identity(3) - nhat_BA_W * nhat_BA_W.T).dot(v_ACb_W)\n",
    "        v_sliding_ACb_W_2d = np.array([v_sliding_ACb_W[0], v_sliding_ACb_W[2]])\n",
    "        tranform_2d = -np.array([[nhat_BA_W[2], -nhat_BA_W[0]],[nhat_BA_W[0], nhat_BA_W[2]]]).reshape(2, 2)\n",
    "        thi_2d = tranform_2d.dot(v_sliding_ACb_W_2d)\n",
    "        thi = thi_2d[0]\n",
    "\n",
    "        phi = signed_distance_pair.distance\n",
    "        \n",
    "        lambd_z, lambd_x_pos, lambd_x_neg, gama\n",
    "        #eq8,11-16\n",
    "        res = np.concatenate((\n",
    "        [phi],\n",
    "        [phi*lambd_z[n]],\n",
    "        [gama[n] + thi],\n",
    "        [gama[n] - thi],\n",
    "        [gama[n]*(mu*lambd_z[n] - lambd_x_pos[n] - lambd_x_neg[n])],\n",
    "        [(gama[n] + thi)*lambd_x_pos[n]],\n",
    "        [(gama[n] - thi)*lambd_x_neg[n]]\n",
    "        )) #7\n",
    "        \n",
    "        \n",
    "        res_list.append(res)\n",
    "    if iter_count % (100*N) == 0:\n",
    "        print(\"res_list:\", autoDiffToValueMatrix(res_list)\n",
    "             )\n",
    "    #return must be 1 dimension vector, like [r1, r2, ...]\n",
    "    res_list = np.array(res_list).reshape(7*N_f,)\n",
    "    return res_list\n",
    "\n",
    "epsilon = 1e-8\n",
    "epsilon1 = epsilon\n",
    "epsilon2 = epsilon\n",
    "epsilon3 = epsilon\n",
    "epsilon4 = epsilon\n",
    "for n in range(N-1):\n",
    "    #set vars be 1 dimension vector, like [r1, r2, ...]\n",
    "    vars = np.concatenate((q_o[:, n+1], v_o[:, n+1], \n",
    "                            lambd_z[:, n], \n",
    "                            lambd_x_pos[:, n],\n",
    "                            lambd_x_neg[:, n],\n",
    "                            gama[:, n],\n",
    "                          ))\n",
    "    friction_constraint = prog.AddConstraint(\n",
    "        partial(friction_complementarity_constraint, context_index=n), \n",
    "        lb=np.array([np.concatenate(([0],          [0],     [0],       [0],       [0],         [0],         [0])) for i in range(N_f)]).reshape(7*N_f,), \n",
    "        ub=np.array([np.concatenate(([np.inf], [epsilon1], [np.inf], [np.inf],  [epsilon2],  [epsilon3], [epsilon4])) for i in range(N_f)]).reshape(7*N_f,), \n",
    "        vars=vars)   \n",
    "    friction_constraint.evaluator().set_description(f\"friction_constraint_{n}\")"
   ]
  },
  {
   "cell_type": "code",
   "execution_count": 13,
   "metadata": {},
   "outputs": [],
   "source": [
    "iter_count1 = 0\n",
    "def manipulator_equations(vars, context_index):\n",
    "    q, v, vdot, lambd_z, lambd_x_pos, lambd_x_neg= np.split(vars, [nq_o, nq_o+nv_o, nq_o+nv_o*2, nq_o+nv_o*2+N_f, nq_o+nv_o*2+N_f*2])\n",
    "    #f and alpha_beta contain all collsion candidates force and corresponding alpha,beta\n",
    "    lambd_x = lambd_x_pos - lambd_x_neg\n",
    "    f = np.vstack((np.array([lambd_x]), np.array([lambd_z]))).T\n",
    "    \n",
    "    \n",
    "    #to deal the error,\"PyFunctionConstraint: Output must be of scalar type float. Got AutoDiffXd instead.\"\n",
    "    #need eval_plant and eval_context for both AutoDiffXd and scalar type input\n",
    "    if isinstance(vars[0], AutoDiffXd):\n",
    "        #set plant pos and vel\n",
    "        if not autoDiffArrayEqual(q, ad_plant.GetPositions(ad_plant_context_list[context_index], cracker_box)):\n",
    "            ad_plant.SetPositions(ad_plant_context_list[context_index], cracker_box, q)\n",
    "        if not autoDiffArrayEqual(v, ad_plant.GetVelocities(ad_plant_context_list[context_index], cracker_box)):\n",
    "            ad_plant.SetVelocities(ad_plant_context_list[context_index], cracker_box, v)\n",
    "        \n",
    "        eval_plant = ad_plant\n",
    "        eval_plant_context = ad_plant_context_list[context_index]\n",
    "    else:\n",
    "        if not np.array_equal(q, plant.GetPositions(plant_context_list[context_index], cracker_box)):\n",
    "            plant.SetPositions(plant_context_list[context_index], cracker_box, q)\n",
    "        if not np.array_equal(v, plant.GetVelocities(plant_context_list[context_index], cracker_box)):\n",
    "            plant.SetVelocities(plant_context_list[context_index], cracker_box, v)\n",
    "        \n",
    "        eval_plant = plant\n",
    "        eval_plant_context = plant_context_list[context_index]\n",
    "    \n",
    "    \n",
    "    # matrices for the manipulator equations\n",
    "    M = eval_plant.CalcMassMatrixViaInverseDynamics(eval_plant_context)\n",
    "    Cv = eval_plant.CalcBiasTerm(eval_plant_context)\n",
    "    tauG = eval_plant.CalcGravityGeneralizedForces(eval_plant_context)\n",
    "\n",
    "    \n",
    "    #tauF = sumi(J.T*F), use object query and scenegraph inspector to calc J\n",
    "    tauF = np.zeros((nv_o))\n",
    "    #get query object and scenegraph inspector\n",
    "    eval_query_object = eval_plant.get_geometry_query_input_port().Eval(eval_plant_context)\n",
    "    eval_scene_graph_inspector = eval_query_object.inspector()\n",
    "    \n",
    "    global iter_count1\n",
    "    iter_count1 = iter_count1 + 1\n",
    "    #f is A exert to B express in W\n",
    "    for n in range(N_f):\n",
    "        signed_distance_pair = eval_query_object.ComputeSignedDistancePairClosestPoints(\n",
    "                                    collision_candidate_pair_list[n][0], collision_candidate_pair_list[n][1])\n",
    "        \n",
    "        frame_A_id = eval_scene_graph_inspector.GetFrameId(signed_distance_pair.id_A)\n",
    "        frame_B_id = eval_scene_graph_inspector.GetFrameId(signed_distance_pair.id_B)\n",
    "        frameA = eval_plant.GetBodyFromFrameId(frame_A_id).body_frame()\n",
    "        frameB = eval_plant.GetBodyFromFrameId(frame_B_id).body_frame()\n",
    "        \n",
    "        X_AGa = eval_scene_graph_inspector.GetPoseInFrame(signed_distance_pair.id_A)\n",
    "        p_GaCa = signed_distance_pair.p_ACa\n",
    "        if isinstance(vars[0], AutoDiffXd):\n",
    "            p_ACa = (X_AGa.cast[AutoDiffXd]()).multiply(p_GaCa.reshape(3, 1))\n",
    "        else:\n",
    "            p_ACa = X_AGa.multiply(p_GaCa.reshape(3, 1))\n",
    "            \n",
    "        X_BGb = eval_scene_graph_inspector.GetPoseInFrame(signed_distance_pair.id_B)\n",
    "        p_GbCb = signed_distance_pair.p_BCb\n",
    "        if isinstance(vars[0], AutoDiffXd):\n",
    "            p_BCb = (X_BGb.cast[AutoDiffXd]()).multiply(p_GbCb.reshape(3, 1))\n",
    "        else:\n",
    "            p_BCb = X_BGb.multiply(p_GbCb.reshape(3, 1))\n",
    "        \n",
    "        \n",
    "        Jv_v_WCa = eval_plant.CalcJacobianTranslationalVelocity(eval_plant_context, JacobianWrtVariable.kV,\n",
    "                                                    frameA, p_ACa,\n",
    "                                                    eval_plant.world_frame(), eval_plant.world_frame())\n",
    "        Jv_v_WCb = eval_plant.CalcJacobianTranslationalVelocity(eval_plant_context, JacobianWrtVariable.kV,\n",
    "                                                    frameB, p_BCb,\n",
    "                                                    eval_plant.world_frame(), eval_plant.world_frame())\n",
    "        #discard y component in 2D\n",
    "        Jv_v_WCa = Jv_v_WCa[[0, 2]]\n",
    "        Jv_v_WCb = Jv_v_WCb[[0, 2]]\n",
    "        \n",
    "        nhat_BA_W = np.array([signed_distance_pair.nhat_BA_W]).T\n",
    "        tranform_2d = -np.array([[nhat_BA_W[2], nhat_BA_W[0]],[-nhat_BA_W[0], nhat_BA_W[2]]]).reshape(2, 2)\n",
    "        #transform f to world coordinate\n",
    "        f_W = tranform_2d.dot(f[n])\n",
    "        \n",
    "        tauF = tauF + Jv_v_WCa.T.dot(-f_W) +  Jv_v_WCb.T.dot(f_W)\n",
    "\n",
    "    global iter_count\n",
    "    if iter_count1 % (100*N) == 0:\n",
    "        print(\"manipulator_equations:\", autoDiffToValueMatrix(M.dot(vdot) + Cv - tauG - tauF)\n",
    "           ,\"     tauF:\", autoDiffToValueMatrix(tauF)\n",
    "             )\n",
    "    #return must be 1 dimension vector, like [r1, r2, ...]\n",
    "    return M.dot(vdot) + Cv - tauG - tauF\n",
    "\n",
    "\n",
    "# manipulator equations for all t (implicit Euler)\n",
    "for n in range(N-1):\n",
    "    vars = np.concatenate((q_o[:, n+1], v_o[:, n+1], vdot_o[:, n], \n",
    "                            lambd_z[:, n], \n",
    "                            lambd_x_pos[:, n],\n",
    "                            lambd_x_neg[:, n]))\n",
    "    manipulator_equations_constraint = prog.AddConstraint(partial(manipulator_equations, context_index=n), lb=[0]*nv_o, ub=[0]*nv_o, vars=vars)\n",
    "    manipulator_equations_constraint.evaluator().set_description(f\"manipulator_equations_constraint_{n}\")"
   ]
  },
  {
   "cell_type": "code",
   "execution_count": 14,
   "metadata": {},
   "outputs": [
    {
     "name": "stdout",
     "output_type": "stream",
     "text": [
      "iter_count: 0.0\n",
      "SNOPT/fortran\n",
      "solve success\n"
     ]
    }
   ],
   "source": [
    "snopt = SnoptSolver().solver_id()\n",
    "prog.SetSolverOption(snopt, 'Iterations Limits', 1e5 if running_as_notebook else 1)\n",
    "prog.SetSolverOption(snopt, 'Major Iterations Limit', 200 if running_as_notebook else 1)\n",
    "prog.SetSolverOption(snopt, 'Major Feasibility Tolerance', 5e-6)\n",
    "prog.SetSolverOption(snopt, 'Major Optimality Tolerance', 1e-4)\n",
    "prog.SetSolverOption(snopt, 'Superbasics limit', 2000)\n",
    "prog.SetSolverOption(snopt, 'Linesearch tolerance', 0.9)\n",
    "prog.SetSolverOption(snopt, 'Print file', 'snopt.out')\n",
    "\n",
    "\n",
    "# ipopt = IpoptSolver()\n",
    "# result = ipopt.Solve(prog)\n",
    "\n",
    "# sno = SnoptSolver()\n",
    "# result = sno.Solve(prog)\n",
    "\n",
    "result = Solve(prog)\n",
    "print(result.get_solver_id().name())\n",
    "if not result.is_success():\n",
    "#     print(result.GetInfeasibleConstraintNames(prog))\n",
    "    print(\"solve failed!\")\n",
    "else:\n",
    "    print(\"solve success\")\n",
    "    "
   ]
  },
  {
   "cell_type": "code",
   "execution_count": 15,
   "metadata": {},
   "outputs": [
    {
     "name": "stdout",
     "output_type": "stream",
     "text": [
      "[]\n"
     ]
    }
   ],
   "source": [
    "print(result.GetInfeasibleConstraintNames(prog))"
   ]
  },
  {
   "cell_type": "code",
   "execution_count": 16,
   "metadata": {},
   "outputs": [
    {
     "name": "stdout",
     "output_type": "stream",
     "text": [
      "h: [0.11682721 0.13904947 0.06152822 0.05555556 0.18310014 0.17567402\n",
      " 0.05555556 0.05555556 0.05715427]\n"
     ]
    }
   ],
   "source": [
    "h_sol = result.GetSolution(h)\n",
    "print(\"h:\", h_sol)"
   ]
  },
  {
   "cell_type": "code",
   "execution_count": 17,
   "metadata": {},
   "outputs": [
    {
     "name": "stdout",
     "output_type": "stream",
     "text": [
      "q_o_sol: [[ 0.00000000e+00 -6.65013777e-18  1.78406529e-07  3.92802259e-14\n",
      "   3.93146714e-14  4.03879603e-14  5.66405289e-14  5.66405289e-14\n",
      "   5.66405289e-14  5.66405326e-14]\n",
      " [ 0.00000000e+00 -7.70743980e-18 -1.36116121e-07 -8.22887214e-18\n",
      "  -3.47232252e-15 -2.87563601e-18  1.10022836e-17 -2.87557105e-18\n",
      "   6.19310680e-16  8.87663208e-16]\n",
      " [ 0.00000000e+00  2.62406483e-17 -1.71215277e-06  4.38154050e-14\n",
      "   4.38154055e-14 -8.18081626e-22 -8.40415502e-22  8.74032639e-25\n",
      "   2.17726092e-15  2.72075585e-17]]\n"
     ]
    }
   ],
   "source": [
    "q_o_sol = result.GetSolution(q_o)\n",
    "print(\"q_o_sol:\", q_o_sol)"
   ]
  },
  {
   "cell_type": "code",
   "execution_count": 18,
   "metadata": {},
   "outputs": [
    {
     "name": "stdout",
     "output_type": "stream",
     "text": [
      "v_o_sol: [[ 5.00000000e-01 -3.83013477e-14  1.28298379e-06 -2.89663615e-06\n",
      "   6.20018841e-16  1.90945217e-14 -9.22985456e-14  3.73846863e-24\n",
      "  -4.08373727e-15  6.51057220e-20]\n",
      " [ 0.00000000e+00 -1.22699909e-14 -9.78842712e-07  2.21000342e-06\n",
      "   1.74279994e-16  7.52900481e-12  3.25545702e-13 -2.16168724e-16\n",
      "   1.11993527e-14  4.83039173e-15]\n",
      " [ 0.00000000e+00  3.67253328e-13 -1.23126898e-05  2.77987848e-05\n",
      "   6.37841655e-21 -1.83348481e-13  8.85781737e-13  1.55353619e-15\n",
      "   3.91907101e-14 -3.86999460e-14]]\n"
     ]
    }
   ],
   "source": [
    "v_o_sol = result.GetSolution(v_o)\n",
    "print(\"v_o_sol:\", v_o_sol)"
   ]
  },
  {
   "cell_type": "code",
   "execution_count": 19,
   "metadata": {},
   "outputs": [
    {
     "name": "stdout",
     "output_type": "stream",
     "text": [
      "vdot_o_sol: [[-4.27982489e+00  9.22704380e-06 -6.78650116e-05  5.21394507e-05\n",
      "  -3.37731318e-09 -5.37013277e-11  1.65787241e-12 -7.00058501e-14\n",
      "   6.36558214e-07]\n",
      " [-5.42889020e-14 -7.03949957e-06  5.17749517e-05 -3.97800616e-05\n",
      "   2.84309470e-09  2.39924753e-11 -5.86371368e-12  2.05479188e-13\n",
      "   4.45609017e-07]\n",
      " [ 2.32055642e-11 -8.85448459e-05  6.51295028e-04 -5.00378126e-04\n",
      "   3.21679628e-08 -2.02282358e-13 -1.59161076e-11  6.77470233e-13\n",
      "  -6.10899811e-06]]\n"
     ]
    }
   ],
   "source": [
    "vdot_o_sol = result.GetSolution(vdot_o)\n",
    "print(\"vdot_o_sol:\", vdot_o_sol)"
   ]
  },
  {
   "cell_type": "code",
   "execution_count": 20,
   "metadata": {},
   "outputs": [
    {
     "name": "stdout",
     "output_type": "stream",
     "text": [
      "lambd_z_sol: [[4.79833930e-08 0.00000000e+00 0.00000000e+00 0.00000000e+00\n",
      "  0.00000000e+00 0.00000000e+00 0.00000000e+00 0.00000000e+00\n",
      "  0.00000000e+00]\n",
      " [0.00000000e+00 0.00000000e+00 4.79848224e-08 0.00000000e+00\n",
      "  0.00000000e+00 0.00000000e+00 0.00000000e+00 0.00000000e+00\n",
      "  0.00000000e+00]\n",
      " [2.10023219e-01 4.90500534e-01 4.90487868e-01 4.90509236e-01\n",
      "  4.90499999e-01 4.90500000e-01 4.90500000e-01 4.90500000e-01\n",
      "  4.90500159e-01]\n",
      " [7.70976733e-01 4.90498762e-01 4.90517262e-01 4.90486786e-01\n",
      "  4.90500001e-01 4.90500000e-01 4.90500000e-01 4.90500000e-01\n",
      "  4.90499885e-01]]\n",
      "\n",
      "\n",
      "lambd_z_sol: [0.98099995 0.9809993  0.98100513 0.98099602 0.981      0.981\n",
      " 0.981      0.981      0.98100004]\n"
     ]
    }
   ],
   "source": [
    "lambd_z_sol = result.GetSolution(lambd_z)\n",
    "print(\"lambd_z_sol:\", lambd_z_sol)\n",
    "print(\"\\n\")\n",
    "print(\"lambd_z_sol:\", lambd_z_sol[2] + lambd_z_sol[3])"
   ]
  },
  {
   "cell_type": "code",
   "execution_count": 21,
   "metadata": {},
   "outputs": [
    {
     "name": "stdout",
     "output_type": "stream",
     "text": [
      "lambd_x_sol: [[-4.79833930e-08  0.00000000e+00  0.00000000e+00  0.00000000e+00\n",
      "   0.00000000e+00  0.00000000e+00  0.00000000e+00  0.00000000e+00\n",
      "   0.00000000e+00]\n",
      " [ 0.00000000e+00  0.00000000e+00  4.79848224e-08  0.00000000e+00\n",
      "   0.00000000e+00  0.00000000e+00  0.00000000e+00  0.00000000e+00\n",
      "   0.00000000e+00]\n",
      " [-4.03111964e-05  9.22704380e-07 -6.83448599e-06  0.00000000e+00\n",
      "  -3.37731318e-10  0.00000000e+00  1.65787241e-13 -7.00047659e-15\n",
      "   0.00000000e+00]\n",
      " [-4.27942130e-01  0.00000000e+00  0.00000000e+00  5.21394507e-06\n",
      "   0.00000000e+00 -5.37013277e-12  0.00000000e+00  0.00000000e+00\n",
      "   6.36558214e-08]]\n"
     ]
    }
   ],
   "source": [
    "lambd_x_pos_sol = result.GetSolution(lambd_x_pos)\n",
    "lambd_x_neg_sol = result.GetSolution(lambd_x_neg)\n",
    "lambd_x_sol = lambd_x_pos_sol - lambd_x_neg_sol\n",
    "print(\"lambd_x_sol:\", lambd_x_sol)"
   ]
  },
  {
   "cell_type": "code",
   "execution_count": 22,
   "metadata": {},
   "outputs": [
    {
     "name": "stdout",
     "output_type": "stream",
     "text": [
      "gama_sol: [[ 7.65691078e-14  2.56596456e-06  5.79326674e-06 -2.15405552e-15\n",
      "  -3.81994152e-14  1.84596914e-13  5.49299626e-25 -8.16740339e-15\n",
      "  -1.22471466e-19]\n",
      " [ 7.65691078e-14  2.56596512e-06  5.79326674e-06 -9.14021312e-16\n",
      "  -3.81994152e-14  1.84596914e-13  5.49299626e-25 -8.16740677e-15\n",
      "  -3.39311904e-19]\n",
      " [ 1.38134859e-16  5.65218445e-13 -3.24202934e-18 -2.54109884e-21\n",
      "  -1.38777878e-17 -1.18907213e-24  2.27167040e-16  2.07737403e-08\n",
      "  -2.79434665e-20]\n",
      " [ 2.03904602e-18  6.61744490e-24 -2.75620286e-17  2.03877739e-08\n",
      "   1.53592649e-17 -8.78910446e-14 -1.08451838e-19 -2.10911204e-19\n",
      "  -2.16837840e-19]]\n"
     ]
    }
   ],
   "source": [
    "gama_sol = result.GetSolution(gama)\n",
    "print(\"gama_sol:\", gama_sol)"
   ]
  },
  {
   "cell_type": "code",
   "execution_count": 23,
   "metadata": {},
   "outputs": [
    {
     "name": "stdout",
     "output_type": "stream",
     "text": [
      "manipulator_equations: [[-3.33066907e-16]\n",
      " [ 0.00000000e+00]\n",
      " [-3.36923603e-17]]\n",
      "manipulator_equations: [[ 0.00000000e+00]\n",
      " [-1.11022302e-16]\n",
      " [-6.54236049e-14]]\n",
      "manipulator_equations: [[-2.92734587e-18]\n",
      " [ 0.00000000e+00]\n",
      " [ 2.35665742e-18]]\n",
      "manipulator_equations: [[0.00000000e+00]\n",
      " [1.11022302e-16]\n",
      " [9.39147780e-19]]\n",
      "manipulator_equations: [[5.27327641e-24]\n",
      " [0.00000000e+00]\n",
      " [4.18673267e-19]]\n",
      "manipulator_equations: [[ 8.32027374e-26]\n",
      " [ 1.11022302e-16]\n",
      " [-2.26216793e-18]]\n",
      "manipulator_equations: [[-7.69928243e-27]\n",
      " [ 0.00000000e+00]\n",
      " [ 1.52599942e-17]]\n",
      "manipulator_equations: [[-1.08420217e-19]\n",
      " [ 0.00000000e+00]\n",
      " [ 8.53021646e-18]]\n",
      "manipulator_equations: [[-1.33672387e-21]\n",
      " [ 1.11022302e-16]\n",
      " [-4.72369430e-18]]\n"
     ]
    }
   ],
   "source": [
    "for n in range(N-1):\n",
    "    vars = np.concatenate((q_o_sol[:, n+1], v_o_sol[:, n+1], vdot_o_sol[:, n], \n",
    "                           lambd_z_sol[:, n], \n",
    "                            lambd_x_pos_sol[:, n],\n",
    "                            lambd_x_neg_sol[:, n]\n",
    "                          ))\n",
    "    print(\"manipulator_equations:\", autoDiffToValueMatrix(manipulator_equations(vars=vars, context_index=n)))"
   ]
  },
  {
   "cell_type": "code",
   "execution_count": 24,
   "metadata": {},
   "outputs": [],
   "source": [
    "# with open(tmpfolder + 'test_only_box_passive_scenegraph_sliding_friction/sol.pkl', 'wb') as file:\n",
    "#     pickle.dump( [q_o_sol, v_o_sol, vdot_o_sol, f_list_sol, alpha_beta_list_sol, \n",
    "#                   f_static_list_sol, f_sliding_list_sol, sliding_c_list_sol], file )"
   ]
  },
  {
   "cell_type": "code",
   "execution_count": 25,
   "metadata": {},
   "outputs": [
    {
     "name": "stdout",
     "output_type": "stream",
     "text": [
      "[ 0.    0.   -9.81]\n"
     ]
    }
   ],
   "source": [
    "print(gravity)"
   ]
  },
  {
   "cell_type": "code",
   "execution_count": null,
   "metadata": {},
   "outputs": [],
   "source": []
  }
 ],
 "metadata": {
  "kernelspec": {
   "display_name": "Python 3",
   "language": "python",
   "name": "python3"
  },
  "language_info": {
   "codemirror_mode": {
    "name": "ipython",
    "version": 3
   },
   "file_extension": ".py",
   "mimetype": "text/x-python",
   "name": "python",
   "nbconvert_exporter": "python",
   "pygments_lexer": "ipython3",
   "version": "3.6.9"
  },
  "metadata": {
   "interpreter": {
    "hash": "31f2aee4e71d21fbe5cf8b01ff0e069b9275f58929596ceb00d14d90e3e16cd6"
   }
  }
 },
 "nbformat": 4,
 "nbformat_minor": 2
}
