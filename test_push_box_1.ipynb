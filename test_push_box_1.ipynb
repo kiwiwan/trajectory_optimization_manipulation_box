{
 "cells": [
  {
   "cell_type": "code",
   "execution_count": 1,
   "metadata": {},
   "outputs": [],
   "source": [
    "server_args = []\n",
    "# Start a single meshcat server instance to use for the remainder of this notebook.\n",
    "from meshcat.servers.zmqserver import start_zmq_server_as_subprocess\n",
    "proc, zmq_url, web_url = start_zmq_server_as_subprocess(server_args=server_args)\n",
    "\n",
    "from manipulation import running_as_notebook\n",
    "\n",
    "# Imports\n",
    "import numpy as np\n",
    "import pydot\n",
    "from ipywidgets import Dropdown, Layout\n",
    "from IPython.display import display, HTML, SVG\n",
    "\n",
    "from pydrake.all import (\n",
    "    AddMultibodyPlantSceneGraph, ConnectMeshcatVisualizer, DiagramBuilder, \n",
    "    FindResourceOrThrow, GenerateHtml, InverseDynamicsController, \n",
    "    MultibodyPlant, Parser, Simulator)\n",
    "from pydrake.multibody.jupyter_widgets import MakeJointSlidersThatPublishOnCallback\n",
    "import pydrake\n",
    "from pydrake import geometry\n",
    "from pydrake.math import RigidTransform, RollPitchYaw, RotationMatrix \n",
    "from pydrake.solvers.mathematicalprogram import MathematicalProgram, Solve\n",
    "from pydrake.systems.jupyter_widgets import PoseSliders, WidgetSystem\n",
    "from ipywidgets import ToggleButton, ToggleButtons\n",
    "from functools import partial\n",
    "from pydrake.all import (\n",
    "    JointIndex, PiecewisePolynomial, JacobianWrtVariable,\n",
    "    eq, AutoDiffXd, autoDiffToGradientMatrix, SnoptSolver,\n",
    "    initializeAutoDiffGivenGradientMatrix, autoDiffToValueMatrix, autoDiffToGradientMatrix,\n",
    "    AddUnitQuaternionConstraintOnPlant, PositionConstraint, OrientationConstraint\n",
    ")"
   ]
  },
  {
   "cell_type": "code",
   "execution_count": 2,
   "metadata": {},
   "outputs": [],
   "source": [
    "builder = DiagramBuilder()\n",
    "plant, scene_graph = AddMultibodyPlantSceneGraph(builder, time_step=1e-4)\n",
    "#add iiwa\n",
    "iiwa = pydrake.multibody.parsing.Parser(plant, scene_graph).AddModelFromFile(\n",
    "    pydrake.common.FindResourceOrThrow(\n",
    "        \"drake/examples/push_box/iiwa7/iiwa7_with_box_collision.sdf\"), \"iiwa\"\n",
    ")\n",
    "\n",
    "plant.WeldFrames(plant.world_frame(), plant.GetFrameByName(\"iiwa_link_0\"))\n",
    "\n",
    "\n",
    "# Set default positions:\n",
    "q0 = [0.0, 0.1, 0, -1.2, 0, 1.6, 0]\n",
    "# q0 = [0.0, 0., 0, 0, 0, 0, 0]\n",
    "index = 0\n",
    "for joint_index in plant.GetJointIndices(iiwa):\n",
    "    joint = plant.get_mutable_joint(joint_index)\n",
    "    if isinstance(joint, pydrake.multibody.tree.RevoluteJoint):\n",
    "        joint.set_default_angle(q0[index])\n",
    "        index += 1\n"
   ]
  },
  {
   "cell_type": "code",
   "execution_count": 3,
   "metadata": {},
   "outputs": [
    {
     "data": {
      "text/plain": [
       "<WeldJoint_[float] name='iiwa_link_7_welds_to_base_link' index=8 model_instance=3>"
      ]
     },
     "execution_count": 3,
     "metadata": {},
     "output_type": "execute_result"
    }
   ],
   "source": [
    "#add gripper\n",
    "cylinder_gripper = pydrake.multibody.parsing.Parser(plant, scene_graph).AddModelFromFile(\n",
    "            pydrake.common.FindResourceOrThrow(\n",
    "                \"drake/examples/push_box/cylinder_gripper.sdf\"), \"cylinder_gripper\")\n",
    "\n",
    "X_7G = RigidTransform(RotationMatrix(), [0, 0, 0.033])\n",
    "# X_7G = RigidTransform(RollPitchYaw(np.pi / 2.0, 0, np.pi / 2.0), [0, 0, 0.114])\n",
    "plant.WeldFrames(plant.GetFrameByName(\"iiwa_link_7\", iiwa),\n",
    "                 plant.GetFrameByName(\"base_link\", cylinder_gripper), X_7G)"
   ]
  },
  {
   "cell_type": "code",
   "execution_count": 4,
   "metadata": {},
   "outputs": [
    {
     "data": {
      "text/plain": [
       "<WeldJoint_[float] name='WorldBody_welds_to_base_link_cracker' index=10 model_instance=6>"
      ]
     },
     "execution_count": 4,
     "metadata": {},
     "output_type": "execute_result"
    }
   ],
   "source": [
    "#add table\n",
    "table = pydrake.multibody.parsing.Parser(plant, scene_graph).AddModelFromFile(\n",
    "            pydrake.common.FindResourceOrThrow(\n",
    "                \"drake/examples/push_box/extra_heavy_duty_table_surface_only_collision_lower_height.sdf\"), \"table\")\n",
    "\n",
    "X_WT = RigidTransform(RotationMatrix(), [0.8, 0., 0.])\n",
    "plant.WeldFrames(plant.world_frame(),\n",
    "                 plant.GetFrameByName(\"link\", table), X_WT)\n",
    "\n",
    "\n",
    "#add box\n",
    "cracker_box = pydrake.multibody.parsing.Parser(plant, scene_graph).AddModelFromFile(\n",
    "            pydrake.common.FindResourceOrThrow(\n",
    "                \"drake/examples/push_box/003_cracker_box.sdf\"), \"cracker_box\")\n",
    "#add box_goal\n",
    "cracker_box_goal = pydrake.multibody.parsing.Parser(plant, scene_graph).AddModelFromFile(\n",
    "            pydrake.common.FindResourceOrThrow(\n",
    "                \"drake/examples/push_box/003_cracker_box_goal.sdf\"), \"cracker_box_goal\")\n",
    "\n",
    "X_WBG = RigidTransform(RotationMatrix(), [0.95, 0., 0.3285 + 0.03295])\n",
    "plant.WeldFrames(plant.world_frame(),\n",
    "                 plant.GetFrameByName(\"base_link_cracker\", cracker_box_goal), X_WBG)"
   ]
  },
  {
   "cell_type": "code",
   "execution_count": 5,
   "metadata": {},
   "outputs": [],
   "source": [
    "plant.Finalize()\n",
    "plant.set_name(\"plant\")"
   ]
  },
  {
   "cell_type": "code",
   "execution_count": 6,
   "metadata": {},
   "outputs": [
    {
     "name": "stdout",
     "output_type": "stream",
     "text": [
      "Connecting to meshcat-server at zmq_url=tcp://127.0.0.1:6013...\n",
      "You can open the visualizer by visiting the following URL:\n",
      "http://127.0.0.1:7013/static/\n",
      "Connected to meshcat-server.\n"
     ]
    }
   ],
   "source": [
    "iiwa_link_7_body = plant.GetBodyByName(\"iiwa_link_7\", iiwa)\n",
    "iiwa_link_7_id = plant.GetBodyFrameIdIfExists(iiwa_link_7_body.index())\n",
    "cylinder_gripper_body = plant.GetBodyByName(\"base_link\", cylinder_gripper)\n",
    "cylinder_gripper_id = plant.GetBodyFrameIdIfExists(cylinder_gripper_body.index())\n",
    "cracker_box_body = plant.GetBodyByName(\"base_link_cracker\", cracker_box)\n",
    "cracker_box_id = plant.GetBodyFrameIdIfExists(cracker_box_body.index())\n",
    "table_link_body = plant.GetBodyByName(\"link\", table)\n",
    "table_link_id = plant.GetBodyFrameIdIfExists(table_link_body.index())\n",
    "\n",
    "draw_frames = True\n",
    "frames_to_draw = [iiwa_link_7_id, cylinder_gripper_id, cracker_box_id, table_link_id] if draw_frames else []\n",
    "meshcat = ConnectMeshcatVisualizer(builder, scene_graph, zmq_url=zmq_url, frames_to_draw=frames_to_draw, axis_length=0.15,\n",
    "                 axis_radius=0.001,)\n",
    "\n",
    "diagram = builder.Build()\n",
    "context = diagram.CreateDefaultContext()\n",
    "plant_context = plant.GetMyContextFromRoot(context)\n",
    "X_WB = RigidTransform(RotationMatrix(), [0.55, 0., 0.3285 + 0.03295])\n",
    "plant.SetFreeBodyPose(plant_context, \n",
    "                              plant.GetBodyByName(\"base_link_cracker\", cracker_box),\n",
    "                              X_WB)\n",
    "\n",
    "meshcat.load()\n",
    "diagram.Publish(context)"
   ]
  },
  {
   "cell_type": "code",
   "execution_count": 7,
   "metadata": {},
   "outputs": [],
   "source": [
    "# Make the plant for the MathematicalProgram to use.\n",
    "prog_iiwa_plant = pydrake.multibody.plant.MultibodyPlant(time_step=1e-4)\n",
    "prog_iiwa =  pydrake.multibody.parsing.Parser(prog_iiwa_plant).AddModelFromFile(\n",
    "    pydrake.common.FindResourceOrThrow(\n",
    "        \"drake/examples/push_box/iiwa7/iiwa7_with_box_collision.sdf\"), \"prog_iiwa\"\n",
    ")\n",
    "prog_iiwa_plant.WeldFrames(prog_iiwa_plant.world_frame(), prog_iiwa_plant.GetFrameByName(\"iiwa_link_0\"))\n",
    "\n",
    "#add gripper\n",
    "prog_cylinder_gripper = pydrake.multibody.parsing.Parser(prog_iiwa_plant).AddModelFromFile(\n",
    "            pydrake.common.FindResourceOrThrow(\n",
    "                \"drake/examples/push_box/cylinder_gripper.sdf\"), \"prog_cylinder_gripper\")\n",
    "\n",
    "X_7G = RigidTransform(RotationMatrix(), [0, 0, 0.033])\n",
    "prog_iiwa_plant.WeldFrames(prog_iiwa_plant.GetFrameByName(\"iiwa_link_7\", prog_iiwa),\n",
    "                 prog_iiwa_plant.GetFrameByName(\"base_link\", prog_cylinder_gripper), X_7G)\n",
    "\n",
    "prog_iiwa_plant.Finalize()\n",
    "prog_iiwa_plant.set_name(\"prog_iiwa_plant\")\n",
    "\n",
    "\n",
    "\n",
    "\n",
    "prog_box_plant = pydrake.multibody.plant.MultibodyPlant(time_step=1e-4)\n",
    "#add table\n",
    "prog_table = pydrake.multibody.parsing.Parser(prog_box_plant).AddModelFromFile(\n",
    "            pydrake.common.FindResourceOrThrow(\n",
    "                \"drake/examples/push_box/extra_heavy_duty_table_surface_only_collision_lower_height.sdf\"), \"prog_table\")\n",
    "\n",
    "X_WT = RigidTransform(RotationMatrix(), [0.8, 0., 0.])\n",
    "prog_box_plant.WeldFrames(prog_box_plant.world_frame(),\n",
    "                 prog_box_plant.GetFrameByName(\"link\", prog_table), X_WT)\n",
    "\n",
    "\n",
    "#add box\n",
    "prog_cracker_box = pydrake.multibody.parsing.Parser(prog_box_plant).AddModelFromFile(\n",
    "            pydrake.common.FindResourceOrThrow(\n",
    "                \"drake/examples/push_box/003_cracker_box.sdf\"), \"prog_cracker_box\")\n",
    "\n",
    "prog_box_plant.Finalize()\n",
    "prog_box_plant.set_name(\"prog_box_plant\")"
   ]
  },
  {
   "cell_type": "code",
   "execution_count": 10,
   "metadata": {},
   "outputs": [],
   "source": [
    "mu = 1 # rubber on rubber\n",
    "total_mass = sum(plant.get_body(index).get_mass(context) for index in plant.GetBodyIndices(cracker_box))\n",
    "gravity = plant.gravity_field().gravity_vector()\n",
    "finger_point_frame = plant.GetFrameByName(\"finger_point\", cylinder_gripper)\n",
    "\n",
    "#set contact sequence\n",
    "N = 100\n",
    "in_contact = np.zeros((N))\n",
    "in_contact[40:] = 1\n",
    "\n",
    "T = 5\n",
    "prog = MathematicalProgram()\n",
    "# Time steps    \n",
    "h = prog.NewContinuousVariables(N-1, \"h\")\n",
    "prog.AddBoundingBoxConstraint(0.5*T/N, 2.0*T/N, h) \n",
    "prog.AddLinearConstraint(sum(h) >= .9*T)\n",
    "prog.AddLinearConstraint(sum(h) <= 1.1*T)\n",
    "\n",
    "# Create one context per timestep (to maximize cache hits)\n",
    "plant_context_list = [plant.CreateDefaultContext() for i in range(N)]\n",
    "# We could get rid of this by implementing a few more Jacobians in MultibodyPlant:\n",
    "ad_plant = plant.ToAutoDiffXd()\n",
    "\n",
    "nq_r = plant.num_positions(iiwa)\n",
    "q_r = prog.NewContinuousVariables(nq_r, N, \"q_r\")\n",
    "v_r = prog.NewContinuousVariables(nq_r, N, \"v_r\")\n",
    "\n",
    "q0 = plant.GetPositions(plant_context, iiwa)\n",
    "for n in range(N):\n",
    "    # Joint limits\n",
    "    prog.AddBoundingBoxConstraint(prog_iiwa_plant.GetPositionLowerLimits(), prog_iiwa_plant.GetPositionUpperLimits(), q_r[:,n])\n",
    "    # Joint velocity limits\n",
    "    prog.AddBoundingBoxConstraint(prog_iiwa_plant.GetVelocityLowerLimits(), prog_iiwa_plant.GetVelocityUpperLimits(), v_r[:,n])\n",
    "\n",
    "    # Initial guess for all joint angles is the home position\n",
    "    prog.SetInitialGuess(q_r[:,n], q0)  \n",
    "\n",
    "    # Running costs:\n",
    "    prog.AddQuadraticErrorCost(np.diag([1]*nq_r), q0, q_r[:,n])\n",
    "    prog.AddQuadraticErrorCost(np.diag([1]*nq_r), [0]*nq_r, v_r[:,n])\n",
    "\n",
    "#position and velocity relation constrain\n",
    "for n in range(N-1):\n",
    "    prog.AddConstraint(eq(q_r[:, n+1], q_r[:,n] + h[n]*v_r[:,n]))\n",
    "\n",
    "    \n",
    "u = prog.NewContinuousVariables(nq_r, N, \"u\")\n",
    "#TODO: find iiwa real torque limits \n",
    "u_limits = np.array([100, 100, 100, 30, 30, 30, 30])\n",
    "for n in range(N):\n",
    "    # Joint torque limits\n",
    "    prog.AddBoundingBoxConstraint(-u_limits, u_limits, u[:,n])\n",
    "     # Running costs:\n",
    "    prog.AddQuadraticErrorCost(np.diag([1]*nq_r), [0]*nq_r, u[:,n])\n",
    "\n",
    "#relate to box frame\n",
    "f = prog.NewContinuousVariables(3, N, \"f\")\n",
    "#why only to N-1\n",
    "for n in range(N-1):\n",
    "    # Linear friction cone\n",
    "    prog.AddLinearConstraint(f[1,n] <= mu*f[0,n])\n",
    "    prog.AddLinearConstraint(-f[1,n] <= mu*f[0,n])\n",
    "    prog.AddLinearConstraint(f[2,n] <= mu*f[0,n])\n",
    "    prog.AddLinearConstraint(-f[2,n] <= mu*f[0,n])\n",
    "    # normal force >=0, normal_force == 0 if not in_contact\n",
    "    prog.AddBoundingBoxConstraint(0, in_contact[n]*4*9.81*total_mass, f[0,n])\n",
    "    \n"
   ]
  },
  {
   "cell_type": "code",
   "execution_count": null,
   "metadata": {},
   "outputs": [],
   "source": [
    "# Kinematic constraints\n",
    "def fixed_position_constraint(vars, context_index, frame):\n",
    "    q, qn = np.split(vars, [nq])\n",
    "    if not np.array_equal(q, plant.GetPositions(context[context_index])):\n",
    "        plant.SetPositions(context[context_index], q)\n",
    "    if not np.array_equal(qn, plant.GetPositions(context[context_index+1])):\n",
    "        plant.SetPositions(context[context_index+1], qn)\n",
    "    p_WF = plant.CalcPointsPositions(context[context_index], frame, [0,0,0], plant.world_frame())\n",
    "    p_WF_n = plant.CalcPointsPositions(context[context_index+1], frame, [0,0,0], plant.world_frame())\n",
    "    if isinstance(vars[0], AutoDiffXd):\n",
    "        J_WF = plant.CalcJacobianTranslationalVelocity(context[context_index], JacobianWrtVariable.kQDot,\n",
    "                                                frame, [0, 0, 0], plant.world_frame(), plant.world_frame())\n",
    "        J_WF_n = plant.CalcJacobianTranslationalVelocity(context[context_index+1], JacobianWrtVariable.kQDot,\n",
    "                                                frame, [0, 0, 0], plant.world_frame(), plant.world_frame())\n",
    "        return initializeAutoDiffGivenGradientMatrix(\n",
    "            p_WF_n - p_WF, J_WF_n @ autoDiffToGradientMatrix(qn) - J_WF @ autoDiffToGradientMatrix(q))\n",
    "    else:\n",
    "        return p_WF_n - p_WF\n",
    "for i in range(4):\n",
    "    for n in range(N):\n",
    "        if in_stance[i, n]:\n",
    "            # foot should be on the ground (world position z=0)\n",
    "            prog.AddConstraint(PositionConstraint(\n",
    "                plant, plant.world_frame(), [-np.inf,-np.inf,0], [np.inf,np.inf,0], \n",
    "                foot_frame[i], [0,0,0], context[n]), q[:,n])\n",
    "            if n > 0 and in_stance[i, n-1]:\n",
    "                # feet should not move during stance.\n",
    "                prog.AddConstraint(partial(fixed_position_constraint, context_index=n-1, frame=foot_frame[i]),\n",
    "                                   lb=np.zeros(3), ub=np.zeros(3), vars=np.concatenate((q[:,n-1], q[:,n])))\n",
    "        else:\n",
    "            min_clearance = 0.01\n",
    "            prog.AddConstraint(PositionConstraint(plant, plant.world_frame(), [-np.inf,-np.inf,min_clearance], [np.inf,np.inf,np.inf],foot_frame[i],[0,0,0],context[n]), q[:,n])\n"
   ]
  },
  {
   "cell_type": "code",
   "execution_count": null,
   "metadata": {},
   "outputs": [],
   "source": []
  },
  {
   "cell_type": "code",
   "execution_count": null,
   "metadata": {},
   "outputs": [],
   "source": []
  },
  {
   "cell_type": "code",
   "execution_count": null,
   "metadata": {},
   "outputs": [],
   "source": []
  },
  {
   "cell_type": "code",
   "execution_count": null,
   "metadata": {},
   "outputs": [],
   "source": []
  },
  {
   "cell_type": "code",
   "execution_count": null,
   "metadata": {},
   "outputs": [],
   "source": []
  }
 ],
 "metadata": {
  "kernelspec": {
   "display_name": "Python 3",
   "language": "python",
   "name": "python3"
  },
  "language_info": {
   "codemirror_mode": {
    "name": "ipython",
    "version": 3
   },
   "file_extension": ".py",
   "mimetype": "text/x-python",
   "name": "python",
   "nbconvert_exporter": "python",
   "pygments_lexer": "ipython3",
   "version": "3.6.9"
  },
  "metadata": {
   "interpreter": {
    "hash": "31f2aee4e71d21fbe5cf8b01ff0e069b9275f58929596ceb00d14d90e3e16cd6"
   }
  }
 },
 "nbformat": 4,
 "nbformat_minor": 2
}
