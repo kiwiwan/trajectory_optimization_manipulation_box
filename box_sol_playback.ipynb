{
 "cells": [
  {
   "cell_type": "code",
   "execution_count": 1,
   "metadata": {},
   "outputs": [],
   "source": [
    "server_args = []\n",
    "# Start a single meshcat server instance to use for the remainder of this notebook.\n",
    "from meshcat.servers.zmqserver import start_zmq_server_as_subprocess\n",
    "proc, zmq_url, web_url = start_zmq_server_as_subprocess(server_args=server_args)\n",
    "\n",
    "from manipulation import running_as_notebook\n",
    "\n",
    "\n",
    "# Imports\n",
    "import numpy as np\n",
    "import pydot\n",
    "from ipywidgets import Dropdown, Layout\n",
    "from IPython.display import display, HTML, SVG\n",
    "\n",
    "from pydrake.all import (\n",
    "    AddMultibodyPlantSceneGraph, ConnectMeshcatVisualizer, DiagramBuilder, \n",
    "    FindResourceOrThrow, GenerateHtml, InverseDynamicsController, \n",
    "    MultibodyPlant, Parser, Simulator)\n",
    "from pydrake.multibody.jupyter_widgets import MakeJointSlidersThatPublishOnCallback\n",
    "import pydrake\n",
    "from pydrake import geometry\n",
    "from pydrake.math import RigidTransform, RollPitchYaw, RotationMatrix \n",
    "from pydrake.solvers.mathematicalprogram import MathematicalProgram, Solve\n",
    "from pydrake.systems.jupyter_widgets import PoseSliders, WidgetSystem\n",
    "from ipywidgets import ToggleButton, ToggleButtons\n",
    "from functools import partial\n",
    "from pydrake.all import (\n",
    "    JointIndex, PiecewisePolynomial, JacobianWrtVariable,\n",
    "    eq, ge,  AutoDiffXd, autoDiffToGradientMatrix, SnoptSolver, IpoptSolver,\n",
    "    initializeAutoDiffGivenGradientMatrix, autoDiffToValueMatrix, autoDiffToGradientMatrix,\n",
    "    AddUnitQuaternionConstraintOnPlant, PositionConstraint, OrientationConstraint,\n",
    "    MeshcatContactVisualizer\n",
    ")\n",
    "\n",
    "import pickle"
   ]
  },
  {
   "cell_type": "code",
   "execution_count": 2,
   "metadata": {},
   "outputs": [],
   "source": [
    "builder = DiagramBuilder()\n",
    "plant, scene_graph = AddMultibodyPlantSceneGraph(builder, time_step=1e-4)"
   ]
  },
  {
   "cell_type": "code",
   "execution_count": 3,
   "metadata": {},
   "outputs": [],
   "source": [
    "#add table\n",
    "ground = pydrake.multibody.parsing.Parser(plant, scene_graph).AddModelFromFile(\"model/ground.urdf\", \"ground\")\n",
    "\n",
    "#add box\n",
    "cracker_box = pydrake.multibody.parsing.Parser(plant, scene_graph).AddModelFromFile(\n",
    "                \"model/003_cracker_box_plannar_test.urdf\", \"cracker_box\")\n",
    "\n",
    "X_WB = RigidTransform(RotationMatrix.MakeXRotation(np.pi/2), [0., 0., 0.104200 + 1e-07])#\n",
    "planar_joint_frame = plant.AddFrame(pydrake.multibody.tree.FixedOffsetFrame(\"planar_joint_frame\", plant.world_frame(), X_WB))\n",
    "box_joint = plant.AddJoint(pydrake.multibody.tree.PlanarJoint(\"box_joint\", planar_joint_frame, plant.GetFrameByName(\"base_link_cracker\", cracker_box)))\n",
    "box_joint.set_default_translation([0, 0])\n"
   ]
  },
  {
   "cell_type": "code",
   "execution_count": 4,
   "metadata": {},
   "outputs": [],
   "source": [
    "def AddPointFinger(plant):\n",
    "    mu = 1.0\n",
    "    finger = plant.AddModelInstance(\"finger\")\n",
    "    false_body1 = plant.AddRigidBody(\"false_body1\", finger, pydrake.multibody.tree.SpatialInertia(0, [0,0,0], pydrake.multibody.tree.UnitInertia(0,0,0)))\n",
    "    finger_body = plant.AddRigidBody(\"body\", finger, pydrake.multibody.tree.SpatialInertia(mass=1.0, p_PScm_E=np.array([0., 0., 0.]),\n",
    "            G_SP_E=pydrake.multibody.tree.UnitInertia(1.0, 1.0, 1.0)))\n",
    "    shape = pydrake.geometry.Sphere(0.01)\n",
    "    if plant.geometry_source_is_registered():\n",
    "        plant.RegisterCollisionGeometry(finger_body, RigidTransform(), shape, \"body\", pydrake.multibody.plant.CoulombFriction(mu, mu))\n",
    "        plant.RegisterVisualGeometry(finger_body, RigidTransform(), shape, \"body\", [.9, .5, .5, 1.0])\n",
    "    finger_x = plant.AddJoint(pydrake.multibody.tree.PrismaticJoint(\"finger_x\", plant.world_frame(), plant.GetFrameByName(\"false_body1\"), [1, 0, 0], -1.0, 1.0))\n",
    "    plant.AddJointActuator(\"finger_x\", finger_x)\n",
    "    finger_x.set_default_translation(-0.1)\n",
    "    finger_z = plant.AddJoint(pydrake.multibody.tree.PrismaticJoint(\"finger_z\", plant.GetFrameByName(\"false_body1\"), plant.GetFrameByName(\"body\"), [0, 0, 1], 0., 1.0))\n",
    "    finger_z.set_default_translation(0.05)\n",
    "    plant.AddJointActuator(\"finger_z\", finger_z)\n",
    "\n",
    "    return finger\n",
    "finger = AddPointFinger(plant)"
   ]
  },
  {
   "cell_type": "code",
   "execution_count": 5,
   "metadata": {},
   "outputs": [],
   "source": [
    "plant.Finalize()\n",
    "plant.set_name(\"plant\")"
   ]
  },
  {
   "cell_type": "code",
   "execution_count": 6,
   "metadata": {},
   "outputs": [
    {
     "name": "stdout",
     "output_type": "stream",
     "text": [
      "Connecting to meshcat-server at zmq_url=tcp://127.0.0.1:6001...\n",
      "You can open the visualizer by visiting the following URL:\n",
      "http://127.0.0.1:7001/static/\n",
      "Connected to meshcat-server.\n"
     ]
    }
   ],
   "source": [
    "cracker_box_body = plant.GetBodyByName(\"base_link_cracker\", cracker_box)\n",
    "cracker_box_id = plant.GetBodyFrameIdIfExists(cracker_box_body.index())\n",
    "\n",
    "\n",
    "draw_frames = True\n",
    "frames_to_draw = [cracker_box_id] if draw_frames else []\n",
    "meshcat = ConnectMeshcatVisualizer(builder, scene_graph, zmq_url=zmq_url, frames_to_draw=frames_to_draw, axis_length=0.15,\n",
    "                 axis_radius=0.001,)\n",
    "\n",
    "# #visualizer the contact\n",
    "# contact_visualizer = builder.AddSystem(MeshcatContactVisualizer(meshcat, \n",
    "#                                        force_threshold=0.0,\n",
    "#                                        contact_force_scale=0.05, \n",
    "#                                        contact_force_radius=0.001,   \n",
    "#                                        plant=plant))\n",
    "# builder.Connect(plant.get_contact_results_output_port(),\n",
    "#                 contact_visualizer.GetInputPort(\"contact_results\"))\n",
    "\n",
    "\n",
    "diagram = builder.Build()\n",
    "meshcat.load()\n"
   ]
  },
  {
   "cell_type": "code",
   "execution_count": 7,
   "metadata": {},
   "outputs": [],
   "source": [
    "tmpfolder = 'tmp/'\n",
    "with open(tmpfolder +  'test_finger_box_sliding_friction_2d_posa/sol.pkl', 'rb' ) as file:\n",
    "    h_ini, q_o_ini, v_o_ini, vdot_o_ini, q_r_ini, v_r_ini, vdot_r_ini, u_ini,lambd_z_ini, lambd_x_pos_ini, lambd_x_neg_ini, gama_ini = pickle.load( file )"
   ]
  },
  {
   "cell_type": "code",
   "execution_count": 8,
   "metadata": {},
   "outputs": [],
   "source": [
    "t_sol = np.cumsum(np.concatenate(([0],h_ini)))\n",
    "q_o_sol = PiecewisePolynomial.FirstOrderHold(t_sol, q_o_ini)\n",
    "q_r_sol = PiecewisePolynomial.FirstOrderHold(t_sol, q_r_ini)"
   ]
  },
  {
   "cell_type": "code",
   "execution_count": 9,
   "metadata": {},
   "outputs": [],
   "source": [
    "context = diagram.CreateDefaultContext()\n",
    "plant_context = plant.GetMyContextFromRoot(context)\n",
    "\n",
    "# meshcat.load()\n",
    "# diagram.Publish(context)\n",
    "\n",
    "\n",
    "meshcat.start_recording()\n",
    "t0 = t_sol[0]\n",
    "T = t_sol[-1]\n",
    "for t in np.hstack((np.arange(t0, T, meshcat.draw_period), T)):\n",
    "    context.SetTime(t)\n",
    "    plant.SetPositions(plant_context, cracker_box, q_o_sol.value(t))\n",
    "    plant.SetPositions(plant_context, finger, q_r_sol.value(t))\n",
    "    diagram.Publish(context)\n",
    "\n",
    "meshcat.stop_recording()\n",
    "meshcat.publish_recording()"
   ]
  },
  {
   "cell_type": "code",
   "execution_count": null,
   "metadata": {},
   "outputs": [],
   "source": []
  },
  {
   "cell_type": "code",
   "execution_count": null,
   "metadata": {},
   "outputs": [],
   "source": []
  }
 ],
 "metadata": {
  "kernelspec": {
   "display_name": "Python 3",
   "language": "python",
   "name": "python3"
  },
  "language_info": {
   "codemirror_mode": {
    "name": "ipython",
    "version": 3
   },
   "file_extension": ".py",
   "mimetype": "text/x-python",
   "name": "python",
   "nbconvert_exporter": "python",
   "pygments_lexer": "ipython3",
   "version": "3.6.9"
  },
  "metadata": {
   "interpreter": {
    "hash": "31f2aee4e71d21fbe5cf8b01ff0e069b9275f58929596ceb00d14d90e3e16cd6"
   }
  }
 },
 "nbformat": 4,
 "nbformat_minor": 2
}
