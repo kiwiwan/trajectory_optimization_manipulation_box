{
 "cells": [
  {
   "cell_type": "markdown",
   "metadata": {
    "colab_type": "text",
    "id": "EgiF12Hf1Dhs"
   },
   "source": [
    "**I recommend you run the first code cell of this notebook immediately, to start provisioning drake on the cloud machine, then you can leave this window open as you [read the textbook](manipulation.csail.mit.edu/pick.html).**\n",
    "\n",
    "# Notebook setup\n",
    "\n",
    "The following cell will:\n",
    "- on Colab (only), install Drake to `/opt/drake`, install Drake's prerequisites via `apt`, and add pydrake to `sys.path`.  This will take approximately two minutes on the first time it runs (to provision the machine), but should only need to reinstall once every 12 hours.  If you navigate between notebooks using Colab's \"File->Open\" menu, then you can avoid provisioning a separate machine for each notebook.\n",
    "- launch a server for our 3D visualizer (MeshCat) that will be used for the remainder of this notebook.\n",
    "\n",
    "You will need to rerun this cell if you restart the kernel, but it should be fast because the machine will already have drake installed."
   ]
  },
  {
   "cell_type": "code",
   "execution_count": 67,
   "metadata": {
    "colab": {},
    "colab_type": "code",
    "id": "eeMrMI0-1Dhu"
   },
   "outputs": [],
   "source": [
    "import importlib\n",
    "import sys\n",
    "from urllib.request import urlretrieve\n",
    "\n",
    "# TODO(russt): install only drake (not manipulation) after colab gets to python3.8\n",
    "if 'google.colab' in sys.modules and importlib.util.find_spec('manipulation') is None:\n",
    "    urlretrieve(f\"http://manipulation.csail.mit.edu/scripts/setup/setup_manipulation_colab.py\",\n",
    "                \"setup_manipulation_colab.py\")\n",
    "    from setup_manipulation_colab import setup_manipulation\n",
    "    setup_manipulation(manipulation_sha='c1bdae733682f8a390f848bc6cb0dbbf9ea98602', drake_version='0.27.0', drake_build='release')\n",
    "\n",
    "from manipulation import running_as_notebook\n",
    "\n",
    "# Install pyngrok.\n",
    "server_args = []\n",
    "if 'google.colab' in sys.modules:\n",
    "  server_args = ['--ngrok_http_tunnel']\n",
    "\n",
    "# Start a single meshcat server instance to use for the remainder of this notebook.\n",
    "from meshcat.servers.zmqserver import start_zmq_server_as_subprocess\n",
    "proc, zmq_url, web_url = start_zmq_server_as_subprocess(server_args=server_args)\n",
    "\n",
    "\n",
    "# Let's do all of our imports here, too.\n",
    "import numpy as np\n",
    "import altair as alt\n",
    "import pydot\n",
    "from IPython.display import display, SVG\n",
    "from ipywidgets import Text, Textarea, Layout\n",
    "import plotly.express as px\n",
    "\n",
    "from pydrake.all import (\n",
    "    AddMultibodyPlantSceneGraph, AngleAxis, BasicVector, ConnectMeshcatVisualizer, \n",
    "    DiagramBuilder, FindResourceOrThrow, Integrator, JacobianWrtVariable, \n",
    "    LeafSystem, MultibodyPlant, MultibodyPositionToGeometryPose, Parser, \n",
    "    PiecewisePolynomial, PiecewiseQuaternionSlerp, Quaternion, RigidTransform, \n",
    "    RollPitchYaw, RotationMatrix, SceneGraph, Simulator, TrajectorySource\n",
    ")\n",
    "from pydrake.examples.manipulation_station import ManipulationStation\n",
    "from pydrake.multibody.jupyter_widgets import MakeJointSlidersThatPublishOnCallback\n",
    "\n",
    "# TODO(russt): Move this to drake (adding the element name support to the base class).\n",
    "import pandas as pd\n",
    "\n",
    "def dataframe(trajectory, times, names):\n",
    "  assert trajectory.rows() == len(names)\n",
    "  values = trajectory.vector_values(times)\n",
    "  data = {'t': times }\n",
    "  for i in range(len(names)):\n",
    "    data[names[i]] = values[i,:]\n",
    "  return pd.DataFrame(data)"
   ]
  },
  {
   "cell_type": "markdown",
   "metadata": {
    "colab_type": "text",
    "id": "7q0A14bAilIX"
   },
   "source": [
    "# Inspecting the kinematic tree\n",
    "\n",
    "Here is a simple example that demonstrates how to inspect the kinematic tree stored in a `MultibodyPlant`."
   ]
  },
  {
   "cell_type": "code",
   "execution_count": 68,
   "metadata": {
    "colab": {},
    "colab_type": "code",
    "id": "ILYLouFTjv6e"
   },
   "outputs": [
    {
     "data": {
      "image/svg+xml": [
       "<svg height=\"599pt\" viewBox=\"0.00 0.00 817.00 599.00\" width=\"817pt\" xmlns=\"http://www.w3.org/2000/svg\" xmlns:xlink=\"http://www.w3.org/1999/xlink\">\n",
       "<g class=\"graph\" id=\"graph0\" transform=\"scale(1 1) rotate(0) translate(4 595)\">\n",
       "<title>MultibodyPlant</title>\n",
       "<polygon fill=\"#ffffff\" points=\"-4,4 -4,-595 813,-595 813,4 -4,4\" stroke=\"transparent\"/>\n",
       "<g class=\"cluster\" id=\"clust1\">\n",
       "<title>cluster0</title>\n",
       "<polygon fill=\"none\" points=\"8,-8 8,-83 141,-83 141,-8 8,-8\" stroke=\"#000000\"/>\n",
       "<text fill=\"#000000\" font-family=\"Times,serif\" font-size=\"14.00\" text-anchor=\"middle\" x=\"74.5\" y=\"-15.8\">WorldModelInstance</text>\n",
       "</g>\n",
       "<g class=\"cluster\" id=\"clust3\">\n",
       "<title>cluster2</title>\n",
       "<polygon fill=\"none\" points=\"149,-8 149,-583 689,-583 689,-8 149,-8\" stroke=\"#000000\"/>\n",
       "<text fill=\"#000000\" font-family=\"Times,serif\" font-size=\"14.00\" text-anchor=\"middle\" x=\"419\" y=\"-15.8\">allegro_hand_right</text>\n",
       "</g>\n",
       "<g class=\"cluster\" id=\"clust4\">\n",
       "<title>cluster3</title>\n",
       "<polygon fill=\"none\" points=\"697,-8 697,-83 801,-83 801,-8 697,-8\" stroke=\"#000000\"/>\n",
       "<text fill=\"#000000\" font-family=\"Times,serif\" font-size=\"14.00\" text-anchor=\"middle\" x=\"749\" y=\"-15.8\">foam_brick</text>\n",
       "</g>\n",
       "<!-- body0 -->\n",
       "<g class=\"node\" id=\"node1\">\n",
       "<title>body0</title>\n",
       "<ellipse cx=\"74\" cy=\"-57\" fill=\"none\" rx=\"52.7911\" ry=\"18\" stroke=\"#000000\"/>\n",
       "<text fill=\"#000000\" font-family=\"Times,serif\" font-size=\"14.00\" text-anchor=\"middle\" x=\"74\" y=\"-53.3\">WorldBody</text>\n",
       "</g>\n",
       "<!-- body1 -->\n",
       "<g class=\"node\" id=\"node2\">\n",
       "<title>body1</title>\n",
       "<ellipse cx=\"380\" cy=\"-557\" fill=\"none\" rx=\"46.2923\" ry=\"18\" stroke=\"#000000\"/>\n",
       "<text fill=\"#000000\" font-family=\"Times,serif\" font-size=\"14.00\" text-anchor=\"middle\" x=\"380\" y=\"-553.3\">hand_root</text>\n",
       "</g>\n",
       "<!-- body2 -->\n",
       "<g class=\"node\" id=\"node3\">\n",
       "<title>body2</title>\n",
       "<ellipse cx=\"585\" cy=\"-432\" fill=\"none\" rx=\"33.2948\" ry=\"18\" stroke=\"#000000\"/>\n",
       "<text fill=\"#000000\" font-family=\"Times,serif\" font-size=\"14.00\" text-anchor=\"middle\" x=\"585\" y=\"-428.3\">link_0</text>\n",
       "</g>\n",
       "<!-- body2&#45;&gt;body1 -->\n",
       "<g class=\"edge\" id=\"edge1\">\n",
       "<title>body2-&gt;body1</title>\n",
       "<path d=\"M574.8006,-449.1814C564.6939,-464.8834 547.8754,-487.7626 528,-502 498.7698,-522.9386 460.6377,-536.8597 430.4003,-545.4573\" fill=\"none\" stroke=\"#000000\"/>\n",
       "<polygon fill=\"#000000\" points=\"429.1959,-542.1581 420.4729,-548.1714 431.0419,-548.9103 429.1959,-542.1581\" stroke=\"#000000\"/>\n",
       "<text fill=\"#000000\" font-family=\"Times,serif\" font-size=\"14.00\" text-anchor=\"middle\" x=\"592\" y=\"-490.8\">joint_0 [revolute]</text>\n",
       "</g>\n",
       "<!-- body3 -->\n",
       "<g class=\"node\" id=\"node4\">\n",
       "<title>body3</title>\n",
       "<ellipse cx=\"585\" cy=\"-307\" fill=\"none\" rx=\"33.2948\" ry=\"18\" stroke=\"#000000\"/>\n",
       "<text fill=\"#000000\" font-family=\"Times,serif\" font-size=\"14.00\" text-anchor=\"middle\" x=\"585\" y=\"-303.3\">link_1</text>\n",
       "</g>\n",
       "<!-- body3&#45;&gt;body2 -->\n",
       "<g class=\"edge\" id=\"edge2\">\n",
       "<title>body3-&gt;body2</title>\n",
       "<path d=\"M585,-325.1761C585,-345.7277 585,-379.4528 585,-403.5107\" fill=\"none\" stroke=\"#000000\"/>\n",
       "<polygon fill=\"#000000\" points=\"581.5001,-403.802 585,-413.802 588.5001,-403.802 581.5001,-403.802\" stroke=\"#000000\"/>\n",
       "<text fill=\"#000000\" font-family=\"Times,serif\" font-size=\"14.00\" text-anchor=\"middle\" x=\"633\" y=\"-365.8\">joint_1 [revolute]</text>\n",
       "</g>\n",
       "<!-- body4 -->\n",
       "<g class=\"node\" id=\"node5\">\n",
       "<title>body4</title>\n",
       "<ellipse cx=\"585\" cy=\"-182\" fill=\"none\" rx=\"33.2948\" ry=\"18\" stroke=\"#000000\"/>\n",
       "<text fill=\"#000000\" font-family=\"Times,serif\" font-size=\"14.00\" text-anchor=\"middle\" x=\"585\" y=\"-178.3\">link_2</text>\n",
       "</g>\n",
       "<!-- body4&#45;&gt;body3 -->\n",
       "<g class=\"edge\" id=\"edge3\">\n",
       "<title>body4-&gt;body3</title>\n",
       "<path d=\"M585,-200.1761C585,-220.7277 585,-254.4528 585,-278.5107\" fill=\"none\" stroke=\"#000000\"/>\n",
       "<polygon fill=\"#000000\" points=\"581.5001,-278.802 585,-288.802 588.5001,-278.802 581.5001,-278.802\" stroke=\"#000000\"/>\n",
       "<text fill=\"#000000\" font-family=\"Times,serif\" font-size=\"14.00\" text-anchor=\"middle\" x=\"633\" y=\"-240.8\">joint_2 [revolute]</text>\n",
       "</g>\n",
       "<!-- body5 -->\n",
       "<g class=\"node\" id=\"node6\">\n",
       "<title>body5</title>\n",
       "<ellipse cx=\"585\" cy=\"-57\" fill=\"none\" rx=\"33.2948\" ry=\"18\" stroke=\"#000000\"/>\n",
       "<text fill=\"#000000\" font-family=\"Times,serif\" font-size=\"14.00\" text-anchor=\"middle\" x=\"585\" y=\"-53.3\">link_3</text>\n",
       "</g>\n",
       "<!-- body5&#45;&gt;body4 -->\n",
       "<g class=\"edge\" id=\"edge4\">\n",
       "<title>body5-&gt;body4</title>\n",
       "<path d=\"M585,-75.1761C585,-95.7277 585,-129.4528 585,-153.5107\" fill=\"none\" stroke=\"#000000\"/>\n",
       "<polygon fill=\"#000000\" points=\"581.5001,-153.802 585,-163.802 588.5001,-153.802 581.5001,-153.802\" stroke=\"#000000\"/>\n",
       "<text fill=\"#000000\" font-family=\"Times,serif\" font-size=\"14.00\" text-anchor=\"middle\" x=\"633\" y=\"-115.8\">joint_3 [revolute]</text>\n",
       "</g>\n",
       "<!-- body6 -->\n",
       "<g class=\"node\" id=\"node7\">\n",
       "<title>body6</title>\n",
       "<ellipse cx=\"446\" cy=\"-432\" fill=\"none\" rx=\"37.8943\" ry=\"18\" stroke=\"#000000\"/>\n",
       "<text fill=\"#000000\" font-family=\"Times,serif\" font-size=\"14.00\" text-anchor=\"middle\" x=\"446\" y=\"-428.3\">link_12</text>\n",
       "</g>\n",
       "<!-- body6&#45;&gt;body1 -->\n",
       "<g class=\"edge\" id=\"edge5\">\n",
       "<title>body6-&gt;body1</title>\n",
       "<path d=\"M438.5757,-449.8444C432.4416,-464.17 423.2657,-484.6799 414,-502 408.8371,-511.6509 402.675,-521.9285 397.0238,-530.9556\" fill=\"none\" stroke=\"#000000\"/>\n",
       "<polygon fill=\"#000000\" points=\"394.0062,-529.1785 391.5987,-539.4962 399.9149,-532.9317 394.0062,-529.1785\" stroke=\"#000000\"/>\n",
       "<text fill=\"#000000\" font-family=\"Times,serif\" font-size=\"14.00\" text-anchor=\"middle\" x=\"472.5\" y=\"-490.8\">joint_12 [revolute]</text>\n",
       "</g>\n",
       "<!-- body7 -->\n",
       "<g class=\"node\" id=\"node8\">\n",
       "<title>body7</title>\n",
       "<ellipse cx=\"446\" cy=\"-307\" fill=\"none\" rx=\"37.8943\" ry=\"18\" stroke=\"#000000\"/>\n",
       "<text fill=\"#000000\" font-family=\"Times,serif\" font-size=\"14.00\" text-anchor=\"middle\" x=\"446\" y=\"-303.3\">link_13</text>\n",
       "</g>\n",
       "<!-- body7&#45;&gt;body6 -->\n",
       "<g class=\"edge\" id=\"edge6\">\n",
       "<title>body7-&gt;body6</title>\n",
       "<path d=\"M446,-325.1761C446,-345.7277 446,-379.4528 446,-403.5107\" fill=\"none\" stroke=\"#000000\"/>\n",
       "<polygon fill=\"#000000\" points=\"442.5001,-403.802 446,-413.802 449.5001,-403.802 442.5001,-403.802\" stroke=\"#000000\"/>\n",
       "<text fill=\"#000000\" font-family=\"Times,serif\" font-size=\"14.00\" text-anchor=\"middle\" x=\"497.5\" y=\"-365.8\">joint_13 [revolute]</text>\n",
       "</g>\n",
       "<!-- body8 -->\n",
       "<g class=\"node\" id=\"node9\">\n",
       "<title>body8</title>\n",
       "<ellipse cx=\"446\" cy=\"-182\" fill=\"none\" rx=\"37.8943\" ry=\"18\" stroke=\"#000000\"/>\n",
       "<text fill=\"#000000\" font-family=\"Times,serif\" font-size=\"14.00\" text-anchor=\"middle\" x=\"446\" y=\"-178.3\">link_14</text>\n",
       "</g>\n",
       "<!-- body8&#45;&gt;body7 -->\n",
       "<g class=\"edge\" id=\"edge7\">\n",
       "<title>body8-&gt;body7</title>\n",
       "<path d=\"M446,-200.1761C446,-220.7277 446,-254.4528 446,-278.5107\" fill=\"none\" stroke=\"#000000\"/>\n",
       "<polygon fill=\"#000000\" points=\"442.5001,-278.802 446,-288.802 449.5001,-278.802 442.5001,-278.802\" stroke=\"#000000\"/>\n",
       "<text fill=\"#000000\" font-family=\"Times,serif\" font-size=\"14.00\" text-anchor=\"middle\" x=\"497.5\" y=\"-240.8\">joint_14 [revolute]</text>\n",
       "</g>\n",
       "<!-- body9 -->\n",
       "<g class=\"node\" id=\"node10\">\n",
       "<title>body9</title>\n",
       "<ellipse cx=\"446\" cy=\"-57\" fill=\"none\" rx=\"37.8943\" ry=\"18\" stroke=\"#000000\"/>\n",
       "<text fill=\"#000000\" font-family=\"Times,serif\" font-size=\"14.00\" text-anchor=\"middle\" x=\"446\" y=\"-53.3\">link_15</text>\n",
       "</g>\n",
       "<!-- body9&#45;&gt;body8 -->\n",
       "<g class=\"edge\" id=\"edge8\">\n",
       "<title>body9-&gt;body8</title>\n",
       "<path d=\"M446,-75.1761C446,-95.7277 446,-129.4528 446,-153.5107\" fill=\"none\" stroke=\"#000000\"/>\n",
       "<polygon fill=\"#000000\" points=\"442.5001,-153.802 446,-163.802 449.5001,-153.802 442.5001,-153.802\" stroke=\"#000000\"/>\n",
       "<text fill=\"#000000\" font-family=\"Times,serif\" font-size=\"14.00\" text-anchor=\"middle\" x=\"497.5\" y=\"-115.8\">joint_15 [revolute]</text>\n",
       "</g>\n",
       "<!-- body10 -->\n",
       "<g class=\"node\" id=\"node11\">\n",
       "<title>body10</title>\n",
       "<ellipse cx=\"314\" cy=\"-432\" fill=\"none\" rx=\"33.2948\" ry=\"18\" stroke=\"#000000\"/>\n",
       "<text fill=\"#000000\" font-family=\"Times,serif\" font-size=\"14.00\" text-anchor=\"middle\" x=\"314\" y=\"-428.3\">link_4</text>\n",
       "</g>\n",
       "<!-- body10&#45;&gt;body1 -->\n",
       "<g class=\"edge\" id=\"edge9\">\n",
       "<title>body10-&gt;body1</title>\n",
       "<path d=\"M309.9747,-449.8699C307.5796,-464.579 306.3195,-485.6019 314,-502 320.5281,-515.9378 332.5166,-527.5755 344.503,-536.5028\" fill=\"none\" stroke=\"#000000\"/>\n",
       "<polygon fill=\"#000000\" points=\"342.5298,-539.3938 352.7338,-542.2452 346.5351,-533.6529 342.5298,-539.3938\" stroke=\"#000000\"/>\n",
       "<text fill=\"#000000\" font-family=\"Times,serif\" font-size=\"14.00\" text-anchor=\"middle\" x=\"362\" y=\"-490.8\">joint_4 [revolute]</text>\n",
       "</g>\n",
       "<!-- body11 -->\n",
       "<g class=\"node\" id=\"node12\">\n",
       "<title>body11</title>\n",
       "<ellipse cx=\"314\" cy=\"-307\" fill=\"none\" rx=\"33.2948\" ry=\"18\" stroke=\"#000000\"/>\n",
       "<text fill=\"#000000\" font-family=\"Times,serif\" font-size=\"14.00\" text-anchor=\"middle\" x=\"314\" y=\"-303.3\">link_5</text>\n",
       "</g>\n",
       "<!-- body11&#45;&gt;body10 -->\n",
       "<g class=\"edge\" id=\"edge10\">\n",
       "<title>body11-&gt;body10</title>\n",
       "<path d=\"M314,-325.1761C314,-345.7277 314,-379.4528 314,-403.5107\" fill=\"none\" stroke=\"#000000\"/>\n",
       "<polygon fill=\"#000000\" points=\"310.5001,-403.802 314,-413.802 317.5001,-403.802 310.5001,-403.802\" stroke=\"#000000\"/>\n",
       "<text fill=\"#000000\" font-family=\"Times,serif\" font-size=\"14.00\" text-anchor=\"middle\" x=\"362\" y=\"-365.8\">joint_5 [revolute]</text>\n",
       "</g>\n",
       "<!-- body12 -->\n",
       "<g class=\"node\" id=\"node13\">\n",
       "<title>body12</title>\n",
       "<ellipse cx=\"314\" cy=\"-182\" fill=\"none\" rx=\"33.2948\" ry=\"18\" stroke=\"#000000\"/>\n",
       "<text fill=\"#000000\" font-family=\"Times,serif\" font-size=\"14.00\" text-anchor=\"middle\" x=\"314\" y=\"-178.3\">link_6</text>\n",
       "</g>\n",
       "<!-- body12&#45;&gt;body11 -->\n",
       "<g class=\"edge\" id=\"edge11\">\n",
       "<title>body12-&gt;body11</title>\n",
       "<path d=\"M314,-200.1761C314,-220.7277 314,-254.4528 314,-278.5107\" fill=\"none\" stroke=\"#000000\"/>\n",
       "<polygon fill=\"#000000\" points=\"310.5001,-278.802 314,-288.802 317.5001,-278.802 310.5001,-278.802\" stroke=\"#000000\"/>\n",
       "<text fill=\"#000000\" font-family=\"Times,serif\" font-size=\"14.00\" text-anchor=\"middle\" x=\"362\" y=\"-240.8\">joint_6 [revolute]</text>\n",
       "</g>\n",
       "<!-- body13 -->\n",
       "<g class=\"node\" id=\"node14\">\n",
       "<title>body13</title>\n",
       "<ellipse cx=\"314\" cy=\"-57\" fill=\"none\" rx=\"33.2948\" ry=\"18\" stroke=\"#000000\"/>\n",
       "<text fill=\"#000000\" font-family=\"Times,serif\" font-size=\"14.00\" text-anchor=\"middle\" x=\"314\" y=\"-53.3\">link_7</text>\n",
       "</g>\n",
       "<!-- body13&#45;&gt;body12 -->\n",
       "<g class=\"edge\" id=\"edge12\">\n",
       "<title>body13-&gt;body12</title>\n",
       "<path d=\"M314,-75.1761C314,-95.7277 314,-129.4528 314,-153.5107\" fill=\"none\" stroke=\"#000000\"/>\n",
       "<polygon fill=\"#000000\" points=\"310.5001,-153.802 314,-163.802 317.5001,-153.802 310.5001,-153.802\" stroke=\"#000000\"/>\n",
       "<text fill=\"#000000\" font-family=\"Times,serif\" font-size=\"14.00\" text-anchor=\"middle\" x=\"362\" y=\"-115.8\">joint_7 [revolute]</text>\n",
       "</g>\n",
       "<!-- body14 -->\n",
       "<g class=\"node\" id=\"node15\">\n",
       "<title>body14</title>\n",
       "<ellipse cx=\"190\" cy=\"-432\" fill=\"none\" rx=\"33.2948\" ry=\"18\" stroke=\"#000000\"/>\n",
       "<text fill=\"#000000\" font-family=\"Times,serif\" font-size=\"14.00\" text-anchor=\"middle\" x=\"190\" y=\"-428.3\">link_8</text>\n",
       "</g>\n",
       "<!-- body14&#45;&gt;body1 -->\n",
       "<g class=\"edge\" id=\"edge13\">\n",
       "<title>body14-&gt;body1</title>\n",
       "<path d=\"M190.2905,-450.1095C191.5065,-465.7839 195.6944,-488.0658 209,-502 225.6836,-519.4718 284.8053,-535.9405 328.8873,-546.2208\" fill=\"none\" stroke=\"#000000\"/>\n",
       "<polygon fill=\"#000000\" points=\"328.3589,-549.6903 338.8876,-548.5081 329.9197,-542.8665 328.3589,-549.6903\" stroke=\"#000000\"/>\n",
       "<text fill=\"#000000\" font-family=\"Times,serif\" font-size=\"14.00\" text-anchor=\"middle\" x=\"257\" y=\"-490.8\">joint_8 [revolute]</text>\n",
       "</g>\n",
       "<!-- body15 -->\n",
       "<g class=\"node\" id=\"node16\">\n",
       "<title>body15</title>\n",
       "<ellipse cx=\"190\" cy=\"-307\" fill=\"none\" rx=\"33.2948\" ry=\"18\" stroke=\"#000000\"/>\n",
       "<text fill=\"#000000\" font-family=\"Times,serif\" font-size=\"14.00\" text-anchor=\"middle\" x=\"190\" y=\"-303.3\">link_9</text>\n",
       "</g>\n",
       "<!-- body15&#45;&gt;body14 -->\n",
       "<g class=\"edge\" id=\"edge14\">\n",
       "<title>body15-&gt;body14</title>\n",
       "<path d=\"M190,-325.1761C190,-345.7277 190,-379.4528 190,-403.5107\" fill=\"none\" stroke=\"#000000\"/>\n",
       "<polygon fill=\"#000000\" points=\"186.5001,-403.802 190,-413.802 193.5001,-403.802 186.5001,-403.802\" stroke=\"#000000\"/>\n",
       "<text fill=\"#000000\" font-family=\"Times,serif\" font-size=\"14.00\" text-anchor=\"middle\" x=\"238\" y=\"-365.8\">joint_9 [revolute]</text>\n",
       "</g>\n",
       "<!-- body16 -->\n",
       "<g class=\"node\" id=\"node17\">\n",
       "<title>body16</title>\n",
       "<ellipse cx=\"195\" cy=\"-182\" fill=\"none\" rx=\"37.8943\" ry=\"18\" stroke=\"#000000\"/>\n",
       "<text fill=\"#000000\" font-family=\"Times,serif\" font-size=\"14.00\" text-anchor=\"middle\" x=\"195\" y=\"-178.3\">link_10</text>\n",
       "</g>\n",
       "<!-- body16&#45;&gt;body15 -->\n",
       "<g class=\"edge\" id=\"edge15\">\n",
       "<title>body16-&gt;body15</title>\n",
       "<path d=\"M194.273,-200.1761C193.4509,-220.7277 192.1019,-254.4528 191.1396,-278.5107\" fill=\"none\" stroke=\"#000000\"/>\n",
       "<polygon fill=\"#000000\" points=\"187.6305,-278.6701 190.7279,-288.802 194.6249,-278.9499 187.6305,-278.6701\" stroke=\"#000000\"/>\n",
       "<text fill=\"#000000\" font-family=\"Times,serif\" font-size=\"14.00\" text-anchor=\"middle\" x=\"243.5\" y=\"-240.8\">joint_10 [revolute]</text>\n",
       "</g>\n",
       "<!-- body17 -->\n",
       "<g class=\"node\" id=\"node18\">\n",
       "<title>body17</title>\n",
       "<ellipse cx=\"195\" cy=\"-57\" fill=\"none\" rx=\"37.8943\" ry=\"18\" stroke=\"#000000\"/>\n",
       "<text fill=\"#000000\" font-family=\"Times,serif\" font-size=\"14.00\" text-anchor=\"middle\" x=\"195\" y=\"-53.3\">link_11</text>\n",
       "</g>\n",
       "<!-- body17&#45;&gt;body16 -->\n",
       "<g class=\"edge\" id=\"edge16\">\n",
       "<title>body17-&gt;body16</title>\n",
       "<path d=\"M195,-75.1761C195,-95.7277 195,-129.4528 195,-153.5107\" fill=\"none\" stroke=\"#000000\"/>\n",
       "<polygon fill=\"#000000\" points=\"191.5001,-153.802 195,-163.802 198.5001,-153.802 191.5001,-153.802\" stroke=\"#000000\"/>\n",
       "<text fill=\"#000000\" font-family=\"Times,serif\" font-size=\"14.00\" text-anchor=\"middle\" x=\"246.5\" y=\"-115.8\">joint_11 [revolute]</text>\n",
       "</g>\n",
       "<!-- body18 -->\n",
       "<g class=\"node\" id=\"node19\">\n",
       "<title>body18</title>\n",
       "<ellipse cx=\"749\" cy=\"-57\" fill=\"none\" rx=\"44.393\" ry=\"18\" stroke=\"#000000\"/>\n",
       "<text fill=\"#000000\" font-family=\"Times,serif\" font-size=\"14.00\" text-anchor=\"middle\" x=\"749\" y=\"-53.3\">base_link</text>\n",
       "</g>\n",
       "</g>\n",
       "</svg>"
      ],
      "text/plain": [
       "<IPython.core.display.SVG object>"
      ]
     },
     "metadata": {},
     "output_type": "display_data"
    }
   ],
   "source": [
    "def kinematic_tree_example():\n",
    "    plant = MultibodyPlant(time_step=0.0)\n",
    "    parser = Parser(plant)\n",
    "    parser.AddModelFromFile(FindResourceOrThrow(\n",
    "        \"drake/manipulation/models/allegro_hand_description/sdf/allegro_hand_description_right.sdf\"))\n",
    "    parser.AddModelFromFile(FindResourceOrThrow(\n",
    "        \"drake/examples/manipulation_station/models/061_foam_brick.sdf\"))\n",
    "    plant.Finalize()\n",
    "\n",
    "    # TODO(russt): Add floating base connections\n",
    "    # TODO(russt): Consider a more interactive javascript rendering?\n",
    "    display(SVG(pydot.graph_from_dot_data(plant.GetTopologyGraphvizString())[0].create_svg()))\n",
    "\n",
    "kinematic_tree_example()"
   ]
  },
  {
   "cell_type": "markdown",
   "metadata": {
    "colab_type": "text",
    "id": "wSa5QcU0Piak"
   },
   "source": [
    "# Forward kinematics of the gripper frame\n",
    "\n",
    "Here is a simple example that let's you visualize the frames on the iiwa and the gripper.  If you click on the \"Open Controls\" menu in the MeshCat visualizer, and dig into the menu `meshcat->drake->Source` then you will see elements for each of the models in the `SceneGraph`: one for the iiwa, another for the WSG, and others for the clutter bins.  You can enable/disable their visualization.  Give it a spin!"
   ]
  },
  {
   "cell_type": "code",
   "execution_count": 69,
   "metadata": {
    "colab": {},
    "colab_type": "code",
    "id": "5SjOClhTltPk"
   },
   "outputs": [
    {
     "name": "stdout",
     "output_type": "stream",
     "text": [
      "Connecting to meshcat-server at zmq_url=tcp://127.0.0.1:6002...\n",
      "You can open the visualizer by visiting the following URL:\n",
      "http://127.0.0.1:7002/static/\n",
      "Connected to meshcat-server.\n"
     ]
    },
    {
     "name": "stderr",
     "output_type": "stream",
     "text": [
      "/home/kiwi/soft/virenv/pdrake/lib/python3.6/site-packages/pydrake/systems/meshcat_visualizer.py:438: UserWarning:\n",
      "\n",
      "Non-existent frame gripper ignored\n",
      "\n",
      "/home/kiwi/soft/virenv/pdrake/lib/python3.6/site-packages/pydrake/systems/meshcat_visualizer.py:438: UserWarning:\n",
      "\n",
      "Non-existent frame iiwa ignored\n",
      "\n"
     ]
    },
    {
     "data": {
      "application/vnd.jupyter.widget-view+json": {
       "model_id": "17b7439b479e47769f16d41607d1b52e",
       "version_major": 2,
       "version_minor": 0
      },
      "text/plain": [
       "FloatSlider(value=-1.57, description='iiwa_joint_1', layout=Layout(width=\"'200'\"), max=2.96706, min=-2.96706, …"
      ]
     },
     "metadata": {},
     "output_type": "display_data"
    },
    {
     "data": {
      "application/vnd.jupyter.widget-view+json": {
       "model_id": "91c69d6783f94885a24068ed0f186f7e",
       "version_major": 2,
       "version_minor": 0
      },
      "text/plain": [
       "FloatSlider(value=0.1, description='iiwa_joint_2', layout=Layout(width=\"'200'\"), max=2.0944, min=-2.0944, step…"
      ]
     },
     "metadata": {},
     "output_type": "display_data"
    },
    {
     "data": {
      "application/vnd.jupyter.widget-view+json": {
       "model_id": "0f95cc57717749308cf3535f3608ab01",
       "version_major": 2,
       "version_minor": 0
      },
      "text/plain": [
       "FloatSlider(value=0.0, description='iiwa_joint_3', layout=Layout(width=\"'200'\"), max=2.96706, min=-2.96706, st…"
      ]
     },
     "metadata": {},
     "output_type": "display_data"
    },
    {
     "data": {
      "application/vnd.jupyter.widget-view+json": {
       "model_id": "a980d630d7ae4472937c8f6c987862e8",
       "version_major": 2,
       "version_minor": 0
      },
      "text/plain": [
       "FloatSlider(value=-1.2, description='iiwa_joint_4', layout=Layout(width=\"'200'\"), max=2.0944, min=-2.0944, ste…"
      ]
     },
     "metadata": {},
     "output_type": "display_data"
    },
    {
     "data": {
      "application/vnd.jupyter.widget-view+json": {
       "model_id": "c99ed41d6cfe49729f7942389bacd91f",
       "version_major": 2,
       "version_minor": 0
      },
      "text/plain": [
       "FloatSlider(value=0.0, description='iiwa_joint_5', layout=Layout(width=\"'200'\"), max=2.96706, min=-2.96706, st…"
      ]
     },
     "metadata": {},
     "output_type": "display_data"
    },
    {
     "data": {
      "application/vnd.jupyter.widget-view+json": {
       "model_id": "96106af4e2804464badf886a3ea732c8",
       "version_major": 2,
       "version_minor": 0
      },
      "text/plain": [
       "FloatSlider(value=1.6, description='iiwa_joint_6', layout=Layout(width=\"'200'\"), max=2.0944, min=-2.0944, step…"
      ]
     },
     "metadata": {},
     "output_type": "display_data"
    },
    {
     "data": {
      "application/vnd.jupyter.widget-view+json": {
       "model_id": "10e63ec8e8ec48ea962fffde3dcff6d7",
       "version_major": 2,
       "version_minor": 0
      },
      "text/plain": [
       "FloatSlider(value=0.0, description='iiwa_joint_7', layout=Layout(width=\"'200'\"), max=3.05433, min=-3.05433, st…"
      ]
     },
     "metadata": {},
     "output_type": "display_data"
    },
    {
     "data": {
      "application/vnd.jupyter.widget-view+json": {
       "model_id": "f10512b1188749e3991223661cce31e2",
       "version_major": 2,
       "version_minor": 0
      },
      "text/plain": [
       "FloatSlider(value=-0.05, description='left_finger_sliding_joint', layout=Layout(width=\"'200'\"), max=0.0, min=-…"
      ]
     },
     "metadata": {},
     "output_type": "display_data"
    },
    {
     "data": {
      "application/vnd.jupyter.widget-view+json": {
       "model_id": "da9af6061bd04c8cae08055e6739f904",
       "version_major": 2,
       "version_minor": 0
      },
      "text/plain": [
       "FloatSlider(value=0.05, description='right_finger_sliding_joint', layout=Layout(width=\"'200'\"), max=0.055, ste…"
      ]
     },
     "metadata": {},
     "output_type": "display_data"
    },
    {
     "data": {
      "application/vnd.jupyter.widget-view+json": {
       "model_id": "cbd3967677144447aff6d19982739180",
       "version_major": 2,
       "version_minor": 0
      },
      "text/plain": [
       "Text(value='[0.00 -0.47 0.66]', description='gripper position (m): ', layout=Layout(width='500px'), style=Desc…"
      ]
     },
     "metadata": {},
     "output_type": "display_data"
    },
    {
     "data": {
      "application/vnd.jupyter.widget-view+json": {
       "model_id": "5ff3093857b841d6b9b5be5218f9acf8",
       "version_major": 2,
       "version_minor": 0
      },
      "text/plain": [
       "Text(value='[-1.81 -0.00 0.00]', description='gripper roll-pitch-yaw (rad): ', layout=Layout(width='500px'), s…"
      ]
     },
     "metadata": {},
     "output_type": "display_data"
    }
   ],
   "source": [
    "def gripper_forward_kinematics_example():\n",
    "    builder = DiagramBuilder()\n",
    "\n",
    "    # TODO: Replace this with a simple model directive of iiwa+wsg (no clutter bins)\n",
    "    station = builder.AddSystem(ManipulationStation())\n",
    "    station.SetupClutterClearingStation()\n",
    "    station.Finalize()\n",
    "\n",
    "    frames_to_draw = {\"iiwa\": {\"iiwa_link_1\", \"iiwa_link_2\", \"iiwa_link_3\", \"iiwa_link_4\", \"iiwa_link_5\", \"iiwa_link_6\", \"iiwa_link_7\"},\n",
    "                      \"gripper\": {\"body\"}}\n",
    "    meshcat = ConnectMeshcatVisualizer(builder,\n",
    "        station.get_scene_graph(),\n",
    "        output_port=station.GetOutputPort(\"query_object\"),\n",
    "        zmq_url=zmq_url,\n",
    "        frames_to_draw=frames_to_draw,\n",
    "        axis_length=0.3,\n",
    "        axis_radius=0.01)\n",
    "\n",
    "    diagram = builder.Build()\n",
    "    context = diagram.CreateDefaultContext()\n",
    "\n",
    "    xyz = Text(value=\"\", description=\"gripper position (m): \", layout=Layout(width='500px'), style={'description_width':'initial'})\n",
    "    rpy = Text(value=\"\", description=\"gripper roll-pitch-yaw (rad): \", layout=Layout(width='500px'), style={'description_width':'initial'})\n",
    "    plant = station.get_multibody_plant()\n",
    "\n",
    "    gripper = plant.GetBodyByName(\"body\")\n",
    "    def pose_callback(context):\n",
    "        pose = plant.EvalBodyPoseInWorld(context, gripper)   ## This is the important line\n",
    "        xyz.value = np.array2string(pose.translation(), formatter={'float': lambda x: \"{:3.2f}\".format(x)})\n",
    "        rpy.value = np.array2string(RollPitchYaw(pose.rotation()).vector(), formatter={'float': lambda x: \"{:3.2f}\".format(x)})\n",
    "\n",
    "    meshcat.load()\n",
    "    MakeJointSlidersThatPublishOnCallback(station.get_multibody_plant(), meshcat, context, my_callback=pose_callback)\n",
    "    display(xyz)\n",
    "    display(rpy)\n",
    "\n",
    "gripper_forward_kinematics_example()"
   ]
  },
  {
   "cell_type": "markdown",
   "metadata": {
    "colab_type": "text",
    "id": "8ZUhwdTOtOjp"
   },
   "source": [
    "# Don't assume $\\dot{q} \\equiv v$\n",
    "\n",
    "Let's just add a single object into the scene.  We won't weld it to the world frame, so it is a \"free body\" or has a \"floating base\"."
   ]
  },
  {
   "cell_type": "code",
   "execution_count": 70,
   "metadata": {
    "colab": {},
    "colab_type": "code",
    "id": "MKezK0PjtUP4"
   },
   "outputs": [
    {
     "name": "stdout",
     "output_type": "stream",
     "text": [
      "::_ Context\n",
      "------------\n",
      "Time: 0\n",
      "States:\n",
      "  13 continuous states\n",
      "    1 0 0 0 0 0 0 0 0 0 0 0 0\n",
      "\n",
      "Parameters:\n",
      "  3 numeric parameter groups with\n",
      "     10 parameters\n",
      "       nan nan nan nan nan nan nan nan nan nan\n",
      "     10 parameters\n",
      "             0.028           0           0       0.025  0.00104286  0.00130357 0.000678571           0           0           0\n",
      "     12 parameters\n",
      "        1  0  0  0  1  0  0  0  1 -0 -0 -0\n",
      "\n",
      "plant.num_positions() = 7\n",
      "plant.num_velocities() = 6\n"
     ]
    }
   ],
   "source": [
    "def num_positions_velocities_example():\n",
    "    plant = MultibodyPlant(time_step = 0.0)\n",
    "    Parser(plant).AddModelFromFile(FindResourceOrThrow(\n",
    "        \"drake/examples/manipulation_station/models/061_foam_brick.sdf\"))\n",
    "    plant.Finalize()\n",
    "\n",
    "    context = plant.CreateDefaultContext()\n",
    "    print(context)\n",
    "\n",
    "    print(f\"plant.num_positions() = {plant.num_positions()}\")\n",
    "    print(f\"plant.num_velocities() = {plant.num_velocities()}\")\n",
    "\n",
    "num_positions_velocities_example()"
   ]
  },
  {
   "cell_type": "markdown",
   "metadata": {
    "colab_type": "text",
    "id": "tlE6mkO0ajJu"
   },
   "source": [
    "Looking at the `Context` you can see that this system has 13 total state variables.  7 of them are positions, $q$; this is due to our pose representation using unit quaternions.  But only 6 of them are velocities, $v$; this is because a six-element spatial velocity provides a better (unconstrained) representation of the rate of change of the unit quaternion.  But clearly, if the length of the vectors don't even match, we do *not* have $\\dot{q} = v$."
   ]
  },
  {
   "cell_type": "markdown",
   "metadata": {
    "colab_type": "text",
    "id": "hSeD3PBotJUU"
   },
   "source": [
    "# Kinematic Jacobians for pick and place\n",
    "\n",
    "Let's set up the same iiwa + wsg example, with sliders (but without the frames), that we used above.  But this time I'll display the value of the Jacobian $J^G(q)$."
   ]
  },
  {
   "cell_type": "code",
   "execution_count": 71,
   "metadata": {
    "colab": {},
    "colab_type": "code",
    "id": "6F_KZoc1QDkY"
   },
   "outputs": [
    {
     "name": "stdout",
     "output_type": "stream",
     "text": [
      "Connecting to meshcat-server at zmq_url=tcp://127.0.0.1:6002...\n",
      "You can open the visualizer by visiting the following URL:\n",
      "http://127.0.0.1:7002/static/\n",
      "Connected to meshcat-server.\n"
     ]
    },
    {
     "data": {
      "application/vnd.jupyter.widget-view+json": {
       "model_id": "7b95d95c18354411953b6f0b9152ce82",
       "version_major": 2,
       "version_minor": 0
      },
      "text/plain": [
       "FloatSlider(value=-1.57, description='iiwa_joint_1', layout=Layout(width=\"'200'\"), max=2.96706, min=-2.96706, …"
      ]
     },
     "metadata": {},
     "output_type": "display_data"
    },
    {
     "data": {
      "application/vnd.jupyter.widget-view+json": {
       "model_id": "a52814cee2504155820d9e15a065e0cd",
       "version_major": 2,
       "version_minor": 0
      },
      "text/plain": [
       "FloatSlider(value=0.1, description='iiwa_joint_2', layout=Layout(width=\"'200'\"), max=2.0944, min=-2.0944, step…"
      ]
     },
     "metadata": {},
     "output_type": "display_data"
    },
    {
     "data": {
      "application/vnd.jupyter.widget-view+json": {
       "model_id": "188ab8bb9d9649b1a31c58af566059c6",
       "version_major": 2,
       "version_minor": 0
      },
      "text/plain": [
       "FloatSlider(value=0.0, description='iiwa_joint_3', layout=Layout(width=\"'200'\"), max=2.96706, min=-2.96706, st…"
      ]
     },
     "metadata": {},
     "output_type": "display_data"
    },
    {
     "data": {
      "application/vnd.jupyter.widget-view+json": {
       "model_id": "802633b39d9843d4bba6dbe04e3c7da2",
       "version_major": 2,
       "version_minor": 0
      },
      "text/plain": [
       "FloatSlider(value=-1.2, description='iiwa_joint_4', layout=Layout(width=\"'200'\"), max=2.0944, min=-2.0944, ste…"
      ]
     },
     "metadata": {},
     "output_type": "display_data"
    },
    {
     "data": {
      "application/vnd.jupyter.widget-view+json": {
       "model_id": "7867ae8dac604e6a92565406d242fbd8",
       "version_major": 2,
       "version_minor": 0
      },
      "text/plain": [
       "FloatSlider(value=0.0, description='iiwa_joint_5', layout=Layout(width=\"'200'\"), max=2.96706, min=-2.96706, st…"
      ]
     },
     "metadata": {},
     "output_type": "display_data"
    },
    {
     "data": {
      "application/vnd.jupyter.widget-view+json": {
       "model_id": "b6e18f03bc4d49bbb4bad642a5a0da6c",
       "version_major": 2,
       "version_minor": 0
      },
      "text/plain": [
       "FloatSlider(value=1.6, description='iiwa_joint_6', layout=Layout(width=\"'200'\"), max=2.0944, min=-2.0944, step…"
      ]
     },
     "metadata": {},
     "output_type": "display_data"
    },
    {
     "data": {
      "application/vnd.jupyter.widget-view+json": {
       "model_id": "48a6ee10db8b4c4a8d0a4b15c469116d",
       "version_major": 2,
       "version_minor": 0
      },
      "text/plain": [
       "FloatSlider(value=0.0, description='iiwa_joint_7', layout=Layout(width=\"'200'\"), max=3.05433, min=-3.05433, st…"
      ]
     },
     "metadata": {},
     "output_type": "display_data"
    },
    {
     "data": {
      "application/vnd.jupyter.widget-view+json": {
       "model_id": "4452b6b404274fffb8b01b3f153b2848",
       "version_major": 2,
       "version_minor": 0
      },
      "text/plain": [
       "FloatSlider(value=-0.05, description='left_finger_sliding_joint', layout=Layout(width=\"'200'\"), max=0.0, min=-…"
      ]
     },
     "metadata": {},
     "output_type": "display_data"
    },
    {
     "data": {
      "application/vnd.jupyter.widget-view+json": {
       "model_id": "66827ca88b3946449886531c8e98fdcc",
       "version_major": 2,
       "version_minor": 0
      },
      "text/plain": [
       "FloatSlider(value=0.05, description='right_finger_sliding_joint', layout=Layout(width=\"'200'\"), max=0.055, ste…"
      ]
     },
     "metadata": {},
     "output_type": "display_data"
    },
    {
     "data": {
      "application/vnd.jupyter.widget-view+json": {
       "model_id": "b3cf06f1e7eb413784cb4a289ca77cbe",
       "version_major": 2,
       "version_minor": 0
      },
      "text/plain": [
       "Textarea(value='[[  0.0   1.0   0.0  -1.0   0.0   1.0   0.0   0.0   0.0]\\n [  0.0   0.0  -0.1  -0.0  -1.0   0.…"
      ]
     },
     "metadata": {},
     "output_type": "display_data"
    },
    {
     "data": {
      "application/vnd.jupyter.widget-view+json": {
       "model_id": "7c3fd6399fa345ba87f6d168875363f4",
       "version_major": 2,
       "version_minor": 0
      },
      "text/plain": [
       "Text(value='0.1793103962164519', description='smallest singular value(J_G): ', layout=Layout(width='60%'), sty…"
      ]
     },
     "metadata": {},
     "output_type": "display_data"
    }
   ],
   "source": [
    "def pick_and_place_jacobians_example():\n",
    "    builder = DiagramBuilder()\n",
    "\n",
    "    # TODO: Replace this with a simple model directive of iiwa+wsg (no clutter bins)\n",
    "    station = builder.AddSystem(ManipulationStation())\n",
    "    station.SetupClutterClearingStation()\n",
    "    station.Finalize()\n",
    "\n",
    "    meshcat = ConnectMeshcatVisualizer(builder,\n",
    "        station.get_scene_graph(),\n",
    "        output_port=station.GetOutputPort(\"query_object\"),\n",
    "#        delete_prefix_on_load=False,\n",
    "        zmq_url=zmq_url)\n",
    "\n",
    "    diagram = builder.Build()\n",
    "    context = diagram.CreateDefaultContext()\n",
    "\n",
    "    jacobian = Textarea(value=\"\", description=\"J_G: \", layout={'width':'60%','height':'100px'}, style={'description_width':'initial'})\n",
    "    sigma = Text(value=\"\", description=\"smallest singular value(J_G): \", layout={'width':'60%'}, style={'description_width':'initial'})\n",
    "    plant = station.get_multibody_plant()\n",
    "\n",
    "    G = plant.GetBodyByName(\"body\").body_frame()\n",
    "    W = plant.world_frame()\n",
    "    def pose_callback(context):\n",
    "        J_G = plant.CalcJacobianSpatialVelocity(context, JacobianWrtVariable.kQDot, G, [0,0,0], W, W)   ## This is the important line\n",
    "        jacobian.value = np.array2string(J_G, formatter={'float': lambda x: \"{:5.1f}\".format(x)})\n",
    "        sigma.value = str(np.min(np.linalg.svd(J_G, compute_uv=False)))\n",
    "\n",
    "    meshcat.load()\n",
    "\n",
    "    # If you want to set the initial positions manually, use this:\n",
    "    #plant.SetPositions(plant.GetMyContextFromRoot(context),\n",
    "    #                   plant.GetModelInstanceByName(\"iiwa\"),\n",
    "    #                   [0, 0, 0, 0, 0, 0, 0])\n",
    "\n",
    "    MakeJointSlidersThatPublishOnCallback(station.get_multibody_plant(), meshcat, context, my_callback=pose_callback)\n",
    "    display(jacobian)\n",
    "    display(sigma)\n",
    "\n",
    "pick_and_place_jacobians_example()\n"
   ]
  },
  {
   "cell_type": "markdown",
   "metadata": {
    "colab_type": "text",
    "id": "UZym7Xo7slPU"
   },
   "source": [
    "# Our first end-effector \"controller\"\n",
    "\n",
    "Let's use the pseudo-inverse of the Jacobian to drive the robot around.  To do that, we'll write a very simple system that looks at the current value of $q$, computes $[J^G]^+$, and uses it to command a constant spatial velocity, $V^G$.\n",
    "\n",
    "We'll only run this controller for a short duration.  Constant spatial velocities aren't something that makes sense for a longer simulation!\n",
    "\n",
    "Make sure you try changing $V^G$, and understand how the command relates to the motion of the robot."
   ]
  },
  {
   "cell_type": "code",
   "execution_count": 72,
   "metadata": {
    "colab": {},
    "colab_type": "code",
    "id": "WBTFzB5ZuXvP"
   },
   "outputs": [
    {
     "name": "stdout",
     "output_type": "stream",
     "text": [
      "Connecting to meshcat-server at zmq_url=tcp://127.0.0.1:6002...\n",
      "You can open the visualizer by visiting the following URL:\n",
      "http://127.0.0.1:7002/static/\n",
      "Connected to meshcat-server.\n"
     ]
    }
   ],
   "source": [
    "# We can write a new System by deriving from the LeafSystem class.\n",
    "# There is a little bit of boiler plate, but hopefully this example makes sense.\n",
    "class PseudoInverseController(LeafSystem):\n",
    "    def __init__(self, plant):\n",
    "        LeafSystem.__init__(self)\n",
    "        self._plant = plant\n",
    "        self._plant_context = plant.CreateDefaultContext()\n",
    "        self._iiwa = plant.GetModelInstanceByName(\"iiwa\")\n",
    "        self._G = plant.GetBodyByName(\"body\").body_frame()\n",
    "        self._W = plant.world_frame()\n",
    "\n",
    "        self.DeclareVectorInputPort(\"iiwa_position\", BasicVector(7))\n",
    "        self.DeclareVectorOutputPort(\"iiwa_velocity\", BasicVector(7), \n",
    "                                     self.CalcOutput)\n",
    "\n",
    "    def CalcOutput(self, context, output):\n",
    "        q = self.get_input_port().Eval(context)\n",
    "        self._plant.SetPositions(self._plant_context, self._iiwa, q)\n",
    "        J_G = self._plant.CalcJacobianSpatialVelocity(\n",
    "            self._plant_context, JacobianWrtVariable.kQDot, \n",
    "            self._G, [0,0,0], self._W, self._W)\n",
    "        J_G = J_G[:,0:7] # Ignore gripper terms\n",
    "        \n",
    "        V_G_desired = np.array([0,    # rotation about x\n",
    "                                -.1,  # rotation about y\n",
    "                                0,    # rotation about z\n",
    "                                0,    # x\n",
    "                                -.05, # y\n",
    "                                -.1]) # z\n",
    "        v = np.linalg.pinv(J_G).dot(V_G_desired)\n",
    "        output.SetFromVector(v)\n",
    "\n",
    "        \n",
    "def jacobian_controller_example():\n",
    "    builder = DiagramBuilder()\n",
    "\n",
    "    station = builder.AddSystem(ManipulationStation())\n",
    "    station.SetupClutterClearingStation()\n",
    "    station.Finalize()\n",
    "\n",
    "    controller = builder.AddSystem(PseudoInverseController(\n",
    "        station.get_multibody_plant()))\n",
    "    integrator = builder.AddSystem(Integrator(7))\n",
    "\n",
    "    builder.Connect(controller.get_output_port(), \n",
    "                    integrator.get_input_port())\n",
    "    builder.Connect(integrator.get_output_port(),\n",
    "                    station.GetInputPort(\"iiwa_position\"))\n",
    "    builder.Connect(station.GetOutputPort(\"iiwa_position_measured\"),\n",
    "                    controller.get_input_port())\n",
    "\n",
    "    meshcat = ConnectMeshcatVisualizer(builder,\n",
    "        station.get_scene_graph(),\n",
    "        output_port=station.GetOutputPort(\"query_object\"),\n",
    "        zmq_url=zmq_url)\n",
    "\n",
    "    diagram = builder.Build()\n",
    "    simulator = Simulator(diagram)\n",
    "    station_context = station.GetMyContextFromRoot(simulator.get_mutable_context())\n",
    "    station.GetInputPort(\"iiwa_feedforward_torque\").FixValue(station_context, np.zeros((7,1)))\n",
    "    station.GetInputPort(\"wsg_position\").FixValue(station_context, [0.1])\n",
    "    # TODO(russt): Add this missing python binding\n",
    "    #integrator.set_integral_value(\n",
    "    #    integrator.GetMyContextFromRoot(simulator.get_mutable_context()), \n",
    "    #        station.GetIiwaPosition(station_context))\n",
    "    integrator.GetMyContextFromRoot(simulator.get_mutable_context()).get_mutable_continuous_state_vector().SetFromVector(station.GetIiwaPosition(station_context))\n",
    "\n",
    "    simulator.set_target_realtime_rate(1.0)\n",
    "    simulator.AdvanceTo(0.01);\n",
    "\n",
    "    return simulator\n",
    "\n",
    "simulator = jacobian_controller_example()"
   ]
  },
  {
   "cell_type": "code",
   "execution_count": 73,
   "metadata": {
    "colab": {},
    "colab_type": "code",
    "id": "6v-EGfoI3y6V"
   },
   "outputs": [],
   "source": [
    "# Wait for the model to load in the visualizer, then run this cell to see the interesting part...\n",
    "simulator.AdvanceTo(5.0 if running_as_notebook else 0.1);"
   ]
  },
  {
   "cell_type": "markdown",
   "metadata": {
    "colab_type": "text",
    "id": "DfwIMIJCSkx6"
   },
   "source": [
    "# Compute grasp and pregrasp poses\n",
    "\n",
    "Here is a simple example with a floating Schunk gripper and the foam brick.  It defines the grasp pose as described in the notes, and renders it to the 3D visualizer.\n",
    "\n",
    "**Check yourself**: Try changing the grasp pose to our pregrasp pose.  Do you like the numbers that I picked in the text?"
   ]
  },
  {
   "cell_type": "code",
   "execution_count": 74,
   "metadata": {
    "colab": {},
    "colab_type": "code",
    "id": "QuFmomDOxoAR"
   },
   "outputs": [
    {
     "name": "stdout",
     "output_type": "stream",
     "text": [
      "Connecting to meshcat-server at zmq_url=tcp://127.0.0.1:6002...\n",
      "You can open the visualizer by visiting the following URL:\n",
      "http://127.0.0.1:7002/static/\n",
      "Connected to meshcat-server.\n"
     ]
    }
   ],
   "source": [
    "def grasp_poses_example():\n",
    "    builder = DiagramBuilder()\n",
    "\n",
    "    plant, scene_graph = AddMultibodyPlantSceneGraph(builder, time_step = 0.0)\n",
    "    parser = Parser(plant, scene_graph)\n",
    "    grasp = parser.AddModelFromFile(FindResourceOrThrow(\n",
    "        \"drake/manipulation/models/wsg_50_description/sdf/schunk_wsg_50_no_tip.sdf\"), \"grasp\")\n",
    "    # TODO(russt): Draw the pregrasp gripper, too, as transparent (drake #13970).\n",
    "    #pregrasp = parser.AddModelFromFile(FindResourceOrThrow(\n",
    "    #    \"drake/manipulation/models/wsg_50_description/sdf/schunk_wsg_50_no_tip.sdf\"), \"pregrasp\")\n",
    "    brick = parser.AddModelFromFile(FindResourceOrThrow(\n",
    "        \"drake/examples/manipulation_station/models/061_foam_brick.sdf\"))\n",
    "    plant.Finalize()\n",
    "\n",
    "    meshcat = ConnectMeshcatVisualizer(builder, scene_graph, zmq_url=zmq_url)\n",
    "\n",
    "    diagram = builder.Build()\n",
    "    context = diagram.CreateDefaultContext()\n",
    "    plant_context = plant.GetMyContextFromRoot(context)\n",
    "\n",
    "    # TODO(russt): Set a random pose of the object.\n",
    "\n",
    "    # Get the current object, O, pose\n",
    "    B_O = plant.GetBodyByName(\"base_link\", brick)\n",
    "    X_WO = plant.EvalBodyPoseInWorld(plant_context, B_O)\n",
    "\n",
    "    B_Ggrasp = plant.GetBodyByName(\"body\", grasp)\n",
    "    p_GgraspO = [0, 0.12, 0]\n",
    "    R_GgraspO = RotationMatrix.MakeXRotation(np.pi/2.0).multiply(\n",
    "        RotationMatrix.MakeZRotation(np.pi/2.0))\n",
    "    X_GgraspO = RigidTransform(R_GgraspO, p_GgraspO)\n",
    "    X_OGgrasp = X_GgraspO.inverse()\n",
    "    X_WGgrasp = X_WO.multiply(X_OGgrasp)\n",
    "\n",
    "    plant.SetFreeBodyPose(plant_context, B_Ggrasp, X_WGgrasp)\n",
    "    # Open the fingers, too.\n",
    "    plant.GetJointByName(\"left_finger_sliding_joint\", grasp).set_translation(plant_context, -0.054)\n",
    "    plant.GetJointByName(\"right_finger_sliding_joint\", grasp).set_translation(plant_context, 0.054)\n",
    "\n",
    "    meshcat.load()\n",
    "    diagram.Publish(context)\n",
    "\n",
    "grasp_poses_example()"
   ]
  },
  {
   "cell_type": "markdown",
   "metadata": {
    "colab_type": "text",
    "id": "d5p2tbJWrWZ5"
   },
   "source": [
    "# A pick and place \"sketch\" with keyframes\n",
    "\n",
    "Let's first define the canonical frames of our problem.  We've got a handful of them, and will pass them in and out of several functions, so I'll use a dictionary to store them.\n",
    "\n",
    "*Edit*: I've added one more frame into the mix here, to get some clearance when moving between the bins.  Leaving it out gave my a nice [robot outtake](http://manipulation.csail.mit.edu/data/pick_fail.html), but we can do better."
   ]
  },
  {
   "cell_type": "code",
   "execution_count": 75,
   "metadata": {
    "colab": {},
    "colab_type": "code",
    "id": "zYuRDF6mSBx5"
   },
   "outputs": [
    {
     "name": "stdout",
     "output_type": "stream",
     "text": [
      "Sanity check: The entire maneuver will take 30.900220749318255 seconds to execute.\n"
     ]
    }
   ],
   "source": [
    "def make_gripper_frames(X_G, X_O):\n",
    "  \"\"\"\n",
    "  Takes a partial specification with X_G[\"initial\"] and X_O[\"initial\"] and X_0[\"goal\"], and \n",
    "  returns a X_G and times with all of the pick and place frames populated.\n",
    "  \"\"\"\n",
    "  # Define (again) the gripper pose relative to the object when in grasp.\n",
    "  p_GgraspO = [0, 0.12, 0]\n",
    "  R_GgraspO = RotationMatrix.MakeXRotation(np.pi/2.0).multiply(\n",
    "      RotationMatrix.MakeZRotation(np.pi/2.0))\n",
    "  X_GgraspO = RigidTransform(R_GgraspO, p_GgraspO)\n",
    "  X_OGgrasp = X_GgraspO.inverse()\n",
    "  # pregrasp is negative y in the gripper frame (see the figure!).\n",
    "  X_GgraspGpregrasp = RigidTransform([0, -0.08, 0])\n",
    "\n",
    "  X_G[\"pick\"] = X_O[\"initial\"].multiply(X_OGgrasp)\n",
    "  X_G[\"prepick\"] = X_G[\"pick\"].multiply(X_GgraspGpregrasp)\n",
    "  X_G[\"place\"] = X_O[\"goal\"].multiply(X_OGgrasp)\n",
    "  X_G[\"preplace\"] = X_G[\"place\"].multiply(X_GgraspGpregrasp)\n",
    "\n",
    "  # I'll interpolate a ahlfway orientation by converting to axis angle and halving the angle.\n",
    "  X_GprepickGpreplace = X_G[\"prepick\"].inverse().multiply(X_G[\"preplace\"])\n",
    "  angle_axis = X_GprepickGpreplace.rotation().ToAngleAxis()\n",
    "  X_GprepickGclearance = RigidTransform(AngleAxis(angle=angle_axis.angle()/2.0, axis=angle_axis.axis()), \n",
    "                                        X_GprepickGpreplace.translation()/2.0 + np.array([0, -0.3, 0]))\n",
    "  X_G[\"clearance\"] = X_G[\"prepick\"].multiply(X_GprepickGclearance)\n",
    "\n",
    "  # Now let's set the timing\n",
    "  times = {\"initial\": 0}\n",
    "  X_GinitialGprepick = X_G[\"initial\"].inverse().multiply(X_G[\"prepick\"])\n",
    "  times[\"prepick\"] = times[\"initial\"] + 10.0*np.linalg.norm(X_GinitialGprepick.translation())\n",
    "  # Allow some time for the gripper to close.\n",
    "  times[\"pick_start\"] = times[\"prepick\"] + 2.0\n",
    "  times[\"pick_end\"] = times[\"pick_start\"] + 2.0\n",
    "  times[\"postpick\"] = times[\"pick_end\"] + 2.0\n",
    "  time_to_from_clearance = 10.0*np.linalg.norm(X_GprepickGclearance.translation())\n",
    "  times[\"clearance\"] = times[\"postpick\"] + time_to_from_clearance\n",
    "  times[\"preplace\"] = times[\"clearance\"] + time_to_from_clearance\n",
    "  times[\"place_start\"] = times[\"preplace\"] + 2.0\n",
    "  times[\"place_end\"] = times[\"place_start\"] + 2.0\n",
    "  times[\"postplace\"] = times[\"place_end\"] + 2.0\n",
    "\n",
    "  return X_G, times\n",
    "\n",
    "X_G = {\"initial\": RigidTransform(RotationMatrix.MakeXRotation(-np.pi/2.0), [0, -0.25, 0.25])}\n",
    "X_O = {\"initial\": RigidTransform(RotationMatrix.MakeZRotation(np.pi/2.0), [-.2, -.75, 0.025]),\n",
    "       \"goal\": RigidTransform(RotationMatrix.MakeZRotation(np.pi),[.75, 0, 0.025])}\n",
    "X_G, times = make_gripper_frames(X_G, X_O)\n",
    "print(f\"Sanity check: The entire maneuver will take {times['postplace']} seconds to execute.\")"
   ]
  },
  {
   "cell_type": "markdown",
   "metadata": {
    "colab_type": "text",
    "id": "JnmfEw0zgzsn"
   },
   "source": [
    "Here's a simple visualization of those frames.  Use the controls menu in meshcat to view the different objects on the different \"paths\" to understand which objects belong to which frames.  Everything look reasonable?\n",
    "\n",
    "Try changing the initial and final pose of the gripper / object."
   ]
  },
  {
   "cell_type": "code",
   "execution_count": 76,
   "metadata": {
    "colab": {},
    "colab_type": "code",
    "id": "oXh50Cf1hU6N"
   },
   "outputs": [
    {
     "name": "stdout",
     "output_type": "stream",
     "text": [
      "Connecting to meshcat-server at zmq_url=tcp://127.0.0.1:6002...\n",
      "You can open the visualizer by visiting the following URL:\n",
      "http://127.0.0.1:7002/static/\n",
      "Connected to meshcat-server.\n"
     ]
    }
   ],
   "source": [
    "def visualize_gripper_frames(X_G, X_O):\n",
    "    builder = DiagramBuilder()\n",
    "\n",
    "    plant, scene_graph = AddMultibodyPlantSceneGraph(builder, time_step = 0.0)\n",
    "    parser = Parser(plant, scene_graph)\n",
    "    gripper = FindResourceOrThrow(\n",
    "        \"drake/manipulation/models/wsg_50_description/sdf/schunk_wsg_50_no_tip.sdf\")\n",
    "    brick = FindResourceOrThrow(\n",
    "        \"drake/examples/manipulation_station/models/061_foam_brick.sdf\")\n",
    "    for key, pose in X_G.items():\n",
    "      g = parser.AddModelFromFile(gripper, f\"gripper_{key}\")\n",
    "      plant.WeldFrames(plant.world_frame(), plant.GetFrameByName(\"body\", g), pose)\n",
    "    for key, pose in X_O.items():\n",
    "      o = parser.AddModelFromFile(brick, f\"object_{key}\")\n",
    "      plant.WeldFrames(plant.world_frame(), plant.GetFrameByName(\"base_link\", o), pose)\n",
    "\n",
    "    plant.Finalize()\n",
    "\n",
    "\n",
    "    meshcat = ConnectMeshcatVisualizer(builder, scene_graph, zmq_url=zmq_url)\n",
    "    meshcat.load()\n",
    "\n",
    "    diagram = builder.Build()\n",
    "    context = diagram.CreateDefaultContext()\n",
    "    diagram.Publish(context)\n",
    "\n",
    "visualize_gripper_frames(X_G, X_O)"
   ]
  },
  {
   "cell_type": "markdown",
   "metadata": {
    "colab_type": "text",
    "id": "HmcG3b_xSeQR"
   },
   "source": [
    "# Pick and place trajectories\n",
    "\n",
    "We've defined the keyframes, but now we will fill in timing details (what should be happening at each instant).  Interpolating between the positions is quite simple; we can encode these details as a `PiecewisePolynomial` trajectory in $\\Re^3$ over time.\n",
    "\n",
    "TODO(russt): Maybe implement `PiecewisePose` with an append workflow."
   ]
  },
  {
   "cell_type": "code",
   "execution_count": 77,
   "metadata": {
    "colab": {},
    "colab_type": "code",
    "id": "oiwljuszWh_O"
   },
   "outputs": [],
   "source": [
    "def make_gripper_position_trajectory(X_G, times):\n",
    "    \"\"\"\n",
    "    Constructs a gripper position trajectory from the plan \"sketch\".\n",
    "    \"\"\"\n",
    "    # The syntax here is a little ugly; we need to pass in a matrix with the samples in the columns.\n",
    "    # TODO(russt): Add python bindings for the std::vector constructor.\n",
    "    traj = PiecewisePolynomial.FirstOrderHold(\n",
    "        [times[\"initial\"], times[\"prepick\"]], np.vstack([X_G[\"initial\"].translation(), X_G[\"prepick\"].translation()]).T)\n",
    "\n",
    "    # TODO(russt): I could make this less brittle if I was more careful on the names above, and just look up the pose for every time (in order)\n",
    "    traj.AppendFirstOrderSegment(times[\"pick_start\"], X_G[\"pick\"].translation())\n",
    "    traj.AppendFirstOrderSegment(times[\"pick_end\"], X_G[\"pick\"].translation())\n",
    "    traj.AppendFirstOrderSegment(times[\"postpick\"], X_G[\"prepick\"].translation())\n",
    "    traj.AppendFirstOrderSegment(times[\"clearance\"], X_G[\"clearance\"].translation())\n",
    "    traj.AppendFirstOrderSegment(times[\"preplace\"], X_G[\"preplace\"].translation())\n",
    "    traj.AppendFirstOrderSegment(times[\"place_start\"], X_G[\"place\"].translation())\n",
    "    traj.AppendFirstOrderSegment(times[\"place_end\"], X_G[\"place\"].translation())\n",
    "    traj.AppendFirstOrderSegment(times[\"postplace\"], X_G[\"preplace\"].translation())\n",
    "\n",
    "    return traj\n",
    "\n",
    "traj_p_G = make_gripper_position_trajectory(X_G, times)"
   ]
  },
  {
   "cell_type": "markdown",
   "metadata": {
    "colab_type": "text",
    "id": "2PnYrnSmEMYC"
   },
   "source": [
    "Now let's plot our trajectories.  `Altair` is a plotting library built on Pandas and Vega-lite (to support interactive graphics), which works well in Colab.  I aim to start using it more.  \n",
    "\n",
    "<sup><sub>TODO(russt): Add mouseover interaction that publishes to meshcat, so that a cursor on this plot renders the corresponding pose.(Unfortunately, I don't believe I can link a callback to python with altair).</sub></sup>"
   ]
  },
  {
   "cell_type": "code",
   "execution_count": 78,
   "metadata": {
    "colab": {},
    "colab_type": "code",
    "id": "Ppd-5B3V3cNC"
   },
   "outputs": [
    {
     "data": {
      "text/html": [
       "\n",
       "<div id=\"altair-viz-f6c67c80e38b43248302ff75593502b1\"></div>\n",
       "<script type=\"text/javascript\">\n",
       "  (function(spec, embedOpt){\n",
       "    let outputDiv = document.currentScript.previousElementSibling;\n",
       "    if (outputDiv.id !== \"altair-viz-f6c67c80e38b43248302ff75593502b1\") {\n",
       "      outputDiv = document.getElementById(\"altair-viz-f6c67c80e38b43248302ff75593502b1\");\n",
       "    }\n",
       "    const paths = {\n",
       "      \"vega\": \"https://cdn.jsdelivr.net/npm//vega@5?noext\",\n",
       "      \"vega-lib\": \"https://cdn.jsdelivr.net/npm//vega-lib?noext\",\n",
       "      \"vega-lite\": \"https://cdn.jsdelivr.net/npm//vega-lite@4.8.1?noext\",\n",
       "      \"vega-embed\": \"https://cdn.jsdelivr.net/npm//vega-embed@6?noext\",\n",
       "    };\n",
       "\n",
       "    function loadScript(lib) {\n",
       "      return new Promise(function(resolve, reject) {\n",
       "        var s = document.createElement('script');\n",
       "        s.src = paths[lib];\n",
       "        s.async = true;\n",
       "        s.onload = () => resolve(paths[lib]);\n",
       "        s.onerror = () => reject(`Error loading script: ${paths[lib]}`);\n",
       "        document.getElementsByTagName(\"head\")[0].appendChild(s);\n",
       "      });\n",
       "    }\n",
       "\n",
       "    function showError(err) {\n",
       "      outputDiv.innerHTML = `<div class=\"error\" style=\"color:red;\">${err}</div>`;\n",
       "      throw err;\n",
       "    }\n",
       "\n",
       "    function displayChart(vegaEmbed) {\n",
       "      vegaEmbed(outputDiv, spec, embedOpt)\n",
       "        .catch(err => showError(`Javascript Error: ${err.message}<br>This usually means there's a typo in your chart specification. See the javascript console for the full traceback.`));\n",
       "    }\n",
       "\n",
       "    if(typeof define === \"function\" && define.amd) {\n",
       "      requirejs.config({paths});\n",
       "      require([\"vega-embed\"], displayChart, err => showError(`Error loading script: ${err.message}`));\n",
       "    } else if (typeof vegaEmbed === \"function\") {\n",
       "      displayChart(vegaEmbed);\n",
       "    } else {\n",
       "      loadScript(\"vega\")\n",
       "        .then(() => loadScript(\"vega-lite\"))\n",
       "        .then(() => loadScript(\"vega-embed\"))\n",
       "        .catch(showError)\n",
       "        .then(() => displayChart(vegaEmbed));\n",
       "    }\n",
       "  })({\"config\": {\"view\": {\"continuousWidth\": 400, \"continuousHeight\": 300}}, \"vconcat\": [{\"mark\": \"line\", \"encoding\": {\"x\": {\"type\": \"quantitative\", \"field\": \"t\"}, \"y\": {\"type\": \"quantitative\", \"field\": \"x\"}}, \"height\": 80}, {\"mark\": \"line\", \"encoding\": {\"x\": {\"type\": \"quantitative\", \"field\": \"t\"}, \"y\": {\"type\": \"quantitative\", \"field\": \"y\"}}, \"height\": 80}, {\"mark\": \"line\", \"encoding\": {\"x\": {\"type\": \"quantitative\", \"field\": \"t\"}, \"y\": {\"type\": \"quantitative\", \"field\": \"z\"}}, \"height\": 80}], \"data\": {\"name\": \"data-c91a10f288f4cb0e66c735179d061229\"}, \"$schema\": \"https://vega.github.io/schema/vega-lite/v4.8.1.json\", \"datasets\": {\"data-c91a10f288f4cb0e66c735179d061229\": [{\"t\": 0.0, \"x\": 0.0, \"y\": -0.25, \"z\": 0.25}, {\"t\": 5.390964663211957, \"x\": -0.19999999999999998, \"y\": -0.75, \"z\": 0.22499999999999998}, {\"t\": 7.390964663211957, \"x\": -0.2, \"y\": -0.75, \"z\": 0.145}, {\"t\": 9.390964663211957, \"x\": -0.2, \"y\": -0.75, \"z\": 0.145}, {\"t\": 11.390964663211957, \"x\": -0.2, \"y\": -0.75, \"z\": 0.22499999999999998}, {\"t\": 18.145592706265106, \"x\": 0.27499999999999997, \"y\": -0.375, \"z\": 0.5249999999999999}, {\"t\": 24.900220749318255, \"x\": 0.75, \"y\": 0.0, \"z\": 0.22499999999999998}, {\"t\": 26.900220749318255, \"x\": 0.75, \"y\": -4.499279347985572e-34, \"z\": 0.145}, {\"t\": 28.900220749318255, \"x\": 0.75, \"y\": -4.499279347985572e-34, \"z\": 0.145}, {\"t\": 30.900220749318255, \"x\": 0.75, \"y\": -7.498798913309288e-34, \"z\": 0.22499999999999998}]}}, {\"mode\": \"vega-lite\"});\n",
       "</script>"
      ],
      "text/plain": [
       "alt.VConcatChart(...)"
      ]
     },
     "execution_count": 78,
     "metadata": {},
     "output_type": "execute_result"
    }
   ],
   "source": [
    "data = dataframe(traj_p_G, traj_p_G.get_segment_times(), ['x','y','z'])\n",
    "alt.vconcat(\n",
    "  alt.Chart(data).mark_line().encode(x='t', y='x').properties(height=80),\n",
    "  alt.Chart(data).mark_line().encode(x='t', y='y').properties(height=80),\n",
    "  alt.Chart(data).mark_line().encode(x='t', y='z').properties(height=80),\n",
    ")"
   ]
  },
  {
   "cell_type": "markdown",
   "metadata": {
    "colab_type": "text",
    "id": "yIVvA6ZoFLvt"
   },
   "source": [
    "Unfortunately, Altair doesn't do 3D plotting (neither does mpld3), so here is the Plotly Express version."
   ]
  },
  {
   "cell_type": "code",
   "execution_count": 79,
   "metadata": {
    "colab": {},
    "colab_type": "code",
    "id": "2vgn7mxcDvlK"
   },
   "outputs": [
    {
     "data": {
      "application/vnd.plotly.v1+json": {
       "config": {
        "plotlyServerURL": "https://plot.ly"
       },
       "data": [
        {
         "hoverlabel": {
          "namelength": 0
         },
         "hovertemplate": "x=%{x}<br>y=%{y}<br>z=%{z}",
         "legendgroup": "",
         "line": {
          "color": "rgb(153, 51, 51)",
          "dash": "solid"
         },
         "marker": {
          "color": "rgb(153, 51, 51)",
          "size": 3
         },
         "mode": "lines+markers",
         "name": "",
         "scene": "scene",
         "showlegend": false,
         "type": "scatter3d",
         "x": [
          0,
          -0.02339532122291312,
          -0.04679064244582624,
          -0.07018596366873936,
          -0.09358128489165247,
          -0.11697660611456559,
          -0.14037192733747872,
          -0.16376724856039182,
          -0.18716256978330495,
          -0.19999999999999998,
          -0.19999999999999998,
          -0.2,
          -0.2,
          -0.2,
          -0.2,
          -0.2,
          -0.2,
          -0.2,
          -0.2,
          -0.15845693474012273,
          -0.11411060592169743,
          -0.06976427710327215,
          -0.025417948284846975,
          0.018928380533578315,
          0.06327470935200358,
          0.1076210381704289,
          0.15196736698885416,
          0.1963136958072793,
          0.24066002462570452,
          0.2850063534441299,
          0.32935268226255504,
          0.37369901108098047,
          0.4180453398994056,
          0.4623916687178308,
          0.5067379975362563,
          0.5510843263546814,
          0.5954306551731068,
          0.6397769839915319,
          0.6841233128099571,
          0.7284696416283825,
          0.75,
          0.75,
          0.75,
          0.75,
          0.75,
          0.75,
          0.75,
          0.75,
          0.75,
          0.75
         ],
         "y": [
          -0.25,
          -0.3084883030572828,
          -0.3669766061145656,
          -0.4254649091718484,
          -0.4839532122291312,
          -0.5424415152864139,
          -0.6009298183436969,
          -0.6594181214009796,
          -0.7179064244582624,
          -0.75,
          -0.75,
          -0.75,
          -0.75,
          -0.75,
          -0.75,
          -0.75,
          -0.75,
          -0.75,
          -0.75,
          -0.7172028432158863,
          -0.6821925836223927,
          -0.6471823240288991,
          -0.6121720644354055,
          -0.5771618048419118,
          -0.5421515452484182,
          -0.5071412856549246,
          -0.47213102606143087,
          -0.43712076646793735,
          -0.4021105068744438,
          -0.36710024728095003,
          -0.3320899876874565,
          -0.29707972809396277,
          -0.2620694685004692,
          -0.22705920890697565,
          -0.1920489493134819,
          -0.15703868971998836,
          -0.12202843012649461,
          -0.08701817053300104,
          -0.05200791093950752,
          -0.016997651346013776,
          -7.29893905278903e-35,
          -2.1485543651319908e-34,
          -3.5672148249850866e-34,
          -4.499279347985572e-34,
          -4.499279347985572e-34,
          -4.499279347985572e-34,
          -4.661477993603107e-34,
          -5.60725163350517e-34,
          -6.553025273407229e-34,
          -7.498798913309288e-34
         ],
         "z": [
          0.25,
          0.24707558484713585,
          0.24415116969427172,
          0.24122675454140757,
          0.23830233938854342,
          0.2353779242356793,
          0.23245350908281515,
          0.229529093929951,
          0.22660467877708687,
          0.21361655653348696,
          0.1883918865340435,
          0.16316721653460006,
          0.145,
          0.145,
          0.145,
          0.1477314634631738,
          0.1729561334626173,
          0.1981808034620608,
          0.22340547346150427,
          0.2512377254272909,
          0.2792459331020858,
          0.30725414077688074,
          0.3352623484516756,
          0.36327055612647047,
          0.39127876380126536,
          0.4192869714760603,
          0.4472951791508552,
          0.47530338682565004,
          0.5033115945004449,
          0.5186801978247599,
          0.4906719901499651,
          0.46266378247517015,
          0.4346555748003753,
          0.4066473671255805,
          0.37863915945078547,
          0.35063095177599063,
          0.3226227441011956,
          0.2946145364264008,
          0.266606328751606,
          0.238598121076811,
          0.2120220299949912,
          0.18679735999554778,
          0.16157268999610422,
          0.145,
          0.145,
          0.145,
          0.14932599000166957,
          0.17455066000111313,
          0.19977533000055656,
          0.22499999999999998
         ]
        }
       ],
       "layout": {
        "legend": {
         "tracegroupgap": 0
        },
        "margin": {
         "t": 60
        },
        "scene": {
         "domain": {
          "x": [
           0,
           1
          ],
          "y": [
           0,
           1
          ]
         },
         "xaxis": {
          "title": {
           "text": "x"
          }
         },
         "yaxis": {
          "title": {
           "text": "y"
          }
         },
         "zaxis": {
          "title": {
           "text": "z"
          }
         }
        },
        "template": {
         "data": {
          "bar": [
           {
            "error_x": {
             "color": "#2a3f5f"
            },
            "error_y": {
             "color": "#2a3f5f"
            },
            "marker": {
             "line": {
              "color": "#E5ECF6",
              "width": 0.5
             }
            },
            "type": "bar"
           }
          ],
          "barpolar": [
           {
            "marker": {
             "line": {
              "color": "#E5ECF6",
              "width": 0.5
             }
            },
            "type": "barpolar"
           }
          ],
          "carpet": [
           {
            "aaxis": {
             "endlinecolor": "#2a3f5f",
             "gridcolor": "white",
             "linecolor": "white",
             "minorgridcolor": "white",
             "startlinecolor": "#2a3f5f"
            },
            "baxis": {
             "endlinecolor": "#2a3f5f",
             "gridcolor": "white",
             "linecolor": "white",
             "minorgridcolor": "white",
             "startlinecolor": "#2a3f5f"
            },
            "type": "carpet"
           }
          ],
          "choropleth": [
           {
            "colorbar": {
             "outlinewidth": 0,
             "ticks": ""
            },
            "type": "choropleth"
           }
          ],
          "contour": [
           {
            "colorbar": {
             "outlinewidth": 0,
             "ticks": ""
            },
            "colorscale": [
             [
              0,
              "#0d0887"
             ],
             [
              0.1111111111111111,
              "#46039f"
             ],
             [
              0.2222222222222222,
              "#7201a8"
             ],
             [
              0.3333333333333333,
              "#9c179e"
             ],
             [
              0.4444444444444444,
              "#bd3786"
             ],
             [
              0.5555555555555556,
              "#d8576b"
             ],
             [
              0.6666666666666666,
              "#ed7953"
             ],
             [
              0.7777777777777778,
              "#fb9f3a"
             ],
             [
              0.8888888888888888,
              "#fdca26"
             ],
             [
              1,
              "#f0f921"
             ]
            ],
            "type": "contour"
           }
          ],
          "contourcarpet": [
           {
            "colorbar": {
             "outlinewidth": 0,
             "ticks": ""
            },
            "type": "contourcarpet"
           }
          ],
          "heatmap": [
           {
            "colorbar": {
             "outlinewidth": 0,
             "ticks": ""
            },
            "colorscale": [
             [
              0,
              "#0d0887"
             ],
             [
              0.1111111111111111,
              "#46039f"
             ],
             [
              0.2222222222222222,
              "#7201a8"
             ],
             [
              0.3333333333333333,
              "#9c179e"
             ],
             [
              0.4444444444444444,
              "#bd3786"
             ],
             [
              0.5555555555555556,
              "#d8576b"
             ],
             [
              0.6666666666666666,
              "#ed7953"
             ],
             [
              0.7777777777777778,
              "#fb9f3a"
             ],
             [
              0.8888888888888888,
              "#fdca26"
             ],
             [
              1,
              "#f0f921"
             ]
            ],
            "type": "heatmap"
           }
          ],
          "heatmapgl": [
           {
            "colorbar": {
             "outlinewidth": 0,
             "ticks": ""
            },
            "colorscale": [
             [
              0,
              "#0d0887"
             ],
             [
              0.1111111111111111,
              "#46039f"
             ],
             [
              0.2222222222222222,
              "#7201a8"
             ],
             [
              0.3333333333333333,
              "#9c179e"
             ],
             [
              0.4444444444444444,
              "#bd3786"
             ],
             [
              0.5555555555555556,
              "#d8576b"
             ],
             [
              0.6666666666666666,
              "#ed7953"
             ],
             [
              0.7777777777777778,
              "#fb9f3a"
             ],
             [
              0.8888888888888888,
              "#fdca26"
             ],
             [
              1,
              "#f0f921"
             ]
            ],
            "type": "heatmapgl"
           }
          ],
          "histogram": [
           {
            "marker": {
             "colorbar": {
              "outlinewidth": 0,
              "ticks": ""
             }
            },
            "type": "histogram"
           }
          ],
          "histogram2d": [
           {
            "colorbar": {
             "outlinewidth": 0,
             "ticks": ""
            },
            "colorscale": [
             [
              0,
              "#0d0887"
             ],
             [
              0.1111111111111111,
              "#46039f"
             ],
             [
              0.2222222222222222,
              "#7201a8"
             ],
             [
              0.3333333333333333,
              "#9c179e"
             ],
             [
              0.4444444444444444,
              "#bd3786"
             ],
             [
              0.5555555555555556,
              "#d8576b"
             ],
             [
              0.6666666666666666,
              "#ed7953"
             ],
             [
              0.7777777777777778,
              "#fb9f3a"
             ],
             [
              0.8888888888888888,
              "#fdca26"
             ],
             [
              1,
              "#f0f921"
             ]
            ],
            "type": "histogram2d"
           }
          ],
          "histogram2dcontour": [
           {
            "colorbar": {
             "outlinewidth": 0,
             "ticks": ""
            },
            "colorscale": [
             [
              0,
              "#0d0887"
             ],
             [
              0.1111111111111111,
              "#46039f"
             ],
             [
              0.2222222222222222,
              "#7201a8"
             ],
             [
              0.3333333333333333,
              "#9c179e"
             ],
             [
              0.4444444444444444,
              "#bd3786"
             ],
             [
              0.5555555555555556,
              "#d8576b"
             ],
             [
              0.6666666666666666,
              "#ed7953"
             ],
             [
              0.7777777777777778,
              "#fb9f3a"
             ],
             [
              0.8888888888888888,
              "#fdca26"
             ],
             [
              1,
              "#f0f921"
             ]
            ],
            "type": "histogram2dcontour"
           }
          ],
          "mesh3d": [
           {
            "colorbar": {
             "outlinewidth": 0,
             "ticks": ""
            },
            "type": "mesh3d"
           }
          ],
          "parcoords": [
           {
            "line": {
             "colorbar": {
              "outlinewidth": 0,
              "ticks": ""
             }
            },
            "type": "parcoords"
           }
          ],
          "pie": [
           {
            "automargin": true,
            "type": "pie"
           }
          ],
          "scatter": [
           {
            "marker": {
             "colorbar": {
              "outlinewidth": 0,
              "ticks": ""
             }
            },
            "type": "scatter"
           }
          ],
          "scatter3d": [
           {
            "line": {
             "colorbar": {
              "outlinewidth": 0,
              "ticks": ""
             }
            },
            "marker": {
             "colorbar": {
              "outlinewidth": 0,
              "ticks": ""
             }
            },
            "type": "scatter3d"
           }
          ],
          "scattercarpet": [
           {
            "marker": {
             "colorbar": {
              "outlinewidth": 0,
              "ticks": ""
             }
            },
            "type": "scattercarpet"
           }
          ],
          "scattergeo": [
           {
            "marker": {
             "colorbar": {
              "outlinewidth": 0,
              "ticks": ""
             }
            },
            "type": "scattergeo"
           }
          ],
          "scattergl": [
           {
            "marker": {
             "colorbar": {
              "outlinewidth": 0,
              "ticks": ""
             }
            },
            "type": "scattergl"
           }
          ],
          "scattermapbox": [
           {
            "marker": {
             "colorbar": {
              "outlinewidth": 0,
              "ticks": ""
             }
            },
            "type": "scattermapbox"
           }
          ],
          "scatterpolar": [
           {
            "marker": {
             "colorbar": {
              "outlinewidth": 0,
              "ticks": ""
             }
            },
            "type": "scatterpolar"
           }
          ],
          "scatterpolargl": [
           {
            "marker": {
             "colorbar": {
              "outlinewidth": 0,
              "ticks": ""
             }
            },
            "type": "scatterpolargl"
           }
          ],
          "scatterternary": [
           {
            "marker": {
             "colorbar": {
              "outlinewidth": 0,
              "ticks": ""
             }
            },
            "type": "scatterternary"
           }
          ],
          "surface": [
           {
            "colorbar": {
             "outlinewidth": 0,
             "ticks": ""
            },
            "colorscale": [
             [
              0,
              "#0d0887"
             ],
             [
              0.1111111111111111,
              "#46039f"
             ],
             [
              0.2222222222222222,
              "#7201a8"
             ],
             [
              0.3333333333333333,
              "#9c179e"
             ],
             [
              0.4444444444444444,
              "#bd3786"
             ],
             [
              0.5555555555555556,
              "#d8576b"
             ],
             [
              0.6666666666666666,
              "#ed7953"
             ],
             [
              0.7777777777777778,
              "#fb9f3a"
             ],
             [
              0.8888888888888888,
              "#fdca26"
             ],
             [
              1,
              "#f0f921"
             ]
            ],
            "type": "surface"
           }
          ],
          "table": [
           {
            "cells": {
             "fill": {
              "color": "#EBF0F8"
             },
             "line": {
              "color": "white"
             }
            },
            "header": {
             "fill": {
              "color": "#C8D4E3"
             },
             "line": {
              "color": "white"
             }
            },
            "type": "table"
           }
          ]
         },
         "layout": {
          "annotationdefaults": {
           "arrowcolor": "#2a3f5f",
           "arrowhead": 0,
           "arrowwidth": 1
          },
          "coloraxis": {
           "colorbar": {
            "outlinewidth": 0,
            "ticks": ""
           }
          },
          "colorscale": {
           "diverging": [
            [
             0,
             "#8e0152"
            ],
            [
             0.1,
             "#c51b7d"
            ],
            [
             0.2,
             "#de77ae"
            ],
            [
             0.3,
             "#f1b6da"
            ],
            [
             0.4,
             "#fde0ef"
            ],
            [
             0.5,
             "#f7f7f7"
            ],
            [
             0.6,
             "#e6f5d0"
            ],
            [
             0.7,
             "#b8e186"
            ],
            [
             0.8,
             "#7fbc41"
            ],
            [
             0.9,
             "#4d9221"
            ],
            [
             1,
             "#276419"
            ]
           ],
           "sequential": [
            [
             0,
             "#0d0887"
            ],
            [
             0.1111111111111111,
             "#46039f"
            ],
            [
             0.2222222222222222,
             "#7201a8"
            ],
            [
             0.3333333333333333,
             "#9c179e"
            ],
            [
             0.4444444444444444,
             "#bd3786"
            ],
            [
             0.5555555555555556,
             "#d8576b"
            ],
            [
             0.6666666666666666,
             "#ed7953"
            ],
            [
             0.7777777777777778,
             "#fb9f3a"
            ],
            [
             0.8888888888888888,
             "#fdca26"
            ],
            [
             1,
             "#f0f921"
            ]
           ],
           "sequentialminus": [
            [
             0,
             "#0d0887"
            ],
            [
             0.1111111111111111,
             "#46039f"
            ],
            [
             0.2222222222222222,
             "#7201a8"
            ],
            [
             0.3333333333333333,
             "#9c179e"
            ],
            [
             0.4444444444444444,
             "#bd3786"
            ],
            [
             0.5555555555555556,
             "#d8576b"
            ],
            [
             0.6666666666666666,
             "#ed7953"
            ],
            [
             0.7777777777777778,
             "#fb9f3a"
            ],
            [
             0.8888888888888888,
             "#fdca26"
            ],
            [
             1,
             "#f0f921"
            ]
           ]
          },
          "colorway": [
           "#636efa",
           "#EF553B",
           "#00cc96",
           "#ab63fa",
           "#FFA15A",
           "#19d3f3",
           "#FF6692",
           "#B6E880",
           "#FF97FF",
           "#FECB52"
          ],
          "font": {
           "color": "#2a3f5f"
          },
          "geo": {
           "bgcolor": "white",
           "lakecolor": "white",
           "landcolor": "#E5ECF6",
           "showlakes": true,
           "showland": true,
           "subunitcolor": "white"
          },
          "hoverlabel": {
           "align": "left"
          },
          "hovermode": "closest",
          "mapbox": {
           "style": "light"
          },
          "paper_bgcolor": "white",
          "plot_bgcolor": "#E5ECF6",
          "polar": {
           "angularaxis": {
            "gridcolor": "white",
            "linecolor": "white",
            "ticks": ""
           },
           "bgcolor": "#E5ECF6",
           "radialaxis": {
            "gridcolor": "white",
            "linecolor": "white",
            "ticks": ""
           }
          },
          "scene": {
           "xaxis": {
            "backgroundcolor": "#E5ECF6",
            "gridcolor": "white",
            "gridwidth": 2,
            "linecolor": "white",
            "showbackground": true,
            "ticks": "",
            "zerolinecolor": "white"
           },
           "yaxis": {
            "backgroundcolor": "#E5ECF6",
            "gridcolor": "white",
            "gridwidth": 2,
            "linecolor": "white",
            "showbackground": true,
            "ticks": "",
            "zerolinecolor": "white"
           },
           "zaxis": {
            "backgroundcolor": "#E5ECF6",
            "gridcolor": "white",
            "gridwidth": 2,
            "linecolor": "white",
            "showbackground": true,
            "ticks": "",
            "zerolinecolor": "white"
           }
          },
          "shapedefaults": {
           "line": {
            "color": "#2a3f5f"
           }
          },
          "ternary": {
           "aaxis": {
            "gridcolor": "white",
            "linecolor": "white",
            "ticks": ""
           },
           "baxis": {
            "gridcolor": "white",
            "linecolor": "white",
            "ticks": ""
           },
           "bgcolor": "#E5ECF6",
           "caxis": {
            "gridcolor": "white",
            "linecolor": "white",
            "ticks": ""
           }
          },
          "title": {
           "x": 0.05
          },
          "xaxis": {
           "automargin": true,
           "gridcolor": "white",
           "linecolor": "white",
           "ticks": "",
           "title": {
            "standoff": 15
           },
           "zerolinecolor": "white",
           "zerolinewidth": 2
          },
          "yaxis": {
           "automargin": true,
           "gridcolor": "white",
           "linecolor": "white",
           "ticks": "",
           "title": {
            "standoff": 15
           },
           "zerolinecolor": "white",
           "zerolinewidth": 2
          }
         }
        }
       }
      },
      "text/html": [
       "<div>\n",
       "        \n",
       "        \n",
       "            <div id=\"2091f165-c859-4d2a-aff9-5f5f07430592\" class=\"plotly-graph-div\" style=\"height:525px; width:100%;\"></div>\n",
       "            <script type=\"text/javascript\">\n",
       "                require([\"plotly\"], function(Plotly) {\n",
       "                    window.PLOTLYENV=window.PLOTLYENV || {};\n",
       "                    \n",
       "                if (document.getElementById(\"2091f165-c859-4d2a-aff9-5f5f07430592\")) {\n",
       "                    Plotly.newPlot(\n",
       "                        '2091f165-c859-4d2a-aff9-5f5f07430592',\n",
       "                        [{\"hoverlabel\": {\"namelength\": 0}, \"hovertemplate\": \"x=%{x}<br>y=%{y}<br>z=%{z}\", \"legendgroup\": \"\", \"line\": {\"color\": \"rgb(153, 51, 51)\", \"dash\": \"solid\"}, \"marker\": {\"color\": \"rgb(153, 51, 51)\", \"size\": 3}, \"mode\": \"lines+markers\", \"name\": \"\", \"scene\": \"scene\", \"showlegend\": false, \"type\": \"scatter3d\", \"x\": [0.0, -0.02339532122291312, -0.04679064244582624, -0.07018596366873936, -0.09358128489165247, -0.11697660611456559, -0.14037192733747872, -0.16376724856039182, -0.18716256978330495, -0.19999999999999998, -0.19999999999999998, -0.2, -0.2, -0.2, -0.2, -0.2, -0.2, -0.2, -0.2, -0.15845693474012273, -0.11411060592169743, -0.06976427710327215, -0.025417948284846975, 0.018928380533578315, 0.06327470935200358, 0.1076210381704289, 0.15196736698885416, 0.1963136958072793, 0.24066002462570452, 0.2850063534441299, 0.32935268226255504, 0.37369901108098047, 0.4180453398994056, 0.4623916687178308, 0.5067379975362563, 0.5510843263546814, 0.5954306551731068, 0.6397769839915319, 0.6841233128099571, 0.7284696416283825, 0.75, 0.75, 0.75, 0.75, 0.75, 0.75, 0.75, 0.75, 0.75, 0.75], \"y\": [-0.25, -0.3084883030572828, -0.3669766061145656, -0.4254649091718484, -0.4839532122291312, -0.5424415152864139, -0.6009298183436969, -0.6594181214009796, -0.7179064244582624, -0.75, -0.75, -0.75, -0.75, -0.75, -0.75, -0.75, -0.75, -0.75, -0.75, -0.7172028432158863, -0.6821925836223927, -0.6471823240288991, -0.6121720644354055, -0.5771618048419118, -0.5421515452484182, -0.5071412856549246, -0.47213102606143087, -0.43712076646793735, -0.4021105068744438, -0.36710024728095003, -0.3320899876874565, -0.29707972809396277, -0.2620694685004692, -0.22705920890697565, -0.1920489493134819, -0.15703868971998836, -0.12202843012649461, -0.08701817053300104, -0.05200791093950752, -0.016997651346013776, -7.29893905278903e-35, -2.1485543651319908e-34, -3.5672148249850866e-34, -4.499279347985572e-34, -4.499279347985572e-34, -4.499279347985572e-34, -4.661477993603107e-34, -5.60725163350517e-34, -6.553025273407229e-34, -7.498798913309288e-34], \"z\": [0.25, 0.24707558484713585, 0.24415116969427172, 0.24122675454140757, 0.23830233938854342, 0.2353779242356793, 0.23245350908281515, 0.229529093929951, 0.22660467877708687, 0.21361655653348696, 0.1883918865340435, 0.16316721653460006, 0.145, 0.145, 0.145, 0.1477314634631738, 0.1729561334626173, 0.1981808034620608, 0.22340547346150427, 0.2512377254272909, 0.2792459331020858, 0.30725414077688074, 0.3352623484516756, 0.36327055612647047, 0.39127876380126536, 0.4192869714760603, 0.4472951791508552, 0.47530338682565004, 0.5033115945004449, 0.5186801978247599, 0.4906719901499651, 0.46266378247517015, 0.4346555748003753, 0.4066473671255805, 0.37863915945078547, 0.35063095177599063, 0.3226227441011956, 0.2946145364264008, 0.266606328751606, 0.238598121076811, 0.2120220299949912, 0.18679735999554778, 0.16157268999610422, 0.145, 0.145, 0.145, 0.14932599000166957, 0.17455066000111313, 0.19977533000055656, 0.22499999999999998]}],\n",
       "                        {\"legend\": {\"tracegroupgap\": 0}, \"margin\": {\"t\": 60}, \"scene\": {\"domain\": {\"x\": [0.0, 1.0], \"y\": [0.0, 1.0]}, \"xaxis\": {\"title\": {\"text\": \"x\"}}, \"yaxis\": {\"title\": {\"text\": \"y\"}}, \"zaxis\": {\"title\": {\"text\": \"z\"}}}, \"template\": {\"data\": {\"bar\": [{\"error_x\": {\"color\": \"#2a3f5f\"}, \"error_y\": {\"color\": \"#2a3f5f\"}, \"marker\": {\"line\": {\"color\": \"#E5ECF6\", \"width\": 0.5}}, \"type\": \"bar\"}], \"barpolar\": [{\"marker\": {\"line\": {\"color\": \"#E5ECF6\", \"width\": 0.5}}, \"type\": \"barpolar\"}], \"carpet\": [{\"aaxis\": {\"endlinecolor\": \"#2a3f5f\", \"gridcolor\": \"white\", \"linecolor\": \"white\", \"minorgridcolor\": \"white\", \"startlinecolor\": \"#2a3f5f\"}, \"baxis\": {\"endlinecolor\": \"#2a3f5f\", \"gridcolor\": \"white\", \"linecolor\": \"white\", \"minorgridcolor\": \"white\", \"startlinecolor\": \"#2a3f5f\"}, \"type\": \"carpet\"}], \"choropleth\": [{\"colorbar\": {\"outlinewidth\": 0, \"ticks\": \"\"}, \"type\": \"choropleth\"}], \"contour\": [{\"colorbar\": {\"outlinewidth\": 0, \"ticks\": \"\"}, \"colorscale\": [[0.0, \"#0d0887\"], [0.1111111111111111, \"#46039f\"], [0.2222222222222222, \"#7201a8\"], [0.3333333333333333, \"#9c179e\"], [0.4444444444444444, \"#bd3786\"], [0.5555555555555556, \"#d8576b\"], [0.6666666666666666, \"#ed7953\"], [0.7777777777777778, \"#fb9f3a\"], [0.8888888888888888, \"#fdca26\"], [1.0, \"#f0f921\"]], \"type\": \"contour\"}], \"contourcarpet\": [{\"colorbar\": {\"outlinewidth\": 0, \"ticks\": \"\"}, \"type\": \"contourcarpet\"}], \"heatmap\": [{\"colorbar\": {\"outlinewidth\": 0, \"ticks\": \"\"}, \"colorscale\": [[0.0, \"#0d0887\"], [0.1111111111111111, \"#46039f\"], [0.2222222222222222, \"#7201a8\"], [0.3333333333333333, \"#9c179e\"], [0.4444444444444444, \"#bd3786\"], [0.5555555555555556, \"#d8576b\"], [0.6666666666666666, \"#ed7953\"], [0.7777777777777778, \"#fb9f3a\"], [0.8888888888888888, \"#fdca26\"], [1.0, \"#f0f921\"]], \"type\": \"heatmap\"}], \"heatmapgl\": [{\"colorbar\": {\"outlinewidth\": 0, \"ticks\": \"\"}, \"colorscale\": [[0.0, \"#0d0887\"], [0.1111111111111111, \"#46039f\"], [0.2222222222222222, \"#7201a8\"], [0.3333333333333333, \"#9c179e\"], [0.4444444444444444, \"#bd3786\"], [0.5555555555555556, \"#d8576b\"], [0.6666666666666666, \"#ed7953\"], [0.7777777777777778, \"#fb9f3a\"], [0.8888888888888888, \"#fdca26\"], [1.0, \"#f0f921\"]], \"type\": \"heatmapgl\"}], \"histogram\": [{\"marker\": {\"colorbar\": {\"outlinewidth\": 0, \"ticks\": \"\"}}, \"type\": \"histogram\"}], \"histogram2d\": [{\"colorbar\": {\"outlinewidth\": 0, \"ticks\": \"\"}, \"colorscale\": [[0.0, \"#0d0887\"], [0.1111111111111111, \"#46039f\"], [0.2222222222222222, \"#7201a8\"], [0.3333333333333333, \"#9c179e\"], [0.4444444444444444, \"#bd3786\"], [0.5555555555555556, \"#d8576b\"], [0.6666666666666666, \"#ed7953\"], [0.7777777777777778, \"#fb9f3a\"], [0.8888888888888888, \"#fdca26\"], [1.0, \"#f0f921\"]], \"type\": \"histogram2d\"}], \"histogram2dcontour\": [{\"colorbar\": {\"outlinewidth\": 0, \"ticks\": \"\"}, \"colorscale\": [[0.0, \"#0d0887\"], [0.1111111111111111, \"#46039f\"], [0.2222222222222222, \"#7201a8\"], [0.3333333333333333, \"#9c179e\"], [0.4444444444444444, \"#bd3786\"], [0.5555555555555556, \"#d8576b\"], [0.6666666666666666, \"#ed7953\"], [0.7777777777777778, \"#fb9f3a\"], [0.8888888888888888, \"#fdca26\"], [1.0, \"#f0f921\"]], \"type\": \"histogram2dcontour\"}], \"mesh3d\": [{\"colorbar\": {\"outlinewidth\": 0, \"ticks\": \"\"}, \"type\": \"mesh3d\"}], \"parcoords\": [{\"line\": {\"colorbar\": {\"outlinewidth\": 0, \"ticks\": \"\"}}, \"type\": \"parcoords\"}], \"pie\": [{\"automargin\": true, \"type\": \"pie\"}], \"scatter\": [{\"marker\": {\"colorbar\": {\"outlinewidth\": 0, \"ticks\": \"\"}}, \"type\": \"scatter\"}], \"scatter3d\": [{\"line\": {\"colorbar\": {\"outlinewidth\": 0, \"ticks\": \"\"}}, \"marker\": {\"colorbar\": {\"outlinewidth\": 0, \"ticks\": \"\"}}, \"type\": \"scatter3d\"}], \"scattercarpet\": [{\"marker\": {\"colorbar\": {\"outlinewidth\": 0, \"ticks\": \"\"}}, \"type\": \"scattercarpet\"}], \"scattergeo\": [{\"marker\": {\"colorbar\": {\"outlinewidth\": 0, \"ticks\": \"\"}}, \"type\": \"scattergeo\"}], \"scattergl\": [{\"marker\": {\"colorbar\": {\"outlinewidth\": 0, \"ticks\": \"\"}}, \"type\": \"scattergl\"}], \"scattermapbox\": [{\"marker\": {\"colorbar\": {\"outlinewidth\": 0, \"ticks\": \"\"}}, \"type\": \"scattermapbox\"}], \"scatterpolar\": [{\"marker\": {\"colorbar\": {\"outlinewidth\": 0, \"ticks\": \"\"}}, \"type\": \"scatterpolar\"}], \"scatterpolargl\": [{\"marker\": {\"colorbar\": {\"outlinewidth\": 0, \"ticks\": \"\"}}, \"type\": \"scatterpolargl\"}], \"scatterternary\": [{\"marker\": {\"colorbar\": {\"outlinewidth\": 0, \"ticks\": \"\"}}, \"type\": \"scatterternary\"}], \"surface\": [{\"colorbar\": {\"outlinewidth\": 0, \"ticks\": \"\"}, \"colorscale\": [[0.0, \"#0d0887\"], [0.1111111111111111, \"#46039f\"], [0.2222222222222222, \"#7201a8\"], [0.3333333333333333, \"#9c179e\"], [0.4444444444444444, \"#bd3786\"], [0.5555555555555556, \"#d8576b\"], [0.6666666666666666, \"#ed7953\"], [0.7777777777777778, \"#fb9f3a\"], [0.8888888888888888, \"#fdca26\"], [1.0, \"#f0f921\"]], \"type\": \"surface\"}], \"table\": [{\"cells\": {\"fill\": {\"color\": \"#EBF0F8\"}, \"line\": {\"color\": \"white\"}}, \"header\": {\"fill\": {\"color\": \"#C8D4E3\"}, \"line\": {\"color\": \"white\"}}, \"type\": \"table\"}]}, \"layout\": {\"annotationdefaults\": {\"arrowcolor\": \"#2a3f5f\", \"arrowhead\": 0, \"arrowwidth\": 1}, \"coloraxis\": {\"colorbar\": {\"outlinewidth\": 0, \"ticks\": \"\"}}, \"colorscale\": {\"diverging\": [[0, \"#8e0152\"], [0.1, \"#c51b7d\"], [0.2, \"#de77ae\"], [0.3, \"#f1b6da\"], [0.4, \"#fde0ef\"], [0.5, \"#f7f7f7\"], [0.6, \"#e6f5d0\"], [0.7, \"#b8e186\"], [0.8, \"#7fbc41\"], [0.9, \"#4d9221\"], [1, \"#276419\"]], \"sequential\": [[0.0, \"#0d0887\"], [0.1111111111111111, \"#46039f\"], [0.2222222222222222, \"#7201a8\"], [0.3333333333333333, \"#9c179e\"], [0.4444444444444444, \"#bd3786\"], [0.5555555555555556, \"#d8576b\"], [0.6666666666666666, \"#ed7953\"], [0.7777777777777778, \"#fb9f3a\"], [0.8888888888888888, \"#fdca26\"], [1.0, \"#f0f921\"]], \"sequentialminus\": [[0.0, \"#0d0887\"], [0.1111111111111111, \"#46039f\"], [0.2222222222222222, \"#7201a8\"], [0.3333333333333333, \"#9c179e\"], [0.4444444444444444, \"#bd3786\"], [0.5555555555555556, \"#d8576b\"], [0.6666666666666666, \"#ed7953\"], [0.7777777777777778, \"#fb9f3a\"], [0.8888888888888888, \"#fdca26\"], [1.0, \"#f0f921\"]]}, \"colorway\": [\"#636efa\", \"#EF553B\", \"#00cc96\", \"#ab63fa\", \"#FFA15A\", \"#19d3f3\", \"#FF6692\", \"#B6E880\", \"#FF97FF\", \"#FECB52\"], \"font\": {\"color\": \"#2a3f5f\"}, \"geo\": {\"bgcolor\": \"white\", \"lakecolor\": \"white\", \"landcolor\": \"#E5ECF6\", \"showlakes\": true, \"showland\": true, \"subunitcolor\": \"white\"}, \"hoverlabel\": {\"align\": \"left\"}, \"hovermode\": \"closest\", \"mapbox\": {\"style\": \"light\"}, \"paper_bgcolor\": \"white\", \"plot_bgcolor\": \"#E5ECF6\", \"polar\": {\"angularaxis\": {\"gridcolor\": \"white\", \"linecolor\": \"white\", \"ticks\": \"\"}, \"bgcolor\": \"#E5ECF6\", \"radialaxis\": {\"gridcolor\": \"white\", \"linecolor\": \"white\", \"ticks\": \"\"}}, \"scene\": {\"xaxis\": {\"backgroundcolor\": \"#E5ECF6\", \"gridcolor\": \"white\", \"gridwidth\": 2, \"linecolor\": \"white\", \"showbackground\": true, \"ticks\": \"\", \"zerolinecolor\": \"white\"}, \"yaxis\": {\"backgroundcolor\": \"#E5ECF6\", \"gridcolor\": \"white\", \"gridwidth\": 2, \"linecolor\": \"white\", \"showbackground\": true, \"ticks\": \"\", \"zerolinecolor\": \"white\"}, \"zaxis\": {\"backgroundcolor\": \"#E5ECF6\", \"gridcolor\": \"white\", \"gridwidth\": 2, \"linecolor\": \"white\", \"showbackground\": true, \"ticks\": \"\", \"zerolinecolor\": \"white\"}}, \"shapedefaults\": {\"line\": {\"color\": \"#2a3f5f\"}}, \"ternary\": {\"aaxis\": {\"gridcolor\": \"white\", \"linecolor\": \"white\", \"ticks\": \"\"}, \"baxis\": {\"gridcolor\": \"white\", \"linecolor\": \"white\", \"ticks\": \"\"}, \"bgcolor\": \"#E5ECF6\", \"caxis\": {\"gridcolor\": \"white\", \"linecolor\": \"white\", \"ticks\": \"\"}}, \"title\": {\"x\": 0.05}, \"xaxis\": {\"automargin\": true, \"gridcolor\": \"white\", \"linecolor\": \"white\", \"ticks\": \"\", \"title\": {\"standoff\": 15}, \"zerolinecolor\": \"white\", \"zerolinewidth\": 2}, \"yaxis\": {\"automargin\": true, \"gridcolor\": \"white\", \"linecolor\": \"white\", \"ticks\": \"\", \"title\": {\"standoff\": 15}, \"zerolinecolor\": \"white\", \"zerolinewidth\": 2}}}},\n",
       "                        {\"responsive\": true}\n",
       "                    ).then(function(){\n",
       "                            \n",
       "var gd = document.getElementById('2091f165-c859-4d2a-aff9-5f5f07430592');\n",
       "var x = new MutationObserver(function (mutations, observer) {{\n",
       "        var display = window.getComputedStyle(gd).display;\n",
       "        if (!display || display === 'none') {{\n",
       "            console.log([gd, 'removed!']);\n",
       "            Plotly.purge(gd);\n",
       "            observer.disconnect();\n",
       "        }}\n",
       "}});\n",
       "\n",
       "// Listen for the removal of the full notebook cells\n",
       "var notebookContainer = gd.closest('#notebook-container');\n",
       "if (notebookContainer) {{\n",
       "    x.observe(notebookContainer, {childList: true});\n",
       "}}\n",
       "\n",
       "// Listen for the clearing of the current output cell\n",
       "var outputEl = gd.closest('.output');\n",
       "if (outputEl) {{\n",
       "    x.observe(outputEl, {childList: true});\n",
       "}}\n",
       "\n",
       "                        })\n",
       "                };\n",
       "                });\n",
       "            </script>\n",
       "        </div>"
      ]
     },
     "metadata": {},
     "output_type": "display_data"
    }
   ],
   "source": [
    "data = dataframe(traj_p_G, np.linspace(traj_p_G.start_time(), traj_p_G.end_time(), 50), ['x','y','z'])\n",
    "fig = px.line_3d(data, x='x', y='y', z='z')\n",
    "fig.update_traces(mode='lines+markers',\n",
    "                  marker=dict(size=3, color=\"rgb(153, 51, 51)\"),\n",
    "                  line=dict(color=\"rgb(153, 51, 51)\"))\n",
    "if running_as_notebook:\n",
    "    fig.show()"
   ]
  },
  {
   "cell_type": "markdown",
   "metadata": {
    "colab_type": "text",
    "id": "NhXx70MP4C2N"
   },
   "source": [
    "We also need to come up with a time trajectory for the orientations of our gripper.  Simple straight-line interpolation between rotations doesn't work particularly well, no matter how you are representing your rotations.  We'll use the quaternion \"slerp\" here (short for \"spherical linear interpolation\"), using the `PiecewiseQuaternionSlerp` trajectory class."
   ]
  },
  {
   "cell_type": "code",
   "execution_count": 80,
   "metadata": {
    "colab": {},
    "colab_type": "code",
    "id": "4yvktzauCntQ"
   },
   "outputs": [],
   "source": [
    "def make_gripper_orientation_trajectory(X_G, times):\n",
    "    \"\"\"\n",
    "    Constructs a gripper position trajectory from the plan \"sketch\".\n",
    "    \"\"\"\n",
    "    traj = PiecewiseQuaternionSlerp();\n",
    "    traj.Append(times[\"initial\"], X_G[\"initial\"].rotation())\n",
    "    traj.Append(times[\"prepick\"], X_G[\"prepick\"].rotation())\n",
    "    traj.Append(times[\"pick_start\"], X_G[\"pick\"].rotation())\n",
    "    traj.Append(times[\"pick_end\"], X_G[\"pick\"].rotation())\n",
    "    traj.Append(times[\"postpick\"], X_G[\"prepick\"].rotation())\n",
    "    traj.Append(times[\"clearance\"], X_G[\"clearance\"].rotation())\n",
    "    traj.Append(times[\"preplace\"], X_G[\"preplace\"].rotation())\n",
    "    traj.Append(times[\"place_start\"], X_G[\"place\"].rotation())\n",
    "    traj.Append(times[\"place_end\"], X_G[\"place\"].rotation())\n",
    "    traj.Append(times[\"postplace\"], X_G[\"preplace\"].rotation())\n",
    "\n",
    "    return traj\n",
    "\n",
    "traj_R_G = make_gripper_orientation_trajectory(X_G, times)"
   ]
  },
  {
   "cell_type": "markdown",
   "metadata": {
    "colab_type": "text",
    "id": "zNNRr4Fq7frG"
   },
   "source": [
    "We can plot the orientation trajectory, too.  Here are the components of the quaternion over time."
   ]
  },
  {
   "cell_type": "code",
   "execution_count": 81,
   "metadata": {
    "colab": {},
    "colab_type": "code",
    "id": "4aKEnaLJ50pF"
   },
   "outputs": [
    {
     "data": {
      "text/html": [
       "\n",
       "<div id=\"altair-viz-82fe14d2a9214949ab1acb4da5ddc69b\"></div>\n",
       "<script type=\"text/javascript\">\n",
       "  (function(spec, embedOpt){\n",
       "    let outputDiv = document.currentScript.previousElementSibling;\n",
       "    if (outputDiv.id !== \"altair-viz-82fe14d2a9214949ab1acb4da5ddc69b\") {\n",
       "      outputDiv = document.getElementById(\"altair-viz-82fe14d2a9214949ab1acb4da5ddc69b\");\n",
       "    }\n",
       "    const paths = {\n",
       "      \"vega\": \"https://cdn.jsdelivr.net/npm//vega@5?noext\",\n",
       "      \"vega-lib\": \"https://cdn.jsdelivr.net/npm//vega-lib?noext\",\n",
       "      \"vega-lite\": \"https://cdn.jsdelivr.net/npm//vega-lite@4.8.1?noext\",\n",
       "      \"vega-embed\": \"https://cdn.jsdelivr.net/npm//vega-embed@6?noext\",\n",
       "    };\n",
       "\n",
       "    function loadScript(lib) {\n",
       "      return new Promise(function(resolve, reject) {\n",
       "        var s = document.createElement('script');\n",
       "        s.src = paths[lib];\n",
       "        s.async = true;\n",
       "        s.onload = () => resolve(paths[lib]);\n",
       "        s.onerror = () => reject(`Error loading script: ${paths[lib]}`);\n",
       "        document.getElementsByTagName(\"head\")[0].appendChild(s);\n",
       "      });\n",
       "    }\n",
       "\n",
       "    function showError(err) {\n",
       "      outputDiv.innerHTML = `<div class=\"error\" style=\"color:red;\">${err}</div>`;\n",
       "      throw err;\n",
       "    }\n",
       "\n",
       "    function displayChart(vegaEmbed) {\n",
       "      vegaEmbed(outputDiv, spec, embedOpt)\n",
       "        .catch(err => showError(`Javascript Error: ${err.message}<br>This usually means there's a typo in your chart specification. See the javascript console for the full traceback.`));\n",
       "    }\n",
       "\n",
       "    if(typeof define === \"function\" && define.amd) {\n",
       "      requirejs.config({paths});\n",
       "      require([\"vega-embed\"], displayChart, err => showError(`Error loading script: ${err.message}`));\n",
       "    } else if (typeof vegaEmbed === \"function\") {\n",
       "      displayChart(vegaEmbed);\n",
       "    } else {\n",
       "      loadScript(\"vega\")\n",
       "        .then(() => loadScript(\"vega-lite\"))\n",
       "        .then(() => loadScript(\"vega-embed\"))\n",
       "        .catch(showError)\n",
       "        .then(() => displayChart(vegaEmbed));\n",
       "    }\n",
       "  })({\"config\": {\"view\": {\"continuousWidth\": 400, \"continuousHeight\": 300}}, \"vconcat\": [{\"mark\": \"line\", \"encoding\": {\"x\": {\"type\": \"quantitative\", \"field\": \"t\"}, \"y\": {\"type\": \"quantitative\", \"field\": \"x\"}}, \"height\": 80}, {\"mark\": \"line\", \"encoding\": {\"x\": {\"type\": \"quantitative\", \"field\": \"t\"}, \"y\": {\"type\": \"quantitative\", \"field\": \"y\"}}, \"height\": 80}, {\"mark\": \"line\", \"encoding\": {\"x\": {\"type\": \"quantitative\", \"field\": \"t\"}, \"y\": {\"type\": \"quantitative\", \"field\": \"z\"}}, \"height\": 80}, {\"mark\": \"line\", \"encoding\": {\"x\": {\"type\": \"quantitative\", \"field\": \"t\"}, \"y\": {\"type\": \"quantitative\", \"field\": \"w\"}}, \"height\": 80}], \"data\": {\"name\": \"data-286f86109ca22f5bc6e37b1dea04f323\"}, \"$schema\": \"https://vega.github.io/schema/vega-lite/v4.8.1.json\", \"datasets\": {\"data-286f86109ca22f5bc6e37b1dea04f323\": [{\"t\": 0.0, \"x\": 1.0, \"y\": 0.0, \"z\": -0.0, \"w\": -0.0}, {\"t\": 5.390964663211957, \"x\": 1.0, \"y\": 0.0, \"z\": -0.0, \"w\": -0.0}, {\"t\": 7.390964663211957, \"x\": 1.0, \"y\": 0.0, \"z\": -0.0, \"w\": -0.0}, {\"t\": 9.390964663211957, \"x\": 1.0, \"y\": 0.0, \"z\": -0.0, \"w\": -0.0}, {\"t\": 11.390964663211957, \"x\": 1.0, \"y\": 0.0, \"z\": -0.0, \"w\": -0.0}, {\"t\": 18.145592706265106, \"x\": 0.7071067811865477, \"y\": 0.7071067811865475, \"z\": 0.0, \"w\": 0.0}, {\"t\": 24.900220749318255, \"x\": 0.0, \"y\": 1.0, \"z\": 1.1102230246251565e-16, \"w\": -1.1102230246251565e-16}, {\"t\": 26.900220749318255, \"x\": 0.0, \"y\": 1.0, \"z\": 1.1102230246251565e-16, \"w\": -1.1102230246251565e-16}, {\"t\": 28.900220749318255, \"x\": 0.0, \"y\": 1.0, \"z\": 1.1102230246251565e-16, \"w\": -1.1102230246251565e-16}, {\"t\": 30.900220749318255, \"x\": 0.0, \"y\": 1.0, \"z\": 1.1102230246251565e-16, \"w\": -1.1102230246251565e-16}]}}, {\"mode\": \"vega-lite\"});\n",
       "</script>"
      ],
      "text/plain": [
       "alt.VConcatChart(...)"
      ]
     },
     "execution_count": 81,
     "metadata": {},
     "output_type": "execute_result"
    }
   ],
   "source": [
    "data = dataframe(traj_R_G, traj_R_G.get_segment_times(), ['x','y','z','w'])\n",
    "alt.vconcat(\n",
    "  alt.Chart(data).mark_line().encode(x='t', y='x').properties(height=80),\n",
    "  alt.Chart(data).mark_line().encode(x='t', y='y').properties(height=80),\n",
    "  alt.Chart(data).mark_line().encode(x='t', y='z').properties(height=80),\n",
    "  alt.Chart(data).mark_line().encode(x='t', y='w').properties(height=80)\n",
    ")"
   ]
  },
  {
   "cell_type": "markdown",
   "metadata": {
    "colab_type": "text",
    "id": "dWCyowMC8LUN"
   },
   "source": [
    "Better, I think, to just plot the entire result.  Before we do, let's quickly define the finger trajectory."
   ]
  },
  {
   "cell_type": "code",
   "execution_count": 82,
   "metadata": {
    "colab": {},
    "colab_type": "code",
    "id": "65OocrXD8TSA"
   },
   "outputs": [],
   "source": [
    "opened = np.array([0.107]);\n",
    "closed = np.array([0.0]);\n",
    "\n",
    "def make_wsg_command_trajectory(times):\n",
    "    traj_wsg_command = PiecewisePolynomial.FirstOrderHold(\n",
    "        [times[\"initial\"], times[\"pick_start\"]], np.hstack([[opened], [opened]]))\n",
    "    traj_wsg_command.AppendFirstOrderSegment(times[\"pick_end\"], closed)\n",
    "    traj_wsg_command.AppendFirstOrderSegment(times[\"place_start\"], closed)\n",
    "    traj_wsg_command.AppendFirstOrderSegment(times[\"place_end\"], opened)\n",
    "    traj_wsg_command.AppendFirstOrderSegment(times[\"postplace\"], opened)\n",
    "    return traj_wsg_command\n",
    "\n",
    "traj_wsg_command = make_wsg_command_trajectory(times)"
   ]
  },
  {
   "cell_type": "code",
   "execution_count": 83,
   "metadata": {
    "colab": {},
    "colab_type": "code",
    "id": "aEc95stq9tyx"
   },
   "outputs": [
    {
     "data": {
      "text/html": [
       "\n",
       "<div id=\"altair-viz-2eb645c001a049f8aae0903dc02acb16\"></div>\n",
       "<script type=\"text/javascript\">\n",
       "  (function(spec, embedOpt){\n",
       "    let outputDiv = document.currentScript.previousElementSibling;\n",
       "    if (outputDiv.id !== \"altair-viz-2eb645c001a049f8aae0903dc02acb16\") {\n",
       "      outputDiv = document.getElementById(\"altair-viz-2eb645c001a049f8aae0903dc02acb16\");\n",
       "    }\n",
       "    const paths = {\n",
       "      \"vega\": \"https://cdn.jsdelivr.net/npm//vega@5?noext\",\n",
       "      \"vega-lib\": \"https://cdn.jsdelivr.net/npm//vega-lib?noext\",\n",
       "      \"vega-lite\": \"https://cdn.jsdelivr.net/npm//vega-lite@4.8.1?noext\",\n",
       "      \"vega-embed\": \"https://cdn.jsdelivr.net/npm//vega-embed@6?noext\",\n",
       "    };\n",
       "\n",
       "    function loadScript(lib) {\n",
       "      return new Promise(function(resolve, reject) {\n",
       "        var s = document.createElement('script');\n",
       "        s.src = paths[lib];\n",
       "        s.async = true;\n",
       "        s.onload = () => resolve(paths[lib]);\n",
       "        s.onerror = () => reject(`Error loading script: ${paths[lib]}`);\n",
       "        document.getElementsByTagName(\"head\")[0].appendChild(s);\n",
       "      });\n",
       "    }\n",
       "\n",
       "    function showError(err) {\n",
       "      outputDiv.innerHTML = `<div class=\"error\" style=\"color:red;\">${err}</div>`;\n",
       "      throw err;\n",
       "    }\n",
       "\n",
       "    function displayChart(vegaEmbed) {\n",
       "      vegaEmbed(outputDiv, spec, embedOpt)\n",
       "        .catch(err => showError(`Javascript Error: ${err.message}<br>This usually means there's a typo in your chart specification. See the javascript console for the full traceback.`));\n",
       "    }\n",
       "\n",
       "    if(typeof define === \"function\" && define.amd) {\n",
       "      requirejs.config({paths});\n",
       "      require([\"vega-embed\"], displayChart, err => showError(`Error loading script: ${err.message}`));\n",
       "    } else if (typeof vegaEmbed === \"function\") {\n",
       "      displayChart(vegaEmbed);\n",
       "    } else {\n",
       "      loadScript(\"vega\")\n",
       "        .then(() => loadScript(\"vega-lite\"))\n",
       "        .then(() => loadScript(\"vega-embed\"))\n",
       "        .catch(showError)\n",
       "        .then(() => displayChart(vegaEmbed));\n",
       "    }\n",
       "  })({\"config\": {\"view\": {\"continuousWidth\": 400, \"continuousHeight\": 300}}, \"data\": {\"name\": \"data-2b2fc3c9a48b895fd598fa23ade968a6\"}, \"mark\": \"line\", \"encoding\": {\"x\": {\"type\": \"quantitative\", \"field\": \"t\"}, \"y\": {\"type\": \"quantitative\", \"field\": \"wsg\"}}, \"height\": 80, \"$schema\": \"https://vega.github.io/schema/vega-lite/v4.8.1.json\", \"datasets\": {\"data-2b2fc3c9a48b895fd598fa23ade968a6\": [{\"t\": 0.0, \"wsg\": 0.107}, {\"t\": 7.390964663211957, \"wsg\": 0.107}, {\"t\": 9.390964663211957, \"wsg\": 0.0}, {\"t\": 26.900220749318255, \"wsg\": 0.0}, {\"t\": 28.900220749318255, \"wsg\": 0.107}, {\"t\": 30.900220749318255, \"wsg\": 0.107}]}}, {\"mode\": \"vega-lite\"});\n",
       "</script>"
      ],
      "text/plain": [
       "alt.Chart(...)"
      ]
     },
     "execution_count": 83,
     "metadata": {},
     "output_type": "execute_result"
    }
   ],
   "source": [
    "data = dataframe(traj_wsg_command, traj_wsg_command.get_segment_times(), ['wsg'])\n",
    "alt.Chart(data).mark_line().encode(x='t', y='wsg').properties(height=80)"
   ]
  },
  {
   "cell_type": "markdown",
   "metadata": {
    "colab_type": "text",
    "id": "wrhTvm5eIJFi"
   },
   "source": [
    "Now let's really visualize the trajectory.  The best way is to animate it in 3D!  Please forgive the messiness of this particular bit of code; I'm trying to provide some intermediate steps that aren't typically used by the main drake developers.\n",
    "\n",
    "TODO(russt): make this less \"bespoke\"."
   ]
  },
  {
   "cell_type": "code",
   "execution_count": 66,
   "metadata": {
    "colab": {},
    "colab_type": "code",
    "id": "PZ7S7oai_ORF"
   },
   "outputs": [
    {
     "name": "stdout",
     "output_type": "stream",
     "text": [
      "Connecting to meshcat-server at zmq_url=tcp://127.0.0.1:6000...\n",
      "You can open the visualizer by visiting the following URL:\n",
      "http://127.0.0.1:7000/static/\n",
      "Connected to meshcat-server.\n",
      "::_::drake/multibody/MultibodyPlant@000000000f8fbc70 Context\n",
      "-------------------------------------------------------------\n",
      "Time: 0\n",
      "States:\n",
      "  30 continuous states\n",
      "            1         0         0         0         0 -0.049133         0  0.707107         0         0  0.707107      -0.2     -0.75     0.025         0         0         0         0         0         0         0         0         0         0         0         0         0         0         0         0\n",
      "\n",
      "Parameters:\n",
      "  16 numeric parameter groups with\n",
      "     1 parameters\n",
      "       0\n",
      "     1 parameters\n",
      "       1\n",
      "     1 parameters\n",
      "       0\n",
      "     1 parameters\n",
      "       1\n",
      "     10 parameters\n",
      "       nan nan nan nan nan nan nan nan nan nan\n",
      "     10 parameters\n",
      "       0.988882        0        0        0 0.164825 0.164825 0.166667        0        0        0\n",
      "     10 parameters\n",
      "       0.05    0    0    0  3.2  3.2  3.2    0    0    0\n",
      "     10 parameters\n",
      "       0.05    0    0    0  3.2  3.2  3.2    0    0    0\n",
      "     10 parameters\n",
      "             0.028           0           0       0.025  0.00104286  0.00130357 0.000678571           0           0           0\n",
      "     12 parameters\n",
      "              1        0        0        0        1        0        0        0        1        0 0.049133        0\n",
      "     12 parameters\n",
      "                -1           0 -6.5359e-07           0           1           0  6.5359e-07           0          -1      -0.006    0.077133           0\n",
      "     12 parameters\n",
      "                  1            0            0            0            1            0            0            0            1 -8.67362e-19            0            0\n",
      "     12 parameters\n",
      "              1        0        0        0        1        0        0        0        1    0.006 0.077133        0\n",
      "     12 parameters\n",
      "       1 0 0 0 1 0 0 0 1 0 0 0\n",
      "     12 parameters\n",
      "               1         0         0         0         1         0         0         0         1         0 -0.049133         0\n",
      "     12 parameters\n",
      "        1  0  0  0  1  0  0  0  1 -0 -0 -0\n",
      "\n"
     ]
    },
    {
     "data": {
      "image/svg+xml": [
       "<svg height=\"563pt\" viewBox=\"0.00 0.00 1197.00 563.00\" width=\"1197pt\" xmlns=\"http://www.w3.org/2000/svg\" xmlns:xlink=\"http://www.w3.org/1999/xlink\">\n",
       "<g class=\"graph\" id=\"graph0\" transform=\"scale(1 1) rotate(0) translate(4 559)\">\n",
       "<title>_253932768</title>\n",
       "<polygon fill=\"#ffffff\" points=\"-4,4 -4,-559 1193,-559 1193,4 -4,4\" stroke=\"transparent\"/>\n",
       "<g class=\"cluster\" id=\"clust1\">\n",
       "<title>cluster253932768diagram</title>\n",
       "<polygon fill=\"none\" points=\"8,-8 8,-547 1181,-547 1181,-8 8,-8\" stroke=\"#000000\"/>\n",
       "<text fill=\"#000000\" font-family=\"Times,serif\" font-size=\"14.00\" text-anchor=\"middle\" x=\"594.5\" y=\"-531.8\">253932768</text>\n",
       "</g>\n",
       "<g class=\"cluster\" id=\"clust4\">\n",
       "<title>cluster253932768subsystems</title>\n",
       "<polygon fill=\"none\" points=\"16,-16 16,-516 1173,-516 1173,-16 16,-16\" stroke=\"#ffffff\"/>\n",
       "</g>\n",
       "<!-- 261460000 -->\n",
       "<g class=\"node\" id=\"node1\">\n",
       "<title>261460000</title>\n",
       "<polygon fill=\"none\" points=\"547,-438.5 547,-507.5 1003,-507.5 1003,-438.5 547,-438.5\" stroke=\"#000000\"/>\n",
       "<text fill=\"#000000\" font-family=\"Times,serif\" font-size=\"14.00\" text-anchor=\"middle\" x=\"775\" y=\"-492.3\">drake/geometry/SceneGraph@000000000f959020</text>\n",
       "<polyline fill=\"none\" points=\"547,-484.5 1003,-484.5 \" stroke=\"#000000\"/>\n",
       "<text fill=\"#000000\" font-family=\"Times,serif\" font-size=\"14.00\" text-anchor=\"middle\" x=\"718.5\" y=\"-457.8\">drake/multibody/MultibodyPlant@000000000f8fbc70_pose</text>\n",
       "<polyline fill=\"none\" points=\"890,-438.5 890,-484.5 \" stroke=\"#000000\"/>\n",
       "<text fill=\"#000000\" font-family=\"Times,serif\" font-size=\"14.00\" text-anchor=\"middle\" x=\"946.5\" y=\"-469.3\">lcm_visualization</text>\n",
       "<polyline fill=\"none\" points=\"890,-461.5 1003,-461.5 \" stroke=\"#000000\"/>\n",
       "<text fill=\"#000000\" font-family=\"Times,serif\" font-size=\"14.00\" text-anchor=\"middle\" x=\"946.5\" y=\"-446.3\">query</text>\n",
       "</g>\n",
       "<!-- 274077152 -->\n",
       "<g class=\"node\" id=\"node3\">\n",
       "<title>274077152</title>\n",
       "<polygon fill=\"none\" points=\"1039,-439 1039,-485 1165,-485 1165,-439 1039,-439\" stroke=\"#000000\"/>\n",
       "<text fill=\"#000000\" font-family=\"Times,serif\" font-size=\"14.00\" text-anchor=\"middle\" x=\"1102\" y=\"-469.8\">meshcat_visualizer</text>\n",
       "<polyline fill=\"none\" points=\"1039,-462 1165,-462 \" stroke=\"#000000\"/>\n",
       "<text fill=\"#000000\" font-family=\"Times,serif\" font-size=\"14.00\" text-anchor=\"middle\" x=\"1092\" y=\"-446.8\">geometry_query</text>\n",
       "<polyline fill=\"none\" points=\"1145,-439 1145,-462 \" stroke=\"#000000\"/>\n",
       "<text fill=\"#000000\" font-family=\"Times,serif\" font-size=\"14.00\" text-anchor=\"middle\" x=\"1155\" y=\"-446.8\"> </text>\n",
       "</g>\n",
       "<!-- 261460000&#45;&gt;274077152 -->\n",
       "<g class=\"edge\" id=\"edge2\">\n",
       "<title>261460000:y1-&gt;274077152:u0</title>\n",
       "<path d=\"M1003,-450C1015,-450 1020.25,-450 1028.875,-450\" fill=\"none\" stroke=\"#000000\"/>\n",
       "<polygon fill=\"#000000\" points=\"1029,-453.5001 1039,-450 1029,-446.5001 1029,-453.5001\" stroke=\"#000000\"/>\n",
       "</g>\n",
       "<!-- 261078128 -->\n",
       "<g class=\"node\" id=\"node2\">\n",
       "<title>261078128</title>\n",
       "<polygon fill=\"none\" points=\"24,-24.5 24,-507.5 511,-507.5 511,-24.5 24,-24.5\" stroke=\"#000000\"/>\n",
       "<text fill=\"#000000\" font-family=\"Times,serif\" font-size=\"14.00\" text-anchor=\"middle\" x=\"267.5\" y=\"-492.3\">drake/multibody/MultibodyPlant@000000000f8fbc70</text>\n",
       "<polyline fill=\"none\" points=\"24,-484.5 511,-484.5 \" stroke=\"#000000\"/>\n",
       "<text fill=\"#000000\" font-family=\"Times,serif\" font-size=\"14.00\" text-anchor=\"middle\" x=\"121\" y=\"-448.3\">geometry_query</text>\n",
       "<polyline fill=\"none\" points=\"24,-419.5 218,-419.5 \" stroke=\"#000000\"/>\n",
       "<text fill=\"#000000\" font-family=\"Times,serif\" font-size=\"14.00\" text-anchor=\"middle\" x=\"121\" y=\"-382.8\">WorldModelInstance_actuation</text>\n",
       "<polyline fill=\"none\" points=\"24,-353.5 218,-353.5 \" stroke=\"#000000\"/>\n",
       "<text fill=\"#000000\" font-family=\"Times,serif\" font-size=\"14.00\" text-anchor=\"middle\" x=\"121\" y=\"-316.8\">DefaultModelInstance_actuation</text>\n",
       "<polyline fill=\"none\" points=\"24,-287.5 218,-287.5 \" stroke=\"#000000\"/>\n",
       "<text fill=\"#000000\" font-family=\"Times,serif\" font-size=\"14.00\" text-anchor=\"middle\" x=\"121\" y=\"-251.3\">gripper_actuation</text>\n",
       "<polyline fill=\"none\" points=\"24,-222.5 218,-222.5 \" stroke=\"#000000\"/>\n",
       "<text fill=\"#000000\" font-family=\"Times,serif\" font-size=\"14.00\" text-anchor=\"middle\" x=\"121\" y=\"-185.8\">object_initial_actuation</text>\n",
       "<polyline fill=\"none\" points=\"24,-156.5 218,-156.5 \" stroke=\"#000000\"/>\n",
       "<text fill=\"#000000\" font-family=\"Times,serif\" font-size=\"14.00\" text-anchor=\"middle\" x=\"121\" y=\"-119.8\">applied_generalized_force</text>\n",
       "<polyline fill=\"none\" points=\"24,-90.5 218,-90.5 \" stroke=\"#000000\"/>\n",
       "<text fill=\"#000000\" font-family=\"Times,serif\" font-size=\"14.00\" text-anchor=\"middle\" x=\"121\" y=\"-53.8\">applied_spatial_force</text>\n",
       "<polyline fill=\"none\" points=\"218,-24.5 218,-484.5 \" stroke=\"#000000\"/>\n",
       "<text fill=\"#000000\" font-family=\"Times,serif\" font-size=\"14.00\" text-anchor=\"middle\" x=\"364.5\" y=\"-469.3\">geometry_pose</text>\n",
       "<polyline fill=\"none\" points=\"218,-461.5 511,-461.5 \" stroke=\"#000000\"/>\n",
       "<text fill=\"#000000\" font-family=\"Times,serif\" font-size=\"14.00\" text-anchor=\"middle\" x=\"364.5\" y=\"-446.3\">continuous_state</text>\n",
       "<polyline fill=\"none\" points=\"218,-438.5 511,-438.5 \" stroke=\"#000000\"/>\n",
       "<text fill=\"#000000\" font-family=\"Times,serif\" font-size=\"14.00\" text-anchor=\"middle\" x=\"364.5\" y=\"-423.3\">body_poses</text>\n",
       "<polyline fill=\"none\" points=\"218,-415.5 511,-415.5 \" stroke=\"#000000\"/>\n",
       "<text fill=\"#000000\" font-family=\"Times,serif\" font-size=\"14.00\" text-anchor=\"middle\" x=\"364.5\" y=\"-400.3\">spatial_velocities</text>\n",
       "<polyline fill=\"none\" points=\"218,-392.5 511,-392.5 \" stroke=\"#000000\"/>\n",
       "<text fill=\"#000000\" font-family=\"Times,serif\" font-size=\"14.00\" text-anchor=\"middle\" x=\"364.5\" y=\"-377.3\">spatial_accelerations</text>\n",
       "<polyline fill=\"none\" points=\"218,-369.5 511,-369.5 \" stroke=\"#000000\"/>\n",
       "<text fill=\"#000000\" font-family=\"Times,serif\" font-size=\"14.00\" text-anchor=\"middle\" x=\"364.5\" y=\"-354.3\">generalized_acceleration</text>\n",
       "<polyline fill=\"none\" points=\"218,-346.5 511,-346.5 \" stroke=\"#000000\"/>\n",
       "<text fill=\"#000000\" font-family=\"Times,serif\" font-size=\"14.00\" text-anchor=\"middle\" x=\"364.5\" y=\"-331.3\">WorldModelInstance_continuous_state</text>\n",
       "<polyline fill=\"none\" points=\"218,-323.5 511,-323.5 \" stroke=\"#000000\"/>\n",
       "<text fill=\"#000000\" font-family=\"Times,serif\" font-size=\"14.00\" text-anchor=\"middle\" x=\"364.5\" y=\"-308.3\">WorldModelInstance_generalized_acceleration</text>\n",
       "<polyline fill=\"none\" points=\"218,-300.5 511,-300.5 \" stroke=\"#000000\"/>\n",
       "<text fill=\"#000000\" font-family=\"Times,serif\" font-size=\"14.00\" text-anchor=\"middle\" x=\"364.5\" y=\"-285.3\">DefaultModelInstance_continuous_state</text>\n",
       "<polyline fill=\"none\" points=\"218,-277.5 511,-277.5 \" stroke=\"#000000\"/>\n",
       "<text fill=\"#000000\" font-family=\"Times,serif\" font-size=\"14.00\" text-anchor=\"middle\" x=\"364.5\" y=\"-262.3\">DefaultModelInstance_generalized_acceleration</text>\n",
       "<polyline fill=\"none\" points=\"218,-254.5 511,-254.5 \" stroke=\"#000000\"/>\n",
       "<text fill=\"#000000\" font-family=\"Times,serif\" font-size=\"14.00\" text-anchor=\"middle\" x=\"364.5\" y=\"-239.3\">gripper_continuous_state</text>\n",
       "<polyline fill=\"none\" points=\"218,-231.5 511,-231.5 \" stroke=\"#000000\"/>\n",
       "<text fill=\"#000000\" font-family=\"Times,serif\" font-size=\"14.00\" text-anchor=\"middle\" x=\"364.5\" y=\"-216.3\">gripper_generalized_acceleration</text>\n",
       "<polyline fill=\"none\" points=\"218,-208.5 511,-208.5 \" stroke=\"#000000\"/>\n",
       "<text fill=\"#000000\" font-family=\"Times,serif\" font-size=\"14.00\" text-anchor=\"middle\" x=\"364.5\" y=\"-193.3\">object_initial_continuous_state</text>\n",
       "<polyline fill=\"none\" points=\"218,-185.5 511,-185.5 \" stroke=\"#000000\"/>\n",
       "<text fill=\"#000000\" font-family=\"Times,serif\" font-size=\"14.00\" text-anchor=\"middle\" x=\"364.5\" y=\"-170.3\">object_initial_generalized_acceleration</text>\n",
       "<polyline fill=\"none\" points=\"218,-162.5 511,-162.5 \" stroke=\"#000000\"/>\n",
       "<text fill=\"#000000\" font-family=\"Times,serif\" font-size=\"14.00\" text-anchor=\"middle\" x=\"364.5\" y=\"-147.3\">WorldModelInstance_generalized_contact_forces</text>\n",
       "<polyline fill=\"none\" points=\"218,-139.5 511,-139.5 \" stroke=\"#000000\"/>\n",
       "<text fill=\"#000000\" font-family=\"Times,serif\" font-size=\"14.00\" text-anchor=\"middle\" x=\"364.5\" y=\"-124.3\">DefaultModelInstance_generalized_contact_forces</text>\n",
       "<polyline fill=\"none\" points=\"218,-116.5 511,-116.5 \" stroke=\"#000000\"/>\n",
       "<text fill=\"#000000\" font-family=\"Times,serif\" font-size=\"14.00\" text-anchor=\"middle\" x=\"364.5\" y=\"-101.3\">gripper_generalized_contact_forces</text>\n",
       "<polyline fill=\"none\" points=\"218,-93.5 511,-93.5 \" stroke=\"#000000\"/>\n",
       "<text fill=\"#000000\" font-family=\"Times,serif\" font-size=\"14.00\" text-anchor=\"middle\" x=\"364.5\" y=\"-78.3\">object_initial_generalized_contact_forces</text>\n",
       "<polyline fill=\"none\" points=\"218,-70.5 511,-70.5 \" stroke=\"#000000\"/>\n",
       "<text fill=\"#000000\" font-family=\"Times,serif\" font-size=\"14.00\" text-anchor=\"middle\" x=\"364.5\" y=\"-55.3\">reaction_forces</text>\n",
       "<polyline fill=\"none\" points=\"218,-47.5 511,-47.5 \" stroke=\"#000000\"/>\n",
       "<text fill=\"#000000\" font-family=\"Times,serif\" font-size=\"14.00\" text-anchor=\"middle\" x=\"364.5\" y=\"-32.3\">contact_results</text>\n",
       "</g>\n",
       "<!-- 261078128&#45;&gt;261460000 -->\n",
       "<g class=\"edge\" id=\"edge1\">\n",
       "<title>261078128:y0-&gt;261460000:u0</title>\n",
       "<path d=\"M511,-473C523.7809,-473 528.1793,-466.1086 536.8999,-462.7706\" fill=\"none\" stroke=\"#000000\"/>\n",
       "<polygon fill=\"#000000\" points=\"537.7546,-466.1743 547,-461 536.5458,-459.2794 537.7546,-466.1743\" stroke=\"#000000\"/>\n",
       "</g>\n",
       "</g>\n",
       "</svg>"
      ],
      "text/plain": [
       "<IPython.core.display.SVG object>"
      ]
     },
     "metadata": {},
     "output_type": "display_data"
    },
    {
     "ename": "RuntimeError",
     "evalue": "Actuation input port for model instance gripper must be connected.",
     "output_type": "error",
     "traceback": [
      "\u001b[0;31m---------------------------------------------------------------------------\u001b[0m",
      "\u001b[0;31mRuntimeError\u001b[0m                              Traceback (most recent call last)",
      "\u001b[0;32m<ipython-input-66-7f98eee4ef44>\u001b[0m in \u001b[0;36m<module>\u001b[0;34m()\u001b[0m\n\u001b[1;32m     81\u001b[0m     \u001b[0mmeshcat\u001b[0m\u001b[0;34m.\u001b[0m\u001b[0mpublish_recording\u001b[0m\u001b[0;34m(\u001b[0m\u001b[0;34m)\u001b[0m\u001b[0;34m\u001b[0m\u001b[0;34m\u001b[0m\u001b[0m\n\u001b[1;32m     82\u001b[0m \u001b[0;34m\u001b[0m\u001b[0m\n\u001b[0;32m---> 83\u001b[0;31m \u001b[0mvisualize_pick_and_place_trajectory\u001b[0m\u001b[0;34m(\u001b[0m\u001b[0mtraj_p_G\u001b[0m\u001b[0;34m,\u001b[0m \u001b[0mtraj_R_G\u001b[0m\u001b[0;34m,\u001b[0m \u001b[0mtraj_wsg_command\u001b[0m\u001b[0;34m,\u001b[0m \u001b[0mX_O\u001b[0m\u001b[0;34m)\u001b[0m\u001b[0;34m\u001b[0m\u001b[0;34m\u001b[0m\u001b[0m\n\u001b[0m",
      "\u001b[0;32m<ipython-input-66-7f98eee4ef44>\u001b[0m in \u001b[0;36mvisualize_pick_and_place_trajectory\u001b[0;34m(traj_p_G, traj_R_G, traj_wsg_command, X_O)\u001b[0m\n\u001b[1;32m     78\u001b[0m     \u001b[0msimulator\u001b[0m \u001b[0;34m=\u001b[0m \u001b[0mSimulator\u001b[0m\u001b[0;34m(\u001b[0m\u001b[0mdiagram\u001b[0m\u001b[0;34m)\u001b[0m\u001b[0;34m\u001b[0m\u001b[0;34m\u001b[0m\u001b[0m\n\u001b[1;32m     79\u001b[0m     \u001b[0mmeshcat\u001b[0m\u001b[0;34m.\u001b[0m\u001b[0mstart_recording\u001b[0m\u001b[0;34m(\u001b[0m\u001b[0;34m)\u001b[0m\u001b[0;34m\u001b[0m\u001b[0;34m\u001b[0m\u001b[0m\n\u001b[0;32m---> 80\u001b[0;31m     \u001b[0msimulator\u001b[0m\u001b[0;34m.\u001b[0m\u001b[0mAdvanceTo\u001b[0m\u001b[0;34m(\u001b[0m\u001b[0mtraj_p_G\u001b[0m\u001b[0;34m.\u001b[0m\u001b[0mend_time\u001b[0m\u001b[0;34m(\u001b[0m\u001b[0;34m)\u001b[0m \u001b[0;32mif\u001b[0m \u001b[0mrunning_as_notebook\u001b[0m \u001b[0;32melse\u001b[0m \u001b[0;36m0.1\u001b[0m\u001b[0;34m)\u001b[0m\u001b[0;34m\u001b[0m\u001b[0;34m\u001b[0m\u001b[0m\n\u001b[0m\u001b[1;32m     81\u001b[0m     \u001b[0mmeshcat\u001b[0m\u001b[0;34m.\u001b[0m\u001b[0mpublish_recording\u001b[0m\u001b[0;34m(\u001b[0m\u001b[0;34m)\u001b[0m\u001b[0;34m\u001b[0m\u001b[0;34m\u001b[0m\u001b[0m\n\u001b[1;32m     82\u001b[0m \u001b[0;34m\u001b[0m\u001b[0m\n",
      "\u001b[0;31mRuntimeError\u001b[0m: Actuation input port for model instance gripper must be connected."
     ]
    }
   ],
   "source": [
    "class GripperTrajectoriesToPosition(LeafSystem):\n",
    "    def __init__(self, plant, traj_p_G, traj_R_G, traj_wsg_command):\n",
    "        LeafSystem.__init__(self)\n",
    "        self.plant = plant\n",
    "        self.gripper_body = plant.GetBodyByName(\"body\")\n",
    "#         self.brick_body = plant.GetBodyByName(\"base_link\")\n",
    "        self.left_finger_joint = plant.GetJointByName(\"left_finger_sliding_joint\")\n",
    "        self.right_finger_joint = plant.GetJointByName(\"right_finger_sliding_joint\")\n",
    "        self.traj_p_G = traj_p_G\n",
    "        self.traj_R_G = traj_R_G\n",
    "        self.traj_wsg_command = traj_wsg_command\n",
    "        self.plant_context = plant.CreateDefaultContext()\n",
    "\n",
    "        self.DeclareVectorOutputPort(\"position\", \n",
    "                                     BasicVector(plant.num_positions()),\n",
    "                                     self.CalcPositionOutput)\n",
    "\n",
    "    def CalcPositionOutput(self, context, output):\n",
    "        t = context.get_time()\n",
    "        X_G = RigidTransform(Quaternion(self.traj_R_G.value(t)), self.traj_p_G.value(t))\n",
    "        self.plant.SetFreeBodyPose(self.plant_context, self.gripper_body, X_G)\n",
    "#         self.plant.SetFreeBodyPose(self.plant_context, self.brick_body, X_G)\n",
    "        wsg = self.traj_wsg_command.value(t)\n",
    "        self.left_finger_joint.set_translation(self.plant_context, -wsg/2.0)\n",
    "        self.right_finger_joint.set_translation(self.plant_context, wsg/2.0)\n",
    "        output.SetFromVector(self.plant.GetPositions(self.plant_context))\n",
    "\n",
    "def visualize_pick_and_place_trajectory(traj_p_G, traj_R_G, traj_wsg_command, X_O):\n",
    "    builder = DiagramBuilder()\n",
    "\n",
    "    # Note: Don't use AddMultibodyPlantSceneGraph because we are only using\n",
    "    # MultibodyPlant for parsing, then wiring directly to SceneGraph.\n",
    "    \n",
    "    scene_graph = builder.AddSystem(SceneGraph())\n",
    "    plant = MultibodyPlant(time_step=0.0)\n",
    "    builder.AddSystem(plant)\n",
    "#     source_id = plant.RegisterAsSourceForSceneGraph(scene_graph)\n",
    "#     print(source_id)\n",
    "#     plant, scene_graph = AddMultibodyPlantSceneGraph(builder, time_step=0.0)\n",
    "    parser = Parser(plant, scene_graph)\n",
    "    gripper = parser.AddModelFromFile(FindResourceOrThrow(\n",
    "        \"drake/manipulation/models/wsg_50_description/sdf/schunk_wsg_50_no_tip.sdf\"), \"gripper\")\n",
    "    brick = FindResourceOrThrow(\n",
    "        \"drake/examples/manipulation_station/models/061_foam_brick.sdf\")\n",
    "#     for key, pose in X_O.items():\n",
    "    o = parser.AddModelFromFile(brick, \"object_initial\")#f\"object_{key}\"\n",
    "#       plant.WeldFrames(plant.world_frame(), plant.GetFrameByName(\"base_link\", o), pose)\n",
    "    plant.Finalize()\n",
    "    \n",
    "    \n",
    "    builder.Connect(plant.get_geometry_poses_output_port(), scene_graph.get_source_pose_port(plant.get_source_id()))\n",
    "#     to_pose = builder.AddSystem(MultibodyPositionToGeometryPose(plant))\n",
    "#     builder.Connect(to_pose.get_output_port(), scene_graph.get_source_pose_port(plant.get_source_id()))\n",
    "\n",
    "#     traj_to_position = builder.AddSystem(GripperTrajectoriesToPosition(plant, traj_p_G, traj_R_G, traj_wsg_command))\n",
    "#     builder.Connect(traj_to_position.get_output_port(), to_pose.get_input_port())\n",
    "\n",
    "    meshcat = ConnectMeshcatVisualizer(builder, scene_graph, zmq_url=zmq_url)\n",
    "\n",
    "    diagram = builder.Build()\n",
    "    \n",
    "    meshcat.load()\n",
    "    context = diagram.CreateDefaultContext()\n",
    "#     plant_context = plant.CreateDefaultContext()\n",
    "    plant_context = plant.GetMyContextFromRoot(context)\n",
    "    publishing_context = meshcat.GetMyContextFromRoot(context)\n",
    "    brick_body = plant.GetBodyByName(\"base_link\")\n",
    "    plant.SetFreeBodyPose(plant_context, brick_body, X_O[\"initial\"])\n",
    "#     pose = plant.GetFreeBodyPose(plant_context, brick_body)\n",
    "#     X_WG = plant.EvalBodyPoseInWorld(plant_context, brick_body)\n",
    "    print(plant_context)\n",
    "#     meshcat.Publish(publishing_context)\n",
    "#     diagram.Publish(context)\n",
    "    plant.get_actuation_input_port().FixValue(plant_context, np.zeros(2));\n",
    "\n",
    "    display(SVG(pydot.graph_from_dot_data(diagram.GetGraphvizString())[0].create_svg()))\n",
    "#     SVG(pydot.graph_from_dot_data(diagram.GetGraphvizString(max_depth=1))[0].create_svg())\n",
    "    simulator = Simulator(diagram)\n",
    "    meshcat.start_recording()\n",
    "    simulator.AdvanceTo(traj_p_G.end_time() if running_as_notebook else 0.1)\n",
    "    meshcat.publish_recording()\n",
    "\n",
    "visualize_pick_and_place_trajectory(traj_p_G, traj_R_G, traj_wsg_command, X_O)"
   ]
  },
  {
   "cell_type": "markdown",
   "metadata": {
    "colab_type": "text",
    "id": "ue9ofS7GHpXr"
   },
   "source": [
    "# Putting it all together\n",
    "\n",
    "In the visualization above, we animated the plan, but did not actually command the robot!  Let's put our grasping trajectories back together with our Jacobian-based controller.\n",
    "\n",
    "The first thing you might have noticed is that the Jacobian controller takes spatial velocities as input.  But so far we have trajectories for positions and orientations.  Let's differentiate them to get the velocities."
   ]
  },
  {
   "cell_type": "code",
   "execution_count": 84,
   "metadata": {
    "colab": {},
    "colab_type": "code",
    "id": "MfaCoTnNXfjj"
   },
   "outputs": [
    {
     "data": {
      "text/html": [
       "\n",
       "<div id=\"altair-viz-f227d1e8f4134db2b374202b34b4419b\"></div>\n",
       "<script type=\"text/javascript\">\n",
       "  (function(spec, embedOpt){\n",
       "    let outputDiv = document.currentScript.previousElementSibling;\n",
       "    if (outputDiv.id !== \"altair-viz-f227d1e8f4134db2b374202b34b4419b\") {\n",
       "      outputDiv = document.getElementById(\"altair-viz-f227d1e8f4134db2b374202b34b4419b\");\n",
       "    }\n",
       "    const paths = {\n",
       "      \"vega\": \"https://cdn.jsdelivr.net/npm//vega@5?noext\",\n",
       "      \"vega-lib\": \"https://cdn.jsdelivr.net/npm//vega-lib?noext\",\n",
       "      \"vega-lite\": \"https://cdn.jsdelivr.net/npm//vega-lite@4.8.1?noext\",\n",
       "      \"vega-embed\": \"https://cdn.jsdelivr.net/npm//vega-embed@6?noext\",\n",
       "    };\n",
       "\n",
       "    function loadScript(lib) {\n",
       "      return new Promise(function(resolve, reject) {\n",
       "        var s = document.createElement('script');\n",
       "        s.src = paths[lib];\n",
       "        s.async = true;\n",
       "        s.onload = () => resolve(paths[lib]);\n",
       "        s.onerror = () => reject(`Error loading script: ${paths[lib]}`);\n",
       "        document.getElementsByTagName(\"head\")[0].appendChild(s);\n",
       "      });\n",
       "    }\n",
       "\n",
       "    function showError(err) {\n",
       "      outputDiv.innerHTML = `<div class=\"error\" style=\"color:red;\">${err}</div>`;\n",
       "      throw err;\n",
       "    }\n",
       "\n",
       "    function displayChart(vegaEmbed) {\n",
       "      vegaEmbed(outputDiv, spec, embedOpt)\n",
       "        .catch(err => showError(`Javascript Error: ${err.message}<br>This usually means there's a typo in your chart specification. See the javascript console for the full traceback.`));\n",
       "    }\n",
       "\n",
       "    if(typeof define === \"function\" && define.amd) {\n",
       "      requirejs.config({paths});\n",
       "      require([\"vega-embed\"], displayChart, err => showError(`Error loading script: ${err.message}`));\n",
       "    } else if (typeof vegaEmbed === \"function\") {\n",
       "      displayChart(vegaEmbed);\n",
       "    } else {\n",
       "      loadScript(\"vega\")\n",
       "        .then(() => loadScript(\"vega-lite\"))\n",
       "        .then(() => loadScript(\"vega-embed\"))\n",
       "        .catch(showError)\n",
       "        .then(() => displayChart(vegaEmbed));\n",
       "    }\n",
       "  })({\"config\": {\"view\": {\"continuousWidth\": 400, \"continuousHeight\": 300}}, \"vconcat\": [{\"mark\": \"line\", \"encoding\": {\"x\": {\"type\": \"quantitative\", \"field\": \"t\"}, \"y\": {\"type\": \"quantitative\", \"field\": \"x\"}}, \"height\": 80}, {\"mark\": \"line\", \"encoding\": {\"x\": {\"type\": \"quantitative\", \"field\": \"t\"}, \"y\": {\"type\": \"quantitative\", \"field\": \"y\"}}, \"height\": 80}, {\"mark\": \"line\", \"encoding\": {\"x\": {\"type\": \"quantitative\", \"field\": \"t\"}, \"y\": {\"type\": \"quantitative\", \"field\": \"z\"}}, \"height\": 80}], \"data\": {\"name\": \"data-959e3a1e5fa665846b2fe9575940edc0\"}, \"$schema\": \"https://vega.github.io/schema/vega-lite/v4.8.1.json\", \"datasets\": {\"data-959e3a1e5fa665846b2fe9575940edc0\": [{\"t\": 0.0, \"x\": -0.03709911166081346, \"y\": -0.09274777915203364, \"z\": -0.004637388957601686}, {\"t\": 0.6306167499860869, \"x\": -0.03709911166081346, \"y\": -0.09274777915203364, \"z\": -0.004637388957601686}, {\"t\": 1.2612334999721737, \"x\": -0.03709911166081346, \"y\": -0.09274777915203364, \"z\": -0.004637388957601686}, {\"t\": 1.8918502499582606, \"x\": -0.03709911166081346, \"y\": -0.09274777915203364, \"z\": -0.004637388957601686}, {\"t\": 2.5224669999443474, \"x\": -0.03709911166081346, \"y\": -0.09274777915203364, \"z\": -0.004637388957601686}, {\"t\": 3.1530837499304343, \"x\": -0.03709911166081346, \"y\": -0.09274777915203364, \"z\": -0.004637388957601686}, {\"t\": 3.783700499916521, \"x\": -0.03709911166081346, \"y\": -0.09274777915203364, \"z\": -0.004637388957601686}, {\"t\": 4.4143172499026075, \"x\": -0.03709911166081346, \"y\": -0.09274777915203364, \"z\": -0.004637388957601686}, {\"t\": 5.044933999888695, \"x\": -0.03709911166081346, \"y\": -0.09274777915203364, \"z\": -0.004637388957601686}, {\"t\": 5.675550749874782, \"x\": -1.3877787807814457e-17, \"y\": 0.0, \"z\": -0.039999999999999994}, {\"t\": 6.3061674998608686, \"x\": -1.3877787807814457e-17, \"y\": 0.0, \"z\": -0.039999999999999994}, {\"t\": 6.936784249846955, \"x\": -1.3877787807814457e-17, \"y\": 0.0, \"z\": -0.039999999999999994}, {\"t\": 7.567400999833042, \"x\": 0.0, \"y\": 0.0, \"z\": 0.0}, {\"t\": 8.19801774981913, \"x\": 0.0, \"y\": 0.0, \"z\": 0.0}, {\"t\": 8.828634499805215, \"x\": 0.0, \"y\": 0.0, \"z\": 0.0}, {\"t\": 9.459251249791302, \"x\": 0.0, \"y\": 0.0, \"z\": 0.039999999999999994}, {\"t\": 10.08986799977739, \"x\": 0.0, \"y\": 0.0, \"z\": 0.039999999999999994}, {\"t\": 10.720484749763477, \"x\": 0.0, \"y\": 0.0, \"z\": 0.039999999999999994}, {\"t\": 11.351101499749564, \"x\": 0.0, \"y\": 0.0, \"z\": 0.039999999999999994}, {\"t\": 11.98171824973565, \"x\": 0.07032215496877249, \"y\": 0.05551749076482039, \"z\": 0.0444139926118563}, {\"t\": 12.612334999721737, \"x\": 0.07032215496877249, \"y\": 0.05551749076482039, \"z\": 0.0444139926118563}, {\"t\": 13.242951749707824, \"x\": 0.07032215496877249, \"y\": 0.05551749076482039, \"z\": 0.0444139926118563}, {\"t\": 13.87356849969391, \"x\": 0.07032215496877249, \"y\": 0.05551749076482039, \"z\": 0.0444139926118563}, {\"t\": 14.504185249679997, \"x\": 0.07032215496877249, \"y\": 0.05551749076482039, \"z\": 0.0444139926118563}, {\"t\": 15.134801999666085, \"x\": 0.07032215496877249, \"y\": 0.05551749076482039, \"z\": 0.0444139926118563}, {\"t\": 15.765418749652172, \"x\": 0.07032215496877249, \"y\": 0.05551749076482039, \"z\": 0.0444139926118563}, {\"t\": 16.39603549963826, \"x\": 0.07032215496877249, \"y\": 0.05551749076482039, \"z\": 0.0444139926118563}, {\"t\": 17.026652249624345, \"x\": 0.07032215496877249, \"y\": 0.05551749076482039, \"z\": 0.0444139926118563}, {\"t\": 17.65726899961043, \"x\": 0.07032215496877249, \"y\": 0.05551749076482039, \"z\": 0.0444139926118563}, {\"t\": 18.28788574959652, \"x\": 0.07032215496877249, \"y\": 0.05551749076482039, \"z\": -0.0444139926118563}, {\"t\": 18.918502499582605, \"x\": 0.07032215496877249, \"y\": 0.05551749076482039, \"z\": -0.0444139926118563}, {\"t\": 19.549119249568694, \"x\": 0.07032215496877249, \"y\": 0.05551749076482039, \"z\": -0.0444139926118563}, {\"t\": 20.17973599955478, \"x\": 0.07032215496877249, \"y\": 0.05551749076482039, \"z\": -0.0444139926118563}, {\"t\": 20.810352749540865, \"x\": 0.07032215496877249, \"y\": 0.05551749076482039, \"z\": -0.0444139926118563}, {\"t\": 21.440969499526954, \"x\": 0.07032215496877249, \"y\": 0.05551749076482039, \"z\": -0.0444139926118563}, {\"t\": 22.07158624951304, \"x\": 0.07032215496877249, \"y\": 0.05551749076482039, \"z\": -0.0444139926118563}, {\"t\": 22.70220299949913, \"x\": 0.07032215496877249, \"y\": 0.05551749076482039, \"z\": -0.0444139926118563}, {\"t\": 23.332819749485214, \"x\": 0.07032215496877249, \"y\": 0.05551749076482039, \"z\": -0.0444139926118563}, {\"t\": 23.9634364994713, \"x\": 0.07032215496877249, \"y\": 0.05551749076482039, \"z\": -0.0444139926118563}, {\"t\": 24.59405324945739, \"x\": 0.07032215496877249, \"y\": 0.05551749076482039, \"z\": -0.0444139926118563}, {\"t\": 25.224669999443474, \"x\": 0.0, \"y\": -2.249639673992786e-34, \"z\": -0.039999999999999994}, {\"t\": 25.85528674942956, \"x\": 0.0, \"y\": -2.249639673992786e-34, \"z\": -0.039999999999999994}, {\"t\": 26.48590349941565, \"x\": 0.0, \"y\": -2.249639673992786e-34, \"z\": -0.039999999999999994}, {\"t\": 27.116520249401734, \"x\": 0.0, \"y\": 0.0, \"z\": 0.0}, {\"t\": 27.74713699938782, \"x\": 0.0, \"y\": 0.0, \"z\": 0.0}, {\"t\": 28.37775374937391, \"x\": 0.0, \"y\": 0.0, \"z\": 0.0}, {\"t\": 29.008370499359994, \"x\": 0.0, \"y\": -1.4997597826618579e-34, \"z\": 0.039999999999999994}, {\"t\": 29.638987249346084, \"x\": 0.0, \"y\": -1.4997597826618579e-34, \"z\": 0.039999999999999994}, {\"t\": 30.26960399933217, \"x\": 0.0, \"y\": -1.4997597826618579e-34, \"z\": 0.039999999999999994}, {\"t\": 30.900220749318255, \"x\": 0.0, \"y\": -1.4997597826618579e-34, \"z\": 0.039999999999999994}]}}, {\"mode\": \"vega-lite\"});\n",
       "</script>"
      ],
      "text/plain": [
       "alt.VConcatChart(...)"
      ]
     },
     "execution_count": 84,
     "metadata": {},
     "output_type": "execute_result"
    }
   ],
   "source": [
    "traj_v_G = traj_p_G.MakeDerivative()\n",
    "traj_w_G = traj_R_G.MakeDerivative()\n",
    "\n",
    "data = dataframe(traj_v_G, np.linspace(traj_v_G.start_time(), traj_v_G.end_time()), ['x','y','z'])\n",
    "alt.vconcat(\n",
    "  alt.Chart(data).mark_line().encode(x='t', y='x').properties(height=80),\n",
    "  alt.Chart(data).mark_line().encode(x='t', y='y').properties(height=80),\n",
    "  alt.Chart(data).mark_line().encode(x='t', y='z').properties(height=80),\n",
    ")"
   ]
  },
  {
   "cell_type": "markdown",
   "metadata": {
    "colab_type": "text",
    "id": "BrDNL8cvMo_o"
   },
   "source": [
    "Now we need a slightly modified version of our Jacobian controller, which can take the spatial velocity commands from an input port."
   ]
  },
  {
   "cell_type": "code",
   "execution_count": 85,
   "metadata": {
    "colab": {},
    "colab_type": "code",
    "id": "nVKlTQKGKUU0"
   },
   "outputs": [],
   "source": [
    "# We can write a new System by deriving from the LeafSystem class.\n",
    "# There is a little bit of boiler plate, but hopefully this example makes sense.\n",
    "class PseudoInverseController(LeafSystem):\n",
    "    def __init__(self, plant):\n",
    "        LeafSystem.__init__(self)\n",
    "        self._plant = plant\n",
    "        self._plant_context = plant.CreateDefaultContext()\n",
    "        self._iiwa = plant.GetModelInstanceByName(\"iiwa\")\n",
    "        self._G = plant.GetBodyByName(\"body\").body_frame()\n",
    "        self._W = plant.world_frame()\n",
    "\n",
    "        self.w_G_port = self.DeclareVectorInputPort(\"omega_WG\", BasicVector(3))\n",
    "        self.v_G_port = self.DeclareVectorInputPort(\"v_WG\", BasicVector(3))\n",
    "        self.q_port = self.DeclareVectorInputPort(\"iiwa_position\", BasicVector(7))\n",
    "        self.DeclareVectorOutputPort(\"iiwa_velocity\", BasicVector(7), \n",
    "                                     self.CalcOutput)\n",
    "        # TODO(russt): Add missing binding\n",
    "        #joint_indices = plant.GetJointIndices(self._iiwa)\n",
    "        #self.position_start = plant.get_joint(joint_indices[0]).position_start()\n",
    "        #self.position_end = plant.get_joint(joint_indices[-1]).position_start()\n",
    "        self.iiwa_start = plant.GetJointByName(\"iiwa_joint_1\").velocity_start()\n",
    "        self.iiwa_end = plant.GetJointByName(\"iiwa_joint_7\").velocity_start()\n",
    "\n",
    "    def CalcOutput(self, context, output):\n",
    "        w_G = self.w_G_port.Eval(context)\n",
    "        v_G = self.v_G_port.Eval(context)\n",
    "        V_G = np.hstack([w_G, v_G])\n",
    "        q = self.q_port.Eval(context)\n",
    "        self._plant.SetPositions(self._plant_context, self._iiwa, q)\n",
    "        J_G = self._plant.CalcJacobianSpatialVelocity(\n",
    "            self._plant_context, JacobianWrtVariable.kV, \n",
    "            self._G, [0,0,0], self._W, self._W)\n",
    "        J_G = J_G[:,self.iiwa_start:self.iiwa_end+1] # Only iiwa terms.\n",
    "        v = np.linalg.pinv(J_G).dot(V_G)\n",
    "        output.SetFromVector(v)"
   ]
  },
  {
   "cell_type": "markdown",
   "metadata": {
    "colab_type": "text",
    "id": "uM1pk1zzN9D3"
   },
   "source": [
    "Oh, boy.  Big moment.  I'm excited... are you?  Let's do this thing!"
   ]
  },
  {
   "cell_type": "code",
   "execution_count": 86,
   "metadata": {
    "colab": {},
    "colab_type": "code",
    "id": "hDrXl1oSNt6u"
   },
   "outputs": [
    {
     "name": "stdout",
     "output_type": "stream",
     "text": [
      "Sanity check: The entire maneuver will take 27.819595226260763 seconds to execute.\n",
      "Connecting to meshcat-server at zmq_url=tcp://127.0.0.1:6002...\n",
      "You can open the visualizer by visiting the following URL:\n",
      "http://127.0.0.1:7002/static/\n",
      "Connected to meshcat-server.\n"
     ]
    }
   ],
   "source": [
    "X_O = {\"initial\": RigidTransform(RotationMatrix.MakeZRotation(np.pi/2.0), [-.2, -.65, 0.09]),\n",
    "       \"goal\": RigidTransform(RotationMatrix.MakeZRotation(np.pi),[.5, 0, 0.09])}\n",
    "\n",
    "builder = DiagramBuilder()\n",
    "\n",
    "station = builder.AddSystem(ManipulationStation())\n",
    "station.SetupClutterClearingStation()\n",
    "station.AddManipulandFromFile(\n",
    "    \"drake/examples/manipulation_station/models/061_foam_brick.sdf\",\n",
    "    X_O[\"initial\"])\n",
    "station.Finalize()\n",
    "\n",
    "# Find the initial pose of the gripper (as set in the default Context)\n",
    "temp_context = station.CreateDefaultContext()\n",
    "plant = station.get_multibody_plant()\n",
    "temp_plant_context = plant.GetMyContextFromRoot(temp_context)\n",
    "X_G = {\"initial\": plant.EvalBodyPoseInWorld(temp_plant_context, plant.GetBodyByName(\"body\"))}\n",
    "X_G, times = make_gripper_frames(X_G, X_O)\n",
    "print(f\"Sanity check: The entire maneuver will take {times['postplace']} seconds to execute.\")\n",
    "\n",
    "# Make the trajectories\n",
    "traj_p_G = make_gripper_position_trajectory(X_G, times)\n",
    "traj_v_G = traj_p_G.MakeDerivative()\n",
    "traj_R_G = make_gripper_orientation_trajectory(X_G, times)\n",
    "traj_w_G = traj_R_G.MakeDerivative()\n",
    "\n",
    "v_G_source = builder.AddSystem(TrajectorySource(traj_v_G))\n",
    "v_G_source.set_name(\"v_WG\")\n",
    "w_G_source = builder.AddSystem(TrajectorySource(traj_w_G))\n",
    "w_G_source.set_name(\"omega_WG\")\n",
    "controller = builder.AddSystem(PseudoInverseController(plant))\n",
    "controller.set_name(\"PseudoInverseController\")\n",
    "builder.Connect(v_G_source.get_output_port(), controller.GetInputPort(\"v_WG\"))\n",
    "builder.Connect(w_G_source.get_output_port(), controller.GetInputPort(\"omega_WG\"))\n",
    "\n",
    "integrator = builder.AddSystem(Integrator(7))\n",
    "integrator.set_name(\"integrator\")\n",
    "builder.Connect(controller.get_output_port(), \n",
    "                integrator.get_input_port())\n",
    "builder.Connect(integrator.get_output_port(),\n",
    "                station.GetInputPort(\"iiwa_position\"))\n",
    "builder.Connect(station.GetOutputPort(\"iiwa_position_measured\"),\n",
    "                controller.GetInputPort(\"iiwa_position\"))\n",
    "\n",
    "traj_wsg_command = make_wsg_command_trajectory(times)\n",
    "wsg_source = builder.AddSystem(TrajectorySource(traj_wsg_command))\n",
    "wsg_source.set_name(\"wsg_command\")\n",
    "builder.Connect(wsg_source.get_output_port(), station.GetInputPort(\"wsg_position\"))\n",
    "\n",
    "meshcat = ConnectMeshcatVisualizer(builder,\n",
    "    station.get_scene_graph(),\n",
    "    output_port=station.GetOutputPort(\"query_object\"),\n",
    "#    delete_prefix_on_load=False,  # Use this if downloading is a pain.\n",
    "    zmq_url=zmq_url,\n",
    ")\n",
    "\n",
    "diagram = builder.Build()\n",
    "diagram.set_name(\"pick_and_place\")\n",
    "\n",
    "simulator = Simulator(diagram)\n",
    "station_context = station.GetMyContextFromRoot(simulator.get_mutable_context())\n",
    "# TODO(russt): Add this missing python binding\n",
    "#integrator.set_integral_value(\n",
    "#    integrator.GetMyContextFromRoot(simulator.get_mutable_context()), \n",
    "#        station.GetIiwaPosition(station_context))\n",
    "integrator.GetMyContextFromRoot(simulator.get_mutable_context()).get_mutable_continuous_state_vector().SetFromVector(station.GetIiwaPosition(station_context))\n",
    "\n",
    "simulator.set_target_realtime_rate(1.0)\n",
    "meshcat.start_recording()\n",
    "simulator.AdvanceTo(traj_p_G.end_time() if running_as_notebook else 0.1)\n",
    "meshcat.stop_recording()\n",
    "meshcat.publish_recording()\n"
   ]
  },
  {
   "cell_type": "markdown",
   "metadata": {
    "colab_type": "text",
    "id": "AeKMhIacWZ00"
   },
   "source": [
    "That's quite some diagram we've assembled.  Do you understand all of the parts?"
   ]
  },
  {
   "cell_type": "code",
   "execution_count": null,
   "metadata": {
    "colab": {},
    "colab_type": "code",
    "id": "ZWXemy-bUAab"
   },
   "outputs": [],
   "source": [
    "SVG(pydot.graph_from_dot_data(diagram.GetGraphvizString(max_depth=1))[0].create_svg())"
   ]
  },
  {
   "cell_type": "code",
   "execution_count": null,
   "metadata": {
    "colab": {},
    "colab_type": "code",
    "id": "JX1Oq7gfWsBD"
   },
   "outputs": [],
   "source": []
  }
 ],
 "metadata": {
  "colab": {
   "collapsed_sections": [],
   "name": "Robotic Manipulation - Basic Pick and Place.ipynb",
   "provenance": []
  },
  "kernelspec": {
   "display_name": "Python 3",
   "language": "python",
   "name": "python3"
  },
  "language_info": {
   "codemirror_mode": {
    "name": "ipython",
    "version": 3
   },
   "file_extension": ".py",
   "mimetype": "text/x-python",
   "name": "python",
   "nbconvert_exporter": "python",
   "pygments_lexer": "ipython3",
   "version": "3.6.9"
  }
 },
 "nbformat": 4,
 "nbformat_minor": 1
}
