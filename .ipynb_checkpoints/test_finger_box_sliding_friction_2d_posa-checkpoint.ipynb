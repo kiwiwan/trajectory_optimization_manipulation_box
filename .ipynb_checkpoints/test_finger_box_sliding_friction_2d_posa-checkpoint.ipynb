{
 "cells": [
  {
   "cell_type": "code",
   "execution_count": 1,
   "metadata": {},
   "outputs": [],
   "source": [
    "server_args = []\n",
    "# Start a single meshcat server instance to use for the remainder of this notebook.\n",
    "from meshcat.servers.zmqserver import start_zmq_server_as_subprocess\n",
    "proc, zmq_url, web_url = start_zmq_server_as_subprocess(server_args=server_args)\n",
    "\n",
    "from manipulation import running_as_notebook\n",
    "\n",
    "# Imports\n",
    "import numpy as np\n",
    "import pydot\n",
    "from ipywidgets import Dropdown, Layout\n",
    "from IPython.display import display, HTML, SVG\n",
    "\n",
    "from pydrake.all import (\n",
    "    AddMultibodyPlantSceneGraph, ConnectMeshcatVisualizer, DiagramBuilder, \n",
    "    FindResourceOrThrow, GenerateHtml, InverseDynamicsController, \n",
    "    MultibodyPlant, Parser, Simulator)\n",
    "from pydrake.multibody.jupyter_widgets import MakeJointSlidersThatPublishOnCallback\n",
    "import pydrake\n",
    "from pydrake import geometry\n",
    "from pydrake.math import RigidTransform, RollPitchYaw, RotationMatrix \n",
    "from pydrake.solvers.mathematicalprogram import MathematicalProgram, Solve\n",
    "from pydrake.systems.jupyter_widgets import PoseSliders, WidgetSystem\n",
    "from ipywidgets import ToggleButton, ToggleButtons\n",
    "from functools import partial\n",
    "from pydrake.all import (\n",
    "    JointIndex, PiecewisePolynomial, JacobianWrtVariable,\n",
    "    eq, ge,  AutoDiffXd, autoDiffToGradientMatrix, SnoptSolver, IpoptSolver,\n",
    "    initializeAutoDiffGivenGradientMatrix,  autoDiffToGradientMatrix,\n",
    "    AddUnitQuaternionConstraintOnPlant, PositionConstraint, OrientationConstraint,\n",
    "    MeshcatContactVisualizer, Expression, ExtractGradient\n",
    ")\n",
    "\n",
    "import pickle\n",
    "from pydrake.symbolic import Variable"
   ]
  },
  {
   "cell_type": "code",
   "execution_count": 2,
   "metadata": {},
   "outputs": [],
   "source": [
    "builder = DiagramBuilder()\n",
    "plant, scene_graph = AddMultibodyPlantSceneGraph(builder, time_step=1e-4)"
   ]
  },
  {
   "cell_type": "code",
   "execution_count": 3,
   "metadata": {},
   "outputs": [],
   "source": [
    "#add table\n",
    "ground = pydrake.multibody.parsing.Parser(plant, scene_graph).AddModelFromFile(\"model/ground.urdf\", \"ground\")\n",
    "\n",
    "#add box\n",
    "cracker_box = pydrake.multibody.parsing.Parser(plant, scene_graph).AddModelFromFile(\n",
    "                \"model/003_cracker_box_plannar_test.urdf\", \"cracker_box\")\n",
    "\n",
    "X_WB = RigidTransform(RotationMatrix.MakeXRotation(np.pi/2), [0., 0., 0.104200 + 1e-07])#\n",
    "planar_joint_frame = plant.AddFrame(pydrake.multibody.tree.FixedOffsetFrame(\"planar_joint_frame\", plant.world_frame(), X_WB))\n",
    "box_joint = plant.AddJoint(pydrake.multibody.tree.PlanarJoint(\"box_joint\", planar_joint_frame, plant.GetFrameByName(\"base_link_cracker\", cracker_box)))\n",
    "box_joint.set_default_translation([0, 0])"
   ]
  },
  {
   "cell_type": "code",
   "execution_count": 4,
   "metadata": {},
   "outputs": [],
   "source": [
    "def AddPointFinger(plant):\n",
    "    mu = 1.0\n",
    "    finger = plant.AddModelInstance(\"finger\")\n",
    "    false_body1 = plant.AddRigidBody(\"false_body1\", finger, pydrake.multibody.tree.SpatialInertia(0, [0,0,0], pydrake.multibody.tree.UnitInertia(0,0,0)))\n",
    "    finger_body = plant.AddRigidBody(\"body\", finger, pydrake.multibody.tree.SpatialInertia(mass=1.0, p_PScm_E=np.array([0., 0., 0.]),\n",
    "            G_SP_E=pydrake.multibody.tree.UnitInertia(1.0, 1.0, 1.0)))\n",
    "    shape = pydrake.geometry.Sphere(0.01)\n",
    "    if plant.geometry_source_is_registered():\n",
    "        plant.RegisterCollisionGeometry(finger_body, RigidTransform(), shape, \"body\", pydrake.multibody.plant.CoulombFriction(mu, mu))\n",
    "        plant.RegisterVisualGeometry(finger_body, RigidTransform(), shape, \"body\", [.9, .5, .5, 1.0])\n",
    "    finger_x = plant.AddJoint(pydrake.multibody.tree.PrismaticJoint(\"finger_x\", plant.world_frame(), plant.GetFrameByName(\"false_body1\"), [1, 0, 0], -1.0, 1.0))\n",
    "    plant.AddJointActuator(\"finger_x\", finger_x)\n",
    "    finger_x.set_default_translation(-0.1)\n",
    "    finger_z = plant.AddJoint(pydrake.multibody.tree.PrismaticJoint(\"finger_z\", plant.GetFrameByName(\"false_body1\"), plant.GetFrameByName(\"body\"), [0, 0, 1], 0., 1.0))\n",
    "    finger_z.set_default_translation(0.05)\n",
    "    plant.AddJointActuator(\"finger_z\", finger_z)\n",
    "\n",
    "    return finger\n",
    "finger = AddPointFinger(plant)"
   ]
  },
  {
   "cell_type": "code",
   "execution_count": 5,
   "metadata": {},
   "outputs": [],
   "source": [
    "plant.Finalize()\n",
    "plant.set_name(\"plant\")"
   ]
  },
  {
   "cell_type": "code",
   "execution_count": 6,
   "metadata": {},
   "outputs": [],
   "source": [
    "cracker_box_body = plant.GetBodyByName(\"base_link_cracker\", cracker_box)\n",
    "cracker_box_id = plant.GetBodyFrameIdIfExists(cracker_box_body.index())\n",
    "\n",
    "\n",
    "draw_frames = True\n",
    "frames_to_draw = [cracker_box_id] if draw_frames else []\n",
    "# meshcat = ConnectMeshcatVisualizer(builder, scene_graph, zmq_url=zmq_url, frames_to_draw=frames_to_draw, axis_length=0.15,\n",
    "#                  axis_radius=0.001,)\n",
    "# meshcat.set_planar_viewpoint(xmin=-.5, xmax=.5, ymin=-0.1, ymax=0.6)\n",
    "\n",
    "# #visualizer the contact\n",
    "# contact_visualizer = builder.AddSystem(MeshcatContactVisualizer(meshcat, \n",
    "#                                        force_threshold=0.0,\n",
    "#                                        contact_force_scale=0.05, \n",
    "#                                        contact_force_radius=0.001,   \n",
    "#                                        plant=plant))\n",
    "# builder.Connect(plant.get_contact_results_output_port(),\n",
    "#                 contact_visualizer.GetInputPort(\"contact_results\"))\n",
    "\n",
    "\n",
    "diagram = builder.Build()\n",
    "context = diagram.CreateDefaultContext()\n",
    "plant_context = plant.GetMyContextFromRoot(context)\n",
    "# X_WB = RigidTransform(RotationMatrix(), [0., 0., 0.0334 + 1e-07])\n",
    "# plant.SetFreeBodyPose(plant_context, \n",
    "#                               plant.GetBodyByName(\"base_link_cracker\", cracker_box),\n",
    "#                               X_WB)\n",
    "\n",
    "# meshcat.load()\n",
    "diagram.Publish(context)"
   ]
  },
  {
   "cell_type": "code",
   "execution_count": 7,
   "metadata": {},
   "outputs": [],
   "source": [
    "# query_object = plant.get_geometry_query_input_port().Eval(plant_context)\n",
    "# scene_graph_inspector = query_object.inspector()\n",
    "# collision_candidate_pairs = scene_graph_inspector.GetCollisionCandidates()\n",
    "# signed_distance_pairs = query_object.ComputeSignedDistancePairwiseClosestPoints()\n",
    "# for signed_distance_pair in signed_distance_pairs:\n",
    "#     print(\"id_A: \", signed_distance_pair.id_A, \"   id_B: \", signed_distance_pair.id_B)\n",
    "#     print(\"p_ACa: \", signed_distance_pair.p_ACa, \"   p_BCb: \", signed_distance_pair.p_BCb)\n",
    "#     print(\"nhat_BA_W: \", signed_distance_pair.nhat_BA_W, \"   distance: \", signed_distance_pair.distance)\n",
    "#     print(\"########################\")"
   ]
  },
  {
   "cell_type": "code",
   "execution_count": 8,
   "metadata": {},
   "outputs": [],
   "source": [
    "# a = np.array([[0, 0],[0, 0]])\n",
    "# print(a.shape)\n",
    "# print(plant_context)"
   ]
  },
  {
   "cell_type": "code",
   "execution_count": 9,
   "metadata": {},
   "outputs": [],
   "source": [
    "# init_from_file = False\n",
    "init_from_file = True\n",
    "tmpfolder = 'tmp/'\n",
    "with open(tmpfolder +  'test_finger_box_sliding_friction_2d_posa/sol.pkl', 'rb' ) as file:\n",
    "    q_o_ini, v_o_ini, vdot_o_ini, q_r_ini, v_r_ini, vdot_r_ini, u_ini,lambd_z_ini, lambd_x_pos_ini, lambd_x_neg_ini, gama_ini = pickle.load( file )"
   ]
  },
  {
   "cell_type": "code",
   "execution_count": 10,
   "metadata": {},
   "outputs": [],
   "source": [
    "# Need this because a==b returns True even if a = AutoDiffXd(1, [1, 2]), b= AutoDiffXd(2, [3, 4])\n",
    "# That's the behavior of AutoDiffXd in C++, also.\n",
    "def autoDiffArrayEqual(a,b):\n",
    "    return np.array_equal(a, b) and np.array_equal(autoDiffToGradientMatrix(a), autoDiffToGradientMatrix(b))\n",
    "\n",
    "\n",
    "N = 10\n",
    "\n",
    "\n",
    "# Create one context per timestep (to maximize cache hits)\n",
    "#to use scenegraph, so the plant context need derive from diagram\n",
    "context_list = [diagram.CreateDefaultContext() for i in range(N)]\n",
    "plant_context_list = [plant.GetMyContextFromRoot(context_list[i]) for i in range(N)]\n",
    "# We could get rid of this by implementing a few more Jacobians in MultibodyPlant:\n",
    "ad_diagram = diagram.ToAutoDiffXd()\n",
    "ad_plant = ad_diagram.GetSubsystemByName(\"plant\")\n",
    "\n",
    "# Make a new autodiff context (to maximize cache hits)\n",
    "#to use scenegraph, so the plant context need derive from diagram\n",
    "ad_context_list = [ad_diagram.CreateDefaultContext() for i in range(N)]\n",
    "ad_plant_context_list = [ad_plant.GetMyContextFromRoot(ad_context_list[i]) for i in range(N)]\n",
    "\n",
    "mu = 1\n",
    "total_mass = sum(plant.get_body(index).get_mass(context) for index in plant.GetBodyIndices(cracker_box))\n",
    "gravity = plant.gravity_field().gravity_vector()\n",
    "g = -gravity[2]\n",
    "m_box = total_mass\n",
    "\n",
    "\n",
    "\n",
    "#time step constrain\n",
    "T = 1\n",
    "prog = MathematicalProgram()\n",
    "# Time steps    \n",
    "h = prog.NewContinuousVariables(N-1, \"h\")\n",
    "prog.AddBoundingBoxConstraint([0.5*T/(N-1)]*(N-1), [2.0*T/(N-1)]*(N-1), h) \n",
    "prog.AddLinearConstraint(sum(h) >= .9*T)\n",
    "prog.AddLinearConstraint(sum(h) <= 1.1*T)\n",
    "prog.SetInitialGuess(h, [T/(N-1)]*(N-1))\n",
    "\n",
    "#q, v, vdot constrain\n",
    "nq_o = plant.num_positions(cracker_box)\n",
    "nv_o = plant.num_velocities(cracker_box)\n",
    "nq_r = plant.num_positions(finger)\n",
    "nv_r = plant.num_velocities(finger)\n",
    "nq = nq_o + nq_r\n",
    "nv = nv_o + nv_r\n",
    "q_o = prog.NewContinuousVariables(nq_o, N, \"q_o\")\n",
    "v_o = prog.NewContinuousVariables(nv_o, N, \"v_o\")\n",
    "vdot_o = prog.NewContinuousVariables(nv_o, N-1, \"vdot_o\")\n",
    "\n",
    "q_r = prog.NewContinuousVariables(nq_r, N, \"q_r\")\n",
    "v_r = prog.NewContinuousVariables(nv_r, N, \"v_r\")\n",
    "vdot_r = prog.NewContinuousVariables(nv_r, N-1, \"vdot_r\")\n",
    "u = prog.NewContinuousVariables(nv_r, N-1, \"u\")\n",
    "\n",
    "#initial constrain\n",
    "q0_o = plant.GetPositions(plant_context, cracker_box)\n",
    "v0_o = plant.GetVelocities(plant_context, cracker_box)\n",
    "prog.AddBoundingBoxConstraint(q0_o, q0_o, q_o[:,0])\n",
    "prog.AddBoundingBoxConstraint(v0_o, v0_o, v_o[:,0])\n",
    "\n",
    "q0_r = plant.GetPositions(plant_context, finger)\n",
    "v0_r = plant.GetVelocities(plant_context, finger)\n",
    "prog.AddBoundingBoxConstraint(q0_r, q0_r, q_r[:,0])\n",
    "prog.AddBoundingBoxConstraint(v0_r, v0_r, v_r[:,0])\n",
    "\n",
    "#final constrain\n",
    "qe_o = np.array(q0_o)\n",
    "ve_o = np.array(v0_o)\n",
    "qe_o[0] = 0.1\n",
    "prog.AddBoundingBoxConstraint(qe_o, qe_o, q_o[:,N-1])\n",
    "prog.AddBoundingBoxConstraint(ve_o, ve_o, v_o[:,N-1])\n",
    "\n",
    "#initial guess\n",
    "q_o_init = PiecewisePolynomial.FirstOrderHold([0, T/3], np.vstack([q0_o, q0_o]).T)\n",
    "q_o_init.AppendFirstOrderSegment(T, qe_o)\n",
    "v_o_init = q_o_init.MakeDerivative()\n",
    "vdot_o_init = v_o_init.MakeDerivative()\n",
    "\n",
    "qe_r = np.array(q0_r)\n",
    "qe_r[0] = -0.0795/2\n",
    "q_r_init = PiecewisePolynomial.FirstOrderHold([0, T/3], np.vstack([q0_r, qe_r]).T)\n",
    "qe_r[0] = 0.1-0.0795/2\n",
    "q_r_init.AppendFirstOrderSegment(T, qe_r)\n",
    "v_r_init = q_r_init.MakeDerivative()\n",
    "vdot_r_init = v_r_init.MakeDerivative()\n",
    "\n",
    "\n",
    "for n in range(N):\n",
    "    prog.AddBoundingBoxConstraint(q0_r[1], q0_r[1], q_r[1,n])\n",
    "#     prog.AddQuadraticErrorCost(np.diag([1]*nq_o), q0_o, q_o[:,n])\n",
    "    prog.AddQuadraticErrorCost(np.diag([100]*nv_o), [0]*nv_o, v_o[:,n])\n",
    "#     prog.AddQuadraticErrorCost(np.diag([100]*nv_r), [0]*nv_r, u[:,n])\n",
    "    if not init_from_file:\n",
    "        prog.SetInitialGuess(q_o[:,n], q_o_init.value(n*T/(N-1)))\n",
    "        prog.SetInitialGuess(v_o[:,n], v_o_init.value(n*T/(N-1)))\n",
    "        prog.SetInitialGuess(q_r[:,n], q_r_init.value(n*T/(N-1)))\n",
    "        prog.SetInitialGuess(v_r[:,n], v_r_init.value(n*T/(N-1)))\n",
    "        if n != N-1:\n",
    "            prog.SetInitialGuess(vdot_o[:,n], vdot_o_init.value(n*T/(N-1)))\n",
    "            prog.SetInitialGuess(vdot_r[:,n], vdot_r_init.value(n*T/(N-1)))\n",
    "\n",
    "    # Unit quaternions\n",
    "#     AddUnitQuaternionConstraintOnPlant(plant, q_o[:,n], prog)\n",
    "\n",
    "    \n",
    "if init_from_file:\n",
    "    prog.SetInitialGuess(q_o, q_o_ini)\n",
    "    prog.SetInitialGuess(v_o, v_o_ini)\n",
    "    prog.SetInitialGuess(vdot_o, vdot_o_ini)\n",
    "    \n",
    "    prog.SetInitialGuess(q_r, q_r_ini)\n",
    "    prog.SetInitialGuess(v_r, v_r_ini)\n",
    "    prog.SetInitialGuess(vdot_r, vdot_r_ini)\n",
    "    prog.SetInitialGuess(u, u_ini)"
   ]
  },
  {
   "cell_type": "code",
   "execution_count": 11,
   "metadata": {},
   "outputs": [],
   "source": [
    "# def velocity_position_constraint(vars, context_index):\n",
    "#     h, q, v, qn = np.split(vars, [1, 1+nq_o, 1+nq_o+nv_o])\n",
    "#     if isinstance(vars[0], AutoDiffXd):\n",
    "#         if not autoDiffArrayEqual(q, ad_plant.GetPositions(ad_plant_context_list[context_index], cracker_box)):\n",
    "#             ad_plant.SetPositions(ad_plant_context_list[context_index], q)\n",
    "#         v_from_qdot = ad_plant.MapQDotToVelocity(ad_plant_context_list[context_index], (qn - q)/h)\n",
    "#     else:\n",
    "#         if not np.array_equal(q, plant.GetPositions(plant_context_list[context_index])):\n",
    "#             plant.SetPositions(plant_context_list[context_index], q)\n",
    "#         v_from_qdot = plant.MapQDotToVelocity(plant_context_list[context_index], (qn - q)/h)\n",
    "#     return v - v_from_qdot\n",
    "# for n in range(N-1):\n",
    "#     prog.AddConstraint(\n",
    "#         partial(velocity_position_constraint, context_index=n), \n",
    "#         lb=[0]*nv_o, ub=[0]*nv_o, \n",
    "#         vars=np.concatenate(([h[n]], q_o[:,n], v_o[:,n+1], q_o[:,n+1])))  #(implicit Euler)\n",
    "    \n",
    "#accelaration and velocity relation constrain(implicit Euler)\n",
    "for n in range(N-1):\n",
    "    q_v_o_constrain = prog.AddConstraint(eq(q_o[:, n+1], q_o[:,n] + h[n]*v_o[:,n+1]))#(implicit Euler)\n",
    "    v_vdot_o_constrain = prog.AddConstraint(eq(v_o[:, n+1], v_o[:,n] + h[n]*vdot_o[:,n]))#(implicit Euler)\n",
    "    q_v_o_constrain.evaluator().set_description(f\"q_v_o_constrain_{n}\")\n",
    "    v_vdot_o_constrain.evaluator().set_description(f\"v_vdot_o_constrain_{n}\")\n",
    "    \n",
    "    q_v_r_constrain = prog.AddConstraint(eq(q_r[:, n+1], q_r[:,n] + h[n]*v_r[:,n+1]))#(implicit Euler)\n",
    "    v_vdot_r_constrain = prog.AddConstraint(eq(v_r[:, n+1], v_r[:,n] + h[n]*vdot_r[:,n]))#(implicit Euler)\n",
    "    q_v_r_constrain.evaluator().set_description(f\"q_v_r_constrain_{n}\")\n",
    "    v_vdot_r_constrain.evaluator().set_description(f\"v_vdot_r_constrain_{n}\")"
   ]
  },
  {
   "cell_type": "code",
   "execution_count": 12,
   "metadata": {},
   "outputs": [
    {
     "name": "stdout",
     "output_type": "stream",
     "text": [
      "(<GeometryId value=22>, <GeometryId value=35>)\n",
      "(<GeometryId value=22>, <GeometryId value=45>)\n",
      "(<GeometryId value=22>, <GeometryId value=41>)\n",
      "(<GeometryId value=29>, <GeometryId value=45>)\n",
      "(<GeometryId value=22>, <GeometryId value=38>)\n",
      "(<GeometryId value=22>, <GeometryId value=32>)\n"
     ]
    }
   ],
   "source": [
    "query_object = plant.get_geometry_query_input_port().Eval(plant_context)\n",
    "scene_graph_inspector = query_object.inspector()\n",
    "collision_candidate_pairs = scene_graph_inspector.GetCollisionCandidates()\n",
    "\n",
    "#set the ignored_collision_pairs\n",
    "cracker_box_body = plant.GetBodyByName(\"base_link_cracker\", cracker_box)\n",
    "cracker_box_id = plant.GetBodyFrameIdIfExists(cracker_box_body.index())\n",
    "ground_body = plant.GetBodyByName(\"ground\", ground)\n",
    "ground_id = plant.GetBodyFrameIdIfExists(ground_body.index())\n",
    "finger_body = plant.GetBodyByName(\"body\", finger)\n",
    "finger_id = plant.GetBodyFrameIdIfExists(finger_body.index())\n",
    "ground_geometry_id = scene_graph_inspector.GetGeometryIdByName(ground_id, pydrake.geometry.Role.kProximity, \"ground::ground_collision\")\n",
    "box_collision_geometry_id = scene_graph_inspector.GetGeometryIdByName(cracker_box_id, pydrake.geometry.Role.kProximity, \"cracker_box::box_collision\")\n",
    "point_collision1_geometry_id = scene_graph_inspector.GetGeometryIdByName(cracker_box_id, pydrake.geometry.Role.kProximity, \"cracker_box::point_collision1\")\n",
    "point_collision2_geometry_id = scene_graph_inspector.GetGeometryIdByName(cracker_box_id, pydrake.geometry.Role.kProximity, \"cracker_box::point_collision2\")\n",
    "point_collision3_geometry_id = scene_graph_inspector.GetGeometryIdByName(cracker_box_id, pydrake.geometry.Role.kProximity, \"cracker_box::point_collision3\")\n",
    "point_collision4_geometry_id = scene_graph_inspector.GetGeometryIdByName(cracker_box_id, pydrake.geometry.Role.kProximity, \"cracker_box::point_collision4\")\n",
    "finger_geometry_id = scene_graph_inspector.GetGeometryIdByName(finger_id, pydrake.geometry.Role.kProximity, \"finger::body\")\n",
    "\n",
    "ignored_collision_pairs = set([(ground_geometry_id, box_collision_geometry_id)\n",
    "                               ,(point_collision1_geometry_id, finger_geometry_id)\n",
    "                               ,(point_collision2_geometry_id, finger_geometry_id)\n",
    "                               ,(point_collision3_geometry_id, finger_geometry_id)\n",
    "                               ,(point_collision4_geometry_id, finger_geometry_id)\n",
    "\n",
    "                              ])\n",
    "\n",
    "#it's the top four collision point\n",
    "collision_pairs1 = set([\n",
    "                               (ground_geometry_id, point_collision1_geometry_id)\n",
    "                               ,(ground_geometry_id, point_collision3_geometry_id)\n",
    "                              ])\n",
    "\n",
    "#set collision_candidate_pair_list\n",
    "collision_candidate_pair_list = []\n",
    "for collision_candidate_pair in collision_candidate_pairs:\n",
    "    if collision_candidate_pair not in ignored_collision_pairs:\n",
    "        collision_candidate_pair_list.append(collision_candidate_pair)\n",
    "        print(collision_candidate_pair)\n",
    "        \n",
    "N_f = len(collision_candidate_pair_list)        \n",
    "\n",
    "#express in contact coordinate\n",
    "lambd_z = prog.NewContinuousVariables(N_f, N-1, \"lambd_z\")\n",
    "lambd_x_pos = prog.NewContinuousVariables(N_f, N-1, \"lambd_x_pos\")\n",
    "lambd_x_neg = prog.NewContinuousVariables(N_f, N-1, \"lambd_x_neg\")\n",
    "gama = prog.NewContinuousVariables(N_f, N-1, \"gama\")\n",
    "#eq9\n",
    "for n in range(N-1):\n",
    "    prog.AddBoundingBoxConstraint([0]*N_f, [np.inf]*N_f, lambd_z[:, n])\n",
    "    prog.AddBoundingBoxConstraint([0]*N_f, [np.inf]*N_f, lambd_x_pos[:, n])\n",
    "    prog.AddBoundingBoxConstraint([0]*N_f, [np.inf]*N_f, lambd_x_neg[:, n])\n",
    "    prog.AddBoundingBoxConstraint([0]*N_f, [np.inf]*N_f, gama[:, n])\n",
    "    \n",
    "    #eq10\n",
    "    eq10_constraint = prog.AddConstraint(ge(mu*lambd_z[:, n] - lambd_x_pos[:, n] - lambd_x_neg[:, n], 0))\n",
    "    eq10_constraint.evaluator().set_description(f\"eq10_constraint_{n}\")\n",
    "    if not init_from_file:\n",
    "        for k in range(N_f):\n",
    "            if collision_candidate_pair_list[k] not in collision_pairs1:\n",
    "                prog.SetInitialGuess(lambd_z[k, n], m_box*g/2)\n",
    "            \n",
    "if init_from_file:\n",
    "    prog.SetInitialGuess(lambd_z, lambd_z_ini)\n",
    "    prog.SetInitialGuess(lambd_x_pos, lambd_x_pos_ini)\n",
    "    prog.SetInitialGuess(lambd_x_neg, lambd_x_neg_ini)\n",
    "    prog.SetInitialGuess(gama, gama_ini)"
   ]
  },
  {
   "cell_type": "code",
   "execution_count": 13,
   "metadata": {},
   "outputs": [],
   "source": [
    "iter_count = 0\n",
    "#reference drake sliding_friction_complementarity_constraint.cc file\n",
    "def friction_complementarity_constraint(vars, context_index):\n",
    "    q_o, v_o, q_r, v_r, lambd_z, lambd_x_pos, lambd_x_neg, gama = np.split(vars, \n",
    "                                        [nq_o, nq_o+nv_o, nq_o+nv_o+nq_r, nq_o+nv_o+nq_r+nv_r, \n",
    "                                         nq_o+nv_o+nq_r+nv_r+N_f, nq_o+nv_o+nq_r+nv_r+N_f*2, \n",
    "                                          nq_o+nv_o+nq_r+nv_r+N_f*3])\n",
    "\n",
    "    #to deal the error,\"PyFunctionConstraint: Output must be of scalar type float. Got AutoDiffXd instead.\"\n",
    "    #need eval_plant and eval_context for both AutoDiffXd and scalar type input\n",
    "    if isinstance(vars[0], AutoDiffXd):\n",
    "        #set plant pos and vel\n",
    "        if not autoDiffArrayEqual(q_o, ad_plant.GetPositions(ad_plant_context_list[context_index], cracker_box)):\n",
    "            ad_plant.SetPositions(ad_plant_context_list[context_index], cracker_box, q_o)\n",
    "        if not autoDiffArrayEqual(v_o, ad_plant.GetVelocities(ad_plant_context_list[context_index], cracker_box)):\n",
    "            ad_plant.SetVelocities(ad_plant_context_list[context_index], cracker_box, v_o)\n",
    "        \n",
    "        if not autoDiffArrayEqual(q_r, ad_plant.GetPositions(ad_plant_context_list[context_index], finger)):\n",
    "            ad_plant.SetPositions(ad_plant_context_list[context_index], finger, q_r)\n",
    "        if not autoDiffArrayEqual(v_r, ad_plant.GetVelocities(ad_plant_context_list[context_index], finger)):\n",
    "            ad_plant.SetVelocities(ad_plant_context_list[context_index], finger, v_r)\n",
    "        \n",
    "        eval_plant = ad_plant\n",
    "        eval_plant_context = ad_plant_context_list[context_index]\n",
    "    else:\n",
    "        if not np.array_equal(q_o, plant.GetPositions(plant_context_list[context_index], cracker_box)):\n",
    "            plant.SetPositions(plant_context_list[context_index], cracker_box, q_o)\n",
    "        if not np.array_equal(v_o, plant.GetVelocities(plant_context_list[context_index], cracker_box)):\n",
    "            plant.SetVelocities(plant_context_list[context_index], cracker_box, v_o)\n",
    "        \n",
    "        if not np.array_equal(q_r, plant.GetPositions(plant_context_list[context_index], finger)):\n",
    "            plant.SetPositions(plant_context_list[context_index], finger, q_r)\n",
    "        if not np.array_equal(v_r, plant.GetVelocities(plant_context_list[context_index], finger)):\n",
    "            plant.SetVelocities(plant_context_list[context_index], finger, v_r)\n",
    "        \n",
    "        eval_plant = plant\n",
    "        eval_plant_context = plant_context_list[context_index]\n",
    "    \n",
    "    #get query object and scenegraph inspector\n",
    "    eval_query_object = eval_plant.get_geometry_query_input_port().Eval(eval_plant_context)\n",
    "    eval_scene_graph_inspector = eval_query_object.inspector()\n",
    "    \n",
    "    global iter_count\n",
    "    if iter_count % (100*N) == 0:\n",
    "        print(\"iter_count:\",iter_count/N)\n",
    "    iter_count = iter_count + 1\n",
    "    res_list = []\n",
    "    #f is A exert to B express in W\n",
    "    for n in range(N_f):\n",
    "        signed_distance_pair = eval_query_object.ComputeSignedDistancePairClosestPoints(\n",
    "                                    collision_candidate_pair_list[n][0], collision_candidate_pair_list[n][1])\n",
    "        #derive friction coefficience\n",
    "        geometryA_props = eval_scene_graph_inspector.GetProximityProperties(signed_distance_pair.id_A)\n",
    "        geometryB_props = eval_scene_graph_inspector.GetProximityProperties(signed_distance_pair.id_B)\n",
    "        geometryA_friction = geometryA_props.GetProperty(\"material\", \"coulomb_friction\")\n",
    "        geometryB_friction = geometryB_props.GetProperty(\"material\", \"coulomb_friction\")\n",
    "        combined_friction = pydrake.multibody.plant.CalcContactFrictionFromSurfaceProperties(\n",
    "                                                        geometryA_friction, geometryB_friction)\n",
    "        \n",
    "        #calc the velocity of contact point Cb of geometry B  related to frame A express in world frame\n",
    "        frame_A_id = eval_scene_graph_inspector.GetFrameId(signed_distance_pair.id_A)\n",
    "        frame_B_id = eval_scene_graph_inspector.GetFrameId(signed_distance_pair.id_B)\n",
    "        frameA = eval_plant.GetBodyFromFrameId(frame_A_id).body_frame()\n",
    "        frameB = eval_plant.GetBodyFromFrameId(frame_B_id).body_frame()\n",
    "        \n",
    "        V_AB_W = frameB.CalcSpatialVelocity(eval_plant_context, frameA, eval_plant.world_frame())\n",
    "        \n",
    "        X_BGb = eval_scene_graph_inspector.GetPoseInFrame(signed_distance_pair.id_B)\n",
    "        p_GbCb = signed_distance_pair.p_BCb\n",
    "        if isinstance(vars[0], AutoDiffXd):\n",
    "            p_BCb = (X_BGb.cast[AutoDiffXd]()).multiply(p_GbCb.reshape(3, 1))\n",
    "        else:\n",
    "            p_BCb = X_BGb.multiply(p_GbCb.reshape(3, 1))\n",
    "        p_BCb_W = (eval_plant.CalcRelativeTransform(eval_plant_context, \n",
    "                                                 eval_plant.world_frame(), frameB).rotation()).multiply(p_BCb.reshape(3, 1))\n",
    "        v_ACb_W = V_AB_W.Shift(p_BCb_W).translational()\n",
    "        \n",
    "        \n",
    "        nhat_BA_W = np.array([signed_distance_pair.nhat_BA_W]).T\n",
    "        \n",
    "        v_sliding_ACb_W = (np.identity(3) - nhat_BA_W * nhat_BA_W.T).dot(v_ACb_W)\n",
    "        v_sliding_ACb_W_2d = np.array([v_sliding_ACb_W[0], v_sliding_ACb_W[2]])\n",
    "        tranform_2d = -np.array([[nhat_BA_W[2], -nhat_BA_W[0]],[nhat_BA_W[0], nhat_BA_W[2]]]).reshape(2, 2)\n",
    "        thi_2d = tranform_2d.dot(v_sliding_ACb_W_2d)\n",
    "        thi = thi_2d[0]\n",
    "\n",
    "        phi = signed_distance_pair.distance\n",
    "        \n",
    "        #eq8,11-16\n",
    "        res = np.concatenate((\n",
    "        [phi],\n",
    "        [phi*lambd_z[n]],\n",
    "        [gama[n] + thi],\n",
    "        [gama[n] - thi],\n",
    "        [gama[n]*(mu*lambd_z[n] - lambd_x_pos[n] - lambd_x_neg[n])],\n",
    "        [(gama[n] + thi)*lambd_x_pos[n]],\n",
    "        [(gama[n] - thi)*lambd_x_neg[n]]\n",
    "        )) #7\n",
    "        \n",
    "        \n",
    "        res_list.append(res)\n",
    "    if iter_count % (100*N) == 0:\n",
    "        print(\"res_list:\", ExtractGradient(res_list)\n",
    "             )\n",
    "    #return must be 1 dimension vector, like [r1, r2, ...]\n",
    "    res_list = np.array(res_list).reshape(7*N_f,)\n",
    "    return res_list\n",
    "\n",
    "epsilon = 1e-10\n",
    "epsilon1 = epsilon\n",
    "epsilon2 = epsilon\n",
    "epsilon3 = epsilon\n",
    "epsilon4 = epsilon\n",
    "for n in range(N-1):\n",
    "    #set vars be 1 dimension vector, like [r1, r2, ...]\n",
    "    vars = np.concatenate((q_o[:, n+1], v_o[:, n+1], \n",
    "                           q_r[:, n+1], v_r[:, n+1],\n",
    "                            lambd_z[:, n], \n",
    "                            lambd_x_pos[:, n],\n",
    "                            lambd_x_neg[:, n],\n",
    "                            gama[:, n],\n",
    "                          ))\n",
    "    friction_constraint = prog.AddConstraint(\n",
    "        partial(friction_complementarity_constraint, context_index=n), \n",
    "        lb=np.array([np.concatenate(([0],          [0],     [0],       [0],       [0],         [0],         [0])) for i in range(N_f)]).reshape(7*N_f,), \n",
    "        ub=np.array([np.concatenate(([np.inf], [epsilon1], [np.inf], [np.inf],  [epsilon2],  [epsilon3], [epsilon4])) for i in range(N_f)]).reshape(7*N_f,), \n",
    "        vars=vars)   \n",
    "    friction_constraint.evaluator().set_description(f\"friction_constraint_{n}\")"
   ]
  },
  {
   "cell_type": "code",
   "execution_count": 14,
   "metadata": {},
   "outputs": [],
   "source": [
    "iter_count1 = 0\n",
    "def manipulator_equations(vars, context_index):\n",
    "    q_o, v_o, vdot_o, q_r, v_r, vdot_r, u, lambd_z, lambd_x_pos, lambd_x_neg= np.split(vars, \n",
    "                                                    [nq_o, nq_o+nv_o, nq_o+nv_o*2, \n",
    "                                                     nq_o+nv_o*2+nq_r, nq_o+nv_o*2+nq_r+nv_r, nq_o+nv_o*2+nq_r+nv_r*2,\n",
    "                                                     nq_o+nv_o*2+nq_r+nv_r*3,\n",
    "                                                     nq_o+nv_o*2+nq_r+nv_r*3+N_f, nq_o+nv_o*2+nq_r+nv_r*3+N_f*2])\n",
    "    #f and alpha_beta contain all collsion candidates force and corresponding alpha,beta\n",
    "    lambd_x = lambd_x_pos - lambd_x_neg\n",
    "    f = np.vstack((np.array([lambd_x]), np.array([lambd_z]))).T\n",
    "    \n",
    "    vdot = np.hstack([vdot_o, vdot_r]).flatten()\n",
    "    \n",
    "     #to deal the error,\"PyFunctionConstraint: Output must be of scalar type float. Got AutoDiffXd instead.\"\n",
    "    #need eval_plant and eval_context for both AutoDiffXd and scalar type input\n",
    "    if isinstance(vars[0], AutoDiffXd):\n",
    "        #set plant pos and vel\n",
    "        if not autoDiffArrayEqual(q_o, ad_plant.GetPositions(ad_plant_context_list[context_index], cracker_box)):\n",
    "            ad_plant.SetPositions(ad_plant_context_list[context_index], cracker_box, q_o)\n",
    "        if not autoDiffArrayEqual(v_o, ad_plant.GetVelocities(ad_plant_context_list[context_index], cracker_box)):\n",
    "            ad_plant.SetVelocities(ad_plant_context_list[context_index], cracker_box, v_o)\n",
    "        \n",
    "        if not autoDiffArrayEqual(q_r, ad_plant.GetPositions(ad_plant_context_list[context_index], finger)):\n",
    "            ad_plant.SetPositions(ad_plant_context_list[context_index], finger, q_r)\n",
    "        if not autoDiffArrayEqual(v_r, ad_plant.GetVelocities(ad_plant_context_list[context_index], finger)):\n",
    "            ad_plant.SetVelocities(ad_plant_context_list[context_index], finger, v_r)\n",
    "        \n",
    "        eval_plant = ad_plant\n",
    "        eval_plant_context = ad_plant_context_list[context_index]\n",
    "    else:\n",
    "        if not np.array_equal(q_o, plant.GetPositions(plant_context_list[context_index], cracker_box)):\n",
    "            plant.SetPositions(plant_context_list[context_index], cracker_box, q_o)\n",
    "        if not np.array_equal(v_o, plant.GetVelocities(plant_context_list[context_index], cracker_box)):\n",
    "            plant.SetVelocities(plant_context_list[context_index], cracker_box, v_o)\n",
    "        \n",
    "        if not np.array_equal(q_r, plant.GetPositions(plant_context_list[context_index], finger)):\n",
    "            plant.SetPositions(plant_context_list[context_index], finger, q_r)\n",
    "        if not np.array_equal(v_r, plant.GetVelocities(plant_context_list[context_index], finger)):\n",
    "            plant.SetVelocities(plant_context_list[context_index], finger, v_r)\n",
    "        \n",
    "        eval_plant = plant\n",
    "        eval_plant_context = plant_context_list[context_index]\n",
    "    \n",
    "    \n",
    "    # matrices for the manipulator equations\n",
    "    M = eval_plant.CalcMassMatrixViaInverseDynamics(eval_plant_context)\n",
    "    Cv = eval_plant.CalcBiasTerm(eval_plant_context)\n",
    "    tauG = eval_plant.CalcGravityGeneralizedForces(eval_plant_context)\n",
    "    B = plant.MakeActuationMatrix()\n",
    "\n",
    "    \n",
    "    #tauF = sumi(J.T*F), use object query and scenegraph inspector to calc J\n",
    "    tauF = np.zeros((nv))\n",
    "    #get query object and scenegraph inspector\n",
    "    eval_query_object = eval_plant.get_geometry_query_input_port().Eval(eval_plant_context)\n",
    "    eval_scene_graph_inspector = eval_query_object.inspector()\n",
    "    \n",
    "    global iter_count1\n",
    "    iter_count1 = iter_count1 + 1\n",
    "    #f is A exert to B express in W\n",
    "    for n in range(N_f):\n",
    "        signed_distance_pair = eval_query_object.ComputeSignedDistancePairClosestPoints(\n",
    "                                    collision_candidate_pair_list[n][0], collision_candidate_pair_list[n][1])\n",
    "        \n",
    "        frame_A_id = eval_scene_graph_inspector.GetFrameId(signed_distance_pair.id_A)\n",
    "        frame_B_id = eval_scene_graph_inspector.GetFrameId(signed_distance_pair.id_B)\n",
    "        frameA = eval_plant.GetBodyFromFrameId(frame_A_id).body_frame()\n",
    "        frameB = eval_plant.GetBodyFromFrameId(frame_B_id).body_frame()\n",
    "        \n",
    "        X_AGa = eval_scene_graph_inspector.GetPoseInFrame(signed_distance_pair.id_A)\n",
    "        p_GaCa = signed_distance_pair.p_ACa\n",
    "        if isinstance(vars[0], AutoDiffXd):\n",
    "            p_ACa = (X_AGa.cast[AutoDiffXd]()).multiply(p_GaCa.reshape(3, 1))\n",
    "        else:\n",
    "            p_ACa = X_AGa.multiply(p_GaCa.reshape(3, 1))\n",
    "            \n",
    "        X_BGb = eval_scene_graph_inspector.GetPoseInFrame(signed_distance_pair.id_B)\n",
    "        p_GbCb = signed_distance_pair.p_BCb\n",
    "        if isinstance(vars[0], AutoDiffXd):\n",
    "            p_BCb = (X_BGb.cast[AutoDiffXd]()).multiply(p_GbCb.reshape(3, 1))\n",
    "        else:\n",
    "            p_BCb = X_BGb.multiply(p_GbCb.reshape(3, 1))\n",
    "        \n",
    "        \n",
    "        Jv_v_WCa = eval_plant.CalcJacobianTranslationalVelocity(eval_plant_context, JacobianWrtVariable.kV,\n",
    "                                                    frameA, p_ACa,\n",
    "                                                    eval_plant.world_frame(), eval_plant.world_frame())\n",
    "        Jv_v_WCb = eval_plant.CalcJacobianTranslationalVelocity(eval_plant_context, JacobianWrtVariable.kV,\n",
    "                                                    frameB, p_BCb,\n",
    "                                                    eval_plant.world_frame(), eval_plant.world_frame())\n",
    "        #discard y component in 2D\n",
    "        Jv_v_WCa = Jv_v_WCa[[0, 2]]\n",
    "        Jv_v_WCb = Jv_v_WCb[[0, 2]]\n",
    "        \n",
    "        nhat_BA_W = np.array([signed_distance_pair.nhat_BA_W]).T\n",
    "        tranform_2d = -np.array([[nhat_BA_W[2], nhat_BA_W[0]],[-nhat_BA_W[0], nhat_BA_W[2]]]).reshape(2, 2)\n",
    "        #transform f to world coordinate\n",
    "        f_W = tranform_2d.dot(f[n])\n",
    "        \n",
    "        tauF = tauF + Jv_v_WCa.T.dot(-f_W) +  Jv_v_WCb.T.dot(f_W)\n",
    "\n",
    "    global iter_count\n",
    "    if iter_count1 % (100*N) == 0:\n",
    "        print(\"manipulator_equations:\", ExtractGradient(M.dot(vdot) + Cv - tauG - tauF)\n",
    "           ,\"     tauF:\", ExtractGradient(tauF)\n",
    "             )\n",
    "    #return must be 1 dimension vector, like [r1, r2, ...]\n",
    "    return M.dot(vdot) + Cv - tauG - tauF - B.dot(u)\n",
    "\n",
    "\n",
    "# manipulator equations for all t (implicit Euler)\n",
    "for n in range(N-1):\n",
    "    vars = np.concatenate((q_o[:, n+1], v_o[:, n+1], vdot_o[:, n], \n",
    "                           q_r[:, n+1], v_r[:, n+1], vdot_r[:, n], u[:, n],\n",
    "                            lambd_z[:, n], \n",
    "                            lambd_x_pos[:, n],\n",
    "                            lambd_x_neg[:, n]))\n",
    "    manipulator_equations_constraint = prog.AddConstraint(partial(manipulator_equations, context_index=n), lb=[0]*nv, ub=[0]*nv, vars=vars)\n",
    "    manipulator_equations_constraint.evaluator().set_description(f\"manipulator_equations_constraint_{n}\")"
   ]
  },
  {
   "cell_type": "code",
   "execution_count": 15,
   "metadata": {},
   "outputs": [
    {
     "name": "stdout",
     "output_type": "stream",
     "text": [
      "iter_count: 0.0\n"
     ]
    },
    {
     "name": "stderr",
     "output_type": "stream",
     "text": [
      "/home/kiwi/soft/virenv/pdrake/lib/python3.6/site-packages/ipykernel_launcher.py:4: DrakeDeprecationWarning: (Deprecated.)\n",
      "\n",
      "Deprecated:\n",
      "    Use ExtractGradient(). This will be removed from Drake on or after\n",
      "    2022-02-01.\n",
      "  after removing the cwd from sys.path.\n"
     ]
    },
    {
     "name": "stdout",
     "output_type": "stream",
     "text": [
      "SNOPT/fortran\n",
      "solve success\n"
     ]
    }
   ],
   "source": [
    "snopt = SnoptSolver().solver_id()\n",
    "prog.SetSolverOption(snopt, 'Iterations Limits', 1e5 if running_as_notebook else 1)\n",
    "prog.SetSolverOption(snopt, 'Major Iterations Limit', 200 if running_as_notebook else 1)\n",
    "prog.SetSolverOption(snopt, 'Major Feasibility Tolerance', 5e-6)\n",
    "prog.SetSolverOption(snopt, 'Major Optimality Tolerance', 1e-4)\n",
    "prog.SetSolverOption(snopt, 'Superbasics limit', 2000)\n",
    "prog.SetSolverOption(snopt, 'Linesearch tolerance', 0.9)\n",
    "prog.SetSolverOption(snopt, 'Print file', 'snopt.out')\n",
    "\n",
    "\n",
    "# ipopt = IpoptSolver()\n",
    "# result = ipopt.Solve(prog)\n",
    "\n",
    "# sno = SnoptSolver()\n",
    "# result = sno.Solve(prog)\n",
    "\n",
    "result = Solve(prog)\n",
    "print(result.get_solver_id().name())\n",
    "if not result.is_success():\n",
    "#     print(result.GetInfeasibleConstraintNames(prog))\n",
    "    print(\"solve failed!\")\n",
    "else:\n",
    "    print(\"solve success\")\n",
    "    "
   ]
  },
  {
   "cell_type": "code",
   "execution_count": 16,
   "metadata": {},
   "outputs": [
    {
     "name": "stdout",
     "output_type": "stream",
     "text": [
      "[]\n"
     ]
    }
   ],
   "source": [
    "print(result.GetInfeasibleConstraintNames(prog))"
   ]
  },
  {
   "cell_type": "code",
   "execution_count": 17,
   "metadata": {},
   "outputs": [
    {
     "name": "stdout",
     "output_type": "stream",
     "text": [
      "h: [0.05555556 0.22222222 0.05555556 0.22222222 0.22222222 0.05555556\n",
      " 0.15555556 0.05555556 0.05555556]\n"
     ]
    }
   ],
   "source": [
    "h_sol = result.GetSolution(h)\n",
    "print(\"h:\", h_sol)"
   ]
  },
  {
   "cell_type": "code",
   "execution_count": 18,
   "metadata": {},
   "outputs": [
    {
     "name": "stdout",
     "output_type": "stream",
     "text": [
      "q_o_sol: [[ 0.00000000e+00  1.70736679e-03  2.88734787e-02  2.88734788e-02\n",
      "   5.61187911e-02  8.32522547e-02  8.49793355e-02  9.82877365e-02\n",
      "   1.00000000e-01  1.00000000e-01]\n",
      " [ 0.00000000e+00  1.75238703e-08  1.60683438e-10  9.56672105e-11\n",
      "  -6.23412119e-08 -8.22008601e-08  2.21570970e-11  2.93441915e-08\n",
      "   0.00000000e+00  0.00000000e+00]\n",
      " [ 0.00000000e+00  2.20070601e-07 -2.37416308e-10 -1.20298784e-09\n",
      "  -7.72713459e-07 -1.04098454e-06 -2.81561215e-10  3.71315228e-07\n",
      "   0.00000000e+00  0.00000000e+00]]\n"
     ]
    }
   ],
   "source": [
    "q_o_sol = result.GetSolution(q_o)\n",
    "print(\"q_o_sol:\", q_o_sol)"
   ]
  },
  {
   "cell_type": "code",
   "execution_count": 19,
   "metadata": {},
   "outputs": [
    {
     "name": "stdout",
     "output_type": "stream",
     "text": [
      "v_o_sol: [[ 0.00000000e+00  3.07326023e-02  1.22247503e-01  2.68110794e-09\n",
      "   1.22603905e-01  1.22100586e-01  3.10874554e-02  8.55540063e-02\n",
      "   3.08207427e-02  0.00000000e+00]\n",
      " [ 0.00000000e+00  2.69347896e-07 -7.81343408e-08 -1.17027772e-09\n",
      "  -2.80965823e-07 -8.93684166e-08  1.48001840e-06  1.88497333e-07\n",
      "  -5.28195447e-07  0.00000000e+00]\n",
      " [ 0.00000000e+00  3.96127082e-06 -9.91386077e-07 -1.73802876e-08\n",
      "  -3.47179712e-06 -1.20721987e-06  1.87326536e-05  2.38883650e-06\n",
      "  -6.68367410e-06  0.00000000e+00]]\n"
     ]
    }
   ],
   "source": [
    "v_o_sol = result.GetSolution(v_o)\n",
    "print(\"v_o_sol:\", v_o_sol)"
   ]
  },
  {
   "cell_type": "code",
   "execution_count": 20,
   "metadata": {},
   "outputs": [
    {
     "name": "stdout",
     "output_type": "stream",
     "text": [
      "vdot_o_sol: [[ 5.53186841e-01  4.11817055e-01 -2.20045501e+00  5.51717561e-01\n",
      "  -2.26493547e-03 -1.63823636e+00  3.50142113e-01 -9.85198744e-01\n",
      "  -5.54773369e-01]\n",
      " [ 4.84826212e-06 -1.56367006e-06  1.38535313e-06 -1.25907995e-06\n",
      "   8.62188460e-07  2.82489627e-05 -8.30263544e-06 -1.29004712e-05\n",
      "   9.50751805e-06]\n",
      " [ 7.13028747e-05 -2.22869560e-05  1.75321042e-05 -1.55448757e-05\n",
      "   1.01905976e-05  3.58917723e-04 -1.05067396e-04 -1.63305191e-04\n",
      "   1.20306134e-04]]\n"
     ]
    }
   ],
   "source": [
    "vdot_o_sol = result.GetSolution(vdot_o)\n",
    "print(\"vdot_o_sol:\", vdot_o_sol)"
   ]
  },
  {
   "cell_type": "code",
   "execution_count": 21,
   "metadata": {},
   "outputs": [
    {
     "name": "stdout",
     "output_type": "stream",
     "text": [
      "lambd_z_sol: [[2.33362832e+00 7.04891785e-01 7.13221922e-01 7.01154911e-01\n",
      "  7.30260155e-01 8.49302169e-01 7.01816164e-01 7.88862139e-01\n",
      "  5.26859233e-01]\n",
      " [0.00000000e+00 3.95914429e-10 0.00000000e+00 0.00000000e+00\n",
      "  0.00000000e+00 0.00000000e+00 1.67904694e-17 0.00000000e+00\n",
      "  8.22151587e-10]\n",
      " [3.53857191e+00 2.40372090e-02 2.24695413e-02 3.10201530e-02\n",
      "  3.40932895e-02 1.14255729e-01 1.08163635e-02 5.45200428e-02\n",
      "  4.54141717e-01]\n",
      " [5.92751784e+00 7.70110696e-01 2.52132438e-01 7.87346629e-01\n",
      "  7.64126725e-01 7.99734263e-01 7.47646839e-01 7.44862308e-01\n",
      "  0.00000000e+00]\n",
      " [0.00000000e+00 4.79837371e-10 4.79817541e-10 4.79858907e-10\n",
      "  1.03397577e-25 0.00000000e+00 0.00000000e+00 0.00000000e+00\n",
      "  0.00000000e+00]\n",
      " [0.00000000e+00 4.79849046e-10 4.79846449e-10 4.79853667e-10\n",
      "  2.06795153e-25 0.00000000e+00 0.00000000e+00 0.00000000e+00\n",
      "  0.00000000e+00]]\n",
      "\n",
      "\n",
      "lambd_z_sol: [5.87220023 0.72892899 0.73569146 0.73217506 0.76435344 0.9635579\n",
      " 0.71263253 0.84338218 0.98100095]\n"
     ]
    }
   ],
   "source": [
    "lambd_z_sol = result.GetSolution(lambd_z)\n",
    "print(\"lambd_z_sol:\", lambd_z_sol)\n",
    "print(\"\\n\")\n",
    "print(\"lambd_z_sol:\", lambd_z_sol[0] + lambd_z_sol[2])"
   ]
  },
  {
   "cell_type": "code",
   "execution_count": 22,
   "metadata": {},
   "outputs": [
    {
     "name": "stdout",
     "output_type": "stream",
     "text": [
      "lambd_x_sol: [[-2.33362832e+00 -7.04891784e-01 -4.86795512e-01 -7.01154911e-01\n",
      "  -7.30260155e-01 -8.49302169e-01 -7.01816164e-01 -7.88862139e-01\n",
      "   3.53263490e-01]\n",
      " [ 0.00000000e+00  3.95914429e-10 -6.99299725e-10  0.00000000e+00\n",
      "   0.00000000e+00 -1.46890756e-09  0.00000000e+00  1.24077092e-24\n",
      "  -8.22151587e-10]\n",
      " [-3.53857191e+00 -2.40372082e-02  1.46175717e-02 -3.10201530e-02\n",
      "  -3.40932895e-02 -1.14255729e-01 -1.08163635e-02 -5.45200428e-02\n",
      "  -4.08740826e-01]\n",
      " [ 4.89120105e+00 -2.52070848e-01 -2.45308675e-01 -2.48825418e-01\n",
      "  -2.16647437e-01 -1.74449270e-02 -2.68366365e-01 -1.37616528e-01\n",
      "   0.00000000e+00]\n",
      " [ 0.00000000e+00  4.79837371e-10  4.79817541e-10 -4.79858907e-10\n",
      "   0.00000000e+00  0.00000000e+00  0.00000000e+00  0.00000000e+00\n",
      "   0.00000000e+00]\n",
      " [ 0.00000000e+00  4.79849046e-10  4.79846449e-10 -4.79853667e-10\n",
      "   0.00000000e+00  0.00000000e+00  0.00000000e+00  0.00000000e+00\n",
      "   0.00000000e+00]]\n"
     ]
    }
   ],
   "source": [
    "lambd_x_pos_sol = result.GetSolution(lambd_x_pos)\n",
    "lambd_x_neg_sol = result.GetSolution(lambd_x_neg)\n",
    "lambd_x_sol = lambd_x_pos_sol - lambd_x_neg_sol\n",
    "print(\"lambd_x_sol:\", lambd_x_sol)"
   ]
  },
  {
   "cell_type": "code",
   "execution_count": 23,
   "metadata": {},
   "outputs": [
    {
     "name": "stdout",
     "output_type": "stream",
     "text": [
      "gama_sol: [[ 3.07330151e-02  1.22247400e-01  8.70080233e-10  1.22603544e-01\n",
      "   1.22100461e-01  3.10894073e-02  8.55542552e-02  3.08200463e-02\n",
      "   0.00000000e+00]\n",
      " [ 2.28732817e-01  1.30400941e-01  1.43000199e-01  1.76114191e-01\n",
      "   1.33697034e-01  6.80778031e-02  9.76238704e-02  5.25799559e-02\n",
      "   6.48886829e-02]\n",
      " [ 3.07330151e-02  1.22247404e-01  8.70080236e-10  1.22603543e-01\n",
      "   1.22100460e-01  3.10894073e-02  8.55542552e-02  3.08200463e-02\n",
      "   0.00000000e+00]\n",
      " [ 0.00000000e+00  1.85069706e-10  2.03274712e-10 -1.06262972e-18\n",
      "   3.87740912e-25  1.38765798e-10  2.20600517e-10  1.85062679e-10\n",
      "  -5.22792837e-12]\n",
      " [ 3.42103010e-02  1.34292640e-01  4.49213217e-09  1.25645979e-01\n",
      "   1.33693164e-01  6.80787596e-02  9.76232374e-02  5.26593814e-02\n",
      "   0.00000000e+00]\n",
      " [ 3.42103010e-02  1.34292640e-01  4.49213217e-09  1.25645979e-01\n",
      "   1.33693164e-01  6.80787596e-02  9.76232374e-02  5.26593814e-02\n",
      "   0.00000000e+00]]\n"
     ]
    }
   ],
   "source": [
    "gama_sol = result.GetSolution(gama)\n",
    "print(\"gama_sol:\", gama_sol)"
   ]
  },
  {
   "cell_type": "code",
   "execution_count": 24,
   "metadata": {},
   "outputs": [
    {
     "name": "stdout",
     "output_type": "stream",
     "text": [
      "q_r_sol: [[-0.1        -0.08729262 -0.06012652 -0.06012652 -0.03288125 -0.0057478\n",
      "  -0.00402066  0.00928776  0.011       0.00784782]\n",
      " [ 0.05        0.05        0.05        0.05        0.05        0.05\n",
      "   0.05        0.05        0.05        0.05      ]]\n",
      "v_r_sol: [[ 0.00000000e+00  2.28732817e-01  1.22247449e-01  4.07620765e-09\n",
      "   1.22603717e-01  1.22100520e-01  3.10884730e-02  8.55541349e-02\n",
      "   3.08203829e-02 -5.67392764e-02]\n",
      " [ 0.00000000e+00 -5.45018551e-15 -1.67629538e-14 -5.07530965e-13\n",
      "  -6.69370488e-09  6.00202176e-09 -3.29845176e-15  6.58420730e-14\n",
      "  -1.90801171e-20  5.22792837e-12]]\n",
      "vdot_r_sol: [[ 4.11719071e+00 -4.79184155e-01 -2.20045401e+00  5.51716708e-01\n",
      "  -2.26438578e-03 -1.63821685e+00  3.50136398e-01 -9.85207537e-01\n",
      "  -1.57607387e+00]\n",
      " [-2.06783972e-13 -5.47131522e-14 -8.83382421e-12 -3.01193881e-08\n",
      "   5.71307699e-08 -1.08036451e-07  4.44474802e-13 -1.18515766e-12\n",
      "   9.41027109e-11]]\n",
      "u_sol: [[10.04470962  0.29092654 -1.94832157  1.33906353  0.76186256 -0.83848258\n",
      "   1.09778314 -0.24034523 -1.57607387]\n",
      " [ 4.91880026 10.06207085 10.05530867 10.05882478 10.0266467   9.82744482\n",
      "  10.07836664  9.94761653  9.81      ]]\n",
      "manipulator_equations: [ 6.48855969e-14  9.70334924e-14  1.84382839e-15 -6.39488462e-14\n",
      " -9.59232693e-14]\n",
      "manipulator_equations: [-7.81597009e-14 -4.82947016e-14 -1.11844509e-15  7.78821452e-14\n",
      "  4.61852778e-14]\n",
      "manipulator_equations: [ 8.87623308e-14  4.62851979e-13 -8.24051927e-14 -8.83737528e-14\n",
      " -4.63629135e-13]\n",
      "manipulator_equations: [-1.04207615e-12 -6.48148202e-13 -1.07359933e-13  1.04183329e-12\n",
      "  6.46593890e-13]\n",
      "manipulator_equations: [ 2.33609106e-12  1.40853995e-12  2.12739467e-13 -2.33579822e-12\n",
      " -1.39621648e-12]\n",
      "manipulator_equations: [ 8.32667268e-17 -1.11022302e-16  1.84147323e-13  3.33066907e-16\n",
      "  1.77635684e-15]\n",
      "manipulator_equations: [-1.84756481e-10 -1.14859122e-10 -1.65286482e-11  1.84756210e-10\n",
      "  1.14859233e-10]\n",
      "manipulator_equations: [ 6.93889390e-17 -1.14352972e-13 -6.45862622e-20 -1.94289029e-16\n",
      "  1.77635684e-15]\n",
      "manipulator_equations: [1.52655666e-16 0.00000000e+00 3.17017962e-18 0.00000000e+00\n",
      " 0.00000000e+00]\n"
     ]
    }
   ],
   "source": [
    "q_r_sol = result.GetSolution(q_r)\n",
    "print(\"q_r_sol:\", q_r_sol)\n",
    "v_r_sol = result.GetSolution(v_r)\n",
    "print(\"v_r_sol:\", v_r_sol)\n",
    "vdot_r_sol = result.GetSolution(vdot_r)\n",
    "print(\"vdot_r_sol:\", vdot_r_sol)\n",
    "u_sol = result.GetSolution(u)\n",
    "print(\"u_sol:\", u_sol)\n",
    "for n in range(N-1):\n",
    "    vars = np.concatenate((q_o_sol[:, n+1], v_o_sol[:, n+1], vdot_o_sol[:, n],\n",
    "                           q_r_sol[:, n+1], v_r_sol[:, n+1], vdot_r_sol[:, n], u_sol[:, n], \n",
    "                           lambd_z_sol[:, n], \n",
    "                            lambd_x_pos_sol[:, n],\n",
    "                            lambd_x_neg_sol[:, n]\n",
    "                          ))\n",
    "    print(\"manipulator_equations:\", manipulator_equations(vars=vars, context_index=n))"
   ]
  },
  {
   "cell_type": "code",
   "execution_count": 25,
   "metadata": {},
   "outputs": [],
   "source": [
    "with open(tmpfolder + 'test_finger_box_sliding_friction_2d_posa/sol.pkl', 'wb') as file:\n",
    "    pickle.dump( [q_o_sol, v_o_sol, vdot_o_sol, \n",
    "                  q_r_sol, v_r_sol, vdot_r_sol, u_sol,\n",
    "                  lambd_z_sol, lambd_x_pos_sol, \n",
    "                  lambd_x_neg_sol, gama_sol], file )"
   ]
  },
  {
   "cell_type": "code",
   "execution_count": 26,
   "metadata": {},
   "outputs": [
    {
     "name": "stdout",
     "output_type": "stream",
     "text": [
      "[ 0.    0.   -9.81]\n"
     ]
    }
   ],
   "source": [
    "print(gravity)"
   ]
  },
  {
   "cell_type": "code",
   "execution_count": 27,
   "metadata": {},
   "outputs": [
    {
     "name": "stdout",
     "output_type": "stream",
     "text": [
      "[[-0.1        -0.08729952 -0.06010107 -0.06010104 -0.03289029 -0.00571043\n",
      "  -0.00401495  0.00930417  0.01099999  0.00783165]\n",
      " [ 0.05        0.05        0.05        0.05        0.05        0.05\n",
      "   0.05        0.05        0.05        0.05      ]]\n"
     ]
    }
   ],
   "source": [
    "print(prog.GetInitialGuess(q_r))"
   ]
  },
  {
   "cell_type": "code",
   "execution_count": 28,
   "metadata": {},
   "outputs": [
    {
     "name": "stdout",
     "output_type": "stream",
     "text": [
      "[[ 0.00000000e+00  1.70048344e-03  2.88989447e-02  2.88989596e-02\n",
      "   5.61097226e-02  8.32895560e-02  8.49850125e-02  9.83041530e-02\n",
      "   1.00000000e-01  1.00000000e-01]\n",
      " [ 0.00000000e+00  1.96500874e-09  1.05480880e-08  4.04239884e-09\n",
      "   4.68505571e-09  3.97347377e-08  6.34410104e-08  2.18023369e-08\n",
      "   0.00000000e+00  0.00000000e+00]\n",
      " [ 0.00000000e+00 -1.08270273e-08  4.58032152e-08 -5.08477860e-08\n",
      "  -5.89335081e-08  4.36219987e-07  7.46501542e-07  2.63000908e-07\n",
      "   0.00000000e+00  0.00000000e+00]]\n"
     ]
    }
   ],
   "source": [
    "print(prog.GetInitialGuess(q_o))"
   ]
  },
  {
   "cell_type": "code",
   "execution_count": 29,
   "metadata": {},
   "outputs": [
    {
     "name": "stdout",
     "output_type": "stream",
     "text": [
      "[[ 0.00000000e+00  3.06087020e-02  1.22393076e-01  2.67712450e-07\n",
      "   1.22448434e-01  1.22309250e-01  3.05182170e-02  8.56230461e-02\n",
      "   3.05252459e-02  0.00000000e+00]\n",
      " [ 0.00000000e+00 -1.51037269e-08  3.86238828e-08 -1.17099255e-07\n",
      "   2.89195589e-09  1.57722858e-07  4.26715650e-07 -2.67676408e-07\n",
      "  -3.92442065e-07  0.00000000e+00]\n",
      " [ 0.00000000e+00 -1.94886491e-07  2.54836091e-07 -1.73971802e-06\n",
      "  -3.63857492e-08  2.22819150e-06  5.58506799e-06 -3.10821836e-06\n",
      "  -4.73401635e-06  0.00000000e+00]]\n"
     ]
    }
   ],
   "source": [
    "print(prog.GetInitialGuess(v_o))"
   ]
  },
  {
   "cell_type": "code",
   "execution_count": 30,
   "metadata": {},
   "outputs": [
    {
     "name": "stdout",
     "output_type": "stream",
     "text": [
      "[[ 0.00000000e+00  2.28608691e-01  1.22393031e-01  4.07212782e-07\n",
      "   1.22448375e-01  1.22309369e-01  3.05187553e-02  8.56228777e-02\n",
      "   3.05247480e-02 -5.70301277e-02]\n",
      " [ 0.00000000e+00 -2.95378151e-12  8.13929135e-13  2.67185118e-12\n",
      "  -1.26957266e-08 -1.65436123e-24 -1.26338512e-18 -1.78286709e-15\n",
      "   5.23237779e-12  1.04603062e-11]]\n"
     ]
    }
   ],
   "source": [
    "print(prog.GetInitialGuess(v_r))"
   ]
  },
  {
   "cell_type": "code",
   "execution_count": 31,
   "metadata": {},
   "outputs": [
    {
     "name": "stdout",
     "output_type": "stream",
     "text": [
      "[[0. 0.]\n",
      " [0. 0.]\n",
      " [0. 0.]\n",
      " [1. 0.]\n",
      " [0. 1.]]\n"
     ]
    }
   ],
   "source": [
    "print(plant.MakeActuationMatrix())"
   ]
  },
  {
   "cell_type": "code",
   "execution_count": null,
   "metadata": {},
   "outputs": [],
   "source": []
  }
 ],
 "metadata": {
  "kernelspec": {
   "display_name": "Python 3",
   "language": "python",
   "name": "python3"
  },
  "language_info": {
   "codemirror_mode": {
    "name": "ipython",
    "version": 3
   },
   "file_extension": ".py",
   "mimetype": "text/x-python",
   "name": "python",
   "nbconvert_exporter": "python",
   "pygments_lexer": "ipython3",
   "version": "3.6.9"
  },
  "metadata": {
   "interpreter": {
    "hash": "31f2aee4e71d21fbe5cf8b01ff0e069b9275f58929596ceb00d14d90e3e16cd6"
   }
  }
 },
 "nbformat": 4,
 "nbformat_minor": 2
}
